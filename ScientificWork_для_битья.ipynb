{
  "nbformat": 4,
  "nbformat_minor": 0,
  "metadata": {
    "colab": {
      "provenance": [],
      "collapsed_sections": [
        "YCSZsPuwLKyE",
        "2WydREVsLvK6",
        "YHP055wEL1VK",
        "ukHetAQQ6NUY",
        "SxkRJ4MZ6S8L",
        "HDHKkjY4YLuN",
        "G7S-EeUYepJP",
        "xSXMko7RMRI2"
      ]
    },
    "kernelspec": {
      "name": "python3",
      "display_name": "Python 3"
    },
    "language_info": {
      "name": "python"
    },
    "widgets": {
      "application/vnd.jupyter.widget-state+json": {
        "48d6a8976d2c41b0a4c8078e15476cc9": {
          "model_module": "@jupyter-widgets/controls",
          "model_name": "HBoxModel",
          "model_module_version": "1.5.0",
          "state": {
            "_dom_classes": [],
            "_model_module": "@jupyter-widgets/controls",
            "_model_module_version": "1.5.0",
            "_model_name": "HBoxModel",
            "_view_count": null,
            "_view_module": "@jupyter-widgets/controls",
            "_view_module_version": "1.5.0",
            "_view_name": "HBoxView",
            "box_style": "",
            "children": [
              "IPY_MODEL_65168248f79f471ea7f77c02b27c681f",
              "IPY_MODEL_aaa742a35905491db54d60802e183d60",
              "IPY_MODEL_dd63f1fcb3304999b0114d34e9daae4b"
            ],
            "layout": "IPY_MODEL_d497d4cd4b714f50984981d47dc6f279"
          }
        },
        "65168248f79f471ea7f77c02b27c681f": {
          "model_module": "@jupyter-widgets/controls",
          "model_name": "HTMLModel",
          "model_module_version": "1.5.0",
          "state": {
            "_dom_classes": [],
            "_model_module": "@jupyter-widgets/controls",
            "_model_module_version": "1.5.0",
            "_model_name": "HTMLModel",
            "_view_count": null,
            "_view_module": "@jupyter-widgets/controls",
            "_view_module_version": "1.5.0",
            "_view_name": "HTMLView",
            "description": "",
            "description_tooltip": null,
            "layout": "IPY_MODEL_5462588db9e54438931f7134b0a9683f",
            "placeholder": "​",
            "style": "IPY_MODEL_2559274361764d149887467f87f3ff27",
            "value": " 90%"
          }
        },
        "aaa742a35905491db54d60802e183d60": {
          "model_module": "@jupyter-widgets/controls",
          "model_name": "FloatProgressModel",
          "model_module_version": "1.5.0",
          "state": {
            "_dom_classes": [],
            "_model_module": "@jupyter-widgets/controls",
            "_model_module_version": "1.5.0",
            "_model_name": "FloatProgressModel",
            "_view_count": null,
            "_view_module": "@jupyter-widgets/controls",
            "_view_module_version": "1.5.0",
            "_view_name": "ProgressView",
            "bar_style": "",
            "description": "",
            "description_tooltip": null,
            "layout": "IPY_MODEL_0997af8b61c1449bae87f1d7068bf26c",
            "max": 30,
            "min": 0,
            "orientation": "horizontal",
            "style": "IPY_MODEL_b9e893d873ba4eb9bfe836c88ff0f68c",
            "value": 27
          }
        },
        "dd63f1fcb3304999b0114d34e9daae4b": {
          "model_module": "@jupyter-widgets/controls",
          "model_name": "HTMLModel",
          "model_module_version": "1.5.0",
          "state": {
            "_dom_classes": [],
            "_model_module": "@jupyter-widgets/controls",
            "_model_module_version": "1.5.0",
            "_model_name": "HTMLModel",
            "_view_count": null,
            "_view_module": "@jupyter-widgets/controls",
            "_view_module_version": "1.5.0",
            "_view_name": "HTMLView",
            "description": "",
            "description_tooltip": null,
            "layout": "IPY_MODEL_09b7e2e8db594819819949e3c1ad0959",
            "placeholder": "​",
            "style": "IPY_MODEL_cf5c7a672ccf420287b31399da4d5a57",
            "value": " 27/30 [11:03:35&lt;1:25:03, 1701.10s/it]"
          }
        },
        "d497d4cd4b714f50984981d47dc6f279": {
          "model_module": "@jupyter-widgets/base",
          "model_name": "LayoutModel",
          "model_module_version": "1.2.0",
          "state": {
            "_model_module": "@jupyter-widgets/base",
            "_model_module_version": "1.2.0",
            "_model_name": "LayoutModel",
            "_view_count": null,
            "_view_module": "@jupyter-widgets/base",
            "_view_module_version": "1.2.0",
            "_view_name": "LayoutView",
            "align_content": null,
            "align_items": null,
            "align_self": null,
            "border": null,
            "bottom": null,
            "display": null,
            "flex": null,
            "flex_flow": null,
            "grid_area": null,
            "grid_auto_columns": null,
            "grid_auto_flow": null,
            "grid_auto_rows": null,
            "grid_column": null,
            "grid_gap": null,
            "grid_row": null,
            "grid_template_areas": null,
            "grid_template_columns": null,
            "grid_template_rows": null,
            "height": null,
            "justify_content": null,
            "justify_items": null,
            "left": null,
            "margin": null,
            "max_height": null,
            "max_width": null,
            "min_height": null,
            "min_width": null,
            "object_fit": null,
            "object_position": null,
            "order": null,
            "overflow": null,
            "overflow_x": null,
            "overflow_y": null,
            "padding": null,
            "right": null,
            "top": null,
            "visibility": null,
            "width": null
          }
        },
        "5462588db9e54438931f7134b0a9683f": {
          "model_module": "@jupyter-widgets/base",
          "model_name": "LayoutModel",
          "model_module_version": "1.2.0",
          "state": {
            "_model_module": "@jupyter-widgets/base",
            "_model_module_version": "1.2.0",
            "_model_name": "LayoutModel",
            "_view_count": null,
            "_view_module": "@jupyter-widgets/base",
            "_view_module_version": "1.2.0",
            "_view_name": "LayoutView",
            "align_content": null,
            "align_items": null,
            "align_self": null,
            "border": null,
            "bottom": null,
            "display": null,
            "flex": null,
            "flex_flow": null,
            "grid_area": null,
            "grid_auto_columns": null,
            "grid_auto_flow": null,
            "grid_auto_rows": null,
            "grid_column": null,
            "grid_gap": null,
            "grid_row": null,
            "grid_template_areas": null,
            "grid_template_columns": null,
            "grid_template_rows": null,
            "height": null,
            "justify_content": null,
            "justify_items": null,
            "left": null,
            "margin": null,
            "max_height": null,
            "max_width": null,
            "min_height": null,
            "min_width": null,
            "object_fit": null,
            "object_position": null,
            "order": null,
            "overflow": null,
            "overflow_x": null,
            "overflow_y": null,
            "padding": null,
            "right": null,
            "top": null,
            "visibility": null,
            "width": null
          }
        },
        "2559274361764d149887467f87f3ff27": {
          "model_module": "@jupyter-widgets/controls",
          "model_name": "DescriptionStyleModel",
          "model_module_version": "1.5.0",
          "state": {
            "_model_module": "@jupyter-widgets/controls",
            "_model_module_version": "1.5.0",
            "_model_name": "DescriptionStyleModel",
            "_view_count": null,
            "_view_module": "@jupyter-widgets/base",
            "_view_module_version": "1.2.0",
            "_view_name": "StyleView",
            "description_width": ""
          }
        },
        "0997af8b61c1449bae87f1d7068bf26c": {
          "model_module": "@jupyter-widgets/base",
          "model_name": "LayoutModel",
          "model_module_version": "1.2.0",
          "state": {
            "_model_module": "@jupyter-widgets/base",
            "_model_module_version": "1.2.0",
            "_model_name": "LayoutModel",
            "_view_count": null,
            "_view_module": "@jupyter-widgets/base",
            "_view_module_version": "1.2.0",
            "_view_name": "LayoutView",
            "align_content": null,
            "align_items": null,
            "align_self": null,
            "border": null,
            "bottom": null,
            "display": null,
            "flex": null,
            "flex_flow": null,
            "grid_area": null,
            "grid_auto_columns": null,
            "grid_auto_flow": null,
            "grid_auto_rows": null,
            "grid_column": null,
            "grid_gap": null,
            "grid_row": null,
            "grid_template_areas": null,
            "grid_template_columns": null,
            "grid_template_rows": null,
            "height": null,
            "justify_content": null,
            "justify_items": null,
            "left": null,
            "margin": null,
            "max_height": null,
            "max_width": null,
            "min_height": null,
            "min_width": null,
            "object_fit": null,
            "object_position": null,
            "order": null,
            "overflow": null,
            "overflow_x": null,
            "overflow_y": null,
            "padding": null,
            "right": null,
            "top": null,
            "visibility": null,
            "width": null
          }
        },
        "b9e893d873ba4eb9bfe836c88ff0f68c": {
          "model_module": "@jupyter-widgets/controls",
          "model_name": "ProgressStyleModel",
          "model_module_version": "1.5.0",
          "state": {
            "_model_module": "@jupyter-widgets/controls",
            "_model_module_version": "1.5.0",
            "_model_name": "ProgressStyleModel",
            "_view_count": null,
            "_view_module": "@jupyter-widgets/base",
            "_view_module_version": "1.2.0",
            "_view_name": "StyleView",
            "bar_color": null,
            "description_width": ""
          }
        },
        "09b7e2e8db594819819949e3c1ad0959": {
          "model_module": "@jupyter-widgets/base",
          "model_name": "LayoutModel",
          "model_module_version": "1.2.0",
          "state": {
            "_model_module": "@jupyter-widgets/base",
            "_model_module_version": "1.2.0",
            "_model_name": "LayoutModel",
            "_view_count": null,
            "_view_module": "@jupyter-widgets/base",
            "_view_module_version": "1.2.0",
            "_view_name": "LayoutView",
            "align_content": null,
            "align_items": null,
            "align_self": null,
            "border": null,
            "bottom": null,
            "display": null,
            "flex": null,
            "flex_flow": null,
            "grid_area": null,
            "grid_auto_columns": null,
            "grid_auto_flow": null,
            "grid_auto_rows": null,
            "grid_column": null,
            "grid_gap": null,
            "grid_row": null,
            "grid_template_areas": null,
            "grid_template_columns": null,
            "grid_template_rows": null,
            "height": null,
            "justify_content": null,
            "justify_items": null,
            "left": null,
            "margin": null,
            "max_height": null,
            "max_width": null,
            "min_height": null,
            "min_width": null,
            "object_fit": null,
            "object_position": null,
            "order": null,
            "overflow": null,
            "overflow_x": null,
            "overflow_y": null,
            "padding": null,
            "right": null,
            "top": null,
            "visibility": null,
            "width": null
          }
        },
        "cf5c7a672ccf420287b31399da4d5a57": {
          "model_module": "@jupyter-widgets/controls",
          "model_name": "DescriptionStyleModel",
          "model_module_version": "1.5.0",
          "state": {
            "_model_module": "@jupyter-widgets/controls",
            "_model_module_version": "1.5.0",
            "_model_name": "DescriptionStyleModel",
            "_view_count": null,
            "_view_module": "@jupyter-widgets/base",
            "_view_module_version": "1.2.0",
            "_view_name": "StyleView",
            "description_width": ""
          }
        }
      }
    }
  },
  "cells": [
    {
      "cell_type": "code",
      "source": [
        "!pip install pyarrow==11.0.0"
      ],
      "metadata": {
        "colab": {
          "base_uri": "https://localhost:8080/"
        },
        "id": "z2rJ4PEqOm_A",
        "outputId": "d2c537ea-4359-441f-d27c-813011df7828"
      },
      "execution_count": null,
      "outputs": [
        {
          "output_type": "stream",
          "name": "stdout",
          "text": [
            "Requirement already satisfied: pyarrow==11.0.0 in /usr/local/lib/python3.10/dist-packages (11.0.0)\n",
            "Requirement already satisfied: numpy>=1.16.6 in /usr/local/lib/python3.10/dist-packages (from pyarrow==11.0.0) (1.25.2)\n"
          ]
        }
      ]
    },
    {
      "cell_type": "code",
      "source": [
        "!pip install lightgbm"
      ],
      "metadata": {
        "colab": {
          "base_uri": "https://localhost:8080/"
        },
        "id": "PdimRXrnQHwX",
        "outputId": "a0458fc2-f326-4471-f697-69a52957f507"
      },
      "execution_count": null,
      "outputs": [
        {
          "output_type": "stream",
          "name": "stdout",
          "text": [
            "Requirement already satisfied: lightgbm in /usr/local/lib/python3.10/dist-packages (4.1.0)\n",
            "Requirement already satisfied: numpy in /usr/local/lib/python3.10/dist-packages (from lightgbm) (1.25.2)\n",
            "Requirement already satisfied: scipy in /usr/local/lib/python3.10/dist-packages (from lightgbm) (1.11.4)\n"
          ]
        }
      ]
    },
    {
      "cell_type": "code",
      "source": [
        "!pip install openml"
      ],
      "metadata": {
        "colab": {
          "base_uri": "https://localhost:8080/"
        },
        "id": "EXNT1D72YEzi",
        "outputId": "882ad967-423f-4a99-8b83-bb91c782528c"
      },
      "execution_count": null,
      "outputs": [
        {
          "output_type": "stream",
          "name": "stdout",
          "text": [
            "Collecting openml\n",
            "  Downloading openml-0.14.2.tar.gz (144 kB)\n",
            "\u001b[?25l     \u001b[90m━━━━━━━━━━━━━━━━━━━━━━━━━━━━━━━━━━━━━━━━\u001b[0m \u001b[32m0.0/144.5 kB\u001b[0m \u001b[31m?\u001b[0m eta \u001b[36m-:--:--\u001b[0m\r\u001b[2K     \u001b[91m━━━━━━━━━━━━━━━━━━━━━━━━━━━━━━━━━━━━━━━\u001b[0m\u001b[91m╸\u001b[0m \u001b[32m143.4/144.5 kB\u001b[0m \u001b[31m4.8 MB/s\u001b[0m eta \u001b[36m0:00:01\u001b[0m\r\u001b[2K     \u001b[90m━━━━━━━━━━━━━━━━━━━━━━━━━━━━━━━━━━━━━━━━\u001b[0m \u001b[32m144.5/144.5 kB\u001b[0m \u001b[31m3.7 MB/s\u001b[0m eta \u001b[36m0:00:00\u001b[0m\n",
            "\u001b[?25h  Installing build dependencies ... \u001b[?25l\u001b[?25hdone\n",
            "  Getting requirements to build wheel ... \u001b[?25l\u001b[?25hdone\n",
            "  Installing backend dependencies ... \u001b[?25l\u001b[?25hdone\n",
            "  Preparing metadata (pyproject.toml) ... \u001b[?25l\u001b[?25hdone\n",
            "Collecting liac-arff>=2.4.0 (from openml)\n",
            "  Downloading liac-arff-2.5.0.tar.gz (13 kB)\n",
            "  Preparing metadata (setup.py) ... \u001b[?25l\u001b[?25hdone\n",
            "Collecting xmltodict (from openml)\n",
            "  Downloading xmltodict-0.13.0-py2.py3-none-any.whl (10.0 kB)\n",
            "Requirement already satisfied: requests in /usr/local/lib/python3.10/dist-packages (from openml) (2.31.0)\n",
            "Requirement already satisfied: scikit-learn>=0.18 in /usr/local/lib/python3.10/dist-packages (from openml) (1.2.2)\n",
            "Requirement already satisfied: python-dateutil in /usr/local/lib/python3.10/dist-packages (from openml) (2.8.2)\n",
            "Requirement already satisfied: pandas>=1.0.0 in /usr/local/lib/python3.10/dist-packages (from openml) (2.0.3)\n",
            "Requirement already satisfied: scipy>=0.13.3 in /usr/local/lib/python3.10/dist-packages (from openml) (1.11.4)\n",
            "Requirement already satisfied: numpy>=1.6.2 in /usr/local/lib/python3.10/dist-packages (from openml) (1.25.2)\n",
            "Collecting minio (from openml)\n",
            "  Downloading minio-7.2.5-py3-none-any.whl (93 kB)\n",
            "\u001b[2K     \u001b[90m━━━━━━━━━━━━━━━━━━━━━━━━━━━━━━━━━━━━━━━━\u001b[0m \u001b[32m93.2/93.2 kB\u001b[0m \u001b[31m8.7 MB/s\u001b[0m eta \u001b[36m0:00:00\u001b[0m\n",
            "\u001b[?25hRequirement already satisfied: pyarrow in /usr/local/lib/python3.10/dist-packages (from openml) (14.0.2)\n",
            "Requirement already satisfied: pytz>=2020.1 in /usr/local/lib/python3.10/dist-packages (from pandas>=1.0.0->openml) (2023.4)\n",
            "Requirement already satisfied: tzdata>=2022.1 in /usr/local/lib/python3.10/dist-packages (from pandas>=1.0.0->openml) (2024.1)\n",
            "Requirement already satisfied: six>=1.5 in /usr/local/lib/python3.10/dist-packages (from python-dateutil->openml) (1.16.0)\n",
            "Requirement already satisfied: joblib>=1.1.1 in /usr/local/lib/python3.10/dist-packages (from scikit-learn>=0.18->openml) (1.3.2)\n",
            "Requirement already satisfied: threadpoolctl>=2.0.0 in /usr/local/lib/python3.10/dist-packages (from scikit-learn>=0.18->openml) (3.4.0)\n",
            "Requirement already satisfied: certifi in /usr/local/lib/python3.10/dist-packages (from minio->openml) (2024.2.2)\n",
            "Requirement already satisfied: urllib3 in /usr/local/lib/python3.10/dist-packages (from minio->openml) (2.0.7)\n",
            "Requirement already satisfied: argon2-cffi in /usr/local/lib/python3.10/dist-packages (from minio->openml) (23.1.0)\n",
            "Collecting pycryptodome (from minio->openml)\n",
            "  Downloading pycryptodome-3.20.0-cp35-abi3-manylinux_2_17_x86_64.manylinux2014_x86_64.whl (2.1 MB)\n",
            "\u001b[2K     \u001b[90m━━━━━━━━━━━━━━━━━━━━━━━━━━━━━━━━━━━━━━━━\u001b[0m \u001b[32m2.1/2.1 MB\u001b[0m \u001b[31m14.4 MB/s\u001b[0m eta \u001b[36m0:00:00\u001b[0m\n",
            "\u001b[?25hRequirement already satisfied: typing-extensions in /usr/local/lib/python3.10/dist-packages (from minio->openml) (4.10.0)\n",
            "Requirement already satisfied: charset-normalizer<4,>=2 in /usr/local/lib/python3.10/dist-packages (from requests->openml) (3.3.2)\n",
            "Requirement already satisfied: idna<4,>=2.5 in /usr/local/lib/python3.10/dist-packages (from requests->openml) (3.6)\n",
            "Requirement already satisfied: argon2-cffi-bindings in /usr/local/lib/python3.10/dist-packages (from argon2-cffi->minio->openml) (21.2.0)\n",
            "Requirement already satisfied: cffi>=1.0.1 in /usr/local/lib/python3.10/dist-packages (from argon2-cffi-bindings->argon2-cffi->minio->openml) (1.16.0)\n",
            "Requirement already satisfied: pycparser in /usr/local/lib/python3.10/dist-packages (from cffi>=1.0.1->argon2-cffi-bindings->argon2-cffi->minio->openml) (2.22)\n",
            "Building wheels for collected packages: openml, liac-arff\n",
            "  Building wheel for openml (pyproject.toml) ... \u001b[?25l\u001b[?25hdone\n",
            "  Created wheel for openml: filename=openml-0.14.2-py3-none-any.whl size=158699 sha256=56ead104e16bb36e0a29a5a84d4e620aad6c74b8751dfcd350fcefd6f81f9e04\n",
            "  Stored in directory: /root/.cache/pip/wheels/2e/4e/af/5e721761d86375dbca82e63cc2470019e97815bc39f11451ea\n",
            "  Building wheel for liac-arff (setup.py) ... \u001b[?25l\u001b[?25hdone\n",
            "  Created wheel for liac-arff: filename=liac_arff-2.5.0-py3-none-any.whl size=11716 sha256=48e39110a6523f3d61a203fd307de5d911c4a9b2563f30db61cc56aa40f49541\n",
            "  Stored in directory: /root/.cache/pip/wheels/5d/2a/9c/3895d9617f8f49a0883ba686326d598e78a1c2f54fe3cae86d\n",
            "Successfully built openml liac-arff\n",
            "Installing collected packages: xmltodict, pycryptodome, liac-arff, minio, openml\n",
            "Successfully installed liac-arff-2.5.0 minio-7.2.5 openml-0.14.2 pycryptodome-3.20.0 xmltodict-0.13.0\n"
          ]
        }
      ]
    },
    {
      "cell_type": "code",
      "source": [
        "!pip install category_encoders"
      ],
      "metadata": {
        "colab": {
          "base_uri": "https://localhost:8080/"
        },
        "id": "8-zMSRztLTDw",
        "outputId": "60a9b3e9-78ff-47d3-daad-e23e06df01f4"
      },
      "execution_count": null,
      "outputs": [
        {
          "output_type": "stream",
          "name": "stdout",
          "text": [
            "Collecting category_encoders\n",
            "  Downloading category_encoders-2.6.3-py2.py3-none-any.whl (81 kB)\n",
            "\u001b[?25l     \u001b[90m━━━━━━━━━━━━━━━━━━━━━━━━━━━━━━━━━━━━━━━━\u001b[0m \u001b[32m0.0/81.9 kB\u001b[0m \u001b[31m?\u001b[0m eta \u001b[36m-:--:--\u001b[0m\r\u001b[2K     \u001b[90m━━━━━━━━━━━━━━━━━━━━━━━━━━━━━━━━━━━━━━━━\u001b[0m \u001b[32m81.9/81.9 kB\u001b[0m \u001b[31m2.5 MB/s\u001b[0m eta \u001b[36m0:00:00\u001b[0m\n",
            "\u001b[?25hRequirement already satisfied: numpy>=1.14.0 in /usr/local/lib/python3.10/dist-packages (from category_encoders) (1.25.2)\n",
            "Requirement already satisfied: scikit-learn>=0.20.0 in /usr/local/lib/python3.10/dist-packages (from category_encoders) (1.2.2)\n",
            "Requirement already satisfied: scipy>=1.0.0 in /usr/local/lib/python3.10/dist-packages (from category_encoders) (1.11.4)\n",
            "Requirement already satisfied: statsmodels>=0.9.0 in /usr/local/lib/python3.10/dist-packages (from category_encoders) (0.14.1)\n",
            "Requirement already satisfied: pandas>=1.0.5 in /usr/local/lib/python3.10/dist-packages (from category_encoders) (2.0.3)\n",
            "Requirement already satisfied: patsy>=0.5.1 in /usr/local/lib/python3.10/dist-packages (from category_encoders) (0.5.6)\n",
            "Requirement already satisfied: python-dateutil>=2.8.2 in /usr/local/lib/python3.10/dist-packages (from pandas>=1.0.5->category_encoders) (2.8.2)\n",
            "Requirement already satisfied: pytz>=2020.1 in /usr/local/lib/python3.10/dist-packages (from pandas>=1.0.5->category_encoders) (2023.4)\n",
            "Requirement already satisfied: tzdata>=2022.1 in /usr/local/lib/python3.10/dist-packages (from pandas>=1.0.5->category_encoders) (2024.1)\n",
            "Requirement already satisfied: six in /usr/local/lib/python3.10/dist-packages (from patsy>=0.5.1->category_encoders) (1.16.0)\n",
            "Requirement already satisfied: joblib>=1.1.1 in /usr/local/lib/python3.10/dist-packages (from scikit-learn>=0.20.0->category_encoders) (1.3.2)\n",
            "Requirement already satisfied: threadpoolctl>=2.0.0 in /usr/local/lib/python3.10/dist-packages (from scikit-learn>=0.20.0->category_encoders) (3.4.0)\n",
            "Requirement already satisfied: packaging>=21.3 in /usr/local/lib/python3.10/dist-packages (from statsmodels>=0.9.0->category_encoders) (24.0)\n",
            "Installing collected packages: category_encoders\n",
            "Successfully installed category_encoders-2.6.3\n"
          ]
        }
      ]
    },
    {
      "cell_type": "code",
      "source": [
        "import seaborn as sns\n",
        "import matplotlib.pyplot as plt\n",
        "from sklearn.base import BaseEstimator, TransformerMixin\n",
        "import pandas as pd\n",
        "import sys\n",
        "import numpy as np\n",
        "from sklearn.feature_selection import SelectKBest, SelectFromModel, GenericUnivariateSelect\n",
        "from sklearn.feature_selection import chi2, mutual_info_classif\n",
        "from tqdm import tqdm\n",
        "from sklearn.model_selection import train_test_split\n",
        "from sklearn import linear_model, metrics, model_selection, svm, neighbors, preprocessing, datasets, pipeline, ensemble\n",
        "from sklearn.base import BaseEstimator, TransformerMixin\n",
        "from sklearn.covariance import empirical_covariance\n",
        "from sklearn.preprocessing import normalize\n",
        "from sklearn.feature_selection import mutual_info_regression\n",
        "from sklearn.datasets import load_breast_cancer, fetch_openml\n",
        "from IPython.display import display\n",
        "from sklearn.preprocessing import OneHotEncoder\n",
        "from tqdm.notebook import tqdm\n",
        "from sklearn.model_selection import train_test_split\n",
        "from sklearn.datasets import load_breast_cancer\n",
        "from sklearn.preprocessing import OneHotEncoder, LabelEncoder\n",
        "from sklearn.preprocessing import MinMaxScaler\n",
        "from sklearn import compose\n",
        "import warnings\n",
        "from sklearn.datasets import load_breast_cancer\n",
        "from sklearn.preprocessing import MinMaxScaler\n",
        "from sklearn.base import BaseEstimator, TransformerMixin\n",
        "from sklearn.base import BaseEstimator, TransformerMixin\n",
        "from sklearn.covariance import empirical_covariance\n",
        "from sklearn. preprocessing import normalize\n",
        "from sklearn.feature_selection import mutual_info_regression\n",
        "from sklearn.model_selection import KFold\n",
        "import sklearn.feature_selection as fs\n",
        "from sklearn.datasets import load_diabetes, make_classification\n",
        "from sklearn.model_selection import train_test_split\n",
        "from sklearn.metrics import accuracy_score\n",
        "from sklearn.preprocessing import StandardScaler\n",
        "from tqdm.notebook import tqdm\n",
        "import numpy as np\n",
        "import pickle\n",
        "import matplotlib.pyplot as plt\n",
        "from sklearn.base import BaseEstimator, TransformerMixin\n",
        "from sklearn.covariance import empirical_covariance\n",
        "from sklearn. preprocessing import normalize\n",
        "from sklearn.feature_selection import mutual_info_regression\n",
        "from sklearn.preprocessing import StandardScaler\n",
        "from sklearn.discriminant_analysis import LinearDiscriminantAnalysis\n",
        "from tqdm.notebook import tqdm\n",
        "from sklearn.utils import resample\n",
        "%pylab inline\n",
        "import pandas as pd\n",
        "\n",
        "from sklearn.datasets import load_diabetes, make_classification\n",
        "from sklearn.model_selection import train_test_split\n",
        "import time\n",
        "\n",
        "import numpy as np\n",
        "from sklearn.svm import SVC\n",
        "from lightgbm import LGBMClassifier, LGBMRegressor\n",
        "import lightgbm as lgb\n",
        "from sklearn.metrics import roc_auc_score\n",
        "from sklearn.mixture import GaussianMixture\n",
        "from itertools import combinations"
      ],
      "metadata": {
        "colab": {
          "base_uri": "https://localhost:8080/"
        },
        "id": "tOcRofHstIOY",
        "outputId": "557d4071-fc4d-437a-fc40-b2ded2817583"
      },
      "execution_count": null,
      "outputs": [
        {
          "output_type": "stream",
          "name": "stdout",
          "text": [
            "Populating the interactive namespace from numpy and matplotlib\n"
          ]
        }
      ]
    },
    {
      "cell_type": "markdown",
      "source": [
        "####Кодирование признаков"
      ],
      "metadata": {
        "id": "YCSZsPuwLKyE"
      }
    },
    {
      "cell_type": "code",
      "source": [
        "from sklearn.datasets import load_breast_cancer\n",
        "from sklearn.base import BaseEstimator, TransformerMixin\n",
        "import sklearn.preprocessing as skpr\n",
        "import category_encoders as ce\n",
        "import numpy as np\n",
        "import pandas as pd\n",
        "import datetime\n",
        "import copy\n",
        "import math\n",
        "\n",
        "\n",
        "class CircularEncoder(BaseEstimator, TransformerMixin):\n",
        "    def __init__(self, limits=None, fit_replace=True, tol=1e-8):\n",
        "        self.limits = limits\n",
        "        self.fit_replace = fit_replace\n",
        "        self.tol = tol\n",
        "        self._shape = (0, 0)\n",
        "\n",
        "    def __repr__(self):\n",
        "        return \"Circular Encoder\"\n",
        "\n",
        "    def __str__(self):\n",
        "        return \"Circular Encoder\"\n",
        "\n",
        "    def fit(self, X, y=None):\n",
        "\n",
        "        # Shape setting\n",
        "        self._shape = self.__set_shape(X)\n",
        "\n",
        "        # Defining limit\n",
        "        if self.fit_replace:\n",
        "            self.limits = self.__set_limits(X)\n",
        "\n",
        "        return self\n",
        "\n",
        "    def transform(self, X, y=None):\n",
        "        if self.limits is None:\n",
        "            return copy.deepcopy(X)\n",
        "\n",
        "        # column_names only for DataFrame\n",
        "        column_names = None\n",
        "\n",
        "        # cast to numpy array\n",
        "        if isinstance(X, pd.DataFrame):\n",
        "            X_ndarray = X.to_numpy().reshape(self._shape)\n",
        "            column_names = np.zeros(2 * X.columns.shape[0], dtype=object)\n",
        "        else:\n",
        "            X_ndarray = X.reshape(self._shape)\n",
        "\n",
        "        # main encoding\n",
        "        result_sin = np.sin((2 * np.pi * X_ndarray) / self.limits)\n",
        "        result_cos = np.cos((2 * np.pi * X_ndarray) / self.limits)\n",
        "\n",
        "        result_sin[np.abs(result_sin) < self.tol] = 0.0\n",
        "        result_cos[np.abs(result_cos) < self.tol] = 0.0\n",
        "\n",
        "        # combine encoded arrays\n",
        "        result = np.zeros((self._shape[0], self._shape[1] * 2))\n",
        "        result[:, np.arange(0, result.shape[1], 2)] = result_sin\n",
        "        result[:, np.arange(1, result.shape[1], 2)] = result_cos\n",
        "\n",
        "        # set column_names names and return result\n",
        "        if column_names is not None:\n",
        "            column_names[np.arange(0, result.shape[1], 2)] = np.array([f'sin_{col}' for col in X.columns])\n",
        "            column_names[np.arange(1, result.shape[1], 2)] = np.array([f'cos_{col}' for col in X.columns])\n",
        "            return pd.DataFrame(result, columns=column_names).infer_objects()\n",
        "        else:\n",
        "            return result\n",
        "\n",
        "    @staticmethod\n",
        "    def __set_shape(X):\n",
        "        if len(X.shape) == 1:\n",
        "            return (X.shape[0], 1)\n",
        "        elif len(X.shape) > 2:\n",
        "            raise ValueError(f\"You need 2 dimensions instead of {len(X.shape)}\")\n",
        "        else:\n",
        "            return X.shape\n",
        "\n",
        "    @staticmethod\n",
        "    def __set_limits(X):\n",
        "        if isinstance(X, pd.DataFrame):\n",
        "            return np.max(np.abs(X.to_numpy()), axis=0) + 1\n",
        "        else:\n",
        "            return np.max(np.abs(X), axis=0) + 1\n",
        "\n",
        "\n",
        "class DateTimeEncoder(BaseEstimator, TransformerMixin):\n",
        "    def __init__(self, cols=None, fit_replace=False,\n",
        "                 drop=True, min_rescale=False, fast_mode=True,\n",
        "                 confidence_level=0.99, worst_proportion=0.01):\n",
        "        self.cols = np.array(cols) if cols is not None else None\n",
        "        self.fit_replace = fit_replace\n",
        "        self.drop = drop\n",
        "        self.min_rescale = min_rescale\n",
        "\n",
        "        # stochastic approach\n",
        "        eps = 1e-6\n",
        "        confidence_level = max(eps, min(confidence_level, 1 - eps))\n",
        "        worst_proportion = max(eps, min(worst_proportion, 1 - eps))\n",
        "        self.fast_random_size = math.ceil(math.log(1 - confidence_level) / math.log(1 - worst_proportion))\n",
        "        self.fast_mode = fast_mode\n",
        "\n",
        "        # encoders for months, days and hours\n",
        "        self.encoders = {'months': CircularEncoder(limits=[12], fit_replace=False),\n",
        "                         'days': CircularEncoder(limits=[30], fit_replace=False),\n",
        "                         'hours': CircularEncoder(limits=[24], fit_replace=False)}\n",
        "\n",
        "    def __repr__(self):\n",
        "        return \"DateTimeEncoder\"\n",
        "\n",
        "    def __str__(self):\n",
        "        return \"DateTimeEncoder\"\n",
        "\n",
        "    def fit(self, X, y=None):\n",
        "        if self.cols is None or self.fit_replace:\n",
        "            if self.fast_mode and self.fast_random_size < X.shape[0]:\n",
        "                self.cols = self.define_cols_fast(X)\n",
        "            else:\n",
        "                self.cols = self.define_cols(X)\n",
        "\n",
        "        return self\n",
        "\n",
        "    def transform(self, X, y=None):\n",
        "        try:\n",
        "            if self.cols is None or not self.cols.shape[0]:\n",
        "                return copy.deepcopy(X)\n",
        "        except IndexError:\n",
        "            raise IndexError(\"cols should be a numpy array\")\n",
        "\n",
        "        # save self.cols and get indices for X\n",
        "        saved_cols = self.cols.copy()\n",
        "        self.cols = self.cols_to_numeric(X)\n",
        "\n",
        "        if not self.cols.shape[0]:\n",
        "            self.cols = saved_cols\n",
        "            return copy.deepcopy(X)\n",
        "\n",
        "        column_names = None\n",
        "\n",
        "        # cast to pandas DataFrame\n",
        "        if isinstance(X, pd.DataFrame):\n",
        "            column_names = X.columns.to_numpy(dtype=object).copy()\n",
        "            X_df = X\n",
        "        else:\n",
        "            X_df = pd.DataFrame(X)\n",
        "\n",
        "        # shift for dropping columns\n",
        "        shift = 0 if self.drop else 1\n",
        "\n",
        "        # creating an empty result matrix\n",
        "        result = np.zeros((X_df.shape[0], X_df.shape[1] + (6 + shift) * len(self.cols)), dtype=object)\n",
        "        column_names_zeros = np.zeros(X_df.shape[1] + (6 + shift) * len(self.cols), dtype=object)\n",
        "\n",
        "        # creating indices for fast numpy operation\n",
        "        modified_inds = np.array([self.cols[i] + i * (6 + shift) for i in range(len(self.cols))])\n",
        "        not_cols = list(set(np.arange(X.shape[1])) - set(self.cols))\n",
        "        unmodified_inds = np.array([i + (7 + shift) * (not_cols[i] - i) for i in range(len(not_cols))])\n",
        "\n",
        "        # setting not date columns\n",
        "        if unmodified_inds.shape[0] > 0:\n",
        "            result[:, unmodified_inds] = X_df.to_numpy()[:, not_cols]\n",
        "            if not self.drop:\n",
        "                result[:, modified_inds] = X_df.to_numpy()[:, self.cols]\n",
        "            if column_names is not None:\n",
        "                column_names_zeros[unmodified_inds] = column_names[not_cols]\n",
        "                if not self.drop:\n",
        "                    column_names_zeros[modified_inds] = column_names[self.cols]\n",
        "\n",
        "        # for fast mode\n",
        "        preventive_delete = []\n",
        "\n",
        "        # tranform each datetime column\n",
        "        for num, col in enumerate(self.cols):\n",
        "            transformed_column = self.column_transform(X_df.iloc[:, col])\n",
        "            # for fast mode\n",
        "            if transformed_column is None:\n",
        "                result[:, modified_inds[num] + 6 + shift] = X_df.iloc[:, col]\n",
        "                column_names_zeros[modified_inds[num] + 6 + shift] = X_df.iloc[:, col].name\n",
        "                preventive_delete += list(np.arange(modified_inds[num] + shift, modified_inds[num] + 6 + shift))\n",
        "                continue\n",
        "            result[:, np.arange(modified_inds[num] + shift, modified_inds[num] + 7 + shift)] = transformed_column.to_numpy()\n",
        "            column_names_zeros[np.arange(modified_inds[num] + shift, modified_inds[num] + 7 + shift)] = transformed_column.columns.to_numpy(dtype=object).copy()\n",
        "\n",
        "        # delete unsuccessful transformations\n",
        "        if len(preventive_delete) > 0:\n",
        "            result = np.delete(result, preventive_delete, 1)\n",
        "            column_names_zeros = np.delete(column_names_zeros, preventive_delete)\n",
        "\n",
        "        # self.cols backup\n",
        "        self.cols = saved_cols\n",
        "\n",
        "        if column_names is not None:\n",
        "            # saving dtypes\n",
        "            saved_dtypes = X_df.dtypes.to_dict()\n",
        "            unmodified_dtypes = dict([(X.columns[col], saved_dtypes[X.columns[col]]) for col in not_cols])\n",
        "\n",
        "            return pd.DataFrame(result, columns=column_names_zeros).infer_objects().astype(dtype=unmodified_dtypes)\n",
        "        else:\n",
        "            return result\n",
        "\n",
        "    def column_transform(self, column):\n",
        "        column_name = None\n",
        "\n",
        "        # cast to pandas Series\n",
        "        if not isinstance(column, pd.Series):\n",
        "            pd_column = copy.deepcopy(pd.Series(column))\n",
        "        else:\n",
        "            pd_column = copy.deepcopy(column)\n",
        "            column_name = column.name\n",
        "\n",
        "        try:\n",
        "            pd_column = pd.to_datetime(pd_column.astype(str))\n",
        "        except (ValueError, TypeError):\n",
        "            return None\n",
        "\n",
        "        # rescaling by the start time\n",
        "        if self.min_rescale:\n",
        "            pd_column = pd_column.astype(int)\n",
        "            min_seconds = pd_column.min()\n",
        "            pd_column = pd_column.apply(lambda val: val - min_seconds)\n",
        "            pd_column = pd.to_datetime(pd_column)\n",
        "\n",
        "        # defining main columns\n",
        "        years = pd_column.dt.year.to_numpy()\n",
        "        months = self.encoders['months'].fit_transform(pd_column.dt.month.to_numpy())\n",
        "        days = self.encoders['days'].fit_transform(pd_column.dt.day.to_numpy())\n",
        "        hours = self.encoders['hours'].fit_transform(pd_column.dt.hour.to_numpy())\n",
        "        result = np.array([years, months.T[0], months.T[1], days.T[0],\n",
        "                           days.T[1], hours.T[0], hours.T[1]]).T\n",
        "\n",
        "        # cast to the original type\n",
        "        if column_name is not None:\n",
        "            column_names = np.array([f'{column_name}_year', f'{column_name}_month_sin',\n",
        "                                     f'{column_name}_month_cos', f'{column_name}_day_sin',\n",
        "                                     f'{column_name}_day_cos', f'{column_name}_hour_sin',\n",
        "                                     f'{column_name}_hour_cos'])\n",
        "            result = pd.DataFrame(result, columns=column_names).infer_objects()\n",
        "\n",
        "        return result\n",
        "\n",
        "    def cols_to_numeric(self, X):\n",
        "        if self.cols is None or not self.cols.shape[0]:\n",
        "            return np.array([])\n",
        "\n",
        "        inds = self.cols.copy()\n",
        "\n",
        "        try:\n",
        "            inds = inds.astype(int)\n",
        "            return inds\n",
        "        except (ValueError, TypeError):\n",
        "            if not isinstance(X, pd.DataFrame):\n",
        "                return np.array([])\n",
        "            else:\n",
        "                columns_array = X.columns.to_numpy(dtype=object).copy()\n",
        "                names_dict = dict((columns_array[i], i) for i in range(columns_array.shape[0]))\n",
        "                inds = np.array([names_dict[name] for name in inds if name in names_dict])\n",
        "                return inds\n",
        "\n",
        "    def define_cols(self, X):\n",
        "        # cast to pandas DataFrame\n",
        "        if isinstance(X, pd.DataFrame):\n",
        "            X_df = X\n",
        "        else:\n",
        "            X_df = pd.DataFrame(X)\n",
        "\n",
        "        # check all the columns\n",
        "        datetime_cols = []\n",
        "        for num, col in enumerate(X_df):\n",
        "            if not pd.api.types.is_categorical_dtype(X_df[col]) and not pd.api.types.is_numeric_dtype(X_df[col]):\n",
        "                if self.is_datetime(X_df[col].iloc[np.random.randint(0, X_df.shape[0])]):\n",
        "                    datetime_cols.append(num)\n",
        "        return np.array(datetime_cols)\n",
        "\n",
        "    def define_cols_fast(self, X):\n",
        "        # cast to pandas DataFrame\n",
        "        if isinstance(X, pd.DataFrame):\n",
        "            X_df = X\n",
        "        else:\n",
        "            X_df = pd.DataFrame(X)\n",
        "\n",
        "        # check all the columns\n",
        "        datetime_cols = []\n",
        "        for num, col in enumerate(X_df):\n",
        "            if not pd.api.types.is_categorical_dtype(X_df[col]) and not pd.api.types.is_numeric_dtype(X_df[col]):\n",
        "                append_need = True\n",
        "                for i in range(self.fast_random_size):\n",
        "                    if not self.is_datetime(X_df[col].iloc[np.random.randint(0, X_df.shape[0])]):\n",
        "                        append_need = False\n",
        "                        break\n",
        "                if append_need:\n",
        "                    datetime_cols.append(num)\n",
        "        return np.array(datetime_cols)\n",
        "\n",
        "    def get_cols(self):\n",
        "        if self.cols is not None:\n",
        "            return self.cols.copy()\n",
        "        else:\n",
        "            return np.array([])\n",
        "\n",
        "    def is_datetime(self, col):\n",
        "        arg = None\n",
        "        if not isinstance(col, pd.Series):\n",
        "            arg = col\n",
        "        else:\n",
        "            arg = col.astype(str)\n",
        "\n",
        "        try:\n",
        "            pd.to_datetime(arg, errors='raise')\n",
        "            return True\n",
        "        except (ValueError, TypeError):\n",
        "            return False\n",
        "\n",
        "\n",
        "class CategoricalEncoder(BaseEstimator, TransformerMixin):\n",
        "    def __init__(self, cols=None, fit_replace=False, encoder='binary',\n",
        "                 category_rate=0.1, rated_search=True, fast_mode=True,\n",
        "                 confidence_level=0.99, worst_proportion=0.01, **encoder_params):\n",
        "\n",
        "        self._hashing_enc_name = 'hashing'\n",
        "        self._encoders_list = {'onehot': ce.OneHotEncoder,\n",
        "                               'target_loo': ce.LeaveOneOutEncoder,\n",
        "                               self._hashing_enc_name: ce.HashingEncoder,\n",
        "                               'binary': ce.BinaryEncoder}\n",
        "        self._target_encoders_list = np.array(['target_loo'])\n",
        "\n",
        "        # stochastic approach\n",
        "        eps = 1e-6\n",
        "        confidence_level = max(eps, min(confidence_level, 1 - eps))\n",
        "        worst_proportion = max(eps, min(worst_proportion, 1 - eps))\n",
        "        self.fast_random_size = math.ceil(math.log(1 - confidence_level) / math.log(1 - worst_proportion))\n",
        "        self.fast_mode = fast_mode\n",
        "\n",
        "        self.cols = np.array(cols) if cols is not None else None\n",
        "        self.fit_replace = fit_replace\n",
        "        self.encoder_name = encoder\n",
        "        self.category_rate = category_rate\n",
        "        self.rated_search = rated_search\n",
        "        self.encoder_params = encoder_params\n",
        "        self._encoder = None\n",
        "\n",
        "    def __repr__(self):\n",
        "        return \"CategoricalEncoder\"\n",
        "\n",
        "    def __str__(self):\n",
        "        return \"CategoricalEncoder\"\n",
        "\n",
        "    def fit(self, X, y=None, **fit_params):\n",
        "        # defining categorical columns\n",
        "        if self.cols is None or self.fit_replace:\n",
        "            self.cols = self.define_cols(X)\n",
        "\n",
        "        try:\n",
        "            if not self.cols.shape[0]:\n",
        "                return self\n",
        "        except IndexError:\n",
        "            raise IndexError(\"cols should be a numpy array\")\n",
        "\n",
        "        # save self.cols and get indices for X\n",
        "        saved_cols = self.cols.copy()\n",
        "        self.cols = self.cols_to_numeric(X)\n",
        "\n",
        "        if not self.cols.shape[0]:\n",
        "            self.cols = saved_cols\n",
        "            return self\n",
        "\n",
        "        # defining the encoder\n",
        "        self.encoder_params['cols'] = X.columns[self.cols] if isinstance(X, pd.DataFrame) else self.cols\n",
        "        self._encoder = self._encoders_list[self.encoder_name](**self.encoder_params)\n",
        "\n",
        "        # transforming y if it's not numeric\n",
        "        y_copy = None\n",
        "\n",
        "        if y is not None:\n",
        "            y_copy = copy.deepcopy(y)\n",
        "            if not self.is_y_approved(y_copy):\n",
        "                y_copy = skpr.LabelEncoder().fit_transform(y_copy)\n",
        "\n",
        "        # fitting the encoder\n",
        "        self._encoder.fit(pd.DataFrame(X), y_copy, **fit_params)\n",
        "\n",
        "        # self.cols backup\n",
        "        self.cols = saved_cols\n",
        "\n",
        "        return self\n",
        "\n",
        "    def transform(self, X, y=None):\n",
        "        try:\n",
        "            if self.cols is None or not self.cols.shape[0] or self._encoder is None:\n",
        "                return copy.deepcopy(X)\n",
        "        except IndexError:\n",
        "            raise IndexError(\"cols should be a numpy array\")\n",
        "\n",
        "        # save self.cols and get indices for X\n",
        "        saved_cols = self.cols.copy()\n",
        "        self.cols = self.cols_to_numeric(X)\n",
        "\n",
        "        if not self.cols.shape[0]:\n",
        "            self.cols = saved_cols\n",
        "            return copy.deepcopy(X)\n",
        "\n",
        "        # transforming y if it's not numeric\n",
        "        y_copy = None\n",
        "\n",
        "        if y is not None:\n",
        "            y_copy = copy.deepcopy(y)\n",
        "            if not self.is_y_approved(y_copy):\n",
        "                y_copy = skpr.LabelEncoder().fit_transform(y_copy)\n",
        "\n",
        "        # checking whether it's a target encoder or not\n",
        "        if self.encoder_name in self._target_encoders_list:\n",
        "            result = self._encoder.transform(pd.DataFrame(X), y_copy, override_return_df=True)\n",
        "        else:\n",
        "            result = self._encoder.transform(pd.DataFrame(X), override_return_df=True)\n",
        "\n",
        "        # adjusting the column names\n",
        "        cols_before = self._encoder.get_feature_names_in()\n",
        "        cols_after = self._encoder.get_feature_names_out()\n",
        "        new_columns = self._rename_transformed_cols(cols_before, cols_after)\n",
        "\n",
        "        result = result.rename(columns={cols_after[i]: new_columns[i] for i in range(cols_after.shape[0])})\n",
        "\n",
        "        if isinstance(X, pd.DataFrame):\n",
        "            # saving X dtypes\n",
        "            not_cols = list(set(np.arange(X.shape[1])) - set(self.cols))\n",
        "            saved_dtypes = X.dtypes.to_dict()\n",
        "            unmodified_dtypes = dict([(X.columns[col], saved_dtypes[X.columns[col]]) for col in not_cols])\n",
        "\n",
        "            # self.cols backup\n",
        "            self.cols = saved_cols\n",
        "\n",
        "            return result.astype(dtype=unmodified_dtypes)\n",
        "        else:\n",
        "            # self.cols backup\n",
        "            self.cols = saved_cols\n",
        "\n",
        "            return result.to_numpy()\n",
        "\n",
        "    def fit_transform(self, X, y=None, **fit_params):\n",
        "        # transforming y if it's not numeric\n",
        "        y_copy = None\n",
        "\n",
        "        if y is not None:\n",
        "            y_copy = copy.deepcopy(y)\n",
        "            if not self.is_y_approved(y_copy):\n",
        "                y_copy = skpr.LabelEncoder().fit_transform(y_copy)\n",
        "\n",
        "        self.fit(X, y_copy, **fit_params)\n",
        "        return self.transform(X, y_copy)\n",
        "\n",
        "    def _rename_transformed_cols(self, before, after):\n",
        "        if after is None:\n",
        "            return np.array([])\n",
        "        if self._encoder is None:\n",
        "            return copy.deepcopy(after)\n",
        "\n",
        "        result = copy.deepcopy(after)\n",
        "\n",
        "        # hashing encoder unique renaming\n",
        "        if self.encoder_name == self._hashing_enc_name:\n",
        "            for i in range(self._encoder.n_components):\n",
        "                result[i] = f'{self._hashing_enc_name}_{i}'\n",
        "        else:\n",
        "            # getting the columns transformed\n",
        "            set_before = set(before)\n",
        "            set_after = set(after)\n",
        "            sample_names = set_before.intersection(set_after)\n",
        "\n",
        "            # checking whether set is not empty\n",
        "            if bool(sample_names):\n",
        "                # renaming\n",
        "                for num, col in enumerate(result):\n",
        "                    if col not in sample_names:\n",
        "                        result[num] = f'{self.encoder_name}_{result[num]}'\n",
        "\n",
        "        return result\n",
        "\n",
        "    def is_y_approved(self, y):\n",
        "        try:\n",
        "            y.astype(float)\n",
        "            return True\n",
        "        except (ValueError, TypeError):\n",
        "            return False\n",
        "\n",
        "    def cols_to_numeric(self, X):\n",
        "        if self.cols is None or not self.cols.shape[0]:\n",
        "            return np.array([])\n",
        "\n",
        "        inds = self.cols.copy()\n",
        "\n",
        "        try:\n",
        "            inds = inds.astype(int)\n",
        "            return inds\n",
        "        except (ValueError, TypeError):\n",
        "            if not isinstance(X, pd.DataFrame):\n",
        "                return np.array([])\n",
        "            else:\n",
        "                columns_array = X.columns.to_numpy(dtype=object).copy()\n",
        "                names_dict = dict((columns_array[i], i) for i in range(columns_array.shape[0]))\n",
        "                inds = np.array([names_dict[name] for name in inds if name in names_dict])\n",
        "                return inds\n",
        "\n",
        "    def define_cols(self, X):\n",
        "        # cast to pandas DataFrame with inferring object types\n",
        "        if not isinstance(X, pd.DataFrame):\n",
        "            X_df = pd.DataFrame(X).infer_objects()\n",
        "        else:\n",
        "            X_df = X.infer_objects()\n",
        "\n",
        "        # check all the columns\n",
        "        category_cols = []\n",
        "        for num, col in enumerate(X_df):\n",
        "            # if dtype is 'category'\n",
        "            if pd.api.types.is_categorical_dtype(X_df[col]):\n",
        "                category_cols.append(num)\n",
        "            # checking object type (strings)\n",
        "            elif pd.api.types.is_object_dtype(X_df[col]):\n",
        "                # stochastic approach\n",
        "                if self.fast_mode:\n",
        "                    append_need = True\n",
        "                    for i in range(self.fast_random_size):\n",
        "                        if not self.is_one_word(X_df[col].iloc[np.random.randint(0, X_df.shape[0])]):\n",
        "                            append_need = False\n",
        "                            break\n",
        "                    if append_need:\n",
        "                        category_cols.append(num)\n",
        "                else:\n",
        "                    # basic approach\n",
        "                    if np.all(np.vectorize(self.is_one_word)(X_df[col])):\n",
        "                        category_cols.append(num)\n",
        "            # checking numeric columns\n",
        "            elif self.rated_search and pd.api.types.is_numeric_dtype(X_df[col]) and not pd.api.types.is_float_dtype(X_df[col]):\n",
        "                if X_df[col].nunique() < self.category_rate * X_df.shape[0]:\n",
        "                    category_cols.append(num)\n",
        "        return np.array(category_cols)\n",
        "\n",
        "    def is_one_word(self, s):\n",
        "        if s is None or not isinstance(s, str):\n",
        "            return False\n",
        "\n",
        "        stripped_string = s.strip()\n",
        "        if not stripped_string or ' ' in stripped_string:\n",
        "            return False\n",
        "        else:\n",
        "            return True\n",
        "\n",
        "    def get_cols(self):\n",
        "        if self.cols is not None:\n",
        "            return self.cols.copy()\n",
        "        else:\n",
        "            return np.array([])\n",
        "\n",
        "    def get_encoder(self):\n",
        "        return self.encoder_name\n",
        "\n",
        "    def get_available_encoders(self):\n",
        "        return np.array(list(self._encoders_list.keys()))\n",
        "\n",
        "\n",
        "class NumericalEncoder(BaseEstimator, TransformerMixin):\n",
        "    def __init__(self, cols=None, fit_replace=False, encoder='standard', numeric_rate=0.1,\n",
        "                 rated_search=True, only_float=True, **encoder_params):\n",
        "\n",
        "        self._encoders_list = {'standard': skpr.StandardScaler,\n",
        "                          'min_max': skpr.MinMaxScaler,\n",
        "                          'normalizer': skpr.Normalizer,\n",
        "                          'max_abs': skpr.MaxAbsScaler}\n",
        "\n",
        "        self.only_float = only_float\n",
        "        self.cols = np.array(cols) if cols is not None else None\n",
        "        self.fit_replace = fit_replace\n",
        "        self.encoder_name = encoder\n",
        "        self.numeric_rate = numeric_rate\n",
        "        self.rated_search = rated_search\n",
        "        self.encoder_params = encoder_params\n",
        "        self._encoder = None\n",
        "\n",
        "    def __repr__(self):\n",
        "        return \"NumericalEncoder\"\n",
        "\n",
        "    def __str__(self):\n",
        "        return \"NumericalEncoder\"\n",
        "\n",
        "    def fit(self, X, y=None, **fit_params):\n",
        "        # defining numerical columns\n",
        "        if self.cols is None or self.fit_replace:\n",
        "            self.cols = self.define_cols(X)\n",
        "\n",
        "        try:\n",
        "            if not self.cols.shape[0]:\n",
        "                return self\n",
        "        except IndexError:\n",
        "            raise IndexError(\"cols should be a numpy array\")\n",
        "\n",
        "        # save self.cols and get indices for X\n",
        "        saved_cols = self.cols.copy()\n",
        "        self.cols = self.cols_to_numeric(X)\n",
        "\n",
        "        if not self.cols.shape[0]:\n",
        "            self.cols = saved_cols\n",
        "            return self\n",
        "\n",
        "        # defining the encoder\n",
        "        self._encoder = self._encoders_list[self.encoder_name](**self.encoder_params)\n",
        "\n",
        "        # fitting the encoder\n",
        "        X_ndarray = X.to_numpy()[:, self.cols] if isinstance(X, pd.DataFrame) else X[:, self.cols]\n",
        "        self._encoder.fit(X_ndarray, y, **fit_params)\n",
        "\n",
        "        # self.cols backup\n",
        "        self.cols = saved_cols\n",
        "\n",
        "        return self\n",
        "\n",
        "    def transform(self, X, y=None):\n",
        "        try:\n",
        "            if self.cols is None or not self.cols.shape[0] or self._encoder is None:\n",
        "                return copy.deepcopy(X)\n",
        "        except IndexError:\n",
        "            raise IndexError(\"cols should be a numpy array\")\n",
        "\n",
        "        # save self.cols and get indices for X\n",
        "        saved_cols = self.cols.copy()\n",
        "        self.cols = self.cols_to_numeric(X)\n",
        "\n",
        "        if not self.cols.shape[0]:\n",
        "            self.cols = saved_cols\n",
        "            return copy.deepcopy(X)\n",
        "\n",
        "        column_names = None\n",
        "\n",
        "        # cast to numpy array\n",
        "        if isinstance(X, pd.DataFrame):\n",
        "            X_ndarray = X.iloc[:, self.cols].to_numpy().astype(float)\n",
        "            column_names = X.columns.to_numpy(dtype=object).copy()\n",
        "        else:\n",
        "            X_ndarray = X[:, self.cols].astype(float)\n",
        "\n",
        "        # getting the resulting column names\n",
        "        if column_names is not None:\n",
        "            column_names[self.cols] = np.array([f'{self.encoder_name}_{name}' for name in column_names[self.cols]])\n",
        "\n",
        "        # only numerical columns here\n",
        "        result = self._encoder.transform(X_ndarray)\n",
        "\n",
        "        if isinstance(X, pd.DataFrame):\n",
        "            # saving X dtypes\n",
        "            not_cols = list(set(np.arange(X.shape[1])) - set(self.cols))\n",
        "            saved_dtypes = X.dtypes.to_dict()\n",
        "            unmodified_dtypes = dict([(X.columns[col], saved_dtypes[X.columns[col]]) for col in not_cols])\n",
        "\n",
        "            X_ndarray = copy.deepcopy(X.to_numpy(dtype=object))\n",
        "            X_ndarray[:, self.cols] = result\n",
        "            result = pd.DataFrame(X_ndarray, columns=column_names).astype(dtype=unmodified_dtypes).infer_objects()\n",
        "        else:\n",
        "            X_ndarray = copy.deepcopy(X)\n",
        "            X_ndarray[:, self.cols] = result\n",
        "            result = X_ndarray\n",
        "\n",
        "        # self.cols backup\n",
        "        self.cols = saved_cols\n",
        "\n",
        "        return result\n",
        "\n",
        "    def define_cols(self, X):\n",
        "        # cast to pandas DataFrame with inferring object types\n",
        "        if not isinstance(X, pd.DataFrame):\n",
        "            X_df = pd.DataFrame(X).infer_objects()\n",
        "        else:\n",
        "            X_df = X.infer_objects()\n",
        "\n",
        "        # check all the columns\n",
        "        numeric_cols = []\n",
        "        for num, col in enumerate(X_df):\n",
        "            # if dtype is 'numeric'\n",
        "            if pd.api.types.is_numeric_dtype(X_df[col]):\n",
        "                # appending if float\n",
        "                if pd.api.types.is_float_dtype(X_df[col]):\n",
        "                    numeric_cols.append(num)\n",
        "                elif not self.only_float:\n",
        "                    # checking rated_search\n",
        "                    if self.rated_search:\n",
        "                        if X_df[col].nunique() >= self.numeric_rate * X_df.shape[0]:\n",
        "                            numeric_cols.append(num)\n",
        "                    else:\n",
        "                        numeric_cols.append(num)\n",
        "        return np.array(numeric_cols)\n",
        "\n",
        "    def cols_to_numeric(self, X):\n",
        "        if self.cols is None or not self.cols.shape[0]:\n",
        "            return np.array([])\n",
        "\n",
        "        inds = self.cols.copy()\n",
        "\n",
        "        try:\n",
        "            inds = inds.astype(int)\n",
        "            return inds\n",
        "        except (ValueError, TypeError):\n",
        "            if not isinstance(X, pd.DataFrame):\n",
        "                return np.array([])\n",
        "            else:\n",
        "                columns_array = X.columns.to_numpy(dtype=object).copy()\n",
        "                names_dict = dict((columns_array[i], i) for i in range(columns_array.shape[0]))\n",
        "                inds = np.array([names_dict[name] for name in inds if name in names_dict])\n",
        "                return inds\n",
        "\n",
        "    def get_cols(self):\n",
        "        if self.cols is not None:\n",
        "            return self.cols.copy()\n",
        "        else:\n",
        "            return np.array([])\n",
        "\n",
        "    def get_encoder(self):\n",
        "        return self.encoder_name\n",
        "\n",
        "    def get_available_encoders(self):\n",
        "        return np.array(list(self._encoders_list.keys()))\n",
        "\n",
        "\n",
        "class CustomEncoder(BaseEstimator, TransformerMixin):\n",
        "    def __init__(self, categorical_args=None,\n",
        "                 numerical_args=None, datetime_args=None, categorical_enabled=True,\n",
        "                 numerical_enabled=True, datetime_enabled=True, target_encoder='label',\n",
        "                 target_encoding=False):\n",
        "        self.target_encoder = target_encoder\n",
        "        self.target_encoding = target_encoding\n",
        "        self._target_encoders_list = {'label': skpr.LabelEncoder}\n",
        "\n",
        "        self.categorical_args = categorical_args if categorical_args is not None else dict()\n",
        "        self.numerical_args = numerical_args if numerical_args is not None else dict()\n",
        "        self.datetime_args = datetime_args if datetime_args is not None else dict()\n",
        "        self.categorical_enc = CategoricalEncoder(**self.categorical_args)\n",
        "        self.numerical_enc = NumericalEncoder(**self.numerical_args)\n",
        "        self.datetime_enc = DateTimeEncoder(**self.datetime_args)\n",
        "\n",
        "        self.categorical_enabled = categorical_enabled\n",
        "        self.numerical_enabled = numerical_enabled\n",
        "        self.datetime_enabled = datetime_enabled\n",
        "\n",
        "    def fit(self, X, y=None, **fit_params):\n",
        "        if self.categorical_enabled:\n",
        "            self.categorical_enc.fit(X, y, **fit_params)\n",
        "\n",
        "        if self.numerical_enabled:\n",
        "            self.numerical_enc.fit(X, y, **fit_params)\n",
        "\n",
        "        if self.datetime_enabled:\n",
        "            self.datetime_enc.fit(X, y, **fit_params)\n",
        "\n",
        "        cat_cols = self.cols_to_numeric(X, self.categorical_enc.get_cols())\n",
        "        num_cols = self.cols_to_numeric(X, self.numerical_enc.get_cols())\n",
        "        dt_cols = self.cols_to_numeric(X, self.datetime_enc.get_cols())\n",
        "\n",
        "        if isinstance(X, pd.DataFrame):\n",
        "            X_columns = X.columns.to_numpy(dtype=object).copy()\n",
        "            self.categorical_enc.cols = X_columns[cat_cols] if len(cat_cols) > 0 else np.array([])\n",
        "            self.numerical_enc.cols = X_columns[num_cols] if len(num_cols) > 0 else np.array([])\n",
        "            self.datetime_enc.cols = X_columns[dt_cols] if len(dt_cols) > 0 else np.array([])\n",
        "\n",
        "        return self\n",
        "\n",
        "    def transform(self, X, y=None):\n",
        "        # target encoding\n",
        "        y_copy = None\n",
        "        if y is not None:\n",
        "            X_result, y_copy = self.fill_omissions(X, y)\n",
        "            if self.target_encoding:\n",
        "                if self.target_encoder in self._target_encoders_list:\n",
        "                    y_copy = self._target_encoders_list[self.target_encoder].fit_transform(y_copy)\n",
        "                else:\n",
        "                    y_copy = skpr.LabelEncoder().fit_transform(y_copy)\n",
        "        else:\n",
        "            X_result = self.fill_omissions(X)\n",
        "\n",
        "        # main encoding\n",
        "        if not isinstance(X_result, pd.DataFrame):\n",
        "            X_result = pd.DataFrame(X_result)\n",
        "\n",
        "        if self.numerical_enabled:\n",
        "            X_result = self.numerical_enc.transform(X_result, y_copy)\n",
        "\n",
        "        if self.categorical_enabled:\n",
        "            X_result = self.categorical_enc.transform(X_result, y_copy)\n",
        "\n",
        "        if self.datetime_enabled:\n",
        "            X_result = self.datetime_enc.transform(X_result, y_copy)\n",
        "\n",
        "        if not isinstance(X, pd.DataFrame):\n",
        "            X_result = X_result.to_numpy()\n",
        "\n",
        "        # getting the result\n",
        "        if self.target_encoding:\n",
        "            return X_result, y_copy\n",
        "        else:\n",
        "            return X_result\n",
        "\n",
        "    def fill_omissions(self, X, y=None):\n",
        "        if y is not None:\n",
        "            return copy.deepcopy(X), copy.deepcopy(y)\n",
        "        else:\n",
        "            return copy.deepcopy(X)\n",
        "\n",
        "    def print_cols(self):\n",
        "        print('Categorical columns: ', sep=', ', end='')\n",
        "        print(*self.categorical_enc.get_cols(), sep=', ')\n",
        "        print('Numerical columns: ', sep=', ', end='')\n",
        "        print(*self.numerical_enc.get_cols(), sep=', ')\n",
        "        print('Datetime columns: ', sep=', ', end='')\n",
        "        print(*self.datetime_enc.get_cols(), sep=', ')\n",
        "\n",
        "    def cols_to_numeric(self, X, cols):\n",
        "        if cols is None or not cols.shape[0]:\n",
        "            return np.array([])\n",
        "\n",
        "        inds = cols.copy()\n",
        "\n",
        "        try:\n",
        "            inds = inds.astype(int)\n",
        "            return inds\n",
        "        except (ValueError, TypeError):\n",
        "            if not isinstance(X, pd.DataFrame):\n",
        "                return np.array([])\n",
        "            else:\n",
        "                columns_array = X.columns.to_numpy(dtype=object).copy()\n",
        "                names_dict = dict((columns_array[i], i) for i in range(columns_array.shape[0]))\n",
        "                inds = np.array([names_dict[name] for name in inds if name in names_dict])\n",
        "                return inds\n",
        "\n",
        "    def get_cols(self):\n",
        "        return {'categorical': self.categorical_enc.get_cols(),\n",
        "                'numerical': self.numerical_enc.get_cols(),\n",
        "                'datetime': self.datetime_enc.get_cols()}"
      ],
      "metadata": {
        "id": "hsBmAT8uLJLK"
      },
      "execution_count": null,
      "outputs": []
    },
    {
      "cell_type": "markdown",
      "source": [
        "####Отбор признаков"
      ],
      "metadata": {
        "id": "82JYdo1MKto6"
      }
    },
    {
      "cell_type": "code",
      "source": [
        "class SelectNullDistributionBaseline(BaseEstimator, TransformerMixin):\n",
        "  def __get_feature_importances(s, X, y, shuffle, seed=None):\n",
        "    f_num = X.shape[1]\n",
        "    if shuffle:\n",
        "        np.random.shuffle(y)\n",
        "\n",
        "    #TODO hardcode\n",
        "    dtrain = lgb.Dataset(X, y,params={'verbose': -1}, free_raw_data=False)\n",
        "    lgb_params = {\n",
        "        'objective': 'binary',\n",
        "        'boosting_type': 'rf',\n",
        "        'subsample': 0.623,\n",
        "        'colsample_bytree': 0.7,\n",
        "        'num_leaves': 127,\n",
        "        'max_depth': 8,\n",
        "        'seed': seed,\n",
        "        'bagging_freq': 1,\n",
        "        'n_jobs': 4,\n",
        "        'verbose': -1\n",
        "    }\n",
        "    categorical_feats = []\n",
        "    # Fit the model\n",
        "    clf = lgb.train(params=lgb_params, train_set=dtrain, num_boost_round=200, categorical_feature=categorical_feats)\n",
        "\n",
        "    # Get feature importances\n",
        "    imp_df = pd.DataFrame()\n",
        "    imp_df[\"feature\"] = np.arange(f_num)\n",
        "    imp_df[\"importance_gain\"] = clf.feature_importance(importance_type='gain')\n",
        "    imp_df[\"importance_split\"] = clf.feature_importance(importance_type='split')\n",
        "    imp_df['trn_score'] = roc_auc_score(y, clf.predict(X))\n",
        "\n",
        "    return imp_df\n",
        "\n",
        "  def __get_null_feature_importances(s, X, y):\n",
        "    null_imp_df = pd.DataFrame()\n",
        "    dsp = ''\n",
        "    for i in range(s.n_runs):\n",
        "        X_train, y_train = resample(X, y)\n",
        "        imp_df = s.__get_feature_importances(X_train, y_train, shuffle=True)\n",
        "        imp_df['run'] = i + 1\n",
        "        null_imp_df = pd.concat([null_imp_df, imp_df], axis=0)\n",
        "    return null_imp_df\n",
        "\n",
        "  def __create_mask(s):\n",
        "    n_feats = len(s.feat_scores)\n",
        "    n_feat_selected = n_feats if s.max_features is None else min(s.max_features, n_feats)\n",
        "    if s.threshold == 'median':\n",
        "      s.feat_mask = s.feat_scores >= np.median(s.feat_scores)\n",
        "    elif s.threshold == 'mean':\n",
        "      s.feat_mask = s.feat_scores >= np.mean(s.feat_scores)\n",
        "    else:\n",
        "      s.feat_mask = s.feat_scores >= s.threshold\n",
        "\n",
        "    s.feats_ind = np.arange(n_feats)[s.feat_mask][:n_feat_selected]\n",
        "\n",
        "  def __init__(self, typ = 'class', threshold=None, max_features=None, n_runs=300, n_bins=20, n_gauss_components=5, score_func=(lambda x: 0.5 * x) ):\n",
        "    self.typ = typ\n",
        "    self.threshold = threshold if threshold is not None else 'median'\n",
        "    self.max_features = max_features\n",
        "    self.n_runs = n_runs\n",
        "    self.n_bins = n_bins\n",
        "    self.n_gauss_components = n_gauss_components\n",
        "    self.score_func = score_func\n",
        "\n",
        "  def fit(self, X, y=None):\n",
        "    actual_imp_df = self.__get_feature_importances(X, y, shuffle=False)\n",
        "    null_imp_df = self.__get_null_feature_importances(X, y)\n",
        "\n",
        "    self.feat_scores = []\n",
        "    for feat in range(X.shape[1]):\n",
        "      actual_feat_imp = actual_imp_df.loc[actual_imp_df['feature'] == feat]\n",
        "      null_feat_imp = null_imp_df.loc[null_imp_df['feature'] == feat]\n",
        "      actual_imp = actual_feat_imp['importance_gain'].iloc[0]\n",
        "      null_imp = null_feat_imp['importance_gain']\n",
        "      #TODO choose bin strategy\n",
        "      # act_len = np.max(actual_imp) - np.min(actual_imp)\n",
        "      # null_len  = np.max(null_imp) - np.min(null_imp)\n",
        "      # total_len = max(np.max(null_imp), np.max(actual_imp)) - min(np.min(null_imp), np.min(actual_imp))\n",
        "      # bin_count = max(total_len // null_len * n_bins, total_len // act_len * n_bins)\n",
        "      _sf_p = np.percentile(null_imp, 75)\n",
        "      print(_sf_p, actual_imp)\n",
        "      # print(actual_imp)\n",
        "      # print(null_imp)\n",
        "      # print(substr_imp)\n",
        "      # plt.hist(substr_imp, bins=20, label='diff', density=True)\n",
        "      # plt.hist(null_imp, bins=20, label='null', density=True)\n",
        "      # plt.hist(actual_imp, bins=20, label='actual', density=True)\n",
        "      # plt.legend(loc='upper right')\n",
        "      # plt.show()\n",
        "\n",
        "      feat_score = np.log(actual_imp/_sf_p)\n",
        "      print('f', feat_score, 'g', type(feat_score))\n",
        "      self.feat_scores.append(feat_score)\n",
        "    # print(self.feat_scores)\n",
        "    # print(np.array(self.feat_scores).argsort().argsort())\n",
        "    self.__create_mask()\n",
        "\n",
        "  def transform(self, X):\n",
        "    return X[:, self.feats_ind]\n",
        "  def get_support(self, indices=False):\n",
        "    return self.feats_ind if indices else self.feat_mask\n",
        "\n",
        "class SelectNullDistribution(BaseEstimator, TransformerMixin):\n",
        "  def __get_feature_importances(s, X, y, shuffle, seed=None):\n",
        "    f_num = X.shape[1]\n",
        "    if shuffle:\n",
        "        np.random.shuffle(y)\n",
        "\n",
        "    #TODO hardcode\n",
        "    dtrain = lgb.Dataset(X, y,params={'verbose': -1}, free_raw_data=False, silent=True)\n",
        "    lgb_params = {\n",
        "        'objective': 'binary',\n",
        "        'boosting_type': 'rf',\n",
        "        'subsample': 0.623,\n",
        "        'colsample_bytree': 0.7,\n",
        "        'num_leaves': 127,\n",
        "        'max_depth': 8,\n",
        "        'seed': seed,\n",
        "        'bagging_freq': 1,\n",
        "        'n_jobs': 4,\n",
        "        'verbose': -1\n",
        "    }\n",
        "    categorical_feats = []\n",
        "    # Fit the model\n",
        "    clf = lgb.train(params=lgb_params, train_set=dtrain, num_boost_round=200, categorical_feature=categorical_feats)\n",
        "\n",
        "    # Get feature importances\n",
        "    imp_df = pd.DataFrame()\n",
        "    imp_df[\"feature\"] = np.arange(f_num)\n",
        "    imp_df[\"importance_gain\"] = clf.feature_importance(importance_type='gain')\n",
        "    imp_df[\"importance_split\"] = clf.feature_importance(importance_type='split')\n",
        "    imp_df['trn_score'] = roc_auc_score(y, clf.predict(X))\n",
        "\n",
        "    return imp_df\n",
        "\n",
        "  def __get_real_feature_importances(s, X, y):\n",
        "    real_imp_df = pd.DataFrame()\n",
        "    dsp = ''\n",
        "    for run in range(s.n_runs):\n",
        "      # skf = StratifiedKFold(n_splits=n_splits, random_state=None, shuffle=True)\n",
        "      # for i, (train_index, _) in enumerate(skf.split(X, y)):\n",
        "      #     imp_df = s.__get_feature_importances(X[train_index, :], y[train_index], shuffle=False)\n",
        "      #     imp_df['run'] = run * n_splits + i + 1\n",
        "      #     real_imp_df = pd.concat([real_imp_df, imp_df], axis=0)\n",
        "      X_train, y_train = resample(X, y)\n",
        "      imp_df = s.__get_feature_importances(X_train, y_train, shuffle=False)\n",
        "      imp_df['run'] = run + 1\n",
        "      real_imp_df = pd.concat([real_imp_df, imp_df], axis=0)\n",
        "    return real_imp_df\n",
        "\n",
        "  def __get_null_feature_importances(s, X, y):\n",
        "    null_imp_df = pd.DataFrame()\n",
        "    dsp = ''\n",
        "    for i in range(s.n_runs):\n",
        "        X_train, y_train = resample(X, y)\n",
        "        imp_df = s.__get_feature_importances(X_train, y_train, shuffle=True)\n",
        "        imp_df['run'] = i + 1\n",
        "        null_imp_df = pd.concat([null_imp_df, imp_df], axis=0)\n",
        "    return null_imp_df\n",
        "\n",
        "  def __create_mask(s):\n",
        "    n_feats = len(s.feat_scores)\n",
        "    n_feat_selected = n_feats if s.max_features is None else min(s.max_features, n_feats)\n",
        "    if s.threshold == 'median':\n",
        "      s.feat_mask = s.feat_scores >= np.median(s.feat_scores)\n",
        "    elif s.threshold == 'mean':\n",
        "      s.feat_mask = s.feat_scores >= np.mean(s.feat_scores)\n",
        "    else:\n",
        "      s.feat_mask = s.feat_scores >= s.threshold\n",
        "\n",
        "    s.feats_ind = np.arange(n_feats)[s.feat_mask][:n_feat_selected]\n",
        "\n",
        "  def __init__(self, typ = 'class', threshold=None, max_features=None, n_runs=300, n_bins=20, n_gauss_components=5, score_func=(lambda x: 0.5 * x) ):\n",
        "    self.typ = typ\n",
        "    self.threshold = threshold if threshold is not None else 'median'\n",
        "    self.max_features = max_features\n",
        "    self.n_runs = n_runs\n",
        "    self.n_bins = n_bins\n",
        "    self.n_gauss_components = n_gauss_components\n",
        "    self.score_func = score_func\n",
        "\n",
        "  def fit(self, X, y=None):\n",
        "    actual_imp_df = self.__get_real_feature_importances(X, y)\n",
        "    null_imp_df = self.__get_null_feature_importances(X, y)\n",
        "\n",
        "    self.feat_scores = []\n",
        "    for feat in range(X.shape[1]):\n",
        "      actual_feat_imp = actual_imp_df.loc[actual_imp_df['feature'] == feat]\n",
        "      null_feat_imp = null_imp_df.loc[null_imp_df['feature'] == feat]\n",
        "      actual_imp = actual_feat_imp['importance_gain']\n",
        "      null_imp = null_feat_imp['importance_gain']\n",
        "      #TODO choose bin strategy\n",
        "      # act_len = np.max(actual_imp) - np.min(actual_imp)\n",
        "      # null_len  = np.max(null_imp) - np.min(null_imp)\n",
        "      # total_len = max(np.max(null_imp), np.max(actual_imp)) - min(np.min(null_imp), np.min(actual_imp))\n",
        "      # bin_count = max(total_len // null_len * n_bins, total_len // act_len * n_bins)\n",
        "      substr_imp = np.sum(np.array(np.meshgrid(actual_imp, -null_imp)).T.reshape(-1,2), axis=1)\n",
        "      # print(actual_imp)\n",
        "      # print(null_imp)\n",
        "      # print(substr_imp)\n",
        "      # plt.hist(substr_imp, bins=20, label='diff', density=True)\n",
        "      # plt.hist(null_imp, bins=20, label='null', density=True)\n",
        "      # plt.hist(actual_imp, bins=20, label='actual', density=True)\n",
        "      # plt.legend(loc='upper right')\n",
        "      # plt.show()\n",
        "      gm_model = GaussianMixture(n_components=self.n_gauss_components)\n",
        "      gm_model.fit(substr_imp.reshape(-1, 1))\n",
        "      means_ = gm_model.means_\n",
        "      score_func_vf = np.vectorize(self.score_func)\n",
        "      feat_score = np.sum(score_func_vf(means_))\n",
        "      self.feat_scores.append(feat_score)\n",
        "    # print(self.feat_scores)\n",
        "    # print(np.array(self.feat_scores).argsort().argsort())\n",
        "    self.__create_mask()\n",
        "\n",
        "  def transform(self, X):\n",
        "    return X[:, self.feats_ind]\n",
        "  def get_support(self, indices=False):\n",
        "    return self.feats_ind if indices else self.feat_mask\n",
        "\n"
      ],
      "metadata": {
        "id": "VodK3ErpL6T9"
      },
      "execution_count": null,
      "outputs": []
    },
    {
      "cell_type": "code",
      "execution_count": null,
      "metadata": {
        "id": "FDZ-WHV_sZgp"
      },
      "outputs": [],
      "source": [
        "class FeatureSelectionTransformer(BaseEstimator, TransformerMixin):\n",
        "    def __init__(self, typ='skb_mutual_info_classif', k=50, task_type = 'class', n_estimators = 500):\n",
        "      if task_type == 'class':\n",
        "        if typ[0:3] == 'skb':\n",
        "            func = getattr(fs, typ[4:])\n",
        "            self.predictor = SelectKBest(score_func=mutual_info_classif, k=k)\n",
        "        elif typ == 'rtree':\n",
        "            self.predictor = SelectFromModel(ensemble.RandomForestClassifier(n_estimators = n_estimators), max_features=k)\n",
        "        elif typ == 'lsvm':\n",
        "            self.predictor = SelectFromModel(svm.LinearSVC(C=0.1, penalty=\"l1\", dual=False), max_features=k)\n",
        "        elif typ == 'null_importance':\n",
        "            self.predictor = SelectNullDistributionBaseline()\n",
        "        elif typ == 'null_importance_mod':\n",
        "            self.predictor = SelectNullDistribution()\n",
        "      elif task_type == 'reg':\n",
        "        if typ[0:2] == 'skb':\n",
        "            func = getattr(fs, typ[3:])\n",
        "            self.predictor = SelectKBest(score_func=mutual_info_classif, k=k)\n",
        "\n",
        "    def fit(self, X, y=None):\n",
        "        return self.predictor.fit(X, y)\n",
        "\n",
        "    def transform(self, X):\n",
        "        return self.predictor.transform(X)\n",
        "\n",
        "    def get_support(self, indices):\n",
        "        return self.predictor.get_support(indices=indices)\n"
      ]
    },
    {
      "cell_type": "markdown",
      "source": [
        "####Генерация признаков"
      ],
      "metadata": {
        "id": "1hWqk6TpQ_4e"
      }
    },
    {
      "cell_type": "code",
      "source": [
        "import networkx as nx\n",
        "\n",
        "ccc = np.array([\n",
        "    [1, 0],\n",
        "    [2, 0],\n",
        "    [1, 3]\n",
        "])\n",
        "\n",
        "corr = np.random.rand(10, 10)*1\n",
        "print(corr)\n",
        "cc = np.ones(10, dtype=bool)\n",
        "# corr[(corr - np.eye(10)) > 0.7] = 1\n",
        "# corr[(corr - np.eye(10)) <= 0.7] = 0\n",
        "G = nx.Graph()\n",
        "pairs_indxs_mat = np.array(list(combinations(range(corr.shape[1]), 2)))\n",
        "pairs_indxs_mat = np.array([[[i, j] for j in range(corr.shape[1])] for i in range(corr.shape[0])])\n",
        "print(pairs_indxs_mat)\n",
        "pairs_indxs_mat = pairs_indxs_mat[abs(corr) > 0.7]\n",
        "print(pairs_indxs_mat)\n",
        "pairs_indxs_mat = pairs_indxs_mat[pairs_indxs_mat[:, 0] > pairs_indxs_mat[:, 1]]\n",
        "# G = nx.from_numpy_array(corr)\n",
        "print(pairs_indxs_mat)\n",
        "G.add_edges_from(pairs_indxs_mat)\n",
        "print(\"Граф G:\")\n",
        "print(G.edges())\n",
        "components = nx.connected_components(G)\n",
        "selected_nodes = np.array([min(component) for component in components])\n",
        "print(selected_nodes)"
      ],
      "metadata": {
        "colab": {
          "base_uri": "https://localhost:8080/"
        },
        "id": "RD6A6-uyLCrB",
        "outputId": "c27cbfa3-2b43-4814-9ddc-3a17b8dcb8e6"
      },
      "execution_count": null,
      "outputs": [
        {
          "output_type": "stream",
          "name": "stdout",
          "text": [
            "[[0.49672449 0.10734732 0.79612461 0.30100695 0.72943342 0.80731707\n",
            "  0.14758712 0.90180102 0.44263404 0.33827975]\n",
            " [0.62318306 0.90063496 0.42230134 0.8850605  0.65986275 0.37227935\n",
            "  0.30492412 0.8323567  0.07042549 0.50032002]\n",
            " [0.35768779 0.80445048 0.06653349 0.34333044 0.55784344 0.74408727\n",
            "  0.63557933 0.31614826 0.56000139 0.03983452]\n",
            " [0.26536943 0.84962255 0.910101   0.40462762 0.91835448 0.50800407\n",
            "  0.85040089 0.81521562 0.77596582 0.32569623]\n",
            " [0.86097446 0.84599502 0.70527702 0.43999696 0.21107591 0.94853523\n",
            "  0.35459917 0.48044149 0.15924056 0.73582528]\n",
            " [0.76865014 0.05291791 0.75595137 0.27838414 0.62512667 0.80665514\n",
            "  0.46576927 0.1458699  0.54163727 0.3006136 ]\n",
            " [0.01191472 0.01623461 0.69000397 0.11808455 0.18791094 0.24817694\n",
            "  0.33681465 0.27817308 0.0588439  0.90256006]\n",
            " [0.49278641 0.48792604 0.81852128 0.21760171 0.27706006 0.10887234\n",
            "  0.8986938  0.16745948 0.11380702 0.13958612]\n",
            " [0.33488539 0.99777632 0.89683613 0.81070344 0.69404464 0.42839352\n",
            "  0.52425875 0.04050205 0.66092022 0.86214387]\n",
            " [0.63073653 0.33227403 0.3920165  0.10217318 0.37418347 0.54716724\n",
            "  0.838926   0.51836348 0.17386449 0.71090442]]\n",
            "[[[0 0]\n",
            "  [0 1]\n",
            "  [0 2]\n",
            "  [0 3]\n",
            "  [0 4]\n",
            "  [0 5]\n",
            "  [0 6]\n",
            "  [0 7]\n",
            "  [0 8]\n",
            "  [0 9]]\n",
            "\n",
            " [[1 0]\n",
            "  [1 1]\n",
            "  [1 2]\n",
            "  [1 3]\n",
            "  [1 4]\n",
            "  [1 5]\n",
            "  [1 6]\n",
            "  [1 7]\n",
            "  [1 8]\n",
            "  [1 9]]\n",
            "\n",
            " [[2 0]\n",
            "  [2 1]\n",
            "  [2 2]\n",
            "  [2 3]\n",
            "  [2 4]\n",
            "  [2 5]\n",
            "  [2 6]\n",
            "  [2 7]\n",
            "  [2 8]\n",
            "  [2 9]]\n",
            "\n",
            " [[3 0]\n",
            "  [3 1]\n",
            "  [3 2]\n",
            "  [3 3]\n",
            "  [3 4]\n",
            "  [3 5]\n",
            "  [3 6]\n",
            "  [3 7]\n",
            "  [3 8]\n",
            "  [3 9]]\n",
            "\n",
            " [[4 0]\n",
            "  [4 1]\n",
            "  [4 2]\n",
            "  [4 3]\n",
            "  [4 4]\n",
            "  [4 5]\n",
            "  [4 6]\n",
            "  [4 7]\n",
            "  [4 8]\n",
            "  [4 9]]\n",
            "\n",
            " [[5 0]\n",
            "  [5 1]\n",
            "  [5 2]\n",
            "  [5 3]\n",
            "  [5 4]\n",
            "  [5 5]\n",
            "  [5 6]\n",
            "  [5 7]\n",
            "  [5 8]\n",
            "  [5 9]]\n",
            "\n",
            " [[6 0]\n",
            "  [6 1]\n",
            "  [6 2]\n",
            "  [6 3]\n",
            "  [6 4]\n",
            "  [6 5]\n",
            "  [6 6]\n",
            "  [6 7]\n",
            "  [6 8]\n",
            "  [6 9]]\n",
            "\n",
            " [[7 0]\n",
            "  [7 1]\n",
            "  [7 2]\n",
            "  [7 3]\n",
            "  [7 4]\n",
            "  [7 5]\n",
            "  [7 6]\n",
            "  [7 7]\n",
            "  [7 8]\n",
            "  [7 9]]\n",
            "\n",
            " [[8 0]\n",
            "  [8 1]\n",
            "  [8 2]\n",
            "  [8 3]\n",
            "  [8 4]\n",
            "  [8 5]\n",
            "  [8 6]\n",
            "  [8 7]\n",
            "  [8 8]\n",
            "  [8 9]]\n",
            "\n",
            " [[9 0]\n",
            "  [9 1]\n",
            "  [9 2]\n",
            "  [9 3]\n",
            "  [9 4]\n",
            "  [9 5]\n",
            "  [9 6]\n",
            "  [9 7]\n",
            "  [9 8]\n",
            "  [9 9]]]\n",
            "[[0 2]\n",
            " [0 4]\n",
            " [0 5]\n",
            " [0 7]\n",
            " [1 1]\n",
            " [1 3]\n",
            " [1 7]\n",
            " [2 1]\n",
            " [2 5]\n",
            " [3 1]\n",
            " [3 2]\n",
            " [3 4]\n",
            " [3 6]\n",
            " [3 7]\n",
            " [3 8]\n",
            " [4 0]\n",
            " [4 1]\n",
            " [4 2]\n",
            " [4 5]\n",
            " [4 9]\n",
            " [5 0]\n",
            " [5 2]\n",
            " [5 5]\n",
            " [6 9]\n",
            " [7 2]\n",
            " [7 6]\n",
            " [8 1]\n",
            " [8 2]\n",
            " [8 3]\n",
            " [8 9]\n",
            " [9 6]\n",
            " [9 9]]\n",
            "[[2 1]\n",
            " [3 1]\n",
            " [3 2]\n",
            " [4 0]\n",
            " [4 1]\n",
            " [4 2]\n",
            " [5 0]\n",
            " [5 2]\n",
            " [7 2]\n",
            " [7 6]\n",
            " [8 1]\n",
            " [8 2]\n",
            " [8 3]\n",
            " [9 6]]\n",
            "Граф G:\n",
            "[(2, 1), (2, 3), (2, 4), (2, 5), (2, 7), (2, 8), (1, 3), (1, 4), (1, 8), (3, 8), (4, 0), (0, 5), (7, 6), (6, 9)]\n",
            "[0]\n"
          ]
        }
      ]
    },
    {
      "cell_type": "code",
      "source": [
        "from sklearn.base import BaseEstimator, TransformerMixin\n",
        "from sklearn.covariance import empirical_covariance\n",
        "from sklearn. preprocessing import normalize\n",
        "from sklearn.feature_selection import mutual_info_regression\n",
        "from sklearn.preprocessing import StandardScaler\n",
        "from tqdm.notebook import tqdm\n",
        "import pandas as pd\n",
        "from itertools import combinations\n",
        "import networkx as nx\n",
        "\n",
        "\n",
        "from sklearn.datasets import make_classification\n",
        "from sklearn.model_selection import train_test_split\n",
        "import time\n",
        "\n",
        "import numpy as np\n",
        "\n",
        "EPS = 1e-20\n",
        "EPS_LOG = 1e-3\n",
        "THRESHOLD = 0.2\n",
        "INF = 1e30\n",
        "\n",
        "class FeatureGenerationTransformer(BaseEstimator, TransformerMixin):\n",
        "    def __init__(self, thr=THRESHOLD, features_mask=None, important_features=None, stand_gen=True, corr_gen=True):\n",
        "        self.thr = thr\n",
        "        self._features_mask = features_mask\n",
        "        self._important_features = important_features\n",
        "        self._stand_gen = stand_gen\n",
        "        self._corr_gen = corr_gen\n",
        "        self.desc_dict = {}\n",
        "\n",
        "    #Construction of a matrix of correlation coefficients of features\n",
        "    def _correlation_create(self, X):\n",
        "        return np.corrcoef(X.T)\n",
        "\n",
        "    def fit(self, X, y=None):\n",
        "        if isinstance(X, pd.DataFrame):\n",
        "            X = np.array(X)\n",
        "\n",
        "        self._cnt_columns = X.shape[1]\n",
        "\n",
        "        if self._features_mask is None:\n",
        "            self._features_mask = np.arange(X.shape[1])\n",
        "        else:\n",
        "            self._features_mask = np.array(self._features_mask)\n",
        "\n",
        "        self._corr_mat = self._correlation_create(X[:, self._features_mask])\n",
        "        pairs_indxs_mat = np.array(list(combinations(range(self._corr_mat.shape[0]), 2)))\n",
        "        pairs_indxs_mat = np.array([[[i, j] for j in range(self._corr_mat.shape[1])] for i in range(self._corr_mat.shape[0])])\n",
        "        pairs_indxs_mat = pairs_indxs_mat[abs(self._corr_mat) > 0.6]\n",
        "        pairs_indxs_mat = pairs_indxs_mat[pairs_indxs_mat[:, 0] >= pairs_indxs_mat[:, 1]]\n",
        "        # print(self._corr_mat)\n",
        "\n",
        "        G = nx.Graph()\n",
        "        G.add_edges_from(pairs_indxs_mat)\n",
        "        components = nx.connected_components(G)\n",
        "        # print(\"Граф G:\")\n",
        "        # print(G.edges())\n",
        "        self.selected_cols = np.array([min(component) for component in components])\n",
        "        self._features_mask = self.selected_cols\n",
        "        # print(self._features_mask)\n",
        "        del G\n",
        "\n",
        "\n",
        "        if self._important_features is None:\n",
        "            self._important_features = self._features_mask\n",
        "        else:\n",
        "            self._important_features = np.array(self._important_features)\n",
        "\n",
        "        if self._important_features.size < 2:\n",
        "            self._corr_gen = False\n",
        "\n",
        "        # if self._corr_gen:\n",
        "        #     self._corr_mat = self._correlation_create(X[:, self._important_features])\n",
        "\n",
        "        # if self._corr_gen:\n",
        "        #     self._corr_mat = self._correlation_create(X[:, self._features_mask])\n",
        "\n",
        "\n",
        "        if self._stand_gen:\n",
        "            self._cnt_columns = self._standard_generation(X, self._cnt_columns)\n",
        "        if self._corr_gen:\n",
        "            self._cnt_columns = self._correlation_generation(X, self._cnt_columns)\n",
        "\n",
        "        return self\n",
        "\n",
        "    #Generating features using standard functions\n",
        "    def _standard_generation(self, X, cnt_columns=None):\n",
        "        features_mask = self._features_mask\n",
        "        important_features = self._important_features\n",
        "\n",
        "        if cnt_columns is None:\n",
        "            cnt_columns = X.shape[1]\n",
        "\n",
        "        if features_mask.size:\n",
        "            #exponent\n",
        "            self.desc_dict['s_exp'] = [features_mask, np.arange(cnt_columns, cnt_columns + features_mask.shape[0])]\n",
        "            cnt_columns += features_mask.shape[0]\n",
        "\n",
        "            #x^2\n",
        "            self.desc_dict['s_^2'] = [features_mask, np.arange(cnt_columns, cnt_columns + features_mask.shape[0])]\n",
        "            cnt_columns += features_mask.shape[0]\n",
        "\n",
        "            # #x^3\n",
        "            # self.desc_dict['s_^3'] = [features_mask, np.arange(cnt_columns, cnt_columns + features_mask.shape[0])]\n",
        "            # cnt_columns += features_mask.shape[0]\n",
        "\n",
        "            # #sin\n",
        "            # self.desc_dict['s_sin'] = [features_mask, np.arange(cnt_columns, cnt_columns + features_mask.shape[0])]\n",
        "            # cnt_columns += features_mask.shape[0]\n",
        "\n",
        "            # #cos\n",
        "            # self.desc_dict['s_cos'] = [features_mask, np.arange(cnt_columns, cnt_columns + features_mask.shape[0])]\n",
        "            # cnt_columns += features_mask.shape[0]\n",
        "\n",
        "            # #sinh\n",
        "            # self.desc_dict['s_sinh'] = [features_mask, np.arange(cnt_columns, cnt_columns + features_mask.shape[0])]\n",
        "            # cnt_columns += features_mask.shape[0]\n",
        "\n",
        "            # #cosh\n",
        "            # self.desc_dict['s_cosh'] = [features_mask, np.arange(cnt_columns, cnt_columns + features_mask.shape[0])]\n",
        "            # cnt_columns += features_mask.shape[0]\n",
        "\n",
        "\n",
        "        # if important_features.size:\n",
        "        #     #logarithm\n",
        "        #     self.desc_dict['s_log'] = [important_features, np.arange(cnt_columns, cnt_columns + important_features.shape[0])]\n",
        "        #     cnt_columns += important_features.shape[0]\n",
        "\n",
        "        #     #x^0.5\n",
        "        #     self.desc_dict['s_^0.5'] = [important_features, np.arange(cnt_columns, cnt_columns + important_features.shape[0])]\n",
        "        #     cnt_columns += important_features.shape[0]\n",
        "\n",
        "        return cnt_columns\n",
        "\n",
        "    #Generating features from two that have a correlation coefficient less than the threshold\n",
        "    def _correlation_generation(self, X, cnt_columns=None):\n",
        "        if cnt_columns is None:\n",
        "            cnt_columns = X.shape[1]\n",
        "\n",
        "        important_features = self._important_features\n",
        "\n",
        "\n",
        "        pairs_indxs_mat = np.array([[[i, j] for j in range(self._important_features.shape[0])] for i in range(self._important_features.shape[0])])\n",
        "        pairs_indxs_mat = pairs_indxs_mat.reshape(-1, 2)\n",
        "        pairs_indxs_mat = pairs_indxs_mat[pairs_indxs_mat[:, 0] > pairs_indxs_mat[:, 1]]\n",
        "\n",
        "        #x1 * x2\n",
        "        self.desc_dict['p_*'] = [important_features[pairs_indxs_mat], np.arange(cnt_columns, cnt_columns + pairs_indxs_mat.shape[0])]\n",
        "        cnt_columns += pairs_indxs_mat.shape[0]\n",
        "\n",
        "        #x1 / x2, x2 / x1\n",
        "        self.desc_dict['p_/'] = [np.hstack([important_features[pairs_indxs_mat], important_features[pairs_indxs_mat][:,::-1]]).reshape(-1, 2),\n",
        "                               np.arange(cnt_columns, cnt_columns + 2 * pairs_indxs_mat.shape[0])]\n",
        "        cnt_columns += 2 * pairs_indxs_mat.shape[0]\n",
        "\n",
        "        # if pairs_indxs_mat.size:\n",
        "        #     #x1 + x2\n",
        "        #     self.desc_dict['p_+'] = [important_features[pairs_indxs_mat], np.arange(cnt_columns, cnt_columns + pairs_indxs_mat.shape[0])]\n",
        "        #     cnt_columns += pairs_indxs_mat.shape[0]\n",
        "\n",
        "        #     #x1 - x2, x2 - x1\n",
        "        #     self.desc_dict['p_-'] = [np.hstack([important_features[pairs_indxs_mat], important_features[pairs_indxs_mat][:,::-1]]).reshape(-1, 2),\n",
        "        #                            np.arange(cnt_columns, cnt_columns + 2 * pairs_indxs_mat.shape[0])]\n",
        "        #     cnt_columns += 2 * pairs_indxs_mat.shape[0]\n",
        "\n",
        "        return cnt_columns\n",
        "\n",
        "    def transform(self, X):\n",
        "        if isinstance(X, pd.DataFrame):\n",
        "            X = np.array(X)\n",
        "\n",
        "        cnt_columns = 0\n",
        "        for k, v in self.desc_dict.items():\n",
        "            if k != '_':\n",
        "                cnt_columns += self.desc_dict[k][1].shape[0]\n",
        "\n",
        "        X = np.hstack([X, np.zeros((X.shape[0], cnt_columns))])\n",
        "\n",
        "        #exponent\n",
        "        if 's_exp' in self.desc_dict.keys():\n",
        "            X[:, self.desc_dict['s_exp'][1]] =  np.exp(np.clip(X[:,self.desc_dict['s_exp'][0]], -750, 700))\n",
        "\n",
        "        #x^2\n",
        "        if 's_^2' in self.desc_dict.keys():\n",
        "            X[:, self.desc_dict['s_^2'][1]] =  np.power(X[:,self.desc_dict['s_^2'][0]], 2)\n",
        "\n",
        "        #x^3\n",
        "        if 's_^3' in self.desc_dict.keys():\n",
        "            X[:, self.desc_dict['s_^3'][1]] =  np.power(X[:,self.desc_dict['s_^3'][0]], 3)\n",
        "\n",
        "        #sin\n",
        "        if 's_sin' in self.desc_dict.keys():\n",
        "            X[:, self.desc_dict['s_sin'][1]] =  np.sin(X[:,self.desc_dict['s_sin'][0]])\n",
        "\n",
        "        #cos\n",
        "        if 's_cos' in self.desc_dict.keys():\n",
        "            X[:, self.desc_dict['s_cos'][1]] =  np.cos(X[:,self.desc_dict['s_cos'][0]])\n",
        "\n",
        "        #sinh\n",
        "        if 's_sinh' in self.desc_dict.keys():\n",
        "            X[:, self.desc_dict['s_sinh'][1]] =  np.sinh(X[:,self.desc_dict['s_sinh'][0]])\n",
        "\n",
        "        #cosh\n",
        "        if 's_cosh' in self.desc_dict.keys():\n",
        "            X[:, self.desc_dict['s_cosh'][1]] =  np.cosh(X[:,self.desc_dict['s_cosh'][0]])\n",
        "\n",
        "        #logarithm\n",
        "        if 's_log' in self.desc_dict.keys():\n",
        "            X[:, self.desc_dict['s_log'][1]] =  np.where(X[:, self.desc_dict['s_log'][0]] <= -1, np.log(EPS_LOG),\n",
        "                                                         np.log(X[:,self.desc_dict['s_log'][0]] + 1, where=X[:,self.desc_dict['s_log'][0]] > -1))\n",
        "\n",
        "        #x^0.5\n",
        "        if 's_^0.5' in self.desc_dict.keys():\n",
        "            X[:, self.desc_dict['s_^0.5'][1]] = np.where(X[:,self.desc_dict['s_^0.5'][0]] < 0, -np.power(-X[:,self.desc_dict['s_^0.5'][0]], 0.5,\n",
        "                                                          where=X[:,self.desc_dict['s_^0.5'][0]] < 0), np.power(X[:,self.desc_dict['s_^0.5'][0]], 0.5,\n",
        "                                                          where=X[:,self.desc_dict['s_^0.5'][0]] >= 0))\n",
        "        #x1 * x2\n",
        "        if 'p_*' in self.desc_dict.keys():\n",
        "            X[:, self.desc_dict['p_*'][1]] = np.prod(X.T[self.desc_dict['p_*'][0]], axis=1).T\n",
        "\n",
        "        #x1 / x2, x2 / x1\n",
        "        if 'p_/' in self.desc_dict.keys():\n",
        "            X[:, self.desc_dict['p_/'][1]] = X.T[self.desc_dict['p_/'][0][:, 0]].T / (X.T[self.desc_dict['p_/'][0][:, 1]].T + EPS)\n",
        "\n",
        "        #x1 + x2\n",
        "        if 'p_+' in self.desc_dict.keys():\n",
        "            X[:, self.desc_dict['p_+'][1]] = np.sum(X.T[self.desc_dict['p_+'][0]], axis=1).T\n",
        "\n",
        "        #x1 - x2, x2 - x1\n",
        "        if 'p_-' in self.desc_dict.keys():\n",
        "            X[:, self.desc_dict['p_-'][1]] = X.T[self.desc_dict['p_-'][0][:, 0]].T - X.T[self.desc_dict['p_-'][0][:, 1]].T\n",
        "\n",
        "        X = np.clip(X, -INF, INF)\n",
        "\n",
        "        return X"
      ],
      "metadata": {
        "id": "QeYQ-_DNREhx"
      },
      "execution_count": null,
      "outputs": []
    },
    {
      "cell_type": "markdown",
      "source": [
        "####Алгоритм отбора признаков с генерацией"
      ],
      "metadata": {
        "id": "qGbWhOMIKzQ2"
      }
    },
    {
      "cell_type": "code",
      "source": [
        "def merge_desc_dict(dict1, dict2, bias=0):\n",
        "  rdict = {}\n",
        "  pointer = bias\n",
        "  for op in dict1.keys():\n",
        "    val = np.unique(np.concatenate((dict1[op][0],dict2[op][0]), axis=0), axis=0)\n",
        "    rdict[op] = [val, np.arange(pointer, pointer+val.shape[0])]\n",
        "    if op != \"_\":\n",
        "      pointer += val.shape[0]\n",
        "  return rdict"
      ],
      "metadata": {
        "id": "jQcLzl0WJ8W5"
      },
      "execution_count": null,
      "outputs": []
    },
    {
      "cell_type": "code",
      "source": [
        "class FeatProcessing(BaseEstimator, TransformerMixin):\n",
        "    def __init__(self, task_type, n_fold_splits, gen_kwargs={}, sel_for_gen_kwargs={}, sel_from_gen_kwargs={}, for_k_limit=50):\n",
        "      self.n_fold_splits = n_fold_splits\n",
        "      self.gen_kwargs = gen_kwargs\n",
        "      self.sel_for_gen_kwargs = sel_for_gen_kwargs\n",
        "      self.sel_from_gen_kwargs = sel_from_gen_kwargs\n",
        "      self.for_k_limit = for_k_limit\n",
        "\n",
        "      self.desc_dict = {}\n",
        "    def fit(self, X, y=None):\n",
        "      print(X.shape)\n",
        "\n",
        "\n",
        "      if 'k' not in self.sel_for_gen_kwargs.keys():\n",
        "        for_k = min(X.shape[1], self.for_k_limit)\n",
        "        self.sel_for_gen_kwargs['k'] = for_k\n",
        "      else:\n",
        "        for_k = self.sel_for_gen_kwargs['k']\n",
        "\n",
        "      if 'k' not in self.sel_from_gen_kwargs.keys():\n",
        "        from_k = X.shape[1]\n",
        "        self.sel_from_gen_kwargs['k'] = from_k\n",
        "        # self.sel_from_gen_kwargs['thr'] = -np.inf\n",
        "      else:\n",
        "        from_k = self.sel_from_gen_kwargs['k']\n",
        "\n",
        "\n",
        "      kf = KFold(n_splits=self.n_fold_splits)\n",
        "\n",
        "      for i, (train_index, val_index) in enumerate(kf.split(X)):\n",
        "\n",
        "        X_train, X_val, y_train, y_val = X[train_index, :], X[val_index, :], y[train_index], y[val_index]\n",
        "        obj_count, f_dim = X_train.shape[0], X_train.shape[1]\n",
        "        #1 SEL\n",
        "        self.sel_for_gen = FeatureSelectionTransformer(**self.sel_for_gen_kwargs)\n",
        "        self.sel_for_gen.fit(X_train, y_train)\n",
        "        important_features = self.sel_for_gen.get_support(indices=True)[:for_k]\n",
        "\n",
        "        #Константа просчитывается с учетом того, что под вычисления отводится 8 гб ОЗУ\n",
        "        for_k_limit_important = int(((1073741824 / (X.shape[0] / 0.8) / 3 - X.shape[1] * 10) / 3) ** 0.5)\n",
        "        #GEN\n",
        "        self.gen = FeatureGenerationTransformer(features_mask=important_features, important_features=important_features[:abs(min(for_k, for_k_limit_important))], **self.gen_kwargs)\n",
        "        self.gen.fit(X_train, y_train)\n",
        "        # print('X_val', X_val.shape)\n",
        "        X_gen = self.gen.transform(X_val)\n",
        "        # print('X_gen', X_gen.shape)\n",
        "\n",
        "        pipe_sc = pipeline.Pipeline([('std_scaler',preprocessing.StandardScaler())])\n",
        "        X_gen[:, X_val.shape[1]:] = pipe_sc.fit_transform(X_gen[:,  X_val.shape[1]:])\n",
        "        #2 SEL\n",
        "        # print(X_gen.shape)\n",
        "        # X_gen = np.delete(X_gen, np.setdiff1d(np.arange(X_train.shape[1]), self.gen.selected_cols), axis=1)\n",
        "        # print(X_gen.shape)\n",
        "        # print('nexxxxxxxt')\n",
        "        self.sel_from_gen = FeatureSelectionTransformer(**self.sel_from_gen_kwargs)\n",
        "        self.sel_from_gen.fit(X_gen, y_val)\n",
        "        #Prepare indicies\n",
        "        fos = important_features # индексы в исходном векторе,\n",
        "        # выбранных признаков\n",
        "        frs = self.sel_from_gen.get_support(indices=True)[:from_k] # индексы в сгенерированном векторе,\n",
        "        # выбранных признаков\n",
        "\n",
        "\n",
        "        desc =  self.gen.desc_dict\n",
        "        # print(desc)\n",
        "        desc['_'] = [np.arange(0, f_dim), np.arange(0, f_dim)]\n",
        "        sort_desc = {}\n",
        "        map = np.zeros(X_gen.shape[0])\n",
        "\n",
        "        #for keys\n",
        "        for op in desc.keys():\n",
        "           #Начинается с 0\n",
        "          # print(frs, fos, desc[op][0])\n",
        "          mask = np.in1d(desc[op][1], frs) #remove generating which are not selected\n",
        "          sort_desc[op] = [desc[op][0][mask], desc[op][1][mask]]\n",
        "          # print(sort_desc[op])\n",
        "\n",
        "          # if op != '_':\n",
        "          #   sort_desc[op][0] = fos[sort_desc[op][0]]\n",
        "        if len(self.desc_dict.keys()) == 0:\n",
        "          self.desc_dict = sort_desc\n",
        "        else:\n",
        "          self.desc_dict = merge_desc_dict(self.desc_dict, sort_desc, bias=f_dim) # union algorythms\n",
        "        # print(self.desc_dict)\n",
        "\n",
        "      self.gen.desc_dict = self.desc_dict #!!!!!\n",
        "\n",
        "    def transform(self, X):\n",
        "\n",
        "      X_res = self.gen.transform(X)\n",
        "\n",
        "      # for i in list(set(range(X.shape[1])) - set(self.desc_dict['_'][0])):\n",
        "\n",
        "      #   X_res = np.delete(X_res, i, 1)\n",
        "      return X_res\n",
        "\n"
      ],
      "metadata": {
        "id": "b-wTUzlqJkph"
      },
      "execution_count": null,
      "outputs": []
    },
    {
      "cell_type": "code",
      "source": [
        "class ValidTransformer(BaseEstimator, TransformerMixin):\n",
        "    def __init__(self, task_type, **kwargs):\n",
        "      self.task_type = task_type\n",
        "      self.kwargs = kwargs\n",
        "      if 'work_time' in kwargs.keys():\n",
        "        self.work_time = kwargs['work_time']\n",
        "      else:\n",
        "        self.work_time = 1\n",
        "      if 'val_size' in kwargs.keys():\n",
        "        self.val_size = kwargs['val_size']\n",
        "      else:\n",
        "        self.val_size = 0.2\n",
        "      if 'random_state' in kwargs.keys():\n",
        "        self.random_state = kwargs['random_state']\n",
        "      else:\n",
        "        self.random_state = 42\n",
        "    def fit(self, X, y=None):\n",
        "      obj_count, f_dim = X.shape[0], X.shape[1]\n",
        "\n",
        "      if 'encoder' in self.kwargs.keys():\n",
        "        self.encoder = CategoricalEncoder(**self.kwargs['encoder'])\n",
        "      else:\n",
        "        self.encoder = CategoricalEncoder()\n",
        "      self.encoder = preprocessing.StandardScaler() # TODO add normalization after generation\n",
        "      if 'processor' in self.kwargs.keys():\n",
        "        self.trans = FeatProcessing(**self.kwargs['processor'])\n",
        "      else:\n",
        "        self.trans = FeatProcessing(self.task_type, 2)\n",
        "      # self.encoder.fit(X, y)\n",
        "      self.trans.fit(X, y)\n",
        "\n",
        "    def transform(self, X, y=None):\n",
        "      # Perform arbitary transformation\n",
        "      X = self.encoder.transform(X)\n",
        "      return self.trans.transform(X)"
      ],
      "metadata": {
        "id": "olXaxHhbJhas"
      },
      "execution_count": null,
      "outputs": []
    },
    {
      "cell_type": "markdown",
      "source": [
        "####Тестирование"
      ],
      "metadata": {
        "id": "6TRcYsrDK7Pf"
      }
    },
    {
      "cell_type": "markdown",
      "source": [
        "#####Попытка с AutoML Banchmark"
      ],
      "metadata": {
        "id": "2WydREVsLvK6"
      }
    },
    {
      "cell_type": "code",
      "source": [
        "!git clone https://github.com/openml/automlbenchmark.git --branch stable --depth 1\n",
        "!cd automlbenchmark"
      ],
      "metadata": {
        "colab": {
          "base_uri": "https://localhost:8080/"
        },
        "id": "2A4Dy7Slf3iZ",
        "outputId": "c51c06c0-58d8-4973-cffb-dd81ff3eb859"
      },
      "execution_count": null,
      "outputs": [
        {
          "output_type": "stream",
          "name": "stdout",
          "text": [
            "Cloning into 'automlbenchmark'...\n",
            "remote: Enumerating objects: 496, done.\u001b[K\n",
            "remote: Counting objects: 100% (496/496), done.\u001b[K\n",
            "remote: Compressing objects: 100% (424/424), done.\u001b[K\n",
            "remote: Total 496 (delta 82), reused 368 (delta 52), pack-reused 0\u001b[K\n",
            "Receiving objects: 100% (496/496), 6.48 MiB | 16.83 MiB/s, done.\n",
            "Resolving deltas: 100% (82/82), done.\n",
            "Note: switching to '73823c55d8674761aab25520a75cbeea065ca124'.\n",
            "\n",
            "You are in 'detached HEAD' state. You can look around, make experimental\n",
            "changes and commit them, and you can discard any commits you make in this\n",
            "state without impacting any branches by switching back to a branch.\n",
            "\n",
            "If you want to create a new branch to retain commits you create, you may\n",
            "do so (now or later) by using -c with the switch command. Example:\n",
            "\n",
            "  git switch -c <new-branch-name>\n",
            "\n",
            "Or undo this operation with:\n",
            "\n",
            "  git switch -\n",
            "\n",
            "Turn off this advice by setting config variable advice.detachedHead to false\n",
            "\n"
          ]
        }
      ]
    },
    {
      "cell_type": "code",
      "source": [
        "!ls"
      ],
      "metadata": {
        "colab": {
          "base_uri": "https://localhost:8080/"
        },
        "id": "izGBoXt3gJlQ",
        "outputId": "298754b9-fd02-4ebb-beb0-933a34cb6c89"
      },
      "execution_count": null,
      "outputs": [
        {
          "output_type": "stream",
          "name": "stdout",
          "text": [
            "automlbenchmark  sample_data\n"
          ]
        }
      ]
    },
    {
      "cell_type": "code",
      "source": [
        "!python -m pip install --upgrade pip\n",
        "!python -m pip install -r automlbenchmark/requirements.txt"
      ],
      "metadata": {
        "id": "aDQomVcrgA8b"
      },
      "execution_count": null,
      "outputs": []
    },
    {
      "cell_type": "code",
      "source": [
        "!python automlbenchmark/runbenchmark.py benchmark"
      ],
      "metadata": {
        "colab": {
          "base_uri": "https://localhost:8080/"
        },
        "id": "J0z4GiC8g_lw",
        "outputId": "477b1c6f-b79c-45b3-8885-688cc7a44497"
      },
      "execution_count": null,
      "outputs": [
        {
          "output_type": "stream",
          "name": "stdout",
          "text": [
            "/usr/local/lib/python3.10/dist-packages/_distutils_hack/__init__.py:33: UserWarning: Setuptools is replacing distutils.\n",
            "  warnings.warn(\"Setuptools is replacing distutils.\")\n",
            "Running benchmark `benchmark` on `test` framework in `local` mode.\n",
            "Loading frameworks definitions from ['/content/automlbenchmark/resources/frameworks.yaml'].\n",
            "\n",
            "ERROR:\n",
            "Incorrect framework `benchmark`: not listed in ['/content/automlbenchmark/resources/frameworks.yaml'].\n"
          ]
        }
      ]
    },
    {
      "cell_type": "markdown",
      "source": [
        "#####Тестирование с OpenML"
      ],
      "metadata": {
        "id": "YHP055wEL1VK"
      }
    },
    {
      "cell_type": "code",
      "source": [
        "def calc_accuracy(X, y, X_t, y_t):\n",
        "  models = [('linear_svm', svm.LinearSVC(max_iter=2000, random_state=42), 'decision_function'),\n",
        "            ('logistic', linear_model.LogisticRegression(solver = 'lbfgs', random_state=42, max_iter=1000, penalty='l2', C=1), 'predict_proba'),\n",
        "            ('linear_discriminant_analysis', LinearDiscriminantAnalysis(), 'predict_proba'),\n",
        "            ('gradboost', ensemble.GradientBoostingClassifier(random_state=42, n_estimators=10), 'predict_proba'),\n",
        "            ('randomforest', ensemble.RandomForestClassifier(random_state=42), 'predict_proba')]\n",
        "  ans = {}\n",
        "  for name, model, loss_func in models:\n",
        "      model.fit(X, y)\n",
        "      ans[name] = model.score(X_t, y_t)\n",
        "  return ans"
      ],
      "metadata": {
        "id": "ZbMvM4qmmKoa"
      },
      "execution_count": null,
      "outputs": []
    },
    {
      "cell_type": "code",
      "source": [
        "import openml\n",
        "\n",
        "suite_id = 218\n",
        "benchmark_suite = openml.study.get_suite(suite_id)\n",
        "\n",
        "tasks_list = benchmark_suite.tasks\n",
        "task = openml.tasks.get_task(tasks_list[6]) #indexes 0 - 38\n",
        "\n",
        "dataset = task.get_dataset()\n",
        "print(dataset.description)"
      ],
      "metadata": {
        "id": "nuKyzUcZpxG3"
      },
      "execution_count": null,
      "outputs": []
    },
    {
      "cell_type": "code",
      "source": [
        "X, y, _, _ = dataset.get_data(target=dataset.default_target_attribute)\n",
        "X.info()"
      ],
      "metadata": {
        "id": "QiXFxZet7ra1"
      },
      "execution_count": null,
      "outputs": []
    },
    {
      "cell_type": "code",
      "source": [
        "X.isnull().sum().sum()"
      ],
      "metadata": {
        "colab": {
          "base_uri": "https://localhost:8080/"
        },
        "id": "iL4XChK7cj1B",
        "outputId": "1d6062f3-b1f8-4dbc-a857-9b0fcbd64b49"
      },
      "execution_count": null,
      "outputs": [
        {
          "output_type": "execute_result",
          "data": {
            "text/plain": [
              "6465"
            ]
          },
          "metadata": {},
          "execution_count": 8
        }
      ]
    },
    {
      "cell_type": "code",
      "source": [
        "for col_ind in X.dtypes[X.dtypes == 'category'].index:\n",
        "    X[col_ind] = X[col_ind].cat.add_categories([0.000001])"
      ],
      "metadata": {
        "id": "zZEp6RLlXipr"
      },
      "execution_count": null,
      "outputs": []
    },
    {
      "cell_type": "code",
      "source": [
        "X.fillna(0.000001, inplace=True)"
      ],
      "metadata": {
        "id": "Lu2L5C75Y8jN"
      },
      "execution_count": null,
      "outputs": []
    },
    {
      "cell_type": "code",
      "source": [
        "X.isnull().sum().sum()"
      ],
      "metadata": {
        "colab": {
          "base_uri": "https://localhost:8080/"
        },
        "id": "eKeuG53RZQLe",
        "outputId": "87e21cf0-b44b-4bc2-c7ab-230a30f76833"
      },
      "execution_count": null,
      "outputs": [
        {
          "output_type": "execute_result",
          "data": {
            "text/plain": [
              "0"
            ]
          },
          "metadata": {},
          "execution_count": 11
        }
      ]
    },
    {
      "cell_type": "code",
      "source": [
        "# Получение меток классов и их строковое представление\n",
        "class_labels = set(y)\n",
        "# Создание словаря для преобразования строковых меток в числовые индексы\n",
        "class_labels_map = {label: i for i, label in enumerate(class_labels)}\n",
        "y_numeric = [class_labels_map[label] for label in y]\n",
        "\n",
        "X_train, X_test, y_train, y_test = train_test_split(X, np.array(y_numeric), test_size=0.2, random_state=42)"
      ],
      "metadata": {
        "id": "7KGj2Sfzl-ax"
      },
      "execution_count": null,
      "outputs": []
    },
    {
      "cell_type": "code",
      "source": [
        "enc = CategoricalEncoder(encoder='binary', category_rate=0.9)\n",
        "X_train = enc.fit_transform(X_train)\n",
        "X_test = enc.transform(X_test)"
      ],
      "metadata": {
        "id": "EIDIo8mEyA7c"
      },
      "execution_count": null,
      "outputs": []
    },
    {
      "cell_type": "code",
      "source": [
        "enc = NumericalEncoder(numeric_rate=0.9)\n",
        "enc.fit_transform(X_train)"
      ],
      "metadata": {
        "colab": {
          "base_uri": "https://localhost:8080/",
          "height": 461
        },
        "id": "JN2LeYr0_c0m",
        "outputId": "6551e84d-f324-4082-ba5a-6fadb0fa90d0"
      },
      "execution_count": null,
      "outputs": [
        {
          "output_type": "execute_result",
          "data": {
            "text/plain": [
              "       binary_age_0  binary_age_1  binary_age_2  binary_age_3  binary_age_4  \\\n",
              "0                 0             0             0             0             0   \n",
              "1                 0             0             0             0             0   \n",
              "2                 0             0             0             0             0   \n",
              "3                 0             0             0             0             1   \n",
              "4                 0             0             0             0             1   \n",
              "...             ...           ...           ...           ...           ...   \n",
              "39068             0             1             0             0             0   \n",
              "39069             0             0             0             0             0   \n",
              "39070             0             0             0             0             1   \n",
              "39071             0             0             0             0             1   \n",
              "39072             0             1             1             0             1   \n",
              "\n",
              "       binary_age_5  binary_age_6  binary_workclass_0  binary_workclass_1  \\\n",
              "0                 0             1                   0                   0   \n",
              "1                 1             0                   0                   0   \n",
              "2                 1             1                   0                   1   \n",
              "3                 0             0                   0                   0   \n",
              "4                 0             1                   0                   0   \n",
              "...             ...           ...                 ...                 ...   \n",
              "39068             0             1                   0                   0   \n",
              "39069             1             1                   0                   0   \n",
              "39070             0             0                   0                   0   \n",
              "39071             0             1                   0                   1   \n",
              "39072             1             1                   0                   0   \n",
              "\n",
              "       binary_workclass_2  ...  binary_hours-per-week_3  \\\n",
              "0                       0  ...                        0   \n",
              "1                       1  ...                        0   \n",
              "2                       0  ...                        0   \n",
              "3                       0  ...                        0   \n",
              "4                       0  ...                        0   \n",
              "...                   ...  ...                      ...   \n",
              "39068                   0  ...                        0   \n",
              "39069                   0  ...                        0   \n",
              "39070                   0  ...                        0   \n",
              "39071                   1  ...                        0   \n",
              "39072                   0  ...                        0   \n",
              "\n",
              "       binary_hours-per-week_4  binary_hours-per-week_5  \\\n",
              "0                            0                        0   \n",
              "1                            0                        1   \n",
              "2                            0                        0   \n",
              "3                            0                        0   \n",
              "4                            0                        1   \n",
              "...                        ...                      ...   \n",
              "39068                        0                        0   \n",
              "39069                        0                        1   \n",
              "39070                        0                        0   \n",
              "39071                        0                        0   \n",
              "39072                        0                        1   \n",
              "\n",
              "       binary_hours-per-week_6  binary_native-country_0  \\\n",
              "0                            1                        0   \n",
              "1                            0                        0   \n",
              "2                            1                        0   \n",
              "3                            1                        0   \n",
              "4                            1                        0   \n",
              "...                        ...                      ...   \n",
              "39068                        1                        0   \n",
              "39069                        1                        0   \n",
              "39070                        1                        0   \n",
              "39071                        1                        0   \n",
              "39072                        0                        0   \n",
              "\n",
              "       binary_native-country_1  binary_native-country_2  \\\n",
              "0                            0                        0   \n",
              "1                            0                        0   \n",
              "2                            0                        0   \n",
              "3                            0                        0   \n",
              "4                            0                        0   \n",
              "...                        ...                      ...   \n",
              "39068                        0                        0   \n",
              "39069                        0                        0   \n",
              "39070                        0                        0   \n",
              "39071                        0                        0   \n",
              "39072                        0                        0   \n",
              "\n",
              "       binary_native-country_3  binary_native-country_4  \\\n",
              "0                            0                        0   \n",
              "1                            0                        0   \n",
              "2                            0                        0   \n",
              "3                            0                        0   \n",
              "4                            0                        0   \n",
              "...                        ...                      ...   \n",
              "39068                        0                        0   \n",
              "39069                        0                        0   \n",
              "39070                        0                        0   \n",
              "39071                        0                        0   \n",
              "39072                        0                        0   \n",
              "\n",
              "       binary_native-country_5  \n",
              "0                            1  \n",
              "1                            1  \n",
              "2                            1  \n",
              "3                            1  \n",
              "4                            1  \n",
              "...                        ...  \n",
              "39068                        1  \n",
              "39069                        1  \n",
              "39070                        1  \n",
              "39071                        1  \n",
              "39072                        1  \n",
              "\n",
              "[39073 rows x 52 columns]"
            ],
            "text/html": [
              "\n",
              "  <div id=\"df-e6b38730-63bb-408c-be46-aae456835275\" class=\"colab-df-container\">\n",
              "    <div>\n",
              "<style scoped>\n",
              "    .dataframe tbody tr th:only-of-type {\n",
              "        vertical-align: middle;\n",
              "    }\n",
              "\n",
              "    .dataframe tbody tr th {\n",
              "        vertical-align: top;\n",
              "    }\n",
              "\n",
              "    .dataframe thead th {\n",
              "        text-align: right;\n",
              "    }\n",
              "</style>\n",
              "<table border=\"1\" class=\"dataframe\">\n",
              "  <thead>\n",
              "    <tr style=\"text-align: right;\">\n",
              "      <th></th>\n",
              "      <th>binary_age_0</th>\n",
              "      <th>binary_age_1</th>\n",
              "      <th>binary_age_2</th>\n",
              "      <th>binary_age_3</th>\n",
              "      <th>binary_age_4</th>\n",
              "      <th>binary_age_5</th>\n",
              "      <th>binary_age_6</th>\n",
              "      <th>binary_workclass_0</th>\n",
              "      <th>binary_workclass_1</th>\n",
              "      <th>binary_workclass_2</th>\n",
              "      <th>...</th>\n",
              "      <th>binary_hours-per-week_3</th>\n",
              "      <th>binary_hours-per-week_4</th>\n",
              "      <th>binary_hours-per-week_5</th>\n",
              "      <th>binary_hours-per-week_6</th>\n",
              "      <th>binary_native-country_0</th>\n",
              "      <th>binary_native-country_1</th>\n",
              "      <th>binary_native-country_2</th>\n",
              "      <th>binary_native-country_3</th>\n",
              "      <th>binary_native-country_4</th>\n",
              "      <th>binary_native-country_5</th>\n",
              "    </tr>\n",
              "  </thead>\n",
              "  <tbody>\n",
              "    <tr>\n",
              "      <th>0</th>\n",
              "      <td>0</td>\n",
              "      <td>0</td>\n",
              "      <td>0</td>\n",
              "      <td>0</td>\n",
              "      <td>0</td>\n",
              "      <td>0</td>\n",
              "      <td>1</td>\n",
              "      <td>0</td>\n",
              "      <td>0</td>\n",
              "      <td>0</td>\n",
              "      <td>...</td>\n",
              "      <td>0</td>\n",
              "      <td>0</td>\n",
              "      <td>0</td>\n",
              "      <td>1</td>\n",
              "      <td>0</td>\n",
              "      <td>0</td>\n",
              "      <td>0</td>\n",
              "      <td>0</td>\n",
              "      <td>0</td>\n",
              "      <td>1</td>\n",
              "    </tr>\n",
              "    <tr>\n",
              "      <th>1</th>\n",
              "      <td>0</td>\n",
              "      <td>0</td>\n",
              "      <td>0</td>\n",
              "      <td>0</td>\n",
              "      <td>0</td>\n",
              "      <td>1</td>\n",
              "      <td>0</td>\n",
              "      <td>0</td>\n",
              "      <td>0</td>\n",
              "      <td>1</td>\n",
              "      <td>...</td>\n",
              "      <td>0</td>\n",
              "      <td>0</td>\n",
              "      <td>1</td>\n",
              "      <td>0</td>\n",
              "      <td>0</td>\n",
              "      <td>0</td>\n",
              "      <td>0</td>\n",
              "      <td>0</td>\n",
              "      <td>0</td>\n",
              "      <td>1</td>\n",
              "    </tr>\n",
              "    <tr>\n",
              "      <th>2</th>\n",
              "      <td>0</td>\n",
              "      <td>0</td>\n",
              "      <td>0</td>\n",
              "      <td>0</td>\n",
              "      <td>0</td>\n",
              "      <td>1</td>\n",
              "      <td>1</td>\n",
              "      <td>0</td>\n",
              "      <td>1</td>\n",
              "      <td>0</td>\n",
              "      <td>...</td>\n",
              "      <td>0</td>\n",
              "      <td>0</td>\n",
              "      <td>0</td>\n",
              "      <td>1</td>\n",
              "      <td>0</td>\n",
              "      <td>0</td>\n",
              "      <td>0</td>\n",
              "      <td>0</td>\n",
              "      <td>0</td>\n",
              "      <td>1</td>\n",
              "    </tr>\n",
              "    <tr>\n",
              "      <th>3</th>\n",
              "      <td>0</td>\n",
              "      <td>0</td>\n",
              "      <td>0</td>\n",
              "      <td>0</td>\n",
              "      <td>1</td>\n",
              "      <td>0</td>\n",
              "      <td>0</td>\n",
              "      <td>0</td>\n",
              "      <td>0</td>\n",
              "      <td>0</td>\n",
              "      <td>...</td>\n",
              "      <td>0</td>\n",
              "      <td>0</td>\n",
              "      <td>0</td>\n",
              "      <td>1</td>\n",
              "      <td>0</td>\n",
              "      <td>0</td>\n",
              "      <td>0</td>\n",
              "      <td>0</td>\n",
              "      <td>0</td>\n",
              "      <td>1</td>\n",
              "    </tr>\n",
              "    <tr>\n",
              "      <th>4</th>\n",
              "      <td>0</td>\n",
              "      <td>0</td>\n",
              "      <td>0</td>\n",
              "      <td>0</td>\n",
              "      <td>1</td>\n",
              "      <td>0</td>\n",
              "      <td>1</td>\n",
              "      <td>0</td>\n",
              "      <td>0</td>\n",
              "      <td>0</td>\n",
              "      <td>...</td>\n",
              "      <td>0</td>\n",
              "      <td>0</td>\n",
              "      <td>1</td>\n",
              "      <td>1</td>\n",
              "      <td>0</td>\n",
              "      <td>0</td>\n",
              "      <td>0</td>\n",
              "      <td>0</td>\n",
              "      <td>0</td>\n",
              "      <td>1</td>\n",
              "    </tr>\n",
              "    <tr>\n",
              "      <th>...</th>\n",
              "      <td>...</td>\n",
              "      <td>...</td>\n",
              "      <td>...</td>\n",
              "      <td>...</td>\n",
              "      <td>...</td>\n",
              "      <td>...</td>\n",
              "      <td>...</td>\n",
              "      <td>...</td>\n",
              "      <td>...</td>\n",
              "      <td>...</td>\n",
              "      <td>...</td>\n",
              "      <td>...</td>\n",
              "      <td>...</td>\n",
              "      <td>...</td>\n",
              "      <td>...</td>\n",
              "      <td>...</td>\n",
              "      <td>...</td>\n",
              "      <td>...</td>\n",
              "      <td>...</td>\n",
              "      <td>...</td>\n",
              "      <td>...</td>\n",
              "    </tr>\n",
              "    <tr>\n",
              "      <th>39068</th>\n",
              "      <td>0</td>\n",
              "      <td>1</td>\n",
              "      <td>0</td>\n",
              "      <td>0</td>\n",
              "      <td>0</td>\n",
              "      <td>0</td>\n",
              "      <td>1</td>\n",
              "      <td>0</td>\n",
              "      <td>0</td>\n",
              "      <td>0</td>\n",
              "      <td>...</td>\n",
              "      <td>0</td>\n",
              "      <td>0</td>\n",
              "      <td>0</td>\n",
              "      <td>1</td>\n",
              "      <td>0</td>\n",
              "      <td>0</td>\n",
              "      <td>0</td>\n",
              "      <td>0</td>\n",
              "      <td>0</td>\n",
              "      <td>1</td>\n",
              "    </tr>\n",
              "    <tr>\n",
              "      <th>39069</th>\n",
              "      <td>0</td>\n",
              "      <td>0</td>\n",
              "      <td>0</td>\n",
              "      <td>0</td>\n",
              "      <td>0</td>\n",
              "      <td>1</td>\n",
              "      <td>1</td>\n",
              "      <td>0</td>\n",
              "      <td>0</td>\n",
              "      <td>0</td>\n",
              "      <td>...</td>\n",
              "      <td>0</td>\n",
              "      <td>0</td>\n",
              "      <td>1</td>\n",
              "      <td>1</td>\n",
              "      <td>0</td>\n",
              "      <td>0</td>\n",
              "      <td>0</td>\n",
              "      <td>0</td>\n",
              "      <td>0</td>\n",
              "      <td>1</td>\n",
              "    </tr>\n",
              "    <tr>\n",
              "      <th>39070</th>\n",
              "      <td>0</td>\n",
              "      <td>0</td>\n",
              "      <td>0</td>\n",
              "      <td>0</td>\n",
              "      <td>1</td>\n",
              "      <td>0</td>\n",
              "      <td>0</td>\n",
              "      <td>0</td>\n",
              "      <td>0</td>\n",
              "      <td>0</td>\n",
              "      <td>...</td>\n",
              "      <td>0</td>\n",
              "      <td>0</td>\n",
              "      <td>0</td>\n",
              "      <td>1</td>\n",
              "      <td>0</td>\n",
              "      <td>0</td>\n",
              "      <td>0</td>\n",
              "      <td>0</td>\n",
              "      <td>0</td>\n",
              "      <td>1</td>\n",
              "    </tr>\n",
              "    <tr>\n",
              "      <th>39071</th>\n",
              "      <td>0</td>\n",
              "      <td>0</td>\n",
              "      <td>0</td>\n",
              "      <td>0</td>\n",
              "      <td>1</td>\n",
              "      <td>0</td>\n",
              "      <td>1</td>\n",
              "      <td>0</td>\n",
              "      <td>1</td>\n",
              "      <td>1</td>\n",
              "      <td>...</td>\n",
              "      <td>0</td>\n",
              "      <td>0</td>\n",
              "      <td>0</td>\n",
              "      <td>1</td>\n",
              "      <td>0</td>\n",
              "      <td>0</td>\n",
              "      <td>0</td>\n",
              "      <td>0</td>\n",
              "      <td>0</td>\n",
              "      <td>1</td>\n",
              "    </tr>\n",
              "    <tr>\n",
              "      <th>39072</th>\n",
              "      <td>0</td>\n",
              "      <td>1</td>\n",
              "      <td>1</td>\n",
              "      <td>0</td>\n",
              "      <td>1</td>\n",
              "      <td>1</td>\n",
              "      <td>1</td>\n",
              "      <td>0</td>\n",
              "      <td>0</td>\n",
              "      <td>0</td>\n",
              "      <td>...</td>\n",
              "      <td>0</td>\n",
              "      <td>0</td>\n",
              "      <td>1</td>\n",
              "      <td>0</td>\n",
              "      <td>0</td>\n",
              "      <td>0</td>\n",
              "      <td>0</td>\n",
              "      <td>0</td>\n",
              "      <td>0</td>\n",
              "      <td>1</td>\n",
              "    </tr>\n",
              "  </tbody>\n",
              "</table>\n",
              "<p>39073 rows × 52 columns</p>\n",
              "</div>\n",
              "    <div class=\"colab-df-buttons\">\n",
              "\n",
              "  <div class=\"colab-df-container\">\n",
              "    <button class=\"colab-df-convert\" onclick=\"convertToInteractive('df-e6b38730-63bb-408c-be46-aae456835275')\"\n",
              "            title=\"Convert this dataframe to an interactive table.\"\n",
              "            style=\"display:none;\">\n",
              "\n",
              "  <svg xmlns=\"http://www.w3.org/2000/svg\" height=\"24px\" viewBox=\"0 -960 960 960\">\n",
              "    <path d=\"M120-120v-720h720v720H120Zm60-500h600v-160H180v160Zm220 220h160v-160H400v160Zm0 220h160v-160H400v160ZM180-400h160v-160H180v160Zm440 0h160v-160H620v160ZM180-180h160v-160H180v160Zm440 0h160v-160H620v160Z\"/>\n",
              "  </svg>\n",
              "    </button>\n",
              "\n",
              "  <style>\n",
              "    .colab-df-container {\n",
              "      display:flex;\n",
              "      gap: 12px;\n",
              "    }\n",
              "\n",
              "    .colab-df-convert {\n",
              "      background-color: #E8F0FE;\n",
              "      border: none;\n",
              "      border-radius: 50%;\n",
              "      cursor: pointer;\n",
              "      display: none;\n",
              "      fill: #1967D2;\n",
              "      height: 32px;\n",
              "      padding: 0 0 0 0;\n",
              "      width: 32px;\n",
              "    }\n",
              "\n",
              "    .colab-df-convert:hover {\n",
              "      background-color: #E2EBFA;\n",
              "      box-shadow: 0px 1px 2px rgba(60, 64, 67, 0.3), 0px 1px 3px 1px rgba(60, 64, 67, 0.15);\n",
              "      fill: #174EA6;\n",
              "    }\n",
              "\n",
              "    .colab-df-buttons div {\n",
              "      margin-bottom: 4px;\n",
              "    }\n",
              "\n",
              "    [theme=dark] .colab-df-convert {\n",
              "      background-color: #3B4455;\n",
              "      fill: #D2E3FC;\n",
              "    }\n",
              "\n",
              "    [theme=dark] .colab-df-convert:hover {\n",
              "      background-color: #434B5C;\n",
              "      box-shadow: 0px 1px 3px 1px rgba(0, 0, 0, 0.15);\n",
              "      filter: drop-shadow(0px 1px 2px rgba(0, 0, 0, 0.3));\n",
              "      fill: #FFFFFF;\n",
              "    }\n",
              "  </style>\n",
              "\n",
              "    <script>\n",
              "      const buttonEl =\n",
              "        document.querySelector('#df-e6b38730-63bb-408c-be46-aae456835275 button.colab-df-convert');\n",
              "      buttonEl.style.display =\n",
              "        google.colab.kernel.accessAllowed ? 'block' : 'none';\n",
              "\n",
              "      async function convertToInteractive(key) {\n",
              "        const element = document.querySelector('#df-e6b38730-63bb-408c-be46-aae456835275');\n",
              "        const dataTable =\n",
              "          await google.colab.kernel.invokeFunction('convertToInteractive',\n",
              "                                                    [key], {});\n",
              "        if (!dataTable) return;\n",
              "\n",
              "        const docLinkHtml = 'Like what you see? Visit the ' +\n",
              "          '<a target=\"_blank\" href=https://colab.research.google.com/notebooks/data_table.ipynb>data table notebook</a>'\n",
              "          + ' to learn more about interactive tables.';\n",
              "        element.innerHTML = '';\n",
              "        dataTable['output_type'] = 'display_data';\n",
              "        await google.colab.output.renderOutput(dataTable, element);\n",
              "        const docLink = document.createElement('div');\n",
              "        docLink.innerHTML = docLinkHtml;\n",
              "        element.appendChild(docLink);\n",
              "      }\n",
              "    </script>\n",
              "  </div>\n",
              "\n",
              "\n",
              "<div id=\"df-cc463cf1-ea53-48de-8e2f-c39d182f8bb5\">\n",
              "  <button class=\"colab-df-quickchart\" onclick=\"quickchart('df-cc463cf1-ea53-48de-8e2f-c39d182f8bb5')\"\n",
              "            title=\"Suggest charts\"\n",
              "            style=\"display:none;\">\n",
              "\n",
              "<svg xmlns=\"http://www.w3.org/2000/svg\" height=\"24px\"viewBox=\"0 0 24 24\"\n",
              "     width=\"24px\">\n",
              "    <g>\n",
              "        <path d=\"M19 3H5c-1.1 0-2 .9-2 2v14c0 1.1.9 2 2 2h14c1.1 0 2-.9 2-2V5c0-1.1-.9-2-2-2zM9 17H7v-7h2v7zm4 0h-2V7h2v10zm4 0h-2v-4h2v4z\"/>\n",
              "    </g>\n",
              "</svg>\n",
              "  </button>\n",
              "\n",
              "<style>\n",
              "  .colab-df-quickchart {\n",
              "      --bg-color: #E8F0FE;\n",
              "      --fill-color: #1967D2;\n",
              "      --hover-bg-color: #E2EBFA;\n",
              "      --hover-fill-color: #174EA6;\n",
              "      --disabled-fill-color: #AAA;\n",
              "      --disabled-bg-color: #DDD;\n",
              "  }\n",
              "\n",
              "  [theme=dark] .colab-df-quickchart {\n",
              "      --bg-color: #3B4455;\n",
              "      --fill-color: #D2E3FC;\n",
              "      --hover-bg-color: #434B5C;\n",
              "      --hover-fill-color: #FFFFFF;\n",
              "      --disabled-bg-color: #3B4455;\n",
              "      --disabled-fill-color: #666;\n",
              "  }\n",
              "\n",
              "  .colab-df-quickchart {\n",
              "    background-color: var(--bg-color);\n",
              "    border: none;\n",
              "    border-radius: 50%;\n",
              "    cursor: pointer;\n",
              "    display: none;\n",
              "    fill: var(--fill-color);\n",
              "    height: 32px;\n",
              "    padding: 0;\n",
              "    width: 32px;\n",
              "  }\n",
              "\n",
              "  .colab-df-quickchart:hover {\n",
              "    background-color: var(--hover-bg-color);\n",
              "    box-shadow: 0 1px 2px rgba(60, 64, 67, 0.3), 0 1px 3px 1px rgba(60, 64, 67, 0.15);\n",
              "    fill: var(--button-hover-fill-color);\n",
              "  }\n",
              "\n",
              "  .colab-df-quickchart-complete:disabled,\n",
              "  .colab-df-quickchart-complete:disabled:hover {\n",
              "    background-color: var(--disabled-bg-color);\n",
              "    fill: var(--disabled-fill-color);\n",
              "    box-shadow: none;\n",
              "  }\n",
              "\n",
              "  .colab-df-spinner {\n",
              "    border: 2px solid var(--fill-color);\n",
              "    border-color: transparent;\n",
              "    border-bottom-color: var(--fill-color);\n",
              "    animation:\n",
              "      spin 1s steps(1) infinite;\n",
              "  }\n",
              "\n",
              "  @keyframes spin {\n",
              "    0% {\n",
              "      border-color: transparent;\n",
              "      border-bottom-color: var(--fill-color);\n",
              "      border-left-color: var(--fill-color);\n",
              "    }\n",
              "    20% {\n",
              "      border-color: transparent;\n",
              "      border-left-color: var(--fill-color);\n",
              "      border-top-color: var(--fill-color);\n",
              "    }\n",
              "    30% {\n",
              "      border-color: transparent;\n",
              "      border-left-color: var(--fill-color);\n",
              "      border-top-color: var(--fill-color);\n",
              "      border-right-color: var(--fill-color);\n",
              "    }\n",
              "    40% {\n",
              "      border-color: transparent;\n",
              "      border-right-color: var(--fill-color);\n",
              "      border-top-color: var(--fill-color);\n",
              "    }\n",
              "    60% {\n",
              "      border-color: transparent;\n",
              "      border-right-color: var(--fill-color);\n",
              "    }\n",
              "    80% {\n",
              "      border-color: transparent;\n",
              "      border-right-color: var(--fill-color);\n",
              "      border-bottom-color: var(--fill-color);\n",
              "    }\n",
              "    90% {\n",
              "      border-color: transparent;\n",
              "      border-bottom-color: var(--fill-color);\n",
              "    }\n",
              "  }\n",
              "</style>\n",
              "\n",
              "  <script>\n",
              "    async function quickchart(key) {\n",
              "      const quickchartButtonEl =\n",
              "        document.querySelector('#' + key + ' button');\n",
              "      quickchartButtonEl.disabled = true;  // To prevent multiple clicks.\n",
              "      quickchartButtonEl.classList.add('colab-df-spinner');\n",
              "      try {\n",
              "        const charts = await google.colab.kernel.invokeFunction(\n",
              "            'suggestCharts', [key], {});\n",
              "      } catch (error) {\n",
              "        console.error('Error during call to suggestCharts:', error);\n",
              "      }\n",
              "      quickchartButtonEl.classList.remove('colab-df-spinner');\n",
              "      quickchartButtonEl.classList.add('colab-df-quickchart-complete');\n",
              "    }\n",
              "    (() => {\n",
              "      let quickchartButtonEl =\n",
              "        document.querySelector('#df-cc463cf1-ea53-48de-8e2f-c39d182f8bb5 button');\n",
              "      quickchartButtonEl.style.display =\n",
              "        google.colab.kernel.accessAllowed ? 'block' : 'none';\n",
              "    })();\n",
              "  </script>\n",
              "</div>\n",
              "    </div>\n",
              "  </div>\n"
            ],
            "application/vnd.google.colaboratory.intrinsic+json": {
              "type": "dataframe"
            }
          },
          "metadata": {},
          "execution_count": 17
        }
      ]
    },
    {
      "cell_type": "code",
      "source": [
        "X_train = X_train.to_numpy()\n",
        "X_test = X_test.to_numpy()"
      ],
      "metadata": {
        "id": "AyiEwbxnAuXl"
      },
      "execution_count": null,
      "outputs": []
    },
    {
      "cell_type": "code",
      "source": [
        "enc.get_cols()"
      ],
      "metadata": {
        "colab": {
          "base_uri": "https://localhost:8080/"
        },
        "id": "7dHaDgNqd6l6",
        "outputId": "d084d016-53a3-4c1a-8c29-cfc31359a28d"
      },
      "execution_count": null,
      "outputs": [
        {
          "output_type": "execute_result",
          "data": {
            "text/plain": [
              "array([11, 37, 38])"
            ]
          },
          "metadata": {},
          "execution_count": 19
        }
      ]
    },
    {
      "cell_type": "code",
      "source": [
        "pipe_sc = pipeline.Pipeline([('std_scaler',preprocessing.StandardScaler())])\n",
        "pipe_sc.fit(X_train[:, enc.get_cols()])\n",
        "X_train[:, enc.get_cols()] = pipe_sc.transform(X_train[:, enc.get_cols()])\n",
        "X_test[:, enc.get_cols()] = pipe_sc.transform(X_test[:, enc.get_cols()])"
      ],
      "metadata": {
        "id": "Ljt11Itl7n0S"
      },
      "execution_count": null,
      "outputs": []
    },
    {
      "cell_type": "code",
      "source": [
        "X_train.shape"
      ],
      "metadata": {
        "colab": {
          "base_uri": "https://localhost:8080/"
        },
        "id": "LvnAzDEvMYxg",
        "outputId": "e505314f-7a80-4e36-8ba3-0ee5da5914a1"
      },
      "execution_count": null,
      "outputs": [
        {
          "output_type": "execute_result",
          "data": {
            "text/plain": [
              "(39073, 52)"
            ]
          },
          "metadata": {},
          "execution_count": 22
        }
      ]
    },
    {
      "cell_type": "code",
      "source": [
        "calc_accuracy(X_train, y_train, X_test, y_test)"
      ],
      "metadata": {
        "colab": {
          "base_uri": "https://localhost:8080/"
        },
        "id": "MgSHUSd3MjuT",
        "outputId": "23fcd008-cfad-4514-b48b-21ef90bec194"
      },
      "execution_count": null,
      "outputs": [
        {
          "output_type": "stream",
          "name": "stderr",
          "text": [
            "/usr/local/lib/python3.10/dist-packages/sklearn/svm/_base.py:1244: ConvergenceWarning: Liblinear failed to converge, increase the number of iterations.\n",
            "  warnings.warn(\n"
          ]
        },
        {
          "output_type": "execute_result",
          "data": {
            "text/plain": [
              "{'linear_svm': 0.8479885351622479,\n",
              " 'logistic': 0.8461459719520934,\n",
              " 'linear_discriminant_analysis': 0.8358071450506704,\n",
              " 'gradboost': 0.8210666393694339,\n",
              " 'randomforest': 0.8551540587572934}"
            ]
          },
          "metadata": {},
          "execution_count": 23
        }
      ]
    },
    {
      "cell_type": "code",
      "source": [
        "def calc_accuracy_lim(X, y, X_t, y_t):\n",
        "  models = [('linear_svm', svm.LinearSVC(max_iter=10000, random_state=42), 'decision_function'),\n",
        "            ('logistic', linear_model.LogisticRegression(solver = 'lbfgs', random_state=42, max_iter=10000, penalty='l2', C=1), 'predict_proba'),\n",
        "            ('linear_discriminant_analysis', LinearDiscriminantAnalysis(), 'predict_proba'),\n",
        "            ('gradboost', ensemble.GradientBoostingClassifier(random_state=42, n_estimators=10), 'predict_proba'),\n",
        "            ('randomforest', ensemble.RandomForestClassifier(random_state=42), 'predict_proba')]\n",
        "  ans = {}\n",
        "  for name, model, loss_func in models:\n",
        "      model.fit(X, y)\n",
        "      ans[name] = model.score(X_t, y_t)\n",
        "  return ans"
      ],
      "metadata": {
        "id": "JUHojlqAOxIF"
      },
      "execution_count": null,
      "outputs": []
    },
    {
      "cell_type": "code",
      "source": [
        "small_datasets = [9952, 146822, 3917, 34] #9952, 146822, 3917\n",
        "for task_id in tqdm(small_datasets):\n",
        "    try:\n",
        "        task = openml.tasks.get_task(task_id)\n",
        "        dataset = task.get_dataset()\n",
        "\n",
        "        X, y, _, _ = dataset.get_data(target=dataset.default_target_attribute)\n",
        "        print(X.info())\n",
        "\n",
        "        # Заполнения пропусков\n",
        "        # null -> 0.000001\n",
        "        for col_ind in X.dtypes[X.dtypes == 'category'].index:\n",
        "            X[col_ind] = X[col_ind].cat.add_categories([0.000001])\n",
        "        X.fillna(0.000001, inplace=True)\n",
        "\n",
        "        # Получение меток классов и их строковое представление\n",
        "        class_labels = set(y)\n",
        "\n",
        "        # Создание словаря для преобразования строковых меток в числовые индексы\n",
        "        class_labels_map = {label: i for i, label in enumerate(class_labels)}\n",
        "        y_numeric = [class_labels_map[label] for label in y]\n",
        "\n",
        "        # Разделяем на трейн и тест\n",
        "        X_train, X_test, y_train, y_test = train_test_split(X, np.array(y_numeric), test_size=0.2, random_state=42)\n",
        "\n",
        "\n",
        "        enc = CustomEncoder(categorical_args={'encoder':'target_loo'})\n",
        "        X_train = enc.fit_transform(X_train, y_train).to_numpy()\n",
        "        X_test = enc.transform(X_test).to_numpy()\n",
        "\n",
        "        # # Кодируем категориальные\n",
        "        # enc = CategoricalEncoder(encoder='binary', category_rate=0.9)\n",
        "        # X_train = enc.fit_transform(X_train)\n",
        "        # X_test = enc.transform(X_test)\n",
        "\n",
        "        # # Ищем и нормируем вещественные\n",
        "        # enc = NumericalEncoder(numeric_rate=0.9)\n",
        "        # enc.fit_transform(X_train)\n",
        "        # X_train = X_train.to_numpy()\n",
        "        # X_test = X_test.to_numpy()\n",
        "        # if enc.get_cols().shape[0] > 0:\n",
        "        #     pipe_sc = pipeline.Pipeline([('std_scaler',preprocessing.StandardScaler())])\n",
        "        #     pipe_sc.fit(X_train[:, enc.get_cols()])\n",
        "        #     X_train[:, enc.get_cols()] = pipe_sc.transform(X_train[:, enc.get_cols()])\n",
        "        #     X_test[:, enc.get_cols()] = pipe_sc.transform(X_test[:, enc.get_cols()])\n",
        "\n",
        "        acc_b = calc_accuracy_lim(X_train, y_train, X_test, y_test)\n",
        "        print('Номер датасета:', task_id)\n",
        "\n",
        "        # feat_gen = FeatureGenerationTransformer()\n",
        "        # start_time = time.time()\n",
        "        # feat_gen.fit_transform(X_train)\n",
        "\n",
        "        trans = FeatProcessing('class', 2 if X_train.shape[0] < 3000 else 3, {'corr_gen': True}, sel_for_gen_kwargs={'typ': 'rtree'}, sel_from_gen_kwargs={'typ': 'rtree'})\n",
        "        trans.fit(X_train, y_train)\n",
        "        X_train_gen = trans.transform(X_train)\n",
        "        X_test_gen = trans.transform(X_test)\n",
        "\n",
        "        # X_train_gen = feat_gen.transform(X_train)\n",
        "        # X_test_gen = feat_gen.transform(X_test)\n",
        "        # X_train_gen = np.delete(X_train_gen, np.setdiff1d(np.arange(X_train.shape[1]), feat_gen.selected_cols), axis=1)\n",
        "        # X_test_gen = np.delete(X_test_gen, np.setdiff1d(np.arange(X_train.shape[1]), feat_gen.selected_cols), axis=1)\n",
        "\n",
        "        end_time = time.time()\n",
        "        elapsed_time = end_time - start_time\n",
        "        print(f'Время генерации: {elapsed_time:.5f}')\n",
        "        print('Размер до генерации', X_train.shape)\n",
        "        print('Размер после генерации', X_train_gen.shape)\n",
        "\n",
        "        pipe_sc = pipeline.Pipeline([('std_scaler',preprocessing.StandardScaler())])\n",
        "        pipe_sc.fit(X_train_gen[:, X_train.shape[1]:])\n",
        "        X_train_gen[:, X_train.shape[1]:] = pipe_sc.transform(X_train_gen[:,  X_train.shape[1]:])\n",
        "        X_test_gen[:,  X_train.shape[1]:] = pipe_sc.transform(X_test_gen[:,  X_train.shape[1]:])\n",
        "\n",
        "        acc_a = calc_accuracy_lim(X_train_gen, y_train, X_test_gen, y_test)\n",
        "\n",
        "        # print(X_train_gen[:, 18])\n",
        "        print('Качество до генерации', acc_b)\n",
        "        print('Качество после генерации', acc_a)\n",
        "\n",
        "        pr = 0\n",
        "        pr += 1 if acc_a['linear_svm'] - acc_b['linear_svm'] >= 0 else 0\n",
        "        pr += 1 if acc_a['logistic'] - acc_b['logistic'] >= 0 else 0\n",
        "        pr += 1 if acc_a['linear_discriminant_analysis'] - acc_b['linear_discriminant_analysis'] >= 0 else 0\n",
        "        pr += 1 if acc_a['gradboost'] - acc_b['gradboost'] >= 0 else 0\n",
        "        pr += 1 if acc_a['randomforest'] - acc_b['randomforest'] >= 0 else 0\n",
        "\n",
        "        print('Количество моделей с приростом качества или без ухудшения:', pr)\n",
        "        print('------------------------------------------------------------')\n",
        "    except Exception:\n",
        "        print('ошибка на номере', )"
      ],
      "metadata": {
        "id": "m0jRRdipOYvd"
      },
      "execution_count": null,
      "outputs": []
    },
    {
      "cell_type": "markdown",
      "source": [
        "'linear_svm': 0.8578199052132701, 'logistic': 0.8649289099526066, 'linear_discriminant_analysis': 0.8554502369668247, 'gradboost': 0.8388625592417062, 'randomforest': 0.8483412322274881"
      ],
      "metadata": {
        "id": "LzMUM2AUXw_d"
      }
    },
    {
      "cell_type": "markdown",
      "source": [
        "#####Сомнительно, нооо ОКЭЙ..."
      ],
      "metadata": {
        "id": "ukHetAQQ6NUY"
      }
    },
    {
      "cell_type": "code",
      "source": [
        "X_train = X_train.astype(float)\n",
        "X_test = X_test.astype(float)"
      ],
      "metadata": {
        "id": "rTTsqBxj5Nsz"
      },
      "execution_count": null,
      "outputs": []
    },
    {
      "cell_type": "code",
      "source": [
        "X_train[np.isnan(X_train)] = 0\n",
        "X_test[np.isnan(X_test)] = 0"
      ],
      "metadata": {
        "id": "f-lcEiIW4fF1"
      },
      "execution_count": null,
      "outputs": []
    },
    {
      "cell_type": "code",
      "source": [
        "X_train"
      ],
      "metadata": {
        "colab": {
          "base_uri": "https://localhost:8080/"
        },
        "id": "hf9K8uz64t7Y",
        "outputId": "045877de-ab01-4349-faf0-868de7188262"
      },
      "execution_count": null,
      "outputs": [
        {
          "output_type": "execute_result",
          "data": {
            "text/plain": [
              "array([[0., 0., 0., ..., 0., 1., 0.],\n",
              "       [0., 0., 0., ..., 0., 1., 0.],\n",
              "       [0., 0., 0., ..., 0., 1., 0.],\n",
              "       ...,\n",
              "       [0., 0., 0., ..., 1., 0., 0.],\n",
              "       [0., 0., 0., ..., 0., 1., 0.],\n",
              "       [0., 0., 0., ..., 0., 1., 0.]])"
            ]
          },
          "metadata": {},
          "execution_count": 230
        }
      ]
    },
    {
      "cell_type": "code",
      "source": [
        "pipe_sc = pipeline.Pipeline([('std_scaler',preprocessing.StandardScaler())])\n",
        "pipe_sc.fit(X_train, y_train)\n",
        "X_train = pipe_sc.transform(X_train)\n",
        "X_test = pipe_sc.transform(X_test)"
      ],
      "metadata": {
        "id": "NfpHw9D6mAqp"
      },
      "execution_count": null,
      "outputs": []
    },
    {
      "cell_type": "markdown",
      "source": [
        "#####Продолжение"
      ],
      "metadata": {
        "id": "SxkRJ4MZ6S8L"
      }
    },
    {
      "cell_type": "code",
      "source": [
        "calc_accuracy(X_train, y_train, X_test, y_test)"
      ],
      "metadata": {
        "colab": {
          "base_uri": "https://localhost:8080/"
        },
        "id": "FWprNynF7zwS",
        "outputId": "3ab7ed85-8a2f-4af0-b61f-8610a63c0c3a"
      },
      "execution_count": null,
      "outputs": [
        {
          "output_type": "stream",
          "name": "stderr",
          "text": [
            "/usr/local/lib/python3.10/dist-packages/sklearn/svm/_base.py:1244: ConvergenceWarning: Liblinear failed to converge, increase the number of iterations.\n",
            "  warnings.warn(\n"
          ]
        },
        {
          "output_type": "execute_result",
          "data": {
            "text/plain": [
              "{'linear_svm': 0.2344149861807759,\n",
              " 'logistic': 0.8017197256628109,\n",
              " 'linear_discriminant_analysis': 0.8358071450506704,\n",
              " 'gradboost': 0.8694851059473846,\n",
              " 'randomforest': 0.8560753403623708}"
            ]
          },
          "metadata": {},
          "execution_count": 143
        }
      ]
    },
    {
      "cell_type": "code",
      "source": [
        "X_train_chgd.shape"
      ],
      "metadata": {
        "colab": {
          "base_uri": "https://localhost:8080/"
        },
        "id": "WvEFIzCnSHqt",
        "outputId": "0e2a6980-cab7-4808-c646-702ac392a6db"
      },
      "execution_count": null,
      "outputs": [
        {
          "output_type": "execute_result",
          "data": {
            "text/plain": [
              "(11984, 32)"
            ]
          },
          "metadata": {},
          "execution_count": 63
        }
      ]
    },
    {
      "cell_type": "code",
      "source": [
        "X_train.shape"
      ],
      "metadata": {
        "colab": {
          "base_uri": "https://localhost:8080/"
        },
        "id": "2CJ-zuQESPlZ",
        "outputId": "b59866ea-c3ae-4af9-83c1-632f98822773"
      },
      "execution_count": null,
      "outputs": [
        {
          "output_type": "execute_result",
          "data": {
            "text/plain": [
              "(1600, 698)"
            ]
          },
          "metadata": {},
          "execution_count": 172
        }
      ]
    },
    {
      "cell_type": "code",
      "source": [
        "trans = FeatProcessing('class', 3, {'thr': 0.5},\n",
        "                              sel_for_gen_kwargs={'typ': 'lsvm'}, sel_from_gen_kwargs={'typ': 'rtree'})\n",
        "trans.fit(X_train, y_train)\n",
        "X_train_chgd = trans.transform(X_train)\n",
        "X_test_chgd = trans.transform(X_test)\n",
        "calc_accuracy(X_train_chgd, y_train, X_test_chgd, y_test)"
      ],
      "metadata": {
        "id": "YoytUBBPEad8",
        "colab": {
          "base_uri": "https://localhost:8080/"
        },
        "outputId": "095031ca-08e8-4158-e900-3e12d31577c2"
      },
      "execution_count": null,
      "outputs": [
        {
          "output_type": "stream",
          "name": "stdout",
          "text": [
            "(40000, 419)\n"
          ]
        },
        {
          "output_type": "stream",
          "name": "stderr",
          "text": [
            "/usr/local/lib/python3.10/dist-packages/sklearn/svm/_base.py:1244: ConvergenceWarning: Liblinear failed to converge, increase the number of iterations.\n",
            "  warnings.warn(\n",
            "/usr/local/lib/python3.10/dist-packages/sklearn/svm/_base.py:1244: ConvergenceWarning: Liblinear failed to converge, increase the number of iterations.\n",
            "  warnings.warn(\n",
            "/usr/local/lib/python3.10/dist-packages/sklearn/svm/_base.py:1244: ConvergenceWarning: Liblinear failed to converge, increase the number of iterations.\n",
            "  warnings.warn(\n",
            "/usr/local/lib/python3.10/dist-packages/sklearn/svm/_base.py:1244: ConvergenceWarning: Liblinear failed to converge, increase the number of iterations.\n",
            "  warnings.warn(\n"
          ]
        },
        {
          "output_type": "stream",
          "name": "stdout",
          "text": [
            "linear_svm :  0.9833\n",
            "ridge :  -0.0027216683383486373\n",
            "gradboost :  0.9821\n"
          ]
        },
        {
          "output_type": "stream",
          "name": "stderr",
          "text": [
            "/usr/local/lib/python3.10/dist-packages/sklearn/linear_model/_glm/_newton_solver.py:491: LinAlgWarning: The inner solver of NewtonCholeskySolver stumbled upon a singular or very ill-conditioned Hessian matrix at iteration #1. It will now resort to lbfgs instead.\n",
            "Further options are to use another solver or to avoid such situation in the first place. Possible remedies are removing collinear features of X or increasing the penalization strengths.\n",
            "The original Linear Algebra message was:\n",
            "Ill-conditioned matrix (rcond=1.58848e-47): result may not be accurate.\n",
            "  warnings.warn(\n",
            "/usr/local/lib/python3.10/dist-packages/sklearn/linear_model/_glm/_newton_solver.py:195: ConvergenceWarning: lbfgs failed to converge (status=1):\n",
            "STOP: TOTAL NO. of ITERATIONS REACHED LIMIT.\n",
            "\n",
            "Increase the number of iterations (max_iter) or scale the data as shown in:\n",
            "    https://scikit-learn.org/stable/modules/preprocessing.html\n",
            "  self.n_iter_ = _check_optimize_result(\"lbfgs\", opt_res)\n"
          ]
        },
        {
          "output_type": "stream",
          "name": "stdout",
          "text": [
            "logistic :  0.9833\n",
            "randomforest :  0.9833\n"
          ]
        },
        {
          "output_type": "execute_result",
          "data": {
            "text/plain": [
              "{'linear_svm': 0.9833,\n",
              " 'ridge': -0.0027216683383486373,\n",
              " 'gradboost': 0.9821,\n",
              " 'logistic': 0.9833,\n",
              " 'randomforest': 0.9833}"
            ]
          },
          "metadata": {},
          "execution_count": 232
        }
      ]
    },
    {
      "cell_type": "markdown",
      "source": [
        "######Dataset 1471\n",
        "\n",
        "***3 folds; 1:lsvm, 2:rtree; thr = 0.5*** <br>\n",
        "{'linear_svm': 0.5817757009345794, <br>\n",
        " 'ridge': -0.0019466091913913353, <br>\n",
        " 'gradboost': 0.8334445927903872, <br>\n",
        " 'logistic': 0.4706275033377837, <br>\n",
        " 'randomforest': 0.9329105473965287}\n",
        "\n",
        " ***without transformers*** <br>\n",
        "{'linear_svm': 0.5877837116154874, <br>\n",
        " 'ridge': -0.15428406305249354, <br>\n",
        " 'gradboost': 0.8064085447263017, <br>\n",
        " 'logistic': 0.5684245660881175, <br>\n",
        " 'randomforest': 0.9235647530040053}"
      ],
      "metadata": {
        "id": "4dy6Y7cvHfut"
      }
    },
    {
      "cell_type": "markdown",
      "source": [
        "#####Глобальный тест"
      ],
      "metadata": {
        "id": "Dg23ZhyBAKtf"
      }
    },
    {
      "cell_type": "code",
      "source": [
        "import pickle"
      ],
      "metadata": {
        "id": "iM27brwsBaBX"
      },
      "execution_count": null,
      "outputs": []
    },
    {
      "cell_type": "code",
      "source": [
        "from google.colab import drive\n",
        "drive.mount('/content/drive')"
      ],
      "metadata": {
        "colab": {
          "base_uri": "https://localhost:8080/"
        },
        "id": "IbDVWvW0BOux",
        "outputId": "3c61223c-a390-43bd-eaaf-d005d6183418"
      },
      "execution_count": null,
      "outputs": [
        {
          "output_type": "stream",
          "name": "stdout",
          "text": [
            "Mounted at /content/drive\n"
          ]
        }
      ]
    },
    {
      "cell_type": "code",
      "source": [
        "import openml\n",
        "import random\n",
        "\n",
        "suite_id = 218\n",
        "benchmark_suite = openml.study.get_suite(suite_id)\n",
        "\n",
        "tasks_list = benchmark_suite.tasks\n",
        "\n",
        "for task_id_i in tqdm(range(37, len(tasks_list))):\n",
        "    if not (task_id_i in [7, 20, 23, 24, 25, 36]):\n",
        "\n",
        "        task_id = tasks_list[task_id_i]\n",
        "        result = {}\n",
        "        task = openml.tasks.get_task(task_id)\n",
        "        dataset = task.get_dataset()\n",
        "\n",
        "        try:\n",
        "            random.seed(42)\n",
        "            np.random.seed(42)\n",
        "            X, y, _, _ = dataset.get_data(target=dataset.default_target_attribute)\n",
        "\n",
        "            # Заполнения пропусков\n",
        "            # null -> 0.000001\n",
        "            for col_ind in X.dtypes[X.dtypes == 'category'].index:\n",
        "                X[col_ind] = X[col_ind].cat.add_categories([0.000001])\n",
        "            X.fillna(0.000001, inplace=True)\n",
        "\n",
        "            # Получение меток классов и их строковое представление\n",
        "            class_labels = set(y)\n",
        "\n",
        "            # Создание словаря для преобразования строковых меток в числовые индексы\n",
        "            class_labels_map = {label: i for i, label in enumerate(class_labels)}\n",
        "            y_numeric = [class_labels_map[label] for label in y]\n",
        "\n",
        "            # Разделяем на трейн и тест\n",
        "            X_train, X_test, y_train, y_test = train_test_split(X, np.array(y_numeric), test_size=0.2, random_state=42)\n",
        "\n",
        "            # Кодируем и нормируем\n",
        "            enc = CustomEncoder(categorical_args={'encoder':'target_loo'})\n",
        "            try:\n",
        "                X_train = enc.fit_transform(X_train, y_train).to_numpy()\n",
        "                X_test = enc.transform(X_test).to_numpy()\n",
        "            except Exception as e:\n",
        "                X_train = enc.fit_transform(X_train.to_numpy(), y_train)\n",
        "                X_test = enc.transform(X_test.to_numpy())\n",
        "\n",
        "            result[task_id] = {}\n",
        "\n",
        "            # Считаем точность без схемы с генерацией и отбором\n",
        "            result[task_id]['before'] = calc_accuracy_lim(X_train, y_train, X_test, y_test)\n",
        "\n",
        "            #Считаем число фолдов\n",
        "            result[task_id]['k-fold'] = 2 if X_train.shape[0] < 3000 else 3\n",
        "\n",
        "            # Применяем схему с генерацией и отбором\n",
        "            trans = FeatProcessing('class', 2 if X_train.shape[0] < 3000 else 3, {'corr_gen': True}, sel_for_gen_kwargs={'typ': 'rtree'}, sel_from_gen_kwargs={'typ': 'rtree'})\n",
        "            trans.fit(X_train, y_train)\n",
        "            X_train_chgd = trans.transform(X_train)\n",
        "            X_test_chgd = trans.transform(X_test)\n",
        "\n",
        "            # Сохраняем размеры\n",
        "            result[task_id]['train_shape'] = X_train.shape\n",
        "            result[task_id]['test_shape'] = X_test.shape\n",
        "            result[task_id]['chgd_train_shape'] = X_train_chgd.shape\n",
        "            result[task_id]['chgd_test_shape'] = X_test_chgd.shape\n",
        "\n",
        "            # Считаем точность после схемы с генерацией и отбором\n",
        "            result[task_id]['after'] = calc_accuracy_lim(X_train_chgd, y_train, X_test_chgd, y_test)\n",
        "\n",
        "            with open('drive/MyDrive/ML_test/science/new_results/result_' + str(task_id) + '.dat', \"wb\") as file:\n",
        "                pickle.dump(result, file)\n",
        "        except Exception as e:\n",
        "            print(\"Ошибка на задаче с номером\", task_id)\n",
        "            print(e)\n"
      ],
      "metadata": {
        "colab": {
          "base_uri": "https://localhost:8080/",
          "height": 1000,
          "referenced_widgets": [
            "48d6a8976d2c41b0a4c8078e15476cc9",
            "65168248f79f471ea7f77c02b27c681f",
            "aaa742a35905491db54d60802e183d60",
            "dd63f1fcb3304999b0114d34e9daae4b",
            "d497d4cd4b714f50984981d47dc6f279",
            "5462588db9e54438931f7134b0a9683f",
            "2559274361764d149887467f87f3ff27",
            "0997af8b61c1449bae87f1d7068bf26c",
            "b9e893d873ba4eb9bfe836c88ff0f68c",
            "09b7e2e8db594819819949e3c1ad0959",
            "cf5c7a672ccf420287b31399da4d5a57"
          ]
        },
        "id": "S1BdS1mxASLX",
        "outputId": "c1850766-529b-4658-b0dd-25f2bdb104d6"
      },
      "execution_count": null,
      "outputs": [
        {
          "data": {
            "application/vnd.jupyter.widget-view+json": {
              "model_id": "48d6a8976d2c41b0a4c8078e15476cc9",
              "version_major": 2,
              "version_minor": 0
            },
            "text/plain": [
              "  0%|          | 0/30 [00:00<?, ?it/s]"
            ]
          },
          "metadata": {},
          "output_type": "display_data"
        },
        {
          "metadata": {
            "tags": null
          },
          "name": "stderr",
          "output_type": "stream",
          "text": [
            "/usr/local/lib/python3.10/dist-packages/IPython/core/interactiveshell.py:3553: FutureWarning: Starting from Version 0.15.0 `download_splits` will default to ``False`` instead of ``True`` and be independent from `download_data`. To disable this message until version 0.15 explicitly set `download_splits` to a bool.\n",
            "  exec(code_obj, self.user_global_ns, self.user_ns)\n",
            "/usr/local/lib/python3.10/dist-packages/openml/tasks/functions.py:442: FutureWarning: Starting from Version 0.15 `download_data`, `download_qualities`, and `download_features_meta_data` will all be ``False`` instead of ``True`` by default to enable lazy loading. To disable this message until version 0.15 explicitly set `download_data`, `download_qualities`, and `download_features_meta_data` to a bool while calling `get_dataset`.\n",
            "  dataset = get_dataset(task.dataset_id, *dataset_args, **get_dataset_kwargs)\n",
            "/usr/local/lib/python3.10/dist-packages/openml/tasks/task.py:150: FutureWarning: Starting from Version 0.15 `download_data`, `download_qualities`, and `download_features_meta_data` will all be ``False`` instead of ``True`` by default to enable lazy loading. To disable this message until version 0.15 explicitly set `download_data`, `download_qualities`, and `download_features_meta_data` to a bool while calling `get_dataset`.\n",
            "  return datasets.get_dataset(self.dataset_id)\n",
            "/usr/local/lib/python3.10/dist-packages/sklearn/svm/_base.py:1244: ConvergenceWarning: Liblinear failed to converge, increase the number of iterations.\n",
            "  warnings.warn(\n"
          ]
        },
        {
          "metadata": {
            "tags": null
          },
          "name": "stdout",
          "output_type": "stream",
          "text": [
            "(27572, 118)\n"
          ]
        },
        {
          "metadata": {
            "tags": null
          },
          "name": "stderr",
          "output_type": "stream",
          "text": [
            "/usr/local/lib/python3.10/dist-packages/sklearn/svm/_base.py:1244: ConvergenceWarning: Liblinear failed to converge, increase the number of iterations.\n",
            "  warnings.warn(\n",
            "/usr/local/lib/python3.10/dist-packages/sklearn/linear_model/_logistic.py:458: ConvergenceWarning: lbfgs failed to converge (status=1):\n",
            "STOP: TOTAL NO. of ITERATIONS REACHED LIMIT.\n",
            "\n",
            "Increase the number of iterations (max_iter) or scale the data as shown in:\n",
            "    https://scikit-learn.org/stable/modules/preprocessing.html\n",
            "Please also refer to the documentation for alternative solver options:\n",
            "    https://scikit-learn.org/stable/modules/linear_model.html#logistic-regression\n",
            "  n_iter_i = _check_optimize_result(\n",
            "/usr/local/lib/python3.10/dist-packages/IPython/core/interactiveshell.py:3553: FutureWarning: Starting from Version 0.15.0 `download_splits` will default to ``False`` instead of ``True`` and be independent from `download_data`. To disable this message until version 0.15 explicitly set `download_splits` to a bool.\n",
            "  exec(code_obj, self.user_global_ns, self.user_ns)\n",
            "/usr/local/lib/python3.10/dist-packages/openml/tasks/functions.py:442: FutureWarning: Starting from Version 0.15 `download_data`, `download_qualities`, and `download_features_meta_data` will all be ``False`` instead of ``True`` by default to enable lazy loading. To disable this message until version 0.15 explicitly set `download_data`, `download_qualities`, and `download_features_meta_data` to a bool while calling `get_dataset`.\n",
            "  dataset = get_dataset(task.dataset_id, *dataset_args, **get_dataset_kwargs)\n",
            "/usr/local/lib/python3.10/dist-packages/openml/tasks/task.py:150: FutureWarning: Starting from Version 0.15 `download_data`, `download_qualities`, and `download_features_meta_data` will all be ``False`` instead of ``True`` by default to enable lazy loading. To disable this message until version 0.15 explicitly set `download_data`, `download_qualities`, and `download_features_meta_data` to a bool while calling `get_dataset`.\n",
            "  return datasets.get_dataset(self.dataset_id)\n",
            "/usr/local/lib/python3.10/dist-packages/sklearn/svm/_base.py:1244: ConvergenceWarning: Liblinear failed to converge, increase the number of iterations.\n",
            "  warnings.warn(\n"
          ]
        },
        {
          "metadata": {
            "tags": null
          },
          "name": "stdout",
          "output_type": "stream",
          "text": [
            "(864, 856)\n"
          ]
        },
        {
          "metadata": {
            "tags": null
          },
          "name": "stderr",
          "output_type": "stream",
          "text": [
            "/usr/local/lib/python3.10/dist-packages/sklearn/svm/_base.py:1244: ConvergenceWarning: Liblinear failed to converge, increase the number of iterations.\n",
            "  warnings.warn(\n",
            "/usr/local/lib/python3.10/dist-packages/sklearn/linear_model/_logistic.py:458: ConvergenceWarning: lbfgs failed to converge (status=2):\n",
            "ABNORMAL_TERMINATION_IN_LNSRCH.\n",
            "\n",
            "Increase the number of iterations (max_iter) or scale the data as shown in:\n",
            "    https://scikit-learn.org/stable/modules/preprocessing.html\n",
            "Please also refer to the documentation for alternative solver options:\n",
            "    https://scikit-learn.org/stable/modules/linear_model.html#logistic-regression\n",
            "  n_iter_i = _check_optimize_result(\n",
            "/usr/local/lib/python3.10/dist-packages/IPython/core/interactiveshell.py:3553: FutureWarning: Starting from Version 0.15.0 `download_splits` will default to ``False`` instead of ``True`` and be independent from `download_data`. To disable this message until version 0.15 explicitly set `download_splits` to a bool.\n",
            "  exec(code_obj, self.user_global_ns, self.user_ns)\n",
            "/usr/local/lib/python3.10/dist-packages/openml/tasks/functions.py:442: FutureWarning: Starting from Version 0.15 `download_data`, `download_qualities`, and `download_features_meta_data` will all be ``False`` instead of ``True`` by default to enable lazy loading. To disable this message until version 0.15 explicitly set `download_data`, `download_qualities`, and `download_features_meta_data` to a bool while calling `get_dataset`.\n",
            "  dataset = get_dataset(task.dataset_id, *dataset_args, **get_dataset_kwargs)\n",
            "/usr/local/lib/python3.10/dist-packages/openml/tasks/task.py:150: FutureWarning: Starting from Version 0.15 `download_data`, `download_qualities`, and `download_features_meta_data` will all be ``False`` instead of ``True`` by default to enable lazy loading. To disable this message until version 0.15 explicitly set `download_data`, `download_qualities`, and `download_features_meta_data` to a bool while calling `get_dataset`.\n",
            "  return datasets.get_dataset(self.dataset_id)\n",
            "/usr/local/lib/python3.10/dist-packages/sklearn/svm/_base.py:1244: ConvergenceWarning: Liblinear failed to converge, increase the number of iterations.\n",
            "  warnings.warn(\n"
          ]
        },
        {
          "metadata": {
            "tags": null
          },
          "name": "stdout",
          "output_type": "stream",
          "text": [
            "(598, 4)\n",
            "Ошибка на задаче с номером 10101\n",
            "tuple index out of range\n"
          ]
        },
        {
          "metadata": {
            "tags": null
          },
          "name": "stderr",
          "output_type": "stream",
          "text": [
            "/usr/local/lib/python3.10/dist-packages/IPython/core/interactiveshell.py:3553: FutureWarning: Starting from Version 0.15.0 `download_splits` will default to ``False`` instead of ``True`` and be independent from `download_data`. To disable this message until version 0.15 explicitly set `download_splits` to a bool.\n",
            "  exec(code_obj, self.user_global_ns, self.user_ns)\n",
            "/usr/local/lib/python3.10/dist-packages/openml/tasks/functions.py:442: FutureWarning: Starting from Version 0.15 `download_data`, `download_qualities`, and `download_features_meta_data` will all be ``False`` instead of ``True`` by default to enable lazy loading. To disable this message until version 0.15 explicitly set `download_data`, `download_qualities`, and `download_features_meta_data` to a bool while calling `get_dataset`.\n",
            "  dataset = get_dataset(task.dataset_id, *dataset_args, **get_dataset_kwargs)\n",
            "/usr/local/lib/python3.10/dist-packages/openml/tasks/task.py:150: FutureWarning: Starting from Version 0.15 `download_data`, `download_qualities`, and `download_features_meta_data` will all be ``False`` instead of ``True`` by default to enable lazy loading. To disable this message until version 0.15 explicitly set `download_data`, `download_qualities`, and `download_features_meta_data` to a bool while calling `get_dataset`.\n",
            "  return datasets.get_dataset(self.dataset_id)\n",
            "/usr/local/lib/python3.10/dist-packages/sklearn/svm/_base.py:1244: ConvergenceWarning: Liblinear failed to converge, increase the number of iterations.\n",
            "  warnings.warn(\n"
          ]
        },
        {
          "metadata": {
            "tags": null
          },
          "name": "stdout",
          "output_type": "stream",
          "text": [
            "(36168, 16)\n"
          ]
        },
        {
          "metadata": {
            "tags": null
          },
          "name": "stderr",
          "output_type": "stream",
          "text": [
            "/usr/local/lib/python3.10/dist-packages/sklearn/svm/_base.py:1244: ConvergenceWarning: Liblinear failed to converge, increase the number of iterations.\n",
            "  warnings.warn(\n",
            "/usr/local/lib/python3.10/dist-packages/IPython/core/interactiveshell.py:3553: FutureWarning: Starting from Version 0.15.0 `download_splits` will default to ``False`` instead of ``True`` and be independent from `download_data`. To disable this message until version 0.15 explicitly set `download_splits` to a bool.\n",
            "  exec(code_obj, self.user_global_ns, self.user_ns)\n",
            "/usr/local/lib/python3.10/dist-packages/openml/tasks/functions.py:442: FutureWarning: Starting from Version 0.15 `download_data`, `download_qualities`, and `download_features_meta_data` will all be ``False`` instead of ``True`` by default to enable lazy loading. To disable this message until version 0.15 explicitly set `download_data`, `download_qualities`, and `download_features_meta_data` to a bool while calling `get_dataset`.\n",
            "  dataset = get_dataset(task.dataset_id, *dataset_args, **get_dataset_kwargs)\n",
            "/usr/local/lib/python3.10/dist-packages/openml/tasks/task.py:150: FutureWarning: Starting from Version 0.15 `download_data`, `download_qualities`, and `download_features_meta_data` will all be ``False`` instead of ``True`` by default to enable lazy loading. To disable this message until version 0.15 explicitly set `download_data`, `download_qualities`, and `download_features_meta_data` to a bool while calling `get_dataset`.\n",
            "  return datasets.get_dataset(self.dataset_id)\n"
          ]
        },
        {
          "metadata": {
            "tags": null
          },
          "name": "stdout",
          "output_type": "stream",
          "text": [
            "(26215, 9)\n"
          ]
        },
        {
          "metadata": {
            "tags": null
          },
          "name": "stderr",
          "output_type": "stream",
          "text": [
            "/usr/local/lib/python3.10/dist-packages/IPython/core/interactiveshell.py:3553: FutureWarning: Starting from Version 0.15.0 `download_splits` will default to ``False`` instead of ``True`` and be independent from `download_data`. To disable this message until version 0.15 explicitly set `download_splits` to a bool.\n",
            "  exec(code_obj, self.user_global_ns, self.user_ns)\n",
            "/usr/local/lib/python3.10/dist-packages/openml/tasks/functions.py:442: FutureWarning: Starting from Version 0.15 `download_data`, `download_qualities`, and `download_features_meta_data` will all be ``False`` instead of ``True`` by default to enable lazy loading. To disable this message until version 0.15 explicitly set `download_data`, `download_qualities`, and `download_features_meta_data` to a bool while calling `get_dataset`.\n",
            "  dataset = get_dataset(task.dataset_id, *dataset_args, **get_dataset_kwargs)\n",
            "/usr/local/lib/python3.10/dist-packages/openml/tasks/task.py:150: FutureWarning: Starting from Version 0.15 `download_data`, `download_qualities`, and `download_features_meta_data` will all be ``False`` instead of ``True`` by default to enable lazy loading. To disable this message until version 0.15 explicitly set `download_data`, `download_qualities`, and `download_features_meta_data` to a bool while calling `get_dataset`.\n",
            "  return datasets.get_dataset(self.dataset_id)\n"
          ]
        },
        {
          "metadata": {
            "tags": null
          },
          "name": "stdout",
          "output_type": "stream",
          "text": [
            "(54045, 42)\n"
          ]
        },
        {
          "metadata": {
            "tags": null
          },
          "name": "stderr",
          "output_type": "stream",
          "text": [
            "/usr/local/lib/python3.10/dist-packages/IPython/core/interactiveshell.py:3553: FutureWarning: Starting from Version 0.15.0 `download_splits` will default to ``False`` instead of ``True`` and be independent from `download_data`. To disable this message until version 0.15 explicitly set `download_splits` to a bool.\n",
            "  exec(code_obj, self.user_global_ns, self.user_ns)\n",
            "/usr/local/lib/python3.10/dist-packages/openml/tasks/functions.py:442: FutureWarning: Starting from Version 0.15 `download_data`, `download_qualities`, and `download_features_meta_data` will all be ``False`` instead of ``True`` by default to enable lazy loading. To disable this message until version 0.15 explicitly set `download_data`, `download_qualities`, and `download_features_meta_data` to a bool while calling `get_dataset`.\n",
            "  dataset = get_dataset(task.dataset_id, *dataset_args, **get_dataset_kwargs)\n",
            "/usr/local/lib/python3.10/dist-packages/openml/tasks/task.py:150: FutureWarning: Starting from Version 0.15 `download_data`, `download_qualities`, and `download_features_meta_data` will all be ``False`` instead of ``True`` by default to enable lazy loading. To disable this message until version 0.15 explicitly set `download_data`, `download_qualities`, and `download_features_meta_data` to a bool while calling `get_dataset`.\n",
            "  return datasets.get_dataset(self.dataset_id)\n",
            "/usr/local/lib/python3.10/dist-packages/sklearn/svm/_base.py:1244: ConvergenceWarning: Liblinear failed to converge, increase the number of iterations.\n",
            "  warnings.warn(\n"
          ]
        },
        {
          "metadata": {
            "tags": null
          },
          "name": "stdout",
          "output_type": "stream",
          "text": [
            "(46400, 9)\n"
          ]
        },
        {
          "metadata": {
            "tags": null
          },
          "name": "stderr",
          "output_type": "stream",
          "text": [
            "/usr/local/lib/python3.10/dist-packages/sklearn/svm/_base.py:1244: ConvergenceWarning: Liblinear failed to converge, increase the number of iterations.\n",
            "  warnings.warn(\n",
            "/usr/local/lib/python3.10/dist-packages/sklearn/linear_model/_logistic.py:458: ConvergenceWarning: lbfgs failed to converge (status=1):\n",
            "STOP: TOTAL NO. of ITERATIONS REACHED LIMIT.\n",
            "\n",
            "Increase the number of iterations (max_iter) or scale the data as shown in:\n",
            "    https://scikit-learn.org/stable/modules/preprocessing.html\n",
            "Please also refer to the documentation for alternative solver options:\n",
            "    https://scikit-learn.org/stable/modules/linear_model.html#logistic-regression\n",
            "  n_iter_i = _check_optimize_result(\n",
            "/usr/local/lib/python3.10/dist-packages/IPython/core/interactiveshell.py:3553: FutureWarning: Starting from Version 0.15.0 `download_splits` will default to ``False`` instead of ``True`` and be independent from `download_data`. To disable this message until version 0.15 explicitly set `download_splits` to a bool.\n",
            "  exec(code_obj, self.user_global_ns, self.user_ns)\n",
            "/usr/local/lib/python3.10/dist-packages/openml/tasks/functions.py:442: FutureWarning: Starting from Version 0.15 `download_data`, `download_qualities`, and `download_features_meta_data` will all be ``False`` instead of ``True`` by default to enable lazy loading. To disable this message until version 0.15 explicitly set `download_data`, `download_qualities`, and `download_features_meta_data` to a bool while calling `get_dataset`.\n",
            "  dataset = get_dataset(task.dataset_id, *dataset_args, **get_dataset_kwargs)\n",
            "/usr/local/lib/python3.10/dist-packages/openml/tasks/task.py:150: FutureWarning: Starting from Version 0.15 `download_data`, `download_qualities`, and `download_features_meta_data` will all be ``False`` instead of ``True`` by default to enable lazy loading. To disable this message until version 0.15 explicitly set `download_data`, `download_qualities`, and `download_features_meta_data` to a bool while calling `get_dataset`.\n",
            "  return datasets.get_dataset(self.dataset_id)\n",
            "/usr/local/lib/python3.10/dist-packages/sklearn/svm/_base.py:1244: ConvergenceWarning: Liblinear failed to converge, increase the number of iterations.\n",
            "  warnings.warn(\n"
          ]
        },
        {
          "metadata": {
            "tags": null
          },
          "name": "stdout",
          "output_type": "stream",
          "text": [
            "(78440, 28)\n"
          ]
        },
        {
          "metadata": {
            "tags": null
          },
          "name": "stderr",
          "output_type": "stream",
          "text": [
            "/usr/local/lib/python3.10/dist-packages/sklearn/svm/_base.py:1244: ConvergenceWarning: Liblinear failed to converge, increase the number of iterations.\n",
            "  warnings.warn(\n",
            "/usr/local/lib/python3.10/dist-packages/IPython/core/interactiveshell.py:3553: FutureWarning: Starting from Version 0.15.0 `download_splits` will default to ``False`` instead of ``True`` and be independent from `download_data`. To disable this message until version 0.15 explicitly set `download_splits` to a bool.\n",
            "  exec(code_obj, self.user_global_ns, self.user_ns)\n",
            "/usr/local/lib/python3.10/dist-packages/openml/tasks/functions.py:442: FutureWarning: Starting from Version 0.15 `download_data`, `download_qualities`, and `download_features_meta_data` will all be ``False`` instead of ``True`` by default to enable lazy loading. To disable this message until version 0.15 explicitly set `download_data`, `download_qualities`, and `download_features_meta_data` to a bool while calling `get_dataset`.\n",
            "  dataset = get_dataset(task.dataset_id, *dataset_args, **get_dataset_kwargs)\n",
            "/usr/local/lib/python3.10/dist-packages/openml/tasks/task.py:150: FutureWarning: Starting from Version 0.15 `download_data`, `download_qualities`, and `download_features_meta_data` will all be ``False`` instead of ``True`` by default to enable lazy loading. To disable this message until version 0.15 explicitly set `download_data`, `download_qualities`, and `download_features_meta_data` to a bool while calling `get_dataset`.\n",
            "  return datasets.get_dataset(self.dataset_id)\n",
            "/usr/local/lib/python3.10/dist-packages/sklearn/svm/_base.py:1244: ConvergenceWarning: Liblinear failed to converge, increase the number of iterations.\n",
            "  warnings.warn(\n"
          ]
        },
        {
          "metadata": {
            "tags": null
          },
          "name": "stdout",
          "output_type": "stream",
          "text": [
            "(552, 14)\n"
          ]
        },
        {
          "metadata": {
            "tags": null
          },
          "name": "stderr",
          "output_type": "stream",
          "text": [
            "/usr/local/lib/python3.10/dist-packages/sklearn/svm/_base.py:1244: ConvergenceWarning: Liblinear failed to converge, increase the number of iterations.\n",
            "  warnings.warn(\n",
            "/usr/local/lib/python3.10/dist-packages/IPython/core/interactiveshell.py:3553: FutureWarning: Starting from Version 0.15.0 `download_splits` will default to ``False`` instead of ``True`` and be independent from `download_data`. To disable this message until version 0.15 explicitly set `download_splits` to a bool.\n",
            "  exec(code_obj, self.user_global_ns, self.user_ns)\n",
            "/usr/local/lib/python3.10/dist-packages/openml/tasks/functions.py:442: FutureWarning: Starting from Version 0.15 `download_data`, `download_qualities`, and `download_features_meta_data` will all be ``False`` instead of ``True`` by default to enable lazy loading. To disable this message until version 0.15 explicitly set `download_data`, `download_qualities`, and `download_features_meta_data` to a bool while calling `get_dataset`.\n",
            "  dataset = get_dataset(task.dataset_id, *dataset_args, **get_dataset_kwargs)\n",
            "/usr/local/lib/python3.10/dist-packages/openml/tasks/task.py:150: FutureWarning: Starting from Version 0.15 `download_data`, `download_qualities`, and `download_features_meta_data` will all be ``False`` instead of ``True`` by default to enable lazy loading. To disable this message until version 0.15 explicitly set `download_data`, `download_qualities`, and `download_features_meta_data` to a bool while calling `get_dataset`.\n",
            "  return datasets.get_dataset(self.dataset_id)\n"
          ]
        },
        {
          "metadata": {
            "tags": null
          },
          "name": "stdout",
          "output_type": "stream",
          "text": [
            "(1382, 6)\n"
          ]
        },
        {
          "metadata": {
            "tags": null
          },
          "name": "stderr",
          "output_type": "stream",
          "text": [
            "/usr/local/lib/python3.10/dist-packages/IPython/core/interactiveshell.py:3553: FutureWarning: Starting from Version 0.15.0 `download_splits` will default to ``False`` instead of ``True`` and be independent from `download_data`. To disable this message until version 0.15 explicitly set `download_splits` to a bool.\n",
            "  exec(code_obj, self.user_global_ns, self.user_ns)\n",
            "/usr/local/lib/python3.10/dist-packages/openml/tasks/functions.py:442: FutureWarning: Starting from Version 0.15 `download_data`, `download_qualities`, and `download_features_meta_data` will all be ``False`` instead of ``True`` by default to enable lazy loading. To disable this message until version 0.15 explicitly set `download_data`, `download_qualities`, and `download_features_meta_data` to a bool while calling `get_dataset`.\n",
            "  dataset = get_dataset(task.dataset_id, *dataset_args, **get_dataset_kwargs)\n",
            "/usr/local/lib/python3.10/dist-packages/openml/tasks/task.py:150: FutureWarning: Starting from Version 0.15 `download_data`, `download_qualities`, and `download_features_meta_data` will all be ``False`` instead of ``True`` by default to enable lazy loading. To disable this message until version 0.15 explicitly set `download_data`, `download_qualities`, and `download_features_meta_data` to a bool while calling `get_dataset`.\n",
            "  return datasets.get_dataset(self.dataset_id)\n"
          ]
        },
        {
          "metadata": {
            "tags": null
          },
          "name": "stdout",
          "output_type": "stream",
          "text": [
            "(1848, 16)\n"
          ]
        },
        {
          "metadata": {
            "tags": null
          },
          "name": "stderr",
          "output_type": "stream",
          "text": [
            "/usr/local/lib/python3.10/dist-packages/sklearn/svm/_base.py:1244: ConvergenceWarning: Liblinear failed to converge, increase the number of iterations.\n",
            "  warnings.warn(\n",
            "/usr/local/lib/python3.10/dist-packages/IPython/core/interactiveshell.py:3553: FutureWarning: Starting from Version 0.15.0 `download_splits` will default to ``False`` instead of ``True`` and be independent from `download_data`. To disable this message until version 0.15 explicitly set `download_splits` to a bool.\n",
            "  exec(code_obj, self.user_global_ns, self.user_ns)\n",
            "/usr/local/lib/python3.10/dist-packages/openml/tasks/functions.py:442: FutureWarning: Starting from Version 0.15 `download_data`, `download_qualities`, and `download_features_meta_data` will all be ``False`` instead of ``True`` by default to enable lazy loading. To disable this message until version 0.15 explicitly set `download_data`, `download_qualities`, and `download_features_meta_data` to a bool while calling `get_dataset`.\n",
            "  dataset = get_dataset(task.dataset_id, *dataset_args, **get_dataset_kwargs)\n",
            "/usr/local/lib/python3.10/dist-packages/openml/tasks/task.py:150: FutureWarning: Starting from Version 0.15 `download_data`, `download_qualities`, and `download_features_meta_data` will all be ``False`` instead of ``True`` by default to enable lazy loading. To disable this message until version 0.15 explicitly set `download_data`, `download_qualities`, and `download_features_meta_data` to a bool while calling `get_dataset`.\n",
            "  return datasets.get_dataset(self.dataset_id)\n"
          ]
        },
        {
          "metadata": {
            "tags": null
          },
          "name": "stdout",
          "output_type": "stream",
          "text": [
            "(35855, 6)\n"
          ]
        },
        {
          "metadata": {
            "tags": null
          },
          "name": "stderr",
          "output_type": "stream",
          "text": [
            "/usr/local/lib/python3.10/dist-packages/IPython/core/interactiveshell.py:3553: FutureWarning: Starting from Version 0.15.0 `download_splits` will default to ``False`` instead of ``True`` and be independent from `download_data`. To disable this message until version 0.15 explicitly set `download_splits` to a bool.\n",
            "  exec(code_obj, self.user_global_ns, self.user_ns)\n",
            "/usr/local/lib/python3.10/dist-packages/openml/tasks/functions.py:442: FutureWarning: Starting from Version 0.15 `download_data`, `download_qualities`, and `download_features_meta_data` will all be ``False`` instead of ``True`` by default to enable lazy loading. To disable this message until version 0.15 explicitly set `download_data`, `download_qualities`, and `download_features_meta_data` to a bool while calling `get_dataset`.\n",
            "  dataset = get_dataset(task.dataset_id, *dataset_args, **get_dataset_kwargs)\n",
            "/usr/local/lib/python3.10/dist-packages/openml/tasks/task.py:150: FutureWarning: Starting from Version 0.15 `download_data`, `download_qualities`, and `download_features_meta_data` will all be ``False`` instead of ``True`` by default to enable lazy loading. To disable this message until version 0.15 explicitly set `download_data`, `download_qualities`, and `download_features_meta_data` to a bool while calling `get_dataset`.\n",
            "  return datasets.get_dataset(self.dataset_id)\n"
          ]
        },
        {
          "metadata": {
            "tags": null
          },
          "name": "stdout",
          "output_type": "stream",
          "text": [
            "(77056, 21)\n"
          ]
        },
        {
          "metadata": {
            "tags": null
          },
          "name": "stderr",
          "output_type": "stream",
          "text": [
            "/usr/local/lib/python3.10/dist-packages/sklearn/svm/_base.py:1244: ConvergenceWarning: Liblinear failed to converge, increase the number of iterations.\n",
            "  warnings.warn(\n",
            "/usr/local/lib/python3.10/dist-packages/IPython/core/interactiveshell.py:3553: FutureWarning: Starting from Version 0.15.0 `download_splits` will default to ``False`` instead of ``True`` and be independent from `download_data`. To disable this message until version 0.15 explicitly set `download_splits` to a bool.\n",
            "  exec(code_obj, self.user_global_ns, self.user_ns)\n",
            "/usr/local/lib/python3.10/dist-packages/openml/tasks/functions.py:442: FutureWarning: Starting from Version 0.15 `download_data`, `download_qualities`, and `download_features_meta_data` will all be ``False`` instead of ``True`` by default to enable lazy loading. To disable this message until version 0.15 explicitly set `download_data`, `download_qualities`, and `download_features_meta_data` to a bool while calling `get_dataset`.\n",
            "  dataset = get_dataset(task.dataset_id, *dataset_args, **get_dataset_kwargs)\n",
            "/usr/local/lib/python3.10/dist-packages/openml/tasks/task.py:150: FutureWarning: Starting from Version 0.15 `download_data`, `download_qualities`, and `download_features_meta_data` will all be ``False`` instead of ``True`` by default to enable lazy loading. To disable this message until version 0.15 explicitly set `download_data`, `download_qualities`, and `download_features_meta_data` to a bool while calling `get_dataset`.\n",
            "  return datasets.get_dataset(self.dataset_id)\n",
            "/usr/local/lib/python3.10/dist-packages/sklearn/svm/_base.py:1244: ConvergenceWarning: Liblinear failed to converge, increase the number of iterations.\n",
            "  warnings.warn(\n"
          ]
        },
        {
          "metadata": {
            "tags": null
          },
          "name": "stdout",
          "output_type": "stream",
          "text": [
            "(8000, 7200)\n",
            "Ошибка на задаче с номером 168332\n",
            "int() argument must be a string, a bytes-like object or a real number, not 'complex'\n"
          ]
        },
        {
          "metadata": {
            "tags": null
          },
          "name": "stderr",
          "output_type": "stream",
          "text": [
            "/usr/local/lib/python3.10/dist-packages/IPython/core/interactiveshell.py:3553: FutureWarning: Starting from Version 0.15.0 `download_splits` will default to ``False`` instead of ``True`` and be independent from `download_data`. To disable this message until version 0.15 explicitly set `download_splits` to a bool.\n",
            "  exec(code_obj, self.user_global_ns, self.user_ns)\n",
            "/usr/local/lib/python3.10/dist-packages/openml/tasks/functions.py:442: FutureWarning: Starting from Version 0.15 `download_data`, `download_qualities`, and `download_features_meta_data` will all be ``False`` instead of ``True`` by default to enable lazy loading. To disable this message until version 0.15 explicitly set `download_data`, `download_qualities`, and `download_features_meta_data` to a bool while calling `get_dataset`.\n",
            "  dataset = get_dataset(task.dataset_id, *dataset_args, **get_dataset_kwargs)\n",
            "/usr/local/lib/python3.10/dist-packages/openml/tasks/task.py:150: FutureWarning: Starting from Version 0.15 `download_data`, `download_qualities`, and `download_features_meta_data` will all be ``False`` instead of ``True`` by default to enable lazy loading. To disable this message until version 0.15 explicitly set `download_data`, `download_qualities`, and `download_features_meta_data` to a bool while calling `get_dataset`.\n",
            "  return datasets.get_dataset(self.dataset_id)\n",
            "/usr/local/lib/python3.10/dist-packages/sklearn/svm/_base.py:1244: ConvergenceWarning: Liblinear failed to converge, increase the number of iterations.\n",
            "  warnings.warn(\n"
          ]
        },
        {
          "metadata": {
            "tags": null
          },
          "name": "stdout",
          "output_type": "stream",
          "text": [
            "(104051, 50)\n"
          ]
        },
        {
          "metadata": {
            "tags": null
          },
          "name": "stderr",
          "output_type": "stream",
          "text": [
            "/usr/local/lib/python3.10/dist-packages/sklearn/svm/_base.py:1244: ConvergenceWarning: Liblinear failed to converge, increase the number of iterations.\n",
            "  warnings.warn(\n",
            "/usr/local/lib/python3.10/dist-packages/IPython/core/interactiveshell.py:3553: FutureWarning: Starting from Version 0.15.0 `download_splits` will default to ``False`` instead of ``True`` and be independent from `download_data`. To disable this message until version 0.15 explicitly set `download_splits` to a bool.\n",
            "  exec(code_obj, self.user_global_ns, self.user_ns)\n",
            "/usr/local/lib/python3.10/dist-packages/openml/tasks/functions.py:442: FutureWarning: Starting from Version 0.15 `download_data`, `download_qualities`, and `download_features_meta_data` will all be ``False`` instead of ``True`` by default to enable lazy loading. To disable this message until version 0.15 explicitly set `download_data`, `download_qualities`, and `download_features_meta_data` to a bool while calling `get_dataset`.\n",
            "  dataset = get_dataset(task.dataset_id, *dataset_args, **get_dataset_kwargs)\n",
            "/usr/local/lib/python3.10/dist-packages/openml/tasks/task.py:150: FutureWarning: Starting from Version 0.15 `download_data`, `download_qualities`, and `download_features_meta_data` will all be ``False`` instead of ``True`` by default to enable lazy loading. To disable this message until version 0.15 explicitly set `download_data`, `download_qualities`, and `download_features_meta_data` to a bool while calling `get_dataset`.\n",
            "  return datasets.get_dataset(self.dataset_id)\n",
            "/usr/local/lib/python3.10/dist-packages/sklearn/svm/_base.py:1244: ConvergenceWarning: Liblinear failed to converge, increase the number of iterations.\n",
            "  warnings.warn(\n"
          ]
        },
        {
          "metadata": {
            "tags": null
          },
          "name": "stdout",
          "output_type": "stream",
          "text": [
            "(16000, 4296)\n",
            "Ошибка на задаче с номером 168337\n",
            "int() argument must be a string, a bytes-like object or a real number, not 'complex'\n"
          ]
        },
        {
          "metadata": {
            "tags": null
          },
          "name": "stderr",
          "output_type": "stream",
          "text": [
            "/usr/local/lib/python3.10/dist-packages/IPython/core/interactiveshell.py:3553: FutureWarning: Starting from Version 0.15.0 `download_splits` will default to ``False`` instead of ``True`` and be independent from `download_data`. To disable this message until version 0.15 explicitly set `download_splits` to a bool.\n",
            "  exec(code_obj, self.user_global_ns, self.user_ns)\n",
            "/usr/local/lib/python3.10/dist-packages/openml/tasks/functions.py:442: FutureWarning: Starting from Version 0.15 `download_data`, `download_qualities`, and `download_features_meta_data` will all be ``False`` instead of ``True`` by default to enable lazy loading. To disable this message until version 0.15 explicitly set `download_data`, `download_qualities`, and `download_features_meta_data` to a bool while calling `get_dataset`.\n",
            "  dataset = get_dataset(task.dataset_id, *dataset_args, **get_dataset_kwargs)\n",
            "/usr/local/lib/python3.10/dist-packages/openml/tasks/task.py:150: FutureWarning: Starting from Version 0.15 `download_data`, `download_qualities`, and `download_features_meta_data` will all be ``False`` instead of ``True`` by default to enable lazy loading. To disable this message until version 0.15 explicitly set `download_data`, `download_qualities`, and `download_features_meta_data` to a bool while calling `get_dataset`.\n",
            "  return datasets.get_dataset(self.dataset_id)\n",
            "/usr/local/lib/python3.10/dist-packages/sklearn/svm/_base.py:1244: ConvergenceWarning: Liblinear failed to converge, increase the number of iterations.\n",
            "  warnings.warn(\n"
          ]
        },
        {
          "metadata": {
            "tags": null
          },
          "name": "stdout",
          "output_type": "stream",
          "text": [
            "(16000, 4296)\n",
            "Ошибка на задаче с номером 168338\n",
            "int() argument must be a string, a bytes-like object or a real number, not 'complex'\n"
          ]
        },
        {
          "metadata": {
            "tags": null
          },
          "name": "stderr",
          "output_type": "stream",
          "text": [
            "/usr/local/lib/python3.10/dist-packages/IPython/core/interactiveshell.py:3553: FutureWarning: Starting from Version 0.15.0 `download_splits` will default to ``False`` instead of ``True`` and be independent from `download_data`. To disable this message until version 0.15 explicitly set `download_splits` to a bool.\n",
            "  exec(code_obj, self.user_global_ns, self.user_ns)\n",
            "/usr/local/lib/python3.10/dist-packages/openml/tasks/functions.py:442: FutureWarning: Starting from Version 0.15 `download_data`, `download_qualities`, and `download_features_meta_data` will all be ``False`` instead of ``True`` by default to enable lazy loading. To disable this message until version 0.15 explicitly set `download_data`, `download_qualities`, and `download_features_meta_data` to a bool while calling `get_dataset`.\n",
            "  dataset = get_dataset(task.dataset_id, *dataset_args, **get_dataset_kwargs)\n",
            "/usr/local/lib/python3.10/dist-packages/openml/tasks/task.py:150: FutureWarning: Starting from Version 0.15 `download_data`, `download_qualities`, and `download_features_meta_data` will all be ``False`` instead of ``True`` by default to enable lazy loading. To disable this message until version 0.15 explicitly set `download_data`, `download_qualities`, and `download_features_meta_data` to a bool while calling `get_dataset`.\n",
            "  return datasets.get_dataset(self.dataset_id)\n",
            "/usr/local/lib/python3.10/dist-packages/sklearn/svm/_base.py:1244: ConvergenceWarning: Liblinear failed to converge, increase the number of iterations.\n",
            "  warnings.warn(\n"
          ]
        },
        {
          "metadata": {
            "tags": null
          },
          "name": "stdout",
          "output_type": "stream",
          "text": [
            "(60800, 170)\n"
          ]
        },
        {
          "metadata": {
            "tags": null
          },
          "name": "stderr",
          "output_type": "stream",
          "text": [
            "/usr/local/lib/python3.10/dist-packages/sklearn/svm/_base.py:1244: ConvergenceWarning: Liblinear failed to converge, increase the number of iterations.\n",
            "  warnings.warn(\n",
            "/usr/local/lib/python3.10/dist-packages/IPython/core/interactiveshell.py:3553: FutureWarning: Starting from Version 0.15.0 `download_splits` will default to ``False`` instead of ``True`` and be independent from `download_data`. To disable this message until version 0.15 explicitly set `download_splits` to a bool.\n",
            "  exec(code_obj, self.user_global_ns, self.user_ns)\n",
            "/usr/local/lib/python3.10/dist-packages/openml/tasks/functions.py:442: FutureWarning: Starting from Version 0.15 `download_data`, `download_qualities`, and `download_features_meta_data` will all be ``False`` instead of ``True`` by default to enable lazy loading. To disable this message until version 0.15 explicitly set `download_data`, `download_qualities`, and `download_features_meta_data` to a bool while calling `get_dataset`.\n",
            "  dataset = get_dataset(task.dataset_id, *dataset_args, **get_dataset_kwargs)\n",
            "/usr/local/lib/python3.10/dist-packages/openml/tasks/task.py:150: FutureWarning: Starting from Version 0.15 `download_data`, `download_qualities`, and `download_features_meta_data` will all be ``False`` instead of ``True`` by default to enable lazy loading. To disable this message until version 0.15 explicitly set `download_data`, `download_qualities`, and `download_features_meta_data` to a bool while calling `get_dataset`.\n",
            "  return datasets.get_dataset(self.dataset_id)\n",
            "/usr/local/lib/python3.10/dist-packages/sklearn/svm/_base.py:1244: ConvergenceWarning: Liblinear failed to converge, increase the number of iterations.\n",
            "  warnings.warn(\n"
          ]
        },
        {
          "metadata": {
            "tags": null
          },
          "name": "stdout",
          "output_type": "stream",
          "text": [
            "(4334, 1636)\n"
          ]
        },
        {
          "metadata": {
            "tags": null
          },
          "name": "stderr",
          "output_type": "stream",
          "text": [
            "/usr/local/lib/python3.10/dist-packages/sklearn/svm/_base.py:1244: ConvergenceWarning: Liblinear failed to converge, increase the number of iterations.\n",
            "  warnings.warn(\n",
            "/usr/local/lib/python3.10/dist-packages/sklearn/linear_model/_logistic.py:458: ConvergenceWarning: lbfgs failed to converge (status=1):\n",
            "STOP: TOTAL NO. of f AND g EVALUATIONS EXCEEDS LIMIT.\n",
            "\n",
            "Increase the number of iterations (max_iter) or scale the data as shown in:\n",
            "    https://scikit-learn.org/stable/modules/preprocessing.html\n",
            "Please also refer to the documentation for alternative solver options:\n",
            "    https://scikit-learn.org/stable/modules/linear_model.html#logistic-regression\n",
            "  n_iter_i = _check_optimize_result(\n",
            "/usr/local/lib/python3.10/dist-packages/IPython/core/interactiveshell.py:3553: FutureWarning: Starting from Version 0.15.0 `download_splits` will default to ``False`` instead of ``True`` and be independent from `download_data`. To disable this message until version 0.15 explicitly set `download_splits` to a bool.\n",
            "  exec(code_obj, self.user_global_ns, self.user_ns)\n",
            "/usr/local/lib/python3.10/dist-packages/openml/tasks/functions.py:442: FutureWarning: Starting from Version 0.15 `download_data`, `download_qualities`, and `download_features_meta_data` will all be ``False`` instead of ``True`` by default to enable lazy loading. To disable this message until version 0.15 explicitly set `download_data`, `download_qualities`, and `download_features_meta_data` to a bool while calling `get_dataset`.\n",
            "  dataset = get_dataset(task.dataset_id, *dataset_args, **get_dataset_kwargs)\n",
            "/usr/local/lib/python3.10/dist-packages/openml/tasks/task.py:150: FutureWarning: Starting from Version 0.15 `download_data`, `download_qualities`, and `download_features_meta_data` will all be ``False`` instead of ``True`` by default to enable lazy loading. To disable this message until version 0.15 explicitly set `download_data`, `download_qualities`, and `download_features_meta_data` to a bool while calling `get_dataset`.\n",
            "  return datasets.get_dataset(self.dataset_id)\n",
            "/usr/local/lib/python3.10/dist-packages/sklearn/svm/_base.py:1244: ConvergenceWarning: Liblinear failed to converge, increase the number of iterations.\n",
            "  warnings.warn(\n"
          ]
        },
        {
          "metadata": {
            "tags": null
          },
          "name": "stdout",
          "output_type": "stream",
          "text": [
            "(8000, 2000)\n"
          ]
        },
        {
          "output_type": "stream",
          "name": "stderr",
          "text": [
            "/usr/local/lib/python3.10/dist-packages/sklearn/svm/_base.py:1244: ConvergenceWarning: Liblinear failed to converge, increase the number of iterations.\n",
            "  warnings.warn(\n",
            "/usr/local/lib/python3.10/dist-packages/sklearn/linear_model/_logistic.py:458: ConvergenceWarning: lbfgs failed to converge (status=1):\n",
            "STOP: TOTAL NO. of ITERATIONS REACHED LIMIT.\n",
            "\n",
            "Increase the number of iterations (max_iter) or scale the data as shown in:\n",
            "    https://scikit-learn.org/stable/modules/preprocessing.html\n",
            "Please also refer to the documentation for alternative solver options:\n",
            "    https://scikit-learn.org/stable/modules/linear_model.html#logistic-regression\n",
            "  n_iter_i = _check_optimize_result(\n",
            "/usr/local/lib/python3.10/dist-packages/IPython/core/interactiveshell.py:3553: FutureWarning: Starting from Version 0.15.0 `download_splits` will default to ``False`` instead of ``True`` and be independent from `download_data`. To disable this message until version 0.15 explicitly set `download_splits` to a bool.\n",
            "  exec(code_obj, self.user_global_ns, self.user_ns)\n",
            "/usr/local/lib/python3.10/dist-packages/openml/tasks/functions.py:442: FutureWarning: Starting from Version 0.15 `download_data`, `download_qualities`, and `download_features_meta_data` will all be ``False`` instead of ``True`` by default to enable lazy loading. To disable this message until version 0.15 explicitly set `download_data`, `download_qualities`, and `download_features_meta_data` to a bool while calling `get_dataset`.\n",
            "  dataset = get_dataset(task.dataset_id, *dataset_args, **get_dataset_kwargs)\n",
            "/usr/local/lib/python3.10/dist-packages/openml/tasks/task.py:150: FutureWarning: Starting from Version 0.15 `download_data`, `download_qualities`, and `download_features_meta_data` will all be ``False`` instead of ``True`` by default to enable lazy loading. To disable this message until version 0.15 explicitly set `download_data`, `download_qualities`, and `download_features_meta_data` to a bool while calling `get_dataset`.\n",
            "  return datasets.get_dataset(self.dataset_id)\n",
            "/usr/local/lib/python3.10/dist-packages/sklearn/svm/_base.py:1244: ConvergenceWarning: Liblinear failed to converge, increase the number of iterations.\n",
            "  warnings.warn(\n"
          ]
        },
        {
          "output_type": "stream",
          "name": "stdout",
          "text": [
            "(6589, 800)\n"
          ]
        },
        {
          "output_type": "stream",
          "name": "stderr",
          "text": [
            "/usr/local/lib/python3.10/dist-packages/sklearn/svm/_base.py:1244: ConvergenceWarning: Liblinear failed to converge, increase the number of iterations.\n",
            "  warnings.warn(\n",
            "/usr/local/lib/python3.10/dist-packages/sklearn/linear_model/_logistic.py:458: ConvergenceWarning: lbfgs failed to converge (status=1):\n",
            "STOP: TOTAL NO. of ITERATIONS REACHED LIMIT.\n",
            "\n",
            "Increase the number of iterations (max_iter) or scale the data as shown in:\n",
            "    https://scikit-learn.org/stable/modules/preprocessing.html\n",
            "Please also refer to the documentation for alternative solver options:\n",
            "    https://scikit-learn.org/stable/modules/linear_model.html#logistic-regression\n",
            "  n_iter_i = _check_optimize_result(\n",
            "/usr/local/lib/python3.10/dist-packages/IPython/core/interactiveshell.py:3553: FutureWarning: Starting from Version 0.15.0 `download_splits` will default to ``False`` instead of ``True`` and be independent from `download_data`. To disable this message until version 0.15 explicitly set `download_splits` to a bool.\n",
            "  exec(code_obj, self.user_global_ns, self.user_ns)\n",
            "/usr/local/lib/python3.10/dist-packages/openml/tasks/functions.py:442: FutureWarning: Starting from Version 0.15 `download_data`, `download_qualities`, and `download_features_meta_data` will all be ``False`` instead of ``True`` by default to enable lazy loading. To disable this message until version 0.15 explicitly set `download_data`, `download_qualities`, and `download_features_meta_data` to a bool while calling `get_dataset`.\n",
            "  dataset = get_dataset(task.dataset_id, *dataset_args, **get_dataset_kwargs)\n",
            "/usr/local/lib/python3.10/dist-packages/openml/tasks/task.py:150: FutureWarning: Starting from Version 0.15 `download_data`, `download_qualities`, and `download_features_meta_data` will all be ``False`` instead of ``True`` by default to enable lazy loading. To disable this message until version 0.15 explicitly set `download_data`, `download_qualities`, and `download_features_meta_data` to a bool while calling `get_dataset`.\n",
            "  return datasets.get_dataset(self.dataset_id)\n"
          ]
        },
        {
          "output_type": "stream",
          "name": "stdout",
          "text": [
            "(2387, 144)\n"
          ]
        },
        {
          "output_type": "stream",
          "name": "stderr",
          "text": [
            "/usr/local/lib/python3.10/dist-packages/sklearn/svm/_base.py:1244: ConvergenceWarning: Liblinear failed to converge, increase the number of iterations.\n",
            "  warnings.warn(\n",
            "/usr/local/lib/python3.10/dist-packages/IPython/core/interactiveshell.py:3553: FutureWarning: Starting from Version 0.15.0 `download_splits` will default to ``False`` instead of ``True`` and be independent from `download_data`. To disable this message until version 0.15 explicitly set `download_splits` to a bool.\n",
            "  exec(code_obj, self.user_global_ns, self.user_ns)\n",
            "/usr/local/lib/python3.10/dist-packages/openml/tasks/functions.py:442: FutureWarning: Starting from Version 0.15 `download_data`, `download_qualities`, and `download_features_meta_data` will all be ``False`` instead of ``True`` by default to enable lazy loading. To disable this message until version 0.15 explicitly set `download_data`, `download_qualities`, and `download_features_meta_data` to a bool while calling `get_dataset`.\n",
            "  dataset = get_dataset(task.dataset_id, *dataset_args, **get_dataset_kwargs)\n",
            "/usr/local/lib/python3.10/dist-packages/openml/tasks/task.py:150: FutureWarning: Starting from Version 0.15 `download_data`, `download_qualities`, and `download_features_meta_data` will all be ``False`` instead of ``True`` by default to enable lazy loading. To disable this message until version 0.15 explicitly set `download_data`, `download_qualities`, and `download_features_meta_data` to a bool while calling `get_dataset`.\n",
            "  return datasets.get_dataset(self.dataset_id)\n"
          ]
        },
        {
          "output_type": "stream",
          "name": "stdout",
          "text": [
            "(4099, 20)\n"
          ]
        },
        {
          "output_type": "stream",
          "name": "stderr",
          "text": [
            "/usr/local/lib/python3.10/dist-packages/sklearn/svm/_base.py:1244: ConvergenceWarning: Liblinear failed to converge, increase the number of iterations.\n",
            "  warnings.warn(\n",
            "/usr/local/lib/python3.10/dist-packages/IPython/core/interactiveshell.py:3553: FutureWarning: Starting from Version 0.15.0 `download_splits` will default to ``False`` instead of ``True`` and be independent from `download_data`. To disable this message until version 0.15 explicitly set `download_splits` to a bool.\n",
            "  exec(code_obj, self.user_global_ns, self.user_ns)\n",
            "/usr/local/lib/python3.10/dist-packages/openml/tasks/functions.py:442: FutureWarning: Starting from Version 0.15 `download_data`, `download_qualities`, and `download_features_meta_data` will all be ``False`` instead of ``True`` by default to enable lazy loading. To disable this message until version 0.15 explicitly set `download_data`, `download_qualities`, and `download_features_meta_data` to a bool while calling `get_dataset`.\n",
            "  dataset = get_dataset(task.dataset_id, *dataset_args, **get_dataset_kwargs)\n",
            "/usr/local/lib/python3.10/dist-packages/openml/tasks/task.py:150: FutureWarning: Starting from Version 0.15 `download_data`, `download_qualities`, and `download_features_meta_data` will all be ``False`` instead of ``True`` by default to enable lazy loading. To disable this message until version 0.15 explicitly set `download_data`, `download_qualities`, and `download_features_meta_data` to a bool while calling `get_dataset`.\n",
            "  return datasets.get_dataset(self.dataset_id)\n"
          ]
        },
        {
          "output_type": "stream",
          "name": "stdout",
          "text": [
            "(431506, 7)\n"
          ]
        }
      ]
    },
    {
      "cell_type": "code",
      "source": [
        "result"
      ],
      "metadata": {
        "colab": {
          "base_uri": "https://localhost:8080/"
        },
        "id": "EbgmDKAkkU51",
        "outputId": "641e742a-60ed-4022-bba1-f1eea93fe3a8"
      },
      "execution_count": null,
      "outputs": [
        {
          "output_type": "execute_result",
          "data": {
            "text/plain": [
              "{12: {'before': {'linear_svm': 0.75,\n",
              "   'logistic': 0.7925,\n",
              "   'linear_discriminant_analysis': 0.2825,\n",
              "   'gradboost': 0.8175,\n",
              "   'randomforest': 0.695},\n",
              "  'k-fold': 2,\n",
              "  'train_shape': (1600, 1564),\n",
              "  'test_shape': (400, 1564),\n",
              "  'chgd_train_shape': (1600, 4224),\n",
              "  'chgd_test_shape': (400, 4224),\n",
              "  'after': {'linear_svm': 0.6975,\n",
              "   'logistic': 0.1175,\n",
              "   'linear_discriminant_analysis': 0.735,\n",
              "   'gradboost': 0.7875,\n",
              "   'randomforest': 0.71}}}"
            ]
          },
          "metadata": {},
          "execution_count": 153
        }
      ]
    },
    {
      "cell_type": "code",
      "source": [
        "with open('drive/MyDrive/ML_test/science/result_AML.dat', \"wb\") as file:\n",
        "    pickle.dump(result, file)"
      ],
      "metadata": {
        "id": "sqaCG8LuB7uj"
      },
      "execution_count": null,
      "outputs": []
    },
    {
      "cell_type": "markdown",
      "source": [
        "#####Тест с гугл диск"
      ],
      "metadata": {
        "id": "tHut2w-1wzpu"
      }
    },
    {
      "cell_type": "code",
      "source": [
        "import pickle\n",
        "from google.colab import drive\n",
        "drive.mount('/content/drive')"
      ],
      "metadata": {
        "colab": {
          "base_uri": "https://localhost:8080/"
        },
        "id": "ELQ9JfIOw8VM",
        "outputId": "c2863e85-01b5-457c-8f4d-00e6687257e5"
      },
      "execution_count": null,
      "outputs": [
        {
          "output_type": "stream",
          "name": "stdout",
          "text": [
            "Mounted at /content/drive\n"
          ]
        }
      ]
    },
    {
      "cell_type": "code",
      "source": [
        "import openml\n",
        "\n",
        "suite_id = 218\n",
        "benchmark_suite = openml.study.get_suite(suite_id)\n",
        "\n",
        "tasks_list = benchmark_suite.tasks"
      ],
      "metadata": {
        "id": "yvkPZkdcw3Yf",
        "colab": {
          "base_uri": "https://localhost:8080/"
        },
        "outputId": "5d7e3a01-c745-493e-95d2-5f65a1049ca1"
      },
      "execution_count": null,
      "outputs": [
        {
          "output_type": "stream",
          "name": "stderr",
          "text": [
            "WARNING:openml:No permission to create OpenML directory at /root/.config/openml! This can result in OpenML-Python not working properly.\n"
          ]
        }
      ]
    },
    {
      "cell_type": "code",
      "source": [
        "tasks_list"
      ],
      "metadata": {
        "colab": {
          "base_uri": "https://localhost:8080/"
        },
        "id": "qiZvpb8GydzU",
        "outputId": "58c12900-b1e2-46af-d795-734b558eb19a"
      },
      "execution_count": null,
      "outputs": [
        {
          "output_type": "execute_result",
          "data": {
            "text/plain": [
              "[3,\n",
              " 12,\n",
              " 31,\n",
              " 53,\n",
              " 3917,\n",
              " 3945,\n",
              " 7592,\n",
              " 7593,\n",
              " 9952,\n",
              " 9977,\n",
              " 9981,\n",
              " 10101,\n",
              " 14965,\n",
              " 34539,\n",
              " 146195,\n",
              " 146212,\n",
              " 146606,\n",
              " 146818,\n",
              " 146821,\n",
              " 146822,\n",
              " 146825,\n",
              " 167119,\n",
              " 167120,\n",
              " 168329,\n",
              " 168330,\n",
              " 168331,\n",
              " 168332,\n",
              " 168335,\n",
              " 168337,\n",
              " 168338,\n",
              " 168868,\n",
              " 168908,\n",
              " 168909,\n",
              " 168910,\n",
              " 168911,\n",
              " 168912,\n",
              " 189354,\n",
              " 189355,\n",
              " 189356]"
            ]
          },
          "metadata": {},
          "execution_count": 7
        }
      ]
    },
    {
      "cell_type": "code",
      "source": [
        "results = []\n",
        "for i in range(len(tasks_list)):\n",
        "    try:\n",
        "        with open('drive/MyDrive/ML_test/science/new_results/result_' + str(tasks_list[i]) + '.dat', 'rb') as f:\n",
        "            results.append(pickle.load(f))\n",
        "    except Exception:\n",
        "        pass"
      ],
      "metadata": {
        "id": "cuEdUtqfydMH"
      },
      "execution_count": null,
      "outputs": []
    },
    {
      "cell_type": "code",
      "source": [
        "lsvm_p = 0\n",
        "logistic_p = 0\n",
        "lda_p = 0\n",
        "gb_p = 0\n",
        "rf_p = 0\n",
        "for res in results:\n",
        "    lsvm_p += 1 if res[list(res.keys())[0]]['after']['linear_svm'] - res[list(res.keys())[0]]['before']['linear_svm'] >= 0 else 0\n",
        "    logistic_p += 1 if res[list(res.keys())[0]]['after']['logistic'] - res[list(res.keys())[0]]['before']['logistic'] >= 0 else 0\n",
        "    lda_p += 1 if res[list(res.keys())[0]]['after']['linear_discriminant_analysis'] - res[list(res.keys())[0]]['before']['linear_discriminant_analysis'] >= 0 else 0\n",
        "    gb_p += 1 if res[list(res.keys())[0]]['after']['gradboost'] - res[list(res.keys())[0]]['before']['gradboost'] >= 0 else 0\n",
        "    rf_p += 1 if res[list(res.keys())[0]]['after']['randomforest'] - res[list(res.keys())[0]]['before']['randomforest'] >= 0 else 0"
      ],
      "metadata": {
        "id": "9Xv8SkiK0qBU"
      },
      "execution_count": null,
      "outputs": []
    },
    {
      "cell_type": "code",
      "source": [
        "print('lsvm:', lsvm_p / len(results))\n",
        "print('logistic:', logistic_p / len(results))\n",
        "print('lda:', lda_p / len(results))\n",
        "print('gb:', gb_p / len(results))\n",
        "print('rf:', rf_p / len(results))"
      ],
      "metadata": {
        "colab": {
          "base_uri": "https://localhost:8080/"
        },
        "id": "-Mm8wWRb21Mh",
        "outputId": "27ed6024-c72f-4b91-b08b-fb29d3e95c6d"
      },
      "execution_count": null,
      "outputs": [
        {
          "output_type": "stream",
          "name": "stdout",
          "text": [
            "lsvm: 0.5185185185185185\n",
            "logistic: 0.5185185185185185\n",
            "lda: 0.6296296296296297\n",
            "gb: 0.7037037037037037\n",
            "rf: 0.25925925925925924\n"
          ]
        }
      ]
    },
    {
      "cell_type": "code",
      "source": [
        "models = []\n",
        "for res in results:\n",
        "    pr = 0\n",
        "    pr += 1 if res[list(res.keys())[0]]['after']['linear_svm'] - res[list(res.keys())[0]]['before']['linear_svm'] > 0 else 0\n",
        "    pr += 1 if res[list(res.keys())[0]]['after']['logistic'] - res[list(res.keys())[0]]['before']['logistic'] > 0 else 0\n",
        "    pr += 1 if res[list(res.keys())[0]]['after']['linear_discriminant_analysis'] - res[list(res.keys())[0]]['before']['linear_discriminant_analysis'] > 0 else 0\n",
        "    pr += 1 if res[list(res.keys())[0]]['after']['gradboost'] - res[list(res.keys())[0]]['before']['gradboost'] > 0 else 0\n",
        "    pr += 1 if res[list(res.keys())[0]]['after']['randomforest'] - res[list(res.keys())[0]]['before']['randomforest'] > 0 else 0\n",
        "    if pr == 1:\n",
        "        models.append(res)"
      ],
      "metadata": {
        "id": "Z-zLqdsJ8I0j"
      },
      "execution_count": null,
      "outputs": []
    },
    {
      "cell_type": "code",
      "source": [
        "models #9952, 146822, 3917"
      ],
      "metadata": {
        "id": "XA3oa9Hy9FQ2",
        "colab": {
          "base_uri": "https://localhost:8080/"
        },
        "outputId": "000ac237-c16b-48c8-d0be-bf2050d4d860"
      },
      "execution_count": null,
      "outputs": [
        {
          "output_type": "execute_result",
          "data": {
            "text/plain": [
              "[{3917: {'before': {'linear_svm': 0.8554502369668247,\n",
              "    'logistic': 0.8578199052132701,\n",
              "    'linear_discriminant_analysis': 0.8436018957345972,\n",
              "    'gradboost': 0.8364928909952607,\n",
              "    'randomforest': 0.8507109004739336},\n",
              "   'k-fold': 2,\n",
              "   'train_shape': (1687, 32),\n",
              "   'test_shape': (422, 32),\n",
              "   'chgd_train_shape': (1687, 90),\n",
              "   'chgd_test_shape': (422, 90),\n",
              "   'after': {'linear_svm': 0.8507109004739336,\n",
              "    'logistic': 0.8554502369668247,\n",
              "    'linear_discriminant_analysis': 0.8412322274881516,\n",
              "    'gradboost': 0.8483412322274881,\n",
              "    'randomforest': 0.8483412322274881}}},\n",
              " {167119: {'before': {'linear_svm': 0.6767068273092369,\n",
              "    'logistic': 0.6745872378402499,\n",
              "    'linear_discriminant_analysis': 0.6751450245426149,\n",
              "    'gradboost': 0.6647701918786256,\n",
              "    'randomforest': 0.8654618473895582},\n",
              "   'k-fold': 3,\n",
              "   'train_shape': (35855, 20),\n",
              "   'test_shape': (8964, 20),\n",
              "   'chgd_train_shape': (35855, 47),\n",
              "   'chgd_test_shape': (8964, 47),\n",
              "   'after': {'linear_svm': 0.6749219098616689,\n",
              "    'logistic': 0.6734716644355199,\n",
              "    'linear_discriminant_analysis': 0.6713520749665328,\n",
              "    'gradboost': 0.6645470771976796,\n",
              "    'randomforest': 0.8694779116465864}}}]"
            ]
          },
          "metadata": {},
          "execution_count": 17
        }
      ]
    },
    {
      "cell_type": "code",
      "source": [
        "def calc_accuracy_lim(X, y, X_t, y_t):\n",
        "  models = [('linear_svm', svm.LinearSVC(max_iter=2000, random_state=42), 'decision_function'),\n",
        "            ('logistic', linear_model.LogisticRegression(solver = 'lbfgs', random_state=42, max_iter=1000, penalty='l2', C=1), 'predict_proba'),\n",
        "            ('linear_discriminant_analysis', LinearDiscriminantAnalysis(), 'predict_proba'),\n",
        "            ('gradboost', ensemble.GradientBoostingClassifier(random_state=42, n_estimators=10), 'predict_proba'),\n",
        "            ('randomforest', ensemble.RandomForestClassifier(random_state=42), 'predict_proba')]\n",
        "  ans = {}\n",
        "  for name, model, loss_func in models:\n",
        "      model.fit(X, y)\n",
        "      ans[name] = model.score(X_t, y_t)\n",
        "  return ans"
      ],
      "metadata": {
        "id": "fQqAqzHhGm3B"
      },
      "execution_count": null,
      "outputs": []
    },
    {
      "cell_type": "markdown",
      "source": [
        "######Плохие датасеты"
      ],
      "metadata": {
        "id": "8alrymdcuKkg"
      }
    },
    {
      "cell_type": "code",
      "source": [
        "# плохие датасеты 146818, 9977\n",
        "\n",
        "small_datasets = [3917]\n",
        "for task_id in small_datasets:\n",
        "    task = openml.tasks.get_task(task_id)\n",
        "    dataset = task.get_dataset()\n",
        "\n",
        "    X, y, _, _ = dataset.get_data(target=dataset.default_target_attribute)\n",
        "\n",
        "    # Заполнения пропусков\n",
        "    # null -> 0.000001\n",
        "    for col_ind in X.dtypes[X.dtypes == 'category'].index:\n",
        "        X[col_ind] = X[col_ind].cat.add_categories([0.000001])\n",
        "    X.fillna(0.000001, inplace=True)\n",
        "\n",
        "    # Получение меток классов и их строковое представление\n",
        "    class_labels = set(y)\n",
        "\n",
        "    # Создание словаря для преобразования строковых меток в числовые индексы\n",
        "    class_labels_map = {label: i for i, label in enumerate(class_labels)}\n",
        "    y_numeric = [class_labels_map[label] for label in y]\n",
        "\n",
        "    # Разделяем на трейн и тест\n",
        "    X_train, X_test, y_train, y_test = train_test_split(X, np.array(y_numeric), test_size=0.2, random_state=42)\n",
        "\n",
        "    # Кодируем категориальные\n",
        "    enc = CategoricalEncoder(encoder='binary', category_rate=0.9)\n",
        "    X_train = enc.fit_transform(X_train)\n",
        "    X_test = enc.transform(X_test)\n",
        "\n",
        "    # Ищем и нормируем вещественные\n",
        "    enc = NumericalEncoder(numeric_rate=0.9)\n",
        "    enc.fit_transform(X_train)\n",
        "    X_train = X_train.to_numpy()\n",
        "    X_test = X_test.to_numpy()\n",
        "    if enc.get_cols().shape[0] > 0:\n",
        "        pipe_sc = pipeline.Pipeline([('std_scaler',preprocessing.StandardScaler())])\n",
        "        pipe_sc.fit(X_train[:, enc.get_cols()])\n",
        "        X_train[:, enc.get_cols()] = pipe_sc.transform(X_train[:, enc.get_cols()])\n",
        "        X_test[:, enc.get_cols()] = pipe_sc.transform(X_test[:, enc.get_cols()])\n",
        "\n",
        "    acc_b = calc_accuracy_lim(X_train, y_train, X_test, y_test)\n",
        "    print('Номер датасета:', task_id)\n",
        "\n",
        "    # feat_gen = FeatureGenerationTransformer(thr=0.5, corr_gen=False)\n",
        "    # start_time = time.time()\n",
        "    # feat_gen.fit_transform(X_train)\n",
        "\n",
        "    # Применяем схему с генерацией и отбором\n",
        "    trans = FeatProcessing('class', 2, {'thr': 0.5}, sel_for_gen_kwargs={'typ': 'null_importance'}, sel_from_gen_kwargs={'typ': 'skb_mutual_info_classif'})\n",
        "    trans.fit(X_train, y_train)\n",
        "    X_train_gen = trans.transform(X_train)\n",
        "    X_test_gen = trans.transform(X_test)\n",
        "\n",
        "    # print(np.array_equal(X_train_gen[:,:X_train.shape[1]], X_train))\n",
        "    # X_train_gen = feat_gen.transform(X_train)\n",
        "    # X_test_gen = feat_gen.transform(X_test)\n",
        "\n",
        "    # end_time = time.time()\n",
        "    # elapsed_time = end_time - start_time\n",
        "    # print(f'Время генерации: {elapsed_time:.5f}')\n",
        "    print('Размер до генерации', X_train.shape)\n",
        "    print('Размер после генерации', X_train_gen.shape)\n",
        "\n",
        "    pipe_sc = pipeline.Pipeline([('std_scaler',preprocessing.StandardScaler())])\n",
        "    pipe_sc.fit(X_train_gen[:, X_train.shape[1]:])\n",
        "    X_train_gen[:, X_train.shape[1]:] = pipe_sc.transform(X_train_gen[:,  X_train.shape[1]:])\n",
        "    X_test_gen[:,  X_train.shape[1]:] = pipe_sc.transform(X_test_gen[:,  X_train.shape[1]:])\n",
        "\n",
        "    acc_a = calc_accuracy_lim(X_train_gen, y_train, X_test_gen, y_test)\n",
        "\n",
        "    # print(X_train_gen[:, 18])\n",
        "    print('Качество до генерации', acc_b)\n",
        "    print('Качество после генерации', acc_a)\n",
        "\n",
        "    pr = 0\n",
        "    pr += 1 if acc_a['linear_svm'] - acc_b['linear_svm'] > 0 else 0\n",
        "    pr += 1 if acc_a['logistic'] - acc_b['logistic'] > 0 else 0\n",
        "    pr += 1 if acc_a['linear_discriminant_analysis'] - acc_b['linear_discriminant_analysis'] > 0 else 0\n",
        "    pr += 1 if acc_a['gradboost'] - acc_b['gradboost'] > 0 else 0\n",
        "    pr += 1 if acc_a['randomforest'] - acc_b['randomforest'] > 0 else 0\n",
        "\n",
        "    print('Количество моделей с приростом качества:', pr)\n",
        "    print('------------------------------------------------------------')"
      ],
      "metadata": {
        "colab": {
          "base_uri": "https://localhost:8080/",
          "height": 1000
        },
        "id": "vgm2DnldtUKk",
        "outputId": "1307de5d-403d-4087-88ed-321545ce55d3"
      },
      "execution_count": null,
      "outputs": [
        {
          "output_type": "stream",
          "name": "stderr",
          "text": [
            "/usr/local/lib/python3.10/dist-packages/IPython/core/interactiveshell.py:3553: FutureWarning: Starting from Version 0.15.0 `download_splits` will default to ``False`` instead of ``True`` and be independent from `download_data`. To disable this message until version 0.15 explicitly set `download_splits` to a bool.\n",
            "  exec(code_obj, self.user_global_ns, self.user_ns)\n",
            "/usr/local/lib/python3.10/dist-packages/openml/tasks/functions.py:442: FutureWarning: Starting from Version 0.15 `download_data`, `download_qualities`, and `download_features_meta_data` will all be ``False`` instead of ``True`` by default to enable lazy loading. To disable this message until version 0.15 explicitly set `download_data`, `download_qualities`, and `download_features_meta_data` to a bool while calling `get_dataset`.\n",
            "  dataset = get_dataset(task.dataset_id, *dataset_args, **get_dataset_kwargs)\n",
            "/usr/local/lib/python3.10/dist-packages/openml/tasks/task.py:150: FutureWarning: Starting from Version 0.15 `download_data`, `download_qualities`, and `download_features_meta_data` will all be ``False`` instead of ``True`` by default to enable lazy loading. To disable this message until version 0.15 explicitly set `download_data`, `download_qualities`, and `download_features_meta_data` to a bool while calling `get_dataset`.\n",
            "  return datasets.get_dataset(self.dataset_id)\n",
            "/usr/local/lib/python3.10/dist-packages/sklearn/svm/_base.py:1244: ConvergenceWarning: Liblinear failed to converge, increase the number of iterations.\n",
            "  warnings.warn(\n"
          ]
        },
        {
          "output_type": "stream",
          "name": "stdout",
          "text": [
            "Номер датасета: 3917\n",
            "(1687, 32)\n",
            "1340.9027945872003 2256.470829304424\n",
            "f 0.5204588983792683 g <class 'numpy.float64'>\n",
            "211.6794154731324 195.3753677904606\n",
            "f -0.08015026776788932 g <class 'numpy.float64'>\n",
            "117.28792165592313 401.3891294002533\n",
            "f 1.2302995736096887 g <class 'numpy.float64'>\n",
            "207.30212224274874 82.84988021850586\n",
            "f -0.9171469588245702 g <class 'numpy.float64'>\n",
            "734.2311150176392 2142.98640766833\n",
            "f 1.0711318031387822 g <class 'numpy.float64'>\n",
            "668.0772817566758 1159.9029235657654\n",
            "f 0.5516877359198187 g <class 'numpy.float64'>\n",
            "688.4075344189187 726.9559215103509\n",
            "f 0.054484835931134276 g <class 'numpy.float64'>\n",
            "945.3644563206472 1230.5580369085073\n",
            "f 0.2636525128173277 g <class 'numpy.float64'>\n",
            "1518.6490798913874 3545.691678947129\n",
            "f 0.8479120784556261 g <class 'numpy.float64'>\n",
            "938.6118811097695 840.8451754972339\n",
            "f -0.10999451430893356 g <class 'numpy.float64'>\n",
            "128.2105503231287 899.5684000551701\n",
            "f 1.9482412558938529 g <class 'numpy.float64'>\n",
            "387.69708674179856 315.7711209227564\n",
            "f -0.20520668016432042 g <class 'numpy.float64'>\n",
            "883.8484128836935 2129.607867800398\n",
            "f 0.8794075728356834 g <class 'numpy.float64'>\n",
            "0.0 0.0\n",
            "f nan g <class 'numpy.float64'>\n",
            "0.0 0.0\n",
            "f nan g <class 'numpy.float64'>\n",
            "109.18243226408958 202.00698792934418\n",
            "f 0.6152821168461973 g <class 'numpy.float64'>\n",
            "105.43996173143387 48.67957031726837\n",
            "f -0.7728822664110808 g <class 'numpy.float64'>\n",
            "50.53226286172867 167.7750506401062\n",
            "f 1.20001209703694 g <class 'numpy.float64'>\n",
            "0.0 0.0\n",
            "f nan g <class 'numpy.float64'>\n",
            "42.45979729294777 2.8425300121307373\n",
            "f -2.703863177248617 g <class 'numpy.float64'>\n",
            "148.9982771500945 297.4944797158241\n",
            "f 0.6914609261088994 g <class 'numpy.float64'>\n",
            "121.01768787205219 116.37665069103241\n",
            "f -0.039104795936621035 g <class 'numpy.float64'>\n",
            "168.2983205728233 214.44279825687408\n",
            "f 0.24230490563502974 g <class 'numpy.float64'>\n",
            "0.0 0.0\n",
            "f nan g <class 'numpy.float64'>\n",
            "10.604537218809128 13.576399803161621\n",
            "f 0.2470510277133449 g <class 'numpy.float64'>\n",
            "0.0 0.0\n",
            "f nan g <class 'numpy.float64'>\n",
            "17.347289741039276 5.412010192871094\n",
            "f -1.1648156896093755 g <class 'numpy.float64'>\n",
            "514.5698370188475 1453.1843335417216\n",
            "f 1.0381812359182105 g <class 'numpy.float64'>\n",
            "580.9833396892063 1003.8230132674798\n",
            "f 0.5468489218991054 g <class 'numpy.float64'>\n",
            "530.5856043817475 4820.943618687801\n",
            "f 2.20674364889003 g <class 'numpy.float64'>\n",
            "487.6620262149954 1905.1345469653606\n",
            "f 1.36268531671029 g <class 'numpy.float64'>\n",
            "104.30048026144505 86.95878982543945\n",
            "f -0.1818416403467585 g <class 'numpy.float64'>\n"
          ]
        },
        {
          "output_type": "stream",
          "name": "stderr",
          "text": [
            "<ipython-input-22-1eea5e32194c>:91: RuntimeWarning: invalid value encountered in scalar divide\n",
            "  feat_score = np.log(actual_imp/_sf_p)\n"
          ]
        },
        {
          "output_type": "error",
          "ename": "ValueError",
          "evalue": "Found array with 0 feature(s) (shape=(844, 0)) while a minimum of 1 is required by StandardScaler.",
          "traceback": [
            "\u001b[0;31m---------------------------------------------------------------------------\u001b[0m",
            "\u001b[0;31mValueError\u001b[0m                                Traceback (most recent call last)",
            "\u001b[0;32m<ipython-input-23-4f34559a4918>\u001b[0m in \u001b[0;36m<cell line: 4>\u001b[0;34m()\u001b[0m\n\u001b[1;32m     49\u001b[0m     \u001b[0;31m# Применяем схему с генерацией и отбором\u001b[0m\u001b[0;34m\u001b[0m\u001b[0;34m\u001b[0m\u001b[0m\n\u001b[1;32m     50\u001b[0m     \u001b[0mtrans\u001b[0m \u001b[0;34m=\u001b[0m \u001b[0mFeatProcessing\u001b[0m\u001b[0;34m(\u001b[0m\u001b[0;34m'class'\u001b[0m\u001b[0;34m,\u001b[0m \u001b[0;36m2\u001b[0m\u001b[0;34m,\u001b[0m \u001b[0;34m{\u001b[0m\u001b[0;34m'thr'\u001b[0m\u001b[0;34m:\u001b[0m \u001b[0;36m0.5\u001b[0m\u001b[0;34m}\u001b[0m\u001b[0;34m,\u001b[0m \u001b[0msel_for_gen_kwargs\u001b[0m\u001b[0;34m=\u001b[0m\u001b[0;34m{\u001b[0m\u001b[0;34m'typ'\u001b[0m\u001b[0;34m:\u001b[0m \u001b[0;34m'null_importance'\u001b[0m\u001b[0;34m}\u001b[0m\u001b[0;34m,\u001b[0m \u001b[0msel_from_gen_kwargs\u001b[0m\u001b[0;34m=\u001b[0m\u001b[0;34m{\u001b[0m\u001b[0;34m'typ'\u001b[0m\u001b[0;34m:\u001b[0m \u001b[0;34m'skb_mutual_info_classif'\u001b[0m\u001b[0;34m}\u001b[0m\u001b[0;34m)\u001b[0m\u001b[0;34m\u001b[0m\u001b[0;34m\u001b[0m\u001b[0m\n\u001b[0;32m---> 51\u001b[0;31m     \u001b[0mtrans\u001b[0m\u001b[0;34m.\u001b[0m\u001b[0mfit\u001b[0m\u001b[0;34m(\u001b[0m\u001b[0mX_train\u001b[0m\u001b[0;34m,\u001b[0m \u001b[0my_train\u001b[0m\u001b[0;34m)\u001b[0m\u001b[0;34m\u001b[0m\u001b[0;34m\u001b[0m\u001b[0m\n\u001b[0m\u001b[1;32m     52\u001b[0m     \u001b[0mX_train_gen\u001b[0m \u001b[0;34m=\u001b[0m \u001b[0mtrans\u001b[0m\u001b[0;34m.\u001b[0m\u001b[0mtransform\u001b[0m\u001b[0;34m(\u001b[0m\u001b[0mX_train\u001b[0m\u001b[0;34m)\u001b[0m\u001b[0;34m\u001b[0m\u001b[0;34m\u001b[0m\u001b[0m\n\u001b[1;32m     53\u001b[0m     \u001b[0mX_test_gen\u001b[0m \u001b[0;34m=\u001b[0m \u001b[0mtrans\u001b[0m\u001b[0;34m.\u001b[0m\u001b[0mtransform\u001b[0m\u001b[0;34m(\u001b[0m\u001b[0mX_test\u001b[0m\u001b[0;34m)\u001b[0m\u001b[0;34m\u001b[0m\u001b[0;34m\u001b[0m\u001b[0m\n",
            "\u001b[0;32m<ipython-input-10-022bb445aed7>\u001b[0m in \u001b[0;36mfit\u001b[0;34m(self, X, y)\u001b[0m\n\u001b[1;32m     47\u001b[0m \u001b[0;34m\u001b[0m\u001b[0m\n\u001b[1;32m     48\u001b[0m         \u001b[0mpipe_sc\u001b[0m \u001b[0;34m=\u001b[0m \u001b[0mpipeline\u001b[0m\u001b[0;34m.\u001b[0m\u001b[0mPipeline\u001b[0m\u001b[0;34m(\u001b[0m\u001b[0;34m[\u001b[0m\u001b[0;34m(\u001b[0m\u001b[0;34m'std_scaler'\u001b[0m\u001b[0;34m,\u001b[0m\u001b[0mpreprocessing\u001b[0m\u001b[0;34m.\u001b[0m\u001b[0mStandardScaler\u001b[0m\u001b[0;34m(\u001b[0m\u001b[0;34m)\u001b[0m\u001b[0;34m)\u001b[0m\u001b[0;34m]\u001b[0m\u001b[0;34m)\u001b[0m\u001b[0;34m\u001b[0m\u001b[0;34m\u001b[0m\u001b[0m\n\u001b[0;32m---> 49\u001b[0;31m         \u001b[0mX_gen\u001b[0m\u001b[0;34m[\u001b[0m\u001b[0;34m:\u001b[0m\u001b[0;34m,\u001b[0m \u001b[0mX_val\u001b[0m\u001b[0;34m.\u001b[0m\u001b[0mshape\u001b[0m\u001b[0;34m[\u001b[0m\u001b[0;36m1\u001b[0m\u001b[0;34m]\u001b[0m\u001b[0;34m:\u001b[0m\u001b[0;34m]\u001b[0m \u001b[0;34m=\u001b[0m \u001b[0mpipe_sc\u001b[0m\u001b[0;34m.\u001b[0m\u001b[0mfit_transform\u001b[0m\u001b[0;34m(\u001b[0m\u001b[0mX_gen\u001b[0m\u001b[0;34m[\u001b[0m\u001b[0;34m:\u001b[0m\u001b[0;34m,\u001b[0m  \u001b[0mX_val\u001b[0m\u001b[0;34m.\u001b[0m\u001b[0mshape\u001b[0m\u001b[0;34m[\u001b[0m\u001b[0;36m1\u001b[0m\u001b[0;34m]\u001b[0m\u001b[0;34m:\u001b[0m\u001b[0;34m]\u001b[0m\u001b[0;34m)\u001b[0m\u001b[0;34m\u001b[0m\u001b[0;34m\u001b[0m\u001b[0m\n\u001b[0m\u001b[1;32m     50\u001b[0m         \u001b[0;31m#2 SEL\u001b[0m\u001b[0;34m\u001b[0m\u001b[0;34m\u001b[0m\u001b[0m\n\u001b[1;32m     51\u001b[0m         \u001b[0mself\u001b[0m\u001b[0;34m.\u001b[0m\u001b[0msel_from_gen\u001b[0m \u001b[0;34m=\u001b[0m \u001b[0mFeatureSelectionTransformer\u001b[0m\u001b[0;34m(\u001b[0m\u001b[0;34m**\u001b[0m\u001b[0mself\u001b[0m\u001b[0;34m.\u001b[0m\u001b[0msel_from_gen_kwargs\u001b[0m\u001b[0;34m)\u001b[0m\u001b[0;34m\u001b[0m\u001b[0;34m\u001b[0m\u001b[0m\n",
            "\u001b[0;32m/usr/local/lib/python3.10/dist-packages/sklearn/pipeline.py\u001b[0m in \u001b[0;36mfit_transform\u001b[0;34m(self, X, y, **fit_params)\u001b[0m\n\u001b[1;32m    443\u001b[0m             \u001b[0mfit_params_last_step\u001b[0m \u001b[0;34m=\u001b[0m \u001b[0mfit_params_steps\u001b[0m\u001b[0;34m[\u001b[0m\u001b[0mself\u001b[0m\u001b[0;34m.\u001b[0m\u001b[0msteps\u001b[0m\u001b[0;34m[\u001b[0m\u001b[0;34m-\u001b[0m\u001b[0;36m1\u001b[0m\u001b[0;34m]\u001b[0m\u001b[0;34m[\u001b[0m\u001b[0;36m0\u001b[0m\u001b[0;34m]\u001b[0m\u001b[0;34m]\u001b[0m\u001b[0;34m\u001b[0m\u001b[0;34m\u001b[0m\u001b[0m\n\u001b[1;32m    444\u001b[0m             \u001b[0;32mif\u001b[0m \u001b[0mhasattr\u001b[0m\u001b[0;34m(\u001b[0m\u001b[0mlast_step\u001b[0m\u001b[0;34m,\u001b[0m \u001b[0;34m\"fit_transform\"\u001b[0m\u001b[0;34m)\u001b[0m\u001b[0;34m:\u001b[0m\u001b[0;34m\u001b[0m\u001b[0;34m\u001b[0m\u001b[0m\n\u001b[0;32m--> 445\u001b[0;31m                 \u001b[0;32mreturn\u001b[0m \u001b[0mlast_step\u001b[0m\u001b[0;34m.\u001b[0m\u001b[0mfit_transform\u001b[0m\u001b[0;34m(\u001b[0m\u001b[0mXt\u001b[0m\u001b[0;34m,\u001b[0m \u001b[0my\u001b[0m\u001b[0;34m,\u001b[0m \u001b[0;34m**\u001b[0m\u001b[0mfit_params_last_step\u001b[0m\u001b[0;34m)\u001b[0m\u001b[0;34m\u001b[0m\u001b[0;34m\u001b[0m\u001b[0m\n\u001b[0m\u001b[1;32m    446\u001b[0m             \u001b[0;32melse\u001b[0m\u001b[0;34m:\u001b[0m\u001b[0;34m\u001b[0m\u001b[0;34m\u001b[0m\u001b[0m\n\u001b[1;32m    447\u001b[0m                 \u001b[0;32mreturn\u001b[0m \u001b[0mlast_step\u001b[0m\u001b[0;34m.\u001b[0m\u001b[0mfit\u001b[0m\u001b[0;34m(\u001b[0m\u001b[0mXt\u001b[0m\u001b[0;34m,\u001b[0m \u001b[0my\u001b[0m\u001b[0;34m,\u001b[0m \u001b[0;34m**\u001b[0m\u001b[0mfit_params_last_step\u001b[0m\u001b[0;34m)\u001b[0m\u001b[0;34m.\u001b[0m\u001b[0mtransform\u001b[0m\u001b[0;34m(\u001b[0m\u001b[0mXt\u001b[0m\u001b[0;34m)\u001b[0m\u001b[0;34m\u001b[0m\u001b[0;34m\u001b[0m\u001b[0m\n",
            "\u001b[0;32m/usr/local/lib/python3.10/dist-packages/sklearn/utils/_set_output.py\u001b[0m in \u001b[0;36mwrapped\u001b[0;34m(self, X, *args, **kwargs)\u001b[0m\n\u001b[1;32m    138\u001b[0m     \u001b[0;34m@\u001b[0m\u001b[0mwraps\u001b[0m\u001b[0;34m(\u001b[0m\u001b[0mf\u001b[0m\u001b[0;34m)\u001b[0m\u001b[0;34m\u001b[0m\u001b[0;34m\u001b[0m\u001b[0m\n\u001b[1;32m    139\u001b[0m     \u001b[0;32mdef\u001b[0m \u001b[0mwrapped\u001b[0m\u001b[0;34m(\u001b[0m\u001b[0mself\u001b[0m\u001b[0;34m,\u001b[0m \u001b[0mX\u001b[0m\u001b[0;34m,\u001b[0m \u001b[0;34m*\u001b[0m\u001b[0margs\u001b[0m\u001b[0;34m,\u001b[0m \u001b[0;34m**\u001b[0m\u001b[0mkwargs\u001b[0m\u001b[0;34m)\u001b[0m\u001b[0;34m:\u001b[0m\u001b[0;34m\u001b[0m\u001b[0;34m\u001b[0m\u001b[0m\n\u001b[0;32m--> 140\u001b[0;31m         \u001b[0mdata_to_wrap\u001b[0m \u001b[0;34m=\u001b[0m \u001b[0mf\u001b[0m\u001b[0;34m(\u001b[0m\u001b[0mself\u001b[0m\u001b[0;34m,\u001b[0m \u001b[0mX\u001b[0m\u001b[0;34m,\u001b[0m \u001b[0;34m*\u001b[0m\u001b[0margs\u001b[0m\u001b[0;34m,\u001b[0m \u001b[0;34m**\u001b[0m\u001b[0mkwargs\u001b[0m\u001b[0;34m)\u001b[0m\u001b[0;34m\u001b[0m\u001b[0;34m\u001b[0m\u001b[0m\n\u001b[0m\u001b[1;32m    141\u001b[0m         \u001b[0;32mif\u001b[0m \u001b[0misinstance\u001b[0m\u001b[0;34m(\u001b[0m\u001b[0mdata_to_wrap\u001b[0m\u001b[0;34m,\u001b[0m \u001b[0mtuple\u001b[0m\u001b[0;34m)\u001b[0m\u001b[0;34m:\u001b[0m\u001b[0;34m\u001b[0m\u001b[0;34m\u001b[0m\u001b[0m\n\u001b[1;32m    142\u001b[0m             \u001b[0;31m# only wrap the first output for cross decomposition\u001b[0m\u001b[0;34m\u001b[0m\u001b[0;34m\u001b[0m\u001b[0m\n",
            "\u001b[0;32m/usr/local/lib/python3.10/dist-packages/sklearn/base.py\u001b[0m in \u001b[0;36mfit_transform\u001b[0;34m(self, X, y, **fit_params)\u001b[0m\n\u001b[1;32m    876\u001b[0m         \u001b[0;32mif\u001b[0m \u001b[0my\u001b[0m \u001b[0;32mis\u001b[0m \u001b[0;32mNone\u001b[0m\u001b[0;34m:\u001b[0m\u001b[0;34m\u001b[0m\u001b[0;34m\u001b[0m\u001b[0m\n\u001b[1;32m    877\u001b[0m             \u001b[0;31m# fit method of arity 1 (unsupervised transformation)\u001b[0m\u001b[0;34m\u001b[0m\u001b[0;34m\u001b[0m\u001b[0m\n\u001b[0;32m--> 878\u001b[0;31m             \u001b[0;32mreturn\u001b[0m \u001b[0mself\u001b[0m\u001b[0;34m.\u001b[0m\u001b[0mfit\u001b[0m\u001b[0;34m(\u001b[0m\u001b[0mX\u001b[0m\u001b[0;34m,\u001b[0m \u001b[0;34m**\u001b[0m\u001b[0mfit_params\u001b[0m\u001b[0;34m)\u001b[0m\u001b[0;34m.\u001b[0m\u001b[0mtransform\u001b[0m\u001b[0;34m(\u001b[0m\u001b[0mX\u001b[0m\u001b[0;34m)\u001b[0m\u001b[0;34m\u001b[0m\u001b[0;34m\u001b[0m\u001b[0m\n\u001b[0m\u001b[1;32m    879\u001b[0m         \u001b[0;32melse\u001b[0m\u001b[0;34m:\u001b[0m\u001b[0;34m\u001b[0m\u001b[0;34m\u001b[0m\u001b[0m\n\u001b[1;32m    880\u001b[0m             \u001b[0;31m# fit method of arity 2 (supervised transformation)\u001b[0m\u001b[0;34m\u001b[0m\u001b[0;34m\u001b[0m\u001b[0m\n",
            "\u001b[0;32m/usr/local/lib/python3.10/dist-packages/sklearn/preprocessing/_data.py\u001b[0m in \u001b[0;36mfit\u001b[0;34m(self, X, y, sample_weight)\u001b[0m\n\u001b[1;32m    822\u001b[0m         \u001b[0;31m# Reset internal state before fitting\u001b[0m\u001b[0;34m\u001b[0m\u001b[0;34m\u001b[0m\u001b[0m\n\u001b[1;32m    823\u001b[0m         \u001b[0mself\u001b[0m\u001b[0;34m.\u001b[0m\u001b[0m_reset\u001b[0m\u001b[0;34m(\u001b[0m\u001b[0;34m)\u001b[0m\u001b[0;34m\u001b[0m\u001b[0;34m\u001b[0m\u001b[0m\n\u001b[0;32m--> 824\u001b[0;31m         \u001b[0;32mreturn\u001b[0m \u001b[0mself\u001b[0m\u001b[0;34m.\u001b[0m\u001b[0mpartial_fit\u001b[0m\u001b[0;34m(\u001b[0m\u001b[0mX\u001b[0m\u001b[0;34m,\u001b[0m \u001b[0my\u001b[0m\u001b[0;34m,\u001b[0m \u001b[0msample_weight\u001b[0m\u001b[0;34m)\u001b[0m\u001b[0;34m\u001b[0m\u001b[0;34m\u001b[0m\u001b[0m\n\u001b[0m\u001b[1;32m    825\u001b[0m \u001b[0;34m\u001b[0m\u001b[0m\n\u001b[1;32m    826\u001b[0m     \u001b[0;32mdef\u001b[0m \u001b[0mpartial_fit\u001b[0m\u001b[0;34m(\u001b[0m\u001b[0mself\u001b[0m\u001b[0;34m,\u001b[0m \u001b[0mX\u001b[0m\u001b[0;34m,\u001b[0m \u001b[0my\u001b[0m\u001b[0;34m=\u001b[0m\u001b[0;32mNone\u001b[0m\u001b[0;34m,\u001b[0m \u001b[0msample_weight\u001b[0m\u001b[0;34m=\u001b[0m\u001b[0;32mNone\u001b[0m\u001b[0;34m)\u001b[0m\u001b[0;34m:\u001b[0m\u001b[0;34m\u001b[0m\u001b[0;34m\u001b[0m\u001b[0m\n",
            "\u001b[0;32m/usr/local/lib/python3.10/dist-packages/sklearn/preprocessing/_data.py\u001b[0m in \u001b[0;36mpartial_fit\u001b[0;34m(self, X, y, sample_weight)\u001b[0m\n\u001b[1;32m    859\u001b[0m \u001b[0;34m\u001b[0m\u001b[0m\n\u001b[1;32m    860\u001b[0m         \u001b[0mfirst_call\u001b[0m \u001b[0;34m=\u001b[0m \u001b[0;32mnot\u001b[0m \u001b[0mhasattr\u001b[0m\u001b[0;34m(\u001b[0m\u001b[0mself\u001b[0m\u001b[0;34m,\u001b[0m \u001b[0;34m\"n_samples_seen_\"\u001b[0m\u001b[0;34m)\u001b[0m\u001b[0;34m\u001b[0m\u001b[0;34m\u001b[0m\u001b[0m\n\u001b[0;32m--> 861\u001b[0;31m         X = self._validate_data(\n\u001b[0m\u001b[1;32m    862\u001b[0m             \u001b[0mX\u001b[0m\u001b[0;34m,\u001b[0m\u001b[0;34m\u001b[0m\u001b[0;34m\u001b[0m\u001b[0m\n\u001b[1;32m    863\u001b[0m             \u001b[0maccept_sparse\u001b[0m\u001b[0;34m=\u001b[0m\u001b[0;34m(\u001b[0m\u001b[0;34m\"csr\"\u001b[0m\u001b[0;34m,\u001b[0m \u001b[0;34m\"csc\"\u001b[0m\u001b[0;34m)\u001b[0m\u001b[0;34m,\u001b[0m\u001b[0;34m\u001b[0m\u001b[0;34m\u001b[0m\u001b[0m\n",
            "\u001b[0;32m/usr/local/lib/python3.10/dist-packages/sklearn/base.py\u001b[0m in \u001b[0;36m_validate_data\u001b[0;34m(self, X, y, reset, validate_separately, **check_params)\u001b[0m\n\u001b[1;32m    563\u001b[0m             \u001b[0;32mraise\u001b[0m \u001b[0mValueError\u001b[0m\u001b[0;34m(\u001b[0m\u001b[0;34m\"Validation should be done on X, y or both.\"\u001b[0m\u001b[0;34m)\u001b[0m\u001b[0;34m\u001b[0m\u001b[0;34m\u001b[0m\u001b[0m\n\u001b[1;32m    564\u001b[0m         \u001b[0;32melif\u001b[0m \u001b[0;32mnot\u001b[0m \u001b[0mno_val_X\u001b[0m \u001b[0;32mand\u001b[0m \u001b[0mno_val_y\u001b[0m\u001b[0;34m:\u001b[0m\u001b[0;34m\u001b[0m\u001b[0;34m\u001b[0m\u001b[0m\n\u001b[0;32m--> 565\u001b[0;31m             \u001b[0mX\u001b[0m \u001b[0;34m=\u001b[0m \u001b[0mcheck_array\u001b[0m\u001b[0;34m(\u001b[0m\u001b[0mX\u001b[0m\u001b[0;34m,\u001b[0m \u001b[0minput_name\u001b[0m\u001b[0;34m=\u001b[0m\u001b[0;34m\"X\"\u001b[0m\u001b[0;34m,\u001b[0m \u001b[0;34m**\u001b[0m\u001b[0mcheck_params\u001b[0m\u001b[0;34m)\u001b[0m\u001b[0;34m\u001b[0m\u001b[0;34m\u001b[0m\u001b[0m\n\u001b[0m\u001b[1;32m    566\u001b[0m             \u001b[0mout\u001b[0m \u001b[0;34m=\u001b[0m \u001b[0mX\u001b[0m\u001b[0;34m\u001b[0m\u001b[0;34m\u001b[0m\u001b[0m\n\u001b[1;32m    567\u001b[0m         \u001b[0;32melif\u001b[0m \u001b[0mno_val_X\u001b[0m \u001b[0;32mand\u001b[0m \u001b[0;32mnot\u001b[0m \u001b[0mno_val_y\u001b[0m\u001b[0;34m:\u001b[0m\u001b[0;34m\u001b[0m\u001b[0;34m\u001b[0m\u001b[0m\n",
            "\u001b[0;32m/usr/local/lib/python3.10/dist-packages/sklearn/utils/validation.py\u001b[0m in \u001b[0;36mcheck_array\u001b[0;34m(array, accept_sparse, accept_large_sparse, dtype, order, copy, force_all_finite, ensure_2d, allow_nd, ensure_min_samples, ensure_min_features, estimator, input_name)\u001b[0m\n\u001b[1;32m    938\u001b[0m         \u001b[0mn_features\u001b[0m \u001b[0;34m=\u001b[0m \u001b[0marray\u001b[0m\u001b[0;34m.\u001b[0m\u001b[0mshape\u001b[0m\u001b[0;34m[\u001b[0m\u001b[0;36m1\u001b[0m\u001b[0;34m]\u001b[0m\u001b[0;34m\u001b[0m\u001b[0;34m\u001b[0m\u001b[0m\n\u001b[1;32m    939\u001b[0m         \u001b[0;32mif\u001b[0m \u001b[0mn_features\u001b[0m \u001b[0;34m<\u001b[0m \u001b[0mensure_min_features\u001b[0m\u001b[0;34m:\u001b[0m\u001b[0;34m\u001b[0m\u001b[0;34m\u001b[0m\u001b[0m\n\u001b[0;32m--> 940\u001b[0;31m             raise ValueError(\n\u001b[0m\u001b[1;32m    941\u001b[0m                 \u001b[0;34m\"Found array with %d feature(s) (shape=%s) while\"\u001b[0m\u001b[0;34m\u001b[0m\u001b[0;34m\u001b[0m\u001b[0m\n\u001b[1;32m    942\u001b[0m                 \u001b[0;34m\" a minimum of %d is required%s.\"\u001b[0m\u001b[0;34m\u001b[0m\u001b[0;34m\u001b[0m\u001b[0m\n",
            "\u001b[0;31mValueError\u001b[0m: Found array with 0 feature(s) (shape=(844, 0)) while a minimum of 1 is required by StandardScaler."
          ]
        }
      ]
    },
    {
      "cell_type": "markdown",
      "source": [
        "Качество до генерации {'linear_svm': 0.8554502369668247, 'logistic': 0.8578199052132701, 'linear_discriminant_analysis': 0.8436018957345972, 'gradboost': 0.8364928909952607, 'randomforest': 0.8507109004739336} <br>\n",
        "Качество после генерации {'linear_svm': 0.8554502369668247, 'logistic': 0.8530805687203792, 'linear_discriminant_analysis': 0.8436018957345972, 'gradboost': 0.8483412322274881, 'randomforest': 0.8388625592417062}"
      ],
      "metadata": {
        "id": "teIQ9kEX2Log"
      }
    },
    {
      "cell_type": "markdown",
      "source": [
        "######Результаты обычной генерации"
      ],
      "metadata": {
        "id": "1ZiAxfhruCWI"
      }
    },
    {
      "cell_type": "code",
      "source": [
        "task = openml.tasks.get_task(9952)\n",
        "task"
      ],
      "metadata": {
        "colab": {
          "base_uri": "https://localhost:8080/"
        },
        "id": "_H2YeXRPMFIc",
        "outputId": "7eda1584-d55a-4ee9-99a9-22f6a9b72f15"
      },
      "execution_count": null,
      "outputs": [
        {
          "output_type": "stream",
          "name": "stderr",
          "text": [
            "/usr/local/lib/python3.10/dist-packages/IPython/core/interactiveshell.py:3553: FutureWarning: Starting from Version 0.15.0 `download_splits` will default to ``False`` instead of ``True`` and be independent from `download_data`. To disable this message until version 0.15 explicitly set `download_splits` to a bool.\n",
            "  exec(code_obj, self.user_global_ns, self.user_ns)\n",
            "/usr/local/lib/python3.10/dist-packages/openml/tasks/functions.py:442: FutureWarning: Starting from Version 0.15 `download_data`, `download_qualities`, and `download_features_meta_data` will all be ``False`` instead of ``True`` by default to enable lazy loading. To disable this message until version 0.15 explicitly set `download_data`, `download_qualities`, and `download_features_meta_data` to a bool while calling `get_dataset`.\n",
            "  dataset = get_dataset(task.dataset_id, *dataset_args, **get_dataset_kwargs)\n"
          ]
        },
        {
          "output_type": "execute_result",
          "data": {
            "text/plain": [
              "OpenML Classification Task\n",
              "==========================\n",
              "Task Type Description: https://www.openml.org/tt/TaskType.SUPERVISED_CLASSIFICATION\n",
              "Task ID..............: 9952\n",
              "Task URL.............: https://www.openml.org/t/9952\n",
              "Estimation Procedure.: crossvalidation\n",
              "Target Feature.......: Class\n",
              "# of Classes.........: 2\n",
              "Cost Matrix..........: Available"
            ]
          },
          "metadata": {},
          "execution_count": 178
        }
      ]
    },
    {
      "cell_type": "code",
      "source": [
        "small_datasets = [9952, 146822, 3917]\n",
        "for task_id in small_datasets:\n",
        "    task = openml.tasks.get_task(task_id)\n",
        "    dataset = task.get_dataset()\n",
        "\n",
        "    X, y, _, _ = dataset.get_data(target=dataset.default_target_attribute)\n",
        "\n",
        "    # Заполнения пропусков\n",
        "    # null -> 0.000001\n",
        "    for col_ind in X.dtypes[X.dtypes == 'category'].index:\n",
        "        X[col_ind] = X[col_ind].cat.add_categories([0.000001])\n",
        "    X.fillna(0.000001, inplace=True)\n",
        "\n",
        "    # Получение меток классов и их строковое представление\n",
        "    class_labels = set(y)\n",
        "\n",
        "    # Создание словаря для преобразования строковых меток в числовые индексы\n",
        "    class_labels_map = {label: i for i, label in enumerate(class_labels)}\n",
        "    y_numeric = [class_labels_map[label] for label in y]\n",
        "\n",
        "    # Разделяем на трейн и тест\n",
        "    X_train, X_test, y_train, y_test = train_test_split(X, np.array(y_numeric), test_size=0.2, random_state=42)\n",
        "\n",
        "    # Кодируем категориальные\n",
        "    enc = CategoricalEncoder(encoder='binary', category_rate=0.9)\n",
        "    X_train = enc.fit_transform(X_train)\n",
        "    X_test = enc.transform(X_test)\n",
        "\n",
        "    # Ищем и нормируем вещественные\n",
        "    enc = NumericalEncoder(numeric_rate=0.9)\n",
        "    enc.fit_transform(X_train)\n",
        "    X_train = X_train.to_numpy()\n",
        "    X_test = X_test.to_numpy()\n",
        "    if enc.get_cols().shape[0] > 0:\n",
        "        pipe_sc = pipeline.Pipeline([('std_scaler',preprocessing.StandardScaler())])\n",
        "        pipe_sc.fit(X_train[:, enc.get_cols()])\n",
        "        X_train[:, enc.get_cols()] = pipe_sc.transform(X_train[:, enc.get_cols()])\n",
        "        X_test[:, enc.get_cols()] = pipe_sc.transform(X_test[:, enc.get_cols()])\n",
        "\n",
        "    acc_b = calc_accuracy_lim(X_train, y_train, X_test, y_test)\n",
        "    print('Номер датасета:', task_id)\n",
        "\n",
        "    feat_gen = FeatureGenerationTransformer(thr=0.5, corr_gen=False)\n",
        "    start_time = time.time()\n",
        "    feat_gen.fit_transform(X_train)\n",
        "\n",
        "    X_train_gen = feat_gen.transform(X_train)\n",
        "    X_test_gen = feat_gen.transform(X_test)\n",
        "\n",
        "    end_time = time.time()\n",
        "    elapsed_time = end_time - start_time\n",
        "    print(f'Время генерации: {elapsed_time:.5f}')\n",
        "    print('Размер до генерации', X_train.shape)\n",
        "    print('Размер после генерации', X_train_gen.shape)\n",
        "\n",
        "    pipe_sc = pipeline.Pipeline([('std_scaler',preprocessing.StandardScaler())])\n",
        "    pipe_sc.fit(X_train_gen[:, X_train.shape[1]:])\n",
        "    X_train_gen[:, X_train.shape[1]:] = pipe_sc.transform(X_train_gen[:,  X_train.shape[1]:])\n",
        "    X_test_gen[:,  X_train.shape[1]:] = pipe_sc.transform(X_test_gen[:,  X_train.shape[1]:])\n",
        "\n",
        "    acc_a = calc_accuracy_lim(X_train_gen, y_train, X_test_gen, y_test)\n",
        "\n",
        "    # print(X_train_gen[:, 18])\n",
        "    print('Качество до генерации', acc_b)\n",
        "    print('Качество после генерации', acc_a)\n",
        "\n",
        "    pr = 0\n",
        "    pr += 1 if acc_a['linear_svm'] - acc_b['linear_svm'] > 0 else 0\n",
        "    pr += 1 if acc_a['logistic'] - acc_b['logistic'] > 0 else 0\n",
        "    pr += 1 if acc_a['linear_discriminant_analysis'] - acc_b['linear_discriminant_analysis'] > 0 else 0\n",
        "    pr += 1 if acc_a['gradboost'] - acc_b['gradboost'] > 0 else 0\n",
        "    pr += 1 if acc_a['randomforest'] - acc_b['randomforest'] > 0 else 0\n",
        "\n",
        "    print('Количество моделей с приростом качества:', pr)\n",
        "    print('------------------------------------------------------------')"
      ],
      "metadata": {
        "colab": {
          "base_uri": "https://localhost:8080/"
        },
        "id": "eNrtIw4g-1Wc",
        "outputId": "ddacc6ff-447e-4dd4-d968-7b2655b57489"
      },
      "execution_count": null,
      "outputs": [
        {
          "output_type": "stream",
          "name": "stderr",
          "text": [
            "/usr/local/lib/python3.10/dist-packages/openml/tasks/task.py:150: FutureWarning: Starting from Version 0.15 `download_data`, `download_qualities`, and `download_features_meta_data` will all be ``False`` instead of ``True`` by default to enable lazy loading. To disable this message until version 0.15 explicitly set `download_data`, `download_qualities`, and `download_features_meta_data` to a bool while calling `get_dataset`.\n",
            "  return datasets.get_dataset(self.dataset_id)\n"
          ]
        },
        {
          "output_type": "stream",
          "name": "stdout",
          "text": [
            "Номер датасета: 9952\n",
            "Время генерации: 0.02014\n",
            "Размер до генерации (4323, 5)\n",
            "Размер после генерации (4323, 50)\n"
          ]
        },
        {
          "output_type": "stream",
          "name": "stderr",
          "text": [
            "/usr/local/lib/python3.10/dist-packages/sklearn/svm/_base.py:1244: ConvergenceWarning: Liblinear failed to converge, increase the number of iterations.\n",
            "  warnings.warn(\n"
          ]
        },
        {
          "output_type": "stream",
          "name": "stdout",
          "text": [
            "Качество до генерации {'linear_svm': 0.7604070305272895, 'logistic': 0.755781683626272, 'linear_discriminant_analysis': 0.7622571692876966, 'gradboost': 0.793709528214616, 'randomforest': 0.9111933395004626}\n",
            "Качество после генерации {'linear_svm': 0.8251618871415356, 'logistic': 0.8279370952821462, 'linear_discriminant_analysis': 0.8233117483811286, 'gradboost': 0.8001850138760407, 'randomforest': 0.9074930619796485}\n",
            "Количество моделей с приростом качества: 4\n",
            "------------------------------------------------------------\n"
          ]
        },
        {
          "output_type": "stream",
          "name": "stderr",
          "text": [
            "/usr/local/lib/python3.10/dist-packages/IPython/core/interactiveshell.py:3553: FutureWarning: Starting from Version 0.15.0 `download_splits` will default to ``False`` instead of ``True`` and be independent from `download_data`. To disable this message until version 0.15 explicitly set `download_splits` to a bool.\n",
            "  exec(code_obj, self.user_global_ns, self.user_ns)\n",
            "/usr/local/lib/python3.10/dist-packages/openml/tasks/functions.py:442: FutureWarning: Starting from Version 0.15 `download_data`, `download_qualities`, and `download_features_meta_data` will all be ``False`` instead of ``True`` by default to enable lazy loading. To disable this message until version 0.15 explicitly set `download_data`, `download_qualities`, and `download_features_meta_data` to a bool while calling `get_dataset`.\n",
            "  dataset = get_dataset(task.dataset_id, *dataset_args, **get_dataset_kwargs)\n",
            "/usr/local/lib/python3.10/dist-packages/openml/tasks/task.py:150: FutureWarning: Starting from Version 0.15 `download_data`, `download_qualities`, and `download_features_meta_data` will all be ``False`` instead of ``True`` by default to enable lazy loading. To disable this message until version 0.15 explicitly set `download_data`, `download_qualities`, and `download_features_meta_data` to a bool while calling `get_dataset`.\n",
            "  return datasets.get_dataset(self.dataset_id)\n",
            "/usr/local/lib/python3.10/dist-packages/sklearn/svm/_base.py:1244: ConvergenceWarning: Liblinear failed to converge, increase the number of iterations.\n",
            "  warnings.warn(\n",
            "/usr/local/lib/python3.10/dist-packages/sklearn/linear_model/_logistic.py:458: ConvergenceWarning: lbfgs failed to converge (status=1):\n",
            "STOP: TOTAL NO. of ITERATIONS REACHED LIMIT.\n",
            "\n",
            "Increase the number of iterations (max_iter) or scale the data as shown in:\n",
            "    https://scikit-learn.org/stable/modules/preprocessing.html\n",
            "Please also refer to the documentation for alternative solver options:\n",
            "    https://scikit-learn.org/stable/modules/linear_model.html#logistic-regression\n",
            "  n_iter_i = _check_optimize_result(\n"
          ]
        },
        {
          "output_type": "stream",
          "name": "stdout",
          "text": [
            "Номер датасета: 146822\n",
            "Время генерации: 0.02275\n",
            "Размер до генерации (1848, 16)\n",
            "Размер после генерации (1848, 160)\n"
          ]
        },
        {
          "output_type": "stream",
          "name": "stderr",
          "text": [
            "<ipython-input-179-21276b9f1a4c>:180: RuntimeWarning: overflow encountered in sinh\n",
            "  X[:, self.desc_dict['s_sinh'][1]] =  np.sinh(X[:,self.desc_dict['s_sinh'][0]])\n",
            "<ipython-input-179-21276b9f1a4c>:184: RuntimeWarning: overflow encountered in cosh\n",
            "  X[:, self.desc_dict['s_cosh'][1]] =  np.cosh(X[:,self.desc_dict['s_cosh'][0]])\n",
            "/usr/local/lib/python3.10/dist-packages/sklearn/svm/_base.py:1244: ConvergenceWarning: Liblinear failed to converge, increase the number of iterations.\n",
            "  warnings.warn(\n",
            "/usr/local/lib/python3.10/dist-packages/sklearn/linear_model/_logistic.py:458: ConvergenceWarning: lbfgs failed to converge (status=1):\n",
            "STOP: TOTAL NO. of ITERATIONS REACHED LIMIT.\n",
            "\n",
            "Increase the number of iterations (max_iter) or scale the data as shown in:\n",
            "    https://scikit-learn.org/stable/modules/preprocessing.html\n",
            "Please also refer to the documentation for alternative solver options:\n",
            "    https://scikit-learn.org/stable/modules/linear_model.html#logistic-regression\n",
            "  n_iter_i = _check_optimize_result(\n"
          ]
        },
        {
          "output_type": "stream",
          "name": "stdout",
          "text": [
            "Качество до генерации {'linear_svm': 0.6926406926406926, 'logistic': 0.8831168831168831, 'linear_discriminant_analysis': 0.816017316017316, 'gradboost': 0.8636363636363636, 'randomforest': 0.9199134199134199}\n",
            "Качество после генерации {'linear_svm': 0.7575757575757576, 'logistic': 0.8874458874458875, 'linear_discriminant_analysis': 0.8874458874458875, 'gradboost': 0.8831168831168831, 'randomforest': 0.9134199134199135}\n",
            "Количество моделей с приростом качества: 4\n",
            "------------------------------------------------------------\n"
          ]
        },
        {
          "output_type": "stream",
          "name": "stderr",
          "text": [
            "/usr/local/lib/python3.10/dist-packages/IPython/core/interactiveshell.py:3553: FutureWarning: Starting from Version 0.15.0 `download_splits` will default to ``False`` instead of ``True`` and be independent from `download_data`. To disable this message until version 0.15 explicitly set `download_splits` to a bool.\n",
            "  exec(code_obj, self.user_global_ns, self.user_ns)\n",
            "/usr/local/lib/python3.10/dist-packages/openml/tasks/functions.py:442: FutureWarning: Starting from Version 0.15 `download_data`, `download_qualities`, and `download_features_meta_data` will all be ``False`` instead of ``True`` by default to enable lazy loading. To disable this message until version 0.15 explicitly set `download_data`, `download_qualities`, and `download_features_meta_data` to a bool while calling `get_dataset`.\n",
            "  dataset = get_dataset(task.dataset_id, *dataset_args, **get_dataset_kwargs)\n",
            "/usr/local/lib/python3.10/dist-packages/openml/tasks/task.py:150: FutureWarning: Starting from Version 0.15 `download_data`, `download_qualities`, and `download_features_meta_data` will all be ``False`` instead of ``True`` by default to enable lazy loading. To disable this message until version 0.15 explicitly set `download_data`, `download_qualities`, and `download_features_meta_data` to a bool while calling `get_dataset`.\n",
            "  return datasets.get_dataset(self.dataset_id)\n",
            "/usr/local/lib/python3.10/dist-packages/sklearn/svm/_base.py:1244: ConvergenceWarning: Liblinear failed to converge, increase the number of iterations.\n",
            "  warnings.warn(\n",
            "/usr/local/lib/python3.10/dist-packages/sklearn/linear_model/_logistic.py:458: ConvergenceWarning: lbfgs failed to converge (status=1):\n",
            "STOP: TOTAL NO. of ITERATIONS REACHED LIMIT.\n",
            "\n",
            "Increase the number of iterations (max_iter) or scale the data as shown in:\n",
            "    https://scikit-learn.org/stable/modules/preprocessing.html\n",
            "Please also refer to the documentation for alternative solver options:\n",
            "    https://scikit-learn.org/stable/modules/linear_model.html#logistic-regression\n",
            "  n_iter_i = _check_optimize_result(\n"
          ]
        },
        {
          "output_type": "stream",
          "name": "stdout",
          "text": [
            "Номер датасета: 3917\n",
            "Время генерации: 0.03634\n",
            "Размер до генерации (1687, 32)\n",
            "Размер после генерации (1687, 320)\n"
          ]
        },
        {
          "output_type": "stream",
          "name": "stderr",
          "text": [
            "<ipython-input-179-21276b9f1a4c>:180: RuntimeWarning: overflow encountered in sinh\n",
            "  X[:, self.desc_dict['s_sinh'][1]] =  np.sinh(X[:,self.desc_dict['s_sinh'][0]])\n",
            "<ipython-input-179-21276b9f1a4c>:184: RuntimeWarning: overflow encountered in cosh\n",
            "  X[:, self.desc_dict['s_cosh'][1]] =  np.cosh(X[:,self.desc_dict['s_cosh'][0]])\n",
            "/usr/local/lib/python3.10/dist-packages/sklearn/svm/_base.py:1244: ConvergenceWarning: Liblinear failed to converge, increase the number of iterations.\n",
            "  warnings.warn(\n",
            "/usr/local/lib/python3.10/dist-packages/sklearn/linear_model/_logistic.py:458: ConvergenceWarning: lbfgs failed to converge (status=1):\n",
            "STOP: TOTAL NO. of ITERATIONS REACHED LIMIT.\n",
            "\n",
            "Increase the number of iterations (max_iter) or scale the data as shown in:\n",
            "    https://scikit-learn.org/stable/modules/preprocessing.html\n",
            "Please also refer to the documentation for alternative solver options:\n",
            "    https://scikit-learn.org/stable/modules/linear_model.html#logistic-regression\n",
            "  n_iter_i = _check_optimize_result(\n"
          ]
        },
        {
          "output_type": "stream",
          "name": "stdout",
          "text": [
            "Качество до генерации {'linear_svm': 0.7701421800947867, 'logistic': 0.8412322274881516, 'linear_discriminant_analysis': 0.8436018957345972, 'gradboost': 0.8364928909952607, 'randomforest': 0.8507109004739336}\n",
            "Качество после генерации {'linear_svm': 0.8199052132701422, 'logistic': 0.8578199052132701, 'linear_discriminant_analysis': 0.8649289099526066, 'gradboost': 0.8436018957345972, 'randomforest': 0.8601895734597157}\n",
            "Количество моделей с приростом качества: 5\n",
            "------------------------------------------------------------\n"
          ]
        }
      ]
    },
    {
      "cell_type": "markdown",
      "source": [
        "SIN AND COS\n",
        "\n",
        "id = 9952 <br>\n",
        "Качество до генерации {'linear_svm': 0.7604070305272895, 'logistic': 0.755781683626272, 'linear_discriminant_analysis': 0.7622571692876966, 'gradboost': 0.793709528214616, 'randomforest': 0.9111933395004626} <br>\n",
        "Качество после генерации {'linear_svm': 0.8140610545790934, 'logistic': 0.8094357076780758, 'linear_discriminant_analysis': 0.8094357076780758, 'gradboost': 0.8001850138760407, 'randomforest': 0.910268270120259}\n",
        "\n",
        "id = 146822 <br>\n",
        "Качество до генерации {'linear_svm': 0.6926406926406926, 'logistic': 0.8831168831168831, 'linear_discriminant_analysis': 0.816017316017316, 'gradboost': 0.8636363636363636, 'randomforest': 0.9199134199134199} <br>\n",
        "Качество после генерации {'linear_svm': 0.6493506493506493, 'logistic': 0.8679653679653679, 'linear_discriminant_analysis': 0.8463203463203464, 'gradboost': 0.8787878787878788, 'randomforest': 0.9177489177489178}\n",
        "\n",
        "id = 3917 <br>\n",
        "Качество до генерации {'linear_svm': 0.7701421800947867, 'logistic': 0.8412322274881516, 'linear_discriminant_analysis': 0.8436018957345972, 'gradboost': 0.8364928909952607, 'randomforest': 0.8507109004739336} <br>\n",
        "Качество после генерации {'linear_svm': 0.7748815165876777, 'logistic': 0.8459715639810427, 'linear_discriminant_analysis': 0.8388625592417062, 'gradboost': 0.8459715639810427, 'randomforest': 0.8672985781990521}"
      ],
      "metadata": {
        "id": "GVvR8t8SIWmS"
      }
    },
    {
      "cell_type": "markdown",
      "source": [
        "EXP\n",
        "\n",
        "id = 9952 <br>\n",
        "Качество до генерации {'linear_svm': 0.7604070305272895, 'logistic': 0.755781683626272, 'linear_discriminant_analysis': 0.7622571692876966, 'gradboost': 0.793709528214616, 'randomforest': 0.9111933395004626} <br>\n",
        "Качество после генерации {'linear_svm': 0.7798334875115633, 'logistic': 0.786308973172988, 'linear_discriminant_analysis': 0.7687326549491211, 'gradboost': 0.793709528214616, 'randomforest': 0.9000925069380203}\n",
        "\n",
        "id = 146822 <br>\n",
        "Качество до генерации {'linear_svm': 0.6926406926406926, 'logistic': 0.8831168831168831, 'linear_discriminant_analysis': 0.816017316017316, 'gradboost': 0.8636363636363636, 'randomforest': 0.9199134199134199} <br>\n",
        "Качество после генерации {'linear_svm': 0.7142857142857143, 'logistic': 0.8679653679653679, 'linear_discriminant_analysis': 0.8203463203463204, 'gradboost': 0.8636363636363636, 'randomforest': 0.9242424242424242}\n",
        "\n",
        "id = 3917 <br>\n",
        "Качество до генерации {'linear_svm': 0.7701421800947867, 'logistic': 0.8412322274881516, 'linear_discriminant_analysis': 0.8436018957345972, 'gradboost': 0.8364928909952607, 'randomforest': 0.8507109004739336} <br>\n",
        "Качество после генерации {'linear_svm': 0.8341232227488151, 'logistic': 0.8554502369668247, 'linear_discriminant_analysis': 0.8293838862559242, 'gradboost': 0.8364928909952607, 'randomforest': 0.8507109004739336}"
      ],
      "metadata": {
        "id": "kYDcjN3OEKx5"
      }
    },
    {
      "cell_type": "markdown",
      "source": [
        "X^2\n",
        "\n",
        "id = 9952 <br>\n",
        "Качество до генерации {'linear_svm': 0.7604070305272895, 'logistic': 0.755781683626272, 'linear_discriminant_analysis': 0.7622571692876966, 'gradboost': 0.793709528214616, 'randomforest': 0.9111933395004626} <br>\n",
        "Качество после генерации {'linear_svm': 0.7844588344125809, 'logistic': 0.7816836262719704, 'linear_discriminant_analysis': 0.7752081406105458, 'gradboost': 0.7974098057354302, 'randomforest': 0.906567992599445}\n",
        "\n",
        "id = 146822 <br>\n",
        "Качество до генерации {'linear_svm': 0.6926406926406926, 'logistic': 0.8831168831168831, 'linear_discriminant_analysis': 0.816017316017316, 'gradboost': 0.8636363636363636, 'randomforest': 0.9199134199134199} <br>\n",
        "Качество после генерации {'linear_svm': 0.6558441558441559, 'logistic': 0.8874458874458875, 'linear_discriminant_analysis': 0.854978354978355, 'gradboost': 0.8766233766233766, 'randomforest': 0.9177489177489178}\n",
        "\n",
        "id = 3917 <br>\n",
        "Качество до генерации {'linear_svm': 0.7701421800947867, 'logistic': 0.8412322274881516, 'linear_discriminant_analysis': 0.8436018957345972, 'gradboost': 0.8364928909952607, 'randomforest': 0.8507109004739336} <br>\n",
        "Качество после генерации {'linear_svm': 0.8317535545023697, 'logistic': 0.8412322274881516, 'linear_discriminant_analysis': 0.8412322274881516, 'gradboost': 0.8364928909952607, 'randomforest': 0.8459715639810427}"
      ],
      "metadata": {
        "id": "bNelHuOpFTsE"
      }
    },
    {
      "cell_type": "markdown",
      "source": [
        "С corr_gen <br>\n",
        "Качество после генерации {'linear_svm': 0.8418131359851989, 'logistic': 0.8427382053654024, 'linear_discriminant_analysis': 0.8279370952821462, 'gradboost': 0.8122109158186864, 'randomforest': 0.910268270120259}\n",
        "\n",
        "Без corr_gen <br>\n",
        "Качество после генерации {'linear_svm': 0.8251618871415356, 'logistic': 0.8279370952821462, 'linear_discriminant_analysis': 0.8233117483811286, 'gradboost': 0.8001850138760407, 'randomforest': 0.9074930619796485}"
      ],
      "metadata": {
        "id": "3hf1_3r0TEwR"
      }
    },
    {
      "cell_type": "markdown",
      "source": [
        "С corr_gen <br>\n",
        "Качество после генерации {'linear_svm': 0.8982683982683982, 'logistic': 0.9134199134199135, 'linear_discriminant_analysis': 0.9047619047619048, 'gradboost': 0.8787878787878788, 'randomforest': 0.9264069264069265}\n",
        "\n",
        "Без corr_gen <br>\n",
        "Качество после генерации {'linear_svm': 0.7575757575757576, 'logistic': 0.8874458874458875, 'linear_discriminant_analysis': 0.8874458874458875, 'gradboost': 0.8831168831168831, 'randomforest': 0.9134199134199135}"
      ],
      "metadata": {
        "id": "MW_wWhSyamvL"
      }
    },
    {
      "cell_type": "markdown",
      "source": [
        "С corr_gen <br>\n",
        "Качество после генерации {'linear_svm': 0.8341232227488151, 'logistic': 0.8578199052132701, 'linear_discriminant_analysis': 0.7890995260663507, 'gradboost': 0.8554502369668247, 'randomforest': 0.8554502369668247}\n",
        "\n",
        "Без corr_gen <br>\n",
        "Качество после генерации {'linear_svm': 0.8199052132701422, 'logistic': 0.8578199052132701, 'linear_discriminant_analysis': 0.8649289099526066, 'gradboost': 0.8436018957345972, 'randomforest': 0.8601895734597157}"
      ],
      "metadata": {
        "id": "qI6utYpfarRB"
      }
    },
    {
      "cell_type": "code",
      "source": [
        "result"
      ],
      "metadata": {
        "colab": {
          "base_uri": "https://localhost:8080/"
        },
        "id": "jhYHYtVfzmMC",
        "outputId": "72b4604f-aef5-4b1c-8e83-e5607c6c1379"
      },
      "execution_count": null,
      "outputs": [
        {
          "output_type": "execute_result",
          "data": {
            "text/plain": [
              "{3: {'before': {'linear_svm': 0.95625,\n",
              "   'logistic': 0.946875,\n",
              "   'linear_discriminant_analysis': 0.9390625,\n",
              "   'gradboost': 0.9609375,\n",
              "   'randomforest': 0.9796875},\n",
              "  'k-fold': 2,\n",
              "  'train_shape': (2556, 71),\n",
              "  'test_shape': (640, 71),\n",
              "  'chgd_train_shape': (2556, 171),\n",
              "  'chgd_test_shape': (640, 171),\n",
              "  'after': {'linear_svm': 0.8125,\n",
              "   'logistic': 0.53125,\n",
              "   'linear_discriminant_analysis': 0.9390625,\n",
              "   'gradboost': 0.9703125,\n",
              "   'randomforest': 0.9859375}}}"
            ]
          },
          "metadata": {},
          "execution_count": 168
        }
      ]
    },
    {
      "cell_type": "markdown",
      "source": [
        "#####Форма"
      ],
      "metadata": {
        "id": "HDHKkjY4YLuN"
      }
    },
    {
      "cell_type": "code",
      "source": [
        "X_train_chgd.shape"
      ],
      "metadata": {
        "colab": {
          "base_uri": "https://localhost:8080/"
        },
        "id": "PxtQ9gl9mqrN",
        "outputId": "4d91c88b-00dc-4fca-b29d-11bbcd7e4ff5"
      },
      "execution_count": null,
      "outputs": [
        {
          "output_type": "execute_result",
          "data": {
            "text/plain": [
              "(11984, 36)"
            ]
          },
          "metadata": {},
          "execution_count": 108
        }
      ]
    },
    {
      "cell_type": "code",
      "source": [
        "X_train_chgd[:3, :]"
      ],
      "metadata": {
        "colab": {
          "base_uri": "https://localhost:8080/"
        },
        "id": "4htt3cJomwUx",
        "outputId": "61f90254-9b8e-41a8-a458-9ef363965d35"
      },
      "execution_count": null,
      "outputs": [
        {
          "output_type": "execute_result",
          "data": {
            "text/plain": [
              "array([[-4.20562964e-02, -1.50942490e+00, -9.64779898e-01,\n",
              "        -1.31788977e-02, -2.26177954e-01, -9.72740187e-03,\n",
              "        -7.16522515e-03, -1.81312094e-01, -9.31750721e-03,\n",
              "        -6.15838471e-01, -9.47439156e-01, -8.82342746e-01,\n",
              "        -6.23732258e-02, -2.38734958e-02,  9.58815801e-01,\n",
              "         9.92860384e-01,  5.40187774e-01,  1.76873207e-03,\n",
              "         9.30800251e-01,  5.13404515e-05,  3.28740753e-02,\n",
              "        -7.43863203e-05, -1.15704651e-02, -3.67865894e-07,\n",
              "        -7.19101866e-03, -8.46476530e-02,  1.08153693e-02,\n",
              "         1.27147355e-02],\n",
              "       [-6.89682370e-03, -2.17611921e-01, -8.43409364e-02,\n",
              "        -7.81352736e-03,  9.54128628e-02, -1.30211618e-02,\n",
              "        -7.36546762e-03,  5.03051066e-01, -6.31138355e-03,\n",
              "         1.02632624e-03,  2.07395622e-01, -1.78031704e-02,\n",
              "        -4.64121801e-04, -1.03256285e-02,  9.93126905e-01,\n",
              "         9.92661591e-01,  1.00102685e+00,  4.75661772e-05,\n",
              "         7.11339355e-03,  5.42501132e-05,  2.53060375e-01,\n",
              "        -3.28055538e-07,  8.68601911e-04, -3.99577452e-07,\n",
              "        -7.39272661e-03, -8.58223026e-02,  1.60281356e-03,\n",
              "         6.59000214e-04],\n",
              "       [-1.35266906e-02, -2.03013547e-01, -5.12949700e-02,\n",
              "        -8.95724803e-03, -1.61922479e-01, -6.43364199e-03,\n",
              "        -1.16522117e-02, -2.95061038e-02, -6.31138355e-03,\n",
              "         8.92316919e-02, -2.61522527e-02, -1.79805559e-01,\n",
              "        -1.71800983e-02, -1.45298249e-02,  9.86564384e-01,\n",
              "         9.88415412e-01,  1.09333394e+00,  1.82971358e-04,\n",
              "         2.63117395e-03,  1.35774037e-04,  8.70610162e-04,\n",
              "        -2.47499695e-06, -4.24542755e-03, -1.58206782e-06,\n",
              "        -1.17206307e-02, -1.07945411e-01,  2.36555683e-03,\n",
              "         4.59461769e-04]])"
            ]
          },
          "metadata": {},
          "execution_count": 20
        }
      ]
    },
    {
      "cell_type": "code",
      "source": [
        "X_train.shape"
      ],
      "metadata": {
        "colab": {
          "base_uri": "https://localhost:8080/"
        },
        "id": "osZif_Hjm4pJ",
        "outputId": "db3ede4d-71b9-49ec-e741-aceaeefcbab9"
      },
      "execution_count": null,
      "outputs": [
        {
          "output_type": "execute_result",
          "data": {
            "text/plain": [
              "(11984, 14)"
            ]
          },
          "metadata": {},
          "execution_count": 109
        }
      ]
    },
    {
      "cell_type": "markdown",
      "source": [
        "####Тесты без схемы"
      ],
      "metadata": {
        "id": "G7S-EeUYepJP"
      }
    },
    {
      "cell_type": "code",
      "source": [
        "# Получение меток классов и их строковое представление\n",
        "class_labels = set(y)\n",
        "# Создание словаря для преобразования строковых меток в числовые индексы\n",
        "class_labels_map = {label: i for i, label in enumerate(class_labels)}\n",
        "y_numeric = [class_labels_map[label] for label in y]\n",
        "\n",
        "X_train, X_test, y_train, y_test = train_test_split(X, y_numeric, test_size=0.2, random_state=42)"
      ],
      "metadata": {
        "id": "93rEGzyTsWGE"
      },
      "execution_count": null,
      "outputs": []
    },
    {
      "cell_type": "code",
      "source": [
        "X_train"
      ],
      "metadata": {
        "colab": {
          "base_uri": "https://localhost:8080/",
          "height": 443
        },
        "id": "9Co4hw3D8Urc",
        "outputId": "7012317a-0066-4885-95da-e9829ef026d7"
      },
      "execution_count": null,
      "outputs": [
        {
          "output_type": "execute_result",
          "data": {
            "text/plain": [
              "      loc  v(g)  ev(g)  iv(g)      n        v     l      d      i         e  \\\n",
              "220   4.0   1.0    1.0    1.0    4.0     8.00  0.67   1.50   5.33     12.00   \n",
              "69    7.0   1.0    1.0    1.0   29.0    67.34  0.12   8.25   8.16    555.52   \n",
              "374  50.0   3.0    1.0    3.0  124.0   614.32  0.06  15.89  38.66   9760.87   \n",
              "305  12.0   2.0    1.0    2.0   18.0    64.53  0.17   6.00  10.75    387.18   \n",
              "173  97.0   8.0    7.0    8.0  245.0  1375.60  0.05  19.60  70.18  26961.84   \n",
              "..    ...   ...    ...    ...    ...      ...   ...    ...    ...       ...   \n",
              "71    4.0   1.0    1.0    1.0    4.0     8.00  0.67   1.50   5.33     12.00   \n",
              "106  15.0   6.0    1.0    5.0   44.0   179.85  0.23   4.36  41.22    784.79   \n",
              "270  20.0   2.0    1.0    2.0   32.0   130.80  0.16   6.19  21.14    809.32   \n",
              "435  76.0   9.0    5.0    6.0  185.0  1064.65  0.05  20.36  52.30  21673.32   \n",
              "102   4.0   1.0    1.0    1.0    4.0     8.00  0.67   1.50   5.33     12.00   \n",
              "\n",
              "     ...        t  lOCode  lOComment  lOBlank  lOCodeAndComment  uniq_Op  \\\n",
              "220  ...     0.67     2.0          0        0                 0      3.0   \n",
              "69   ...    30.86     5.0          0        0                 0      2.0   \n",
              "374  ...   542.27    39.0          2        4                 0     13.0   \n",
              "305  ...    21.51     8.0          0        1                 0      8.0   \n",
              "173  ...  1497.88    72.0          1       20                 0     14.0   \n",
              "..   ...      ...     ...        ...      ...               ...      ...   \n",
              "71   ...     0.67     2.0          0        0                 0      3.0   \n",
              "106  ...    43.60    13.0          0        0                 0      6.0   \n",
              "270  ...    44.96    16.0          0        1                 0      9.0   \n",
              "435  ...  1204.07    56.0          3       10                 4     19.0   \n",
              "102  ...     0.67     2.0          0        0                 0      3.0   \n",
              "\n",
              "     uniq_Opnd  total_Op  total_Opnd  branchCount  \n",
              "220        1.0       3.0         1.0          1.0  \n",
              "69        10.0       8.0        11.0          1.0  \n",
              "374       18.0      80.0        44.0          5.0  \n",
              "305        4.0      12.0         6.0          3.0  \n",
              "173       35.0     147.0        98.0         15.0  \n",
              "..         ...       ...         ...          ...  \n",
              "71         1.0       3.0         1.0          1.0  \n",
              "106       11.0      28.0        16.0         11.0  \n",
              "270        8.0      21.0        11.0          3.0  \n",
              "435       35.0     110.0        75.0         17.0  \n",
              "102        1.0       3.0         1.0          1.0  \n",
              "\n",
              "[417 rows x 21 columns]"
            ],
            "text/html": [
              "\n",
              "  <div id=\"df-c42a22f0-0f64-4248-a296-aabffa283e91\" class=\"colab-df-container\">\n",
              "    <div>\n",
              "<style scoped>\n",
              "    .dataframe tbody tr th:only-of-type {\n",
              "        vertical-align: middle;\n",
              "    }\n",
              "\n",
              "    .dataframe tbody tr th {\n",
              "        vertical-align: top;\n",
              "    }\n",
              "\n",
              "    .dataframe thead th {\n",
              "        text-align: right;\n",
              "    }\n",
              "</style>\n",
              "<table border=\"1\" class=\"dataframe\">\n",
              "  <thead>\n",
              "    <tr style=\"text-align: right;\">\n",
              "      <th></th>\n",
              "      <th>loc</th>\n",
              "      <th>v(g)</th>\n",
              "      <th>ev(g)</th>\n",
              "      <th>iv(g)</th>\n",
              "      <th>n</th>\n",
              "      <th>v</th>\n",
              "      <th>l</th>\n",
              "      <th>d</th>\n",
              "      <th>i</th>\n",
              "      <th>e</th>\n",
              "      <th>...</th>\n",
              "      <th>t</th>\n",
              "      <th>lOCode</th>\n",
              "      <th>lOComment</th>\n",
              "      <th>lOBlank</th>\n",
              "      <th>lOCodeAndComment</th>\n",
              "      <th>uniq_Op</th>\n",
              "      <th>uniq_Opnd</th>\n",
              "      <th>total_Op</th>\n",
              "      <th>total_Opnd</th>\n",
              "      <th>branchCount</th>\n",
              "    </tr>\n",
              "  </thead>\n",
              "  <tbody>\n",
              "    <tr>\n",
              "      <th>220</th>\n",
              "      <td>4.0</td>\n",
              "      <td>1.0</td>\n",
              "      <td>1.0</td>\n",
              "      <td>1.0</td>\n",
              "      <td>4.0</td>\n",
              "      <td>8.00</td>\n",
              "      <td>0.67</td>\n",
              "      <td>1.50</td>\n",
              "      <td>5.33</td>\n",
              "      <td>12.00</td>\n",
              "      <td>...</td>\n",
              "      <td>0.67</td>\n",
              "      <td>2.0</td>\n",
              "      <td>0</td>\n",
              "      <td>0</td>\n",
              "      <td>0</td>\n",
              "      <td>3.0</td>\n",
              "      <td>1.0</td>\n",
              "      <td>3.0</td>\n",
              "      <td>1.0</td>\n",
              "      <td>1.0</td>\n",
              "    </tr>\n",
              "    <tr>\n",
              "      <th>69</th>\n",
              "      <td>7.0</td>\n",
              "      <td>1.0</td>\n",
              "      <td>1.0</td>\n",
              "      <td>1.0</td>\n",
              "      <td>29.0</td>\n",
              "      <td>67.34</td>\n",
              "      <td>0.12</td>\n",
              "      <td>8.25</td>\n",
              "      <td>8.16</td>\n",
              "      <td>555.52</td>\n",
              "      <td>...</td>\n",
              "      <td>30.86</td>\n",
              "      <td>5.0</td>\n",
              "      <td>0</td>\n",
              "      <td>0</td>\n",
              "      <td>0</td>\n",
              "      <td>2.0</td>\n",
              "      <td>10.0</td>\n",
              "      <td>8.0</td>\n",
              "      <td>11.0</td>\n",
              "      <td>1.0</td>\n",
              "    </tr>\n",
              "    <tr>\n",
              "      <th>374</th>\n",
              "      <td>50.0</td>\n",
              "      <td>3.0</td>\n",
              "      <td>1.0</td>\n",
              "      <td>3.0</td>\n",
              "      <td>124.0</td>\n",
              "      <td>614.32</td>\n",
              "      <td>0.06</td>\n",
              "      <td>15.89</td>\n",
              "      <td>38.66</td>\n",
              "      <td>9760.87</td>\n",
              "      <td>...</td>\n",
              "      <td>542.27</td>\n",
              "      <td>39.0</td>\n",
              "      <td>2</td>\n",
              "      <td>4</td>\n",
              "      <td>0</td>\n",
              "      <td>13.0</td>\n",
              "      <td>18.0</td>\n",
              "      <td>80.0</td>\n",
              "      <td>44.0</td>\n",
              "      <td>5.0</td>\n",
              "    </tr>\n",
              "    <tr>\n",
              "      <th>305</th>\n",
              "      <td>12.0</td>\n",
              "      <td>2.0</td>\n",
              "      <td>1.0</td>\n",
              "      <td>2.0</td>\n",
              "      <td>18.0</td>\n",
              "      <td>64.53</td>\n",
              "      <td>0.17</td>\n",
              "      <td>6.00</td>\n",
              "      <td>10.75</td>\n",
              "      <td>387.18</td>\n",
              "      <td>...</td>\n",
              "      <td>21.51</td>\n",
              "      <td>8.0</td>\n",
              "      <td>0</td>\n",
              "      <td>1</td>\n",
              "      <td>0</td>\n",
              "      <td>8.0</td>\n",
              "      <td>4.0</td>\n",
              "      <td>12.0</td>\n",
              "      <td>6.0</td>\n",
              "      <td>3.0</td>\n",
              "    </tr>\n",
              "    <tr>\n",
              "      <th>173</th>\n",
              "      <td>97.0</td>\n",
              "      <td>8.0</td>\n",
              "      <td>7.0</td>\n",
              "      <td>8.0</td>\n",
              "      <td>245.0</td>\n",
              "      <td>1375.60</td>\n",
              "      <td>0.05</td>\n",
              "      <td>19.60</td>\n",
              "      <td>70.18</td>\n",
              "      <td>26961.84</td>\n",
              "      <td>...</td>\n",
              "      <td>1497.88</td>\n",
              "      <td>72.0</td>\n",
              "      <td>1</td>\n",
              "      <td>20</td>\n",
              "      <td>0</td>\n",
              "      <td>14.0</td>\n",
              "      <td>35.0</td>\n",
              "      <td>147.0</td>\n",
              "      <td>98.0</td>\n",
              "      <td>15.0</td>\n",
              "    </tr>\n",
              "    <tr>\n",
              "      <th>...</th>\n",
              "      <td>...</td>\n",
              "      <td>...</td>\n",
              "      <td>...</td>\n",
              "      <td>...</td>\n",
              "      <td>...</td>\n",
              "      <td>...</td>\n",
              "      <td>...</td>\n",
              "      <td>...</td>\n",
              "      <td>...</td>\n",
              "      <td>...</td>\n",
              "      <td>...</td>\n",
              "      <td>...</td>\n",
              "      <td>...</td>\n",
              "      <td>...</td>\n",
              "      <td>...</td>\n",
              "      <td>...</td>\n",
              "      <td>...</td>\n",
              "      <td>...</td>\n",
              "      <td>...</td>\n",
              "      <td>...</td>\n",
              "      <td>...</td>\n",
              "    </tr>\n",
              "    <tr>\n",
              "      <th>71</th>\n",
              "      <td>4.0</td>\n",
              "      <td>1.0</td>\n",
              "      <td>1.0</td>\n",
              "      <td>1.0</td>\n",
              "      <td>4.0</td>\n",
              "      <td>8.00</td>\n",
              "      <td>0.67</td>\n",
              "      <td>1.50</td>\n",
              "      <td>5.33</td>\n",
              "      <td>12.00</td>\n",
              "      <td>...</td>\n",
              "      <td>0.67</td>\n",
              "      <td>2.0</td>\n",
              "      <td>0</td>\n",
              "      <td>0</td>\n",
              "      <td>0</td>\n",
              "      <td>3.0</td>\n",
              "      <td>1.0</td>\n",
              "      <td>3.0</td>\n",
              "      <td>1.0</td>\n",
              "      <td>1.0</td>\n",
              "    </tr>\n",
              "    <tr>\n",
              "      <th>106</th>\n",
              "      <td>15.0</td>\n",
              "      <td>6.0</td>\n",
              "      <td>1.0</td>\n",
              "      <td>5.0</td>\n",
              "      <td>44.0</td>\n",
              "      <td>179.85</td>\n",
              "      <td>0.23</td>\n",
              "      <td>4.36</td>\n",
              "      <td>41.22</td>\n",
              "      <td>784.79</td>\n",
              "      <td>...</td>\n",
              "      <td>43.60</td>\n",
              "      <td>13.0</td>\n",
              "      <td>0</td>\n",
              "      <td>0</td>\n",
              "      <td>0</td>\n",
              "      <td>6.0</td>\n",
              "      <td>11.0</td>\n",
              "      <td>28.0</td>\n",
              "      <td>16.0</td>\n",
              "      <td>11.0</td>\n",
              "    </tr>\n",
              "    <tr>\n",
              "      <th>270</th>\n",
              "      <td>20.0</td>\n",
              "      <td>2.0</td>\n",
              "      <td>1.0</td>\n",
              "      <td>2.0</td>\n",
              "      <td>32.0</td>\n",
              "      <td>130.80</td>\n",
              "      <td>0.16</td>\n",
              "      <td>6.19</td>\n",
              "      <td>21.14</td>\n",
              "      <td>809.32</td>\n",
              "      <td>...</td>\n",
              "      <td>44.96</td>\n",
              "      <td>16.0</td>\n",
              "      <td>0</td>\n",
              "      <td>1</td>\n",
              "      <td>0</td>\n",
              "      <td>9.0</td>\n",
              "      <td>8.0</td>\n",
              "      <td>21.0</td>\n",
              "      <td>11.0</td>\n",
              "      <td>3.0</td>\n",
              "    </tr>\n",
              "    <tr>\n",
              "      <th>435</th>\n",
              "      <td>76.0</td>\n",
              "      <td>9.0</td>\n",
              "      <td>5.0</td>\n",
              "      <td>6.0</td>\n",
              "      <td>185.0</td>\n",
              "      <td>1064.65</td>\n",
              "      <td>0.05</td>\n",
              "      <td>20.36</td>\n",
              "      <td>52.30</td>\n",
              "      <td>21673.32</td>\n",
              "      <td>...</td>\n",
              "      <td>1204.07</td>\n",
              "      <td>56.0</td>\n",
              "      <td>3</td>\n",
              "      <td>10</td>\n",
              "      <td>4</td>\n",
              "      <td>19.0</td>\n",
              "      <td>35.0</td>\n",
              "      <td>110.0</td>\n",
              "      <td>75.0</td>\n",
              "      <td>17.0</td>\n",
              "    </tr>\n",
              "    <tr>\n",
              "      <th>102</th>\n",
              "      <td>4.0</td>\n",
              "      <td>1.0</td>\n",
              "      <td>1.0</td>\n",
              "      <td>1.0</td>\n",
              "      <td>4.0</td>\n",
              "      <td>8.00</td>\n",
              "      <td>0.67</td>\n",
              "      <td>1.50</td>\n",
              "      <td>5.33</td>\n",
              "      <td>12.00</td>\n",
              "      <td>...</td>\n",
              "      <td>0.67</td>\n",
              "      <td>2.0</td>\n",
              "      <td>0</td>\n",
              "      <td>0</td>\n",
              "      <td>0</td>\n",
              "      <td>3.0</td>\n",
              "      <td>1.0</td>\n",
              "      <td>3.0</td>\n",
              "      <td>1.0</td>\n",
              "      <td>1.0</td>\n",
              "    </tr>\n",
              "  </tbody>\n",
              "</table>\n",
              "<p>417 rows × 21 columns</p>\n",
              "</div>\n",
              "    <div class=\"colab-df-buttons\">\n",
              "\n",
              "  <div class=\"colab-df-container\">\n",
              "    <button class=\"colab-df-convert\" onclick=\"convertToInteractive('df-c42a22f0-0f64-4248-a296-aabffa283e91')\"\n",
              "            title=\"Convert this dataframe to an interactive table.\"\n",
              "            style=\"display:none;\">\n",
              "\n",
              "  <svg xmlns=\"http://www.w3.org/2000/svg\" height=\"24px\" viewBox=\"0 -960 960 960\">\n",
              "    <path d=\"M120-120v-720h720v720H120Zm60-500h600v-160H180v160Zm220 220h160v-160H400v160Zm0 220h160v-160H400v160ZM180-400h160v-160H180v160Zm440 0h160v-160H620v160ZM180-180h160v-160H180v160Zm440 0h160v-160H620v160Z\"/>\n",
              "  </svg>\n",
              "    </button>\n",
              "\n",
              "  <style>\n",
              "    .colab-df-container {\n",
              "      display:flex;\n",
              "      gap: 12px;\n",
              "    }\n",
              "\n",
              "    .colab-df-convert {\n",
              "      background-color: #E8F0FE;\n",
              "      border: none;\n",
              "      border-radius: 50%;\n",
              "      cursor: pointer;\n",
              "      display: none;\n",
              "      fill: #1967D2;\n",
              "      height: 32px;\n",
              "      padding: 0 0 0 0;\n",
              "      width: 32px;\n",
              "    }\n",
              "\n",
              "    .colab-df-convert:hover {\n",
              "      background-color: #E2EBFA;\n",
              "      box-shadow: 0px 1px 2px rgba(60, 64, 67, 0.3), 0px 1px 3px 1px rgba(60, 64, 67, 0.15);\n",
              "      fill: #174EA6;\n",
              "    }\n",
              "\n",
              "    .colab-df-buttons div {\n",
              "      margin-bottom: 4px;\n",
              "    }\n",
              "\n",
              "    [theme=dark] .colab-df-convert {\n",
              "      background-color: #3B4455;\n",
              "      fill: #D2E3FC;\n",
              "    }\n",
              "\n",
              "    [theme=dark] .colab-df-convert:hover {\n",
              "      background-color: #434B5C;\n",
              "      box-shadow: 0px 1px 3px 1px rgba(0, 0, 0, 0.15);\n",
              "      filter: drop-shadow(0px 1px 2px rgba(0, 0, 0, 0.3));\n",
              "      fill: #FFFFFF;\n",
              "    }\n",
              "  </style>\n",
              "\n",
              "    <script>\n",
              "      const buttonEl =\n",
              "        document.querySelector('#df-c42a22f0-0f64-4248-a296-aabffa283e91 button.colab-df-convert');\n",
              "      buttonEl.style.display =\n",
              "        google.colab.kernel.accessAllowed ? 'block' : 'none';\n",
              "\n",
              "      async function convertToInteractive(key) {\n",
              "        const element = document.querySelector('#df-c42a22f0-0f64-4248-a296-aabffa283e91');\n",
              "        const dataTable =\n",
              "          await google.colab.kernel.invokeFunction('convertToInteractive',\n",
              "                                                    [key], {});\n",
              "        if (!dataTable) return;\n",
              "\n",
              "        const docLinkHtml = 'Like what you see? Visit the ' +\n",
              "          '<a target=\"_blank\" href=https://colab.research.google.com/notebooks/data_table.ipynb>data table notebook</a>'\n",
              "          + ' to learn more about interactive tables.';\n",
              "        element.innerHTML = '';\n",
              "        dataTable['output_type'] = 'display_data';\n",
              "        await google.colab.output.renderOutput(dataTable, element);\n",
              "        const docLink = document.createElement('div');\n",
              "        docLink.innerHTML = docLinkHtml;\n",
              "        element.appendChild(docLink);\n",
              "      }\n",
              "    </script>\n",
              "  </div>\n",
              "\n",
              "\n",
              "<div id=\"df-af2250e1-d7ee-4846-b3c6-428d68c123d6\">\n",
              "  <button class=\"colab-df-quickchart\" onclick=\"quickchart('df-af2250e1-d7ee-4846-b3c6-428d68c123d6')\"\n",
              "            title=\"Suggest charts\"\n",
              "            style=\"display:none;\">\n",
              "\n",
              "<svg xmlns=\"http://www.w3.org/2000/svg\" height=\"24px\"viewBox=\"0 0 24 24\"\n",
              "     width=\"24px\">\n",
              "    <g>\n",
              "        <path d=\"M19 3H5c-1.1 0-2 .9-2 2v14c0 1.1.9 2 2 2h14c1.1 0 2-.9 2-2V5c0-1.1-.9-2-2-2zM9 17H7v-7h2v7zm4 0h-2V7h2v10zm4 0h-2v-4h2v4z\"/>\n",
              "    </g>\n",
              "</svg>\n",
              "  </button>\n",
              "\n",
              "<style>\n",
              "  .colab-df-quickchart {\n",
              "      --bg-color: #E8F0FE;\n",
              "      --fill-color: #1967D2;\n",
              "      --hover-bg-color: #E2EBFA;\n",
              "      --hover-fill-color: #174EA6;\n",
              "      --disabled-fill-color: #AAA;\n",
              "      --disabled-bg-color: #DDD;\n",
              "  }\n",
              "\n",
              "  [theme=dark] .colab-df-quickchart {\n",
              "      --bg-color: #3B4455;\n",
              "      --fill-color: #D2E3FC;\n",
              "      --hover-bg-color: #434B5C;\n",
              "      --hover-fill-color: #FFFFFF;\n",
              "      --disabled-bg-color: #3B4455;\n",
              "      --disabled-fill-color: #666;\n",
              "  }\n",
              "\n",
              "  .colab-df-quickchart {\n",
              "    background-color: var(--bg-color);\n",
              "    border: none;\n",
              "    border-radius: 50%;\n",
              "    cursor: pointer;\n",
              "    display: none;\n",
              "    fill: var(--fill-color);\n",
              "    height: 32px;\n",
              "    padding: 0;\n",
              "    width: 32px;\n",
              "  }\n",
              "\n",
              "  .colab-df-quickchart:hover {\n",
              "    background-color: var(--hover-bg-color);\n",
              "    box-shadow: 0 1px 2px rgba(60, 64, 67, 0.3), 0 1px 3px 1px rgba(60, 64, 67, 0.15);\n",
              "    fill: var(--button-hover-fill-color);\n",
              "  }\n",
              "\n",
              "  .colab-df-quickchart-complete:disabled,\n",
              "  .colab-df-quickchart-complete:disabled:hover {\n",
              "    background-color: var(--disabled-bg-color);\n",
              "    fill: var(--disabled-fill-color);\n",
              "    box-shadow: none;\n",
              "  }\n",
              "\n",
              "  .colab-df-spinner {\n",
              "    border: 2px solid var(--fill-color);\n",
              "    border-color: transparent;\n",
              "    border-bottom-color: var(--fill-color);\n",
              "    animation:\n",
              "      spin 1s steps(1) infinite;\n",
              "  }\n",
              "\n",
              "  @keyframes spin {\n",
              "    0% {\n",
              "      border-color: transparent;\n",
              "      border-bottom-color: var(--fill-color);\n",
              "      border-left-color: var(--fill-color);\n",
              "    }\n",
              "    20% {\n",
              "      border-color: transparent;\n",
              "      border-left-color: var(--fill-color);\n",
              "      border-top-color: var(--fill-color);\n",
              "    }\n",
              "    30% {\n",
              "      border-color: transparent;\n",
              "      border-left-color: var(--fill-color);\n",
              "      border-top-color: var(--fill-color);\n",
              "      border-right-color: var(--fill-color);\n",
              "    }\n",
              "    40% {\n",
              "      border-color: transparent;\n",
              "      border-right-color: var(--fill-color);\n",
              "      border-top-color: var(--fill-color);\n",
              "    }\n",
              "    60% {\n",
              "      border-color: transparent;\n",
              "      border-right-color: var(--fill-color);\n",
              "    }\n",
              "    80% {\n",
              "      border-color: transparent;\n",
              "      border-right-color: var(--fill-color);\n",
              "      border-bottom-color: var(--fill-color);\n",
              "    }\n",
              "    90% {\n",
              "      border-color: transparent;\n",
              "      border-bottom-color: var(--fill-color);\n",
              "    }\n",
              "  }\n",
              "</style>\n",
              "\n",
              "  <script>\n",
              "    async function quickchart(key) {\n",
              "      const quickchartButtonEl =\n",
              "        document.querySelector('#' + key + ' button');\n",
              "      quickchartButtonEl.disabled = true;  // To prevent multiple clicks.\n",
              "      quickchartButtonEl.classList.add('colab-df-spinner');\n",
              "      try {\n",
              "        const charts = await google.colab.kernel.invokeFunction(\n",
              "            'suggestCharts', [key], {});\n",
              "      } catch (error) {\n",
              "        console.error('Error during call to suggestCharts:', error);\n",
              "      }\n",
              "      quickchartButtonEl.classList.remove('colab-df-spinner');\n",
              "      quickchartButtonEl.classList.add('colab-df-quickchart-complete');\n",
              "    }\n",
              "    (() => {\n",
              "      let quickchartButtonEl =\n",
              "        document.querySelector('#df-af2250e1-d7ee-4846-b3c6-428d68c123d6 button');\n",
              "      quickchartButtonEl.style.display =\n",
              "        google.colab.kernel.accessAllowed ? 'block' : 'none';\n",
              "    })();\n",
              "  </script>\n",
              "</div>\n",
              "    </div>\n",
              "  </div>\n"
            ],
            "application/vnd.google.colaboratory.intrinsic+json": {
              "type": "dataframe",
              "variable_name": "X_train"
            }
          },
          "metadata": {},
          "execution_count": 196
        }
      ]
    },
    {
      "cell_type": "code",
      "source": [
        "y_train"
      ],
      "metadata": {
        "id": "VpSJiK4DsnZM"
      },
      "execution_count": null,
      "outputs": []
    },
    {
      "cell_type": "code",
      "source": [
        "def calc_accuracy(X, y, X_t, y_t):\n",
        "  models = [('linear_svm', svm.LinearSVC(max_iter=2000, random_state=42), 'decision_function'), ('ridge', linear_model.Ridge(random_state=42), 'predict'),\n",
        "            ('gradboost', ensemble.GradientBoostingClassifier(random_state=42), 'predict_proba'), ('logistic', linear_model.LogisticRegression(tol = 1e-4, solver = 'newton-cholesky', random_state=42), 'predict_proba'),\n",
        "            ('randomforest', ensemble.RandomForestClassifier(random_state=42), 'predict_proba')]\n",
        "  for name, model, loss_func in models:\n",
        "    model.fit(X, y)\n",
        "    print(name, ': ', model.score(X_t, y_t))"
      ],
      "metadata": {
        "id": "1--50xf6s_-K"
      },
      "execution_count": null,
      "outputs": []
    },
    {
      "cell_type": "code",
      "source": [
        "calc_accuracy(X_train, y_train, X_test, y_test)"
      ],
      "metadata": {
        "colab": {
          "base_uri": "https://localhost:8080/"
        },
        "id": "tg4HYIczAWDS",
        "outputId": "e03862f1-90aa-4c1a-f5b9-101e7c1f18e3"
      },
      "execution_count": null,
      "outputs": [
        {
          "output_type": "stream",
          "name": "stderr",
          "text": [
            "/usr/local/lib/python3.10/dist-packages/sklearn/svm/_base.py:1244: ConvergenceWarning: Liblinear failed to converge, increase the number of iterations.\n",
            "  warnings.warn(\n"
          ]
        },
        {
          "output_type": "stream",
          "name": "stdout",
          "text": [
            "linear_svm :  0.7333333333333333\n",
            "ridge :  0.17821781887733434\n",
            "gradboost :  0.7714285714285715\n",
            "logistic :  0.819047619047619\n"
          ]
        },
        {
          "output_type": "stream",
          "name": "stderr",
          "text": [
            "/usr/local/lib/python3.10/dist-packages/sklearn/linear_model/_glm/_newton_solver.py:491: LinAlgWarning: The inner solver of NewtonCholeskySolver stumbled upon a singular or very ill-conditioned Hessian matrix at iteration #13. It will now resort to lbfgs instead.\n",
            "Further options are to use another solver or to avoid such situation in the first place. Possible remedies are removing collinear features of X or increasing the penalization strengths.\n",
            "The original Linear Algebra message was:\n",
            "Matrix is singular.\n",
            "  warnings.warn(\n"
          ]
        },
        {
          "output_type": "stream",
          "name": "stdout",
          "text": [
            "randomforest :  0.780952380952381\n"
          ]
        }
      ]
    },
    {
      "cell_type": "code",
      "source": [
        "feat_gen = FeatureGenerationTransformer(thr=0.5)\n",
        "start_time = time.time()\n",
        "X_train_gen = feat_gen.fit_transform(np.array(X_train))\n",
        "X_test_gen = feat_gen.transform(np.array(X_test))\n",
        "end_time = time.time()\n",
        "elapsed_time = end_time - start_time\n",
        "print(f'Время генерации: {elapsed_time:.5f}')\n",
        "print('Размер до генерации', X_train.shape)\n",
        "print('Размер после генерации', X_train_gen.shape)"
      ],
      "metadata": {
        "colab": {
          "base_uri": "https://localhost:8080/"
        },
        "id": "e7l4zvbJyaBd",
        "outputId": "bdc42b93-028b-4149-ddf8-50e59e034d89"
      },
      "execution_count": null,
      "outputs": [
        {
          "output_type": "stream",
          "name": "stdout",
          "text": [
            "Время генерации: 0.04655\n",
            "Размер до генерации (417, 21)\n",
            "Размер после генерации (417, 831)\n"
          ]
        }
      ]
    },
    {
      "cell_type": "code",
      "source": [
        "INF = 1e30\n",
        "X_train_gen = np.clip(X_train_gen, -INF, INF)\n",
        "X_test_gen = np.clip(X_test_gen, -INF, INF)"
      ],
      "metadata": {
        "id": "RnvIxxUo9MCE"
      },
      "execution_count": null,
      "outputs": []
    },
    {
      "cell_type": "code",
      "source": [
        "calc_accuracy(X_train_gen, y_train, X_test_gen, y_test)"
      ],
      "metadata": {
        "colab": {
          "base_uri": "https://localhost:8080/"
        },
        "id": "tBHsJNCQ9EYc",
        "outputId": "54f51b6d-c523-447f-a830-57a0ab80c6ea"
      },
      "execution_count": null,
      "outputs": [
        {
          "output_type": "stream",
          "name": "stderr",
          "text": [
            "/usr/local/lib/python3.10/dist-packages/sklearn/svm/_base.py:1244: ConvergenceWarning: Liblinear failed to converge, increase the number of iterations.\n",
            "  warnings.warn(\n",
            "/usr/local/lib/python3.10/dist-packages/sklearn/linear_model/_ridge.py:255: UserWarning: Singular matrix in solving dual problem. Using least-squares solution instead.\n",
            "  warnings.warn(\n"
          ]
        },
        {
          "output_type": "stream",
          "name": "stdout",
          "text": [
            "linear_svm :  0.45714285714285713\n",
            "ridge :  -3537520734.514072\n",
            "gradboost :  0.8\n"
          ]
        },
        {
          "output_type": "stream",
          "name": "stderr",
          "text": [
            "/usr/local/lib/python3.10/dist-packages/sklearn/linear_model/_glm/_newton_solver.py:491: LinAlgWarning: The inner solver of NewtonCholeskySolver stumbled upon a singular or very ill-conditioned Hessian matrix at iteration #1. It will now resort to lbfgs instead.\n",
            "Further options are to use another solver or to avoid such situation in the first place. Possible remedies are removing collinear features of X or increasing the penalization strengths.\n",
            "The original Linear Algebra message was:\n",
            "Ill-conditioned matrix (rcond=5.03664e-66): result may not be accurate.\n",
            "  warnings.warn(\n",
            "/usr/local/lib/python3.10/dist-packages/sklearn/linear_model/_glm/_newton_solver.py:195: ConvergenceWarning: lbfgs failed to converge (status=1):\n",
            "STOP: TOTAL NO. of ITERATIONS REACHED LIMIT.\n",
            "\n",
            "Increase the number of iterations (max_iter) or scale the data as shown in:\n",
            "    https://scikit-learn.org/stable/modules/preprocessing.html\n",
            "  self.n_iter_ = _check_optimize_result(\"lbfgs\", opt_res)\n"
          ]
        },
        {
          "output_type": "stream",
          "name": "stdout",
          "text": [
            "logistic :  0.8571428571428571\n",
            "randomforest :  0.8\n"
          ]
        }
      ]
    },
    {
      "cell_type": "markdown",
      "source": [
        "linear_svm :  0.45714285714285713<br>\n",
        "ridge :  -3537520734.514072<br>\n",
        "gradboost :  0.8<br>\n",
        "logistic :  0.8571428571428571<br>\n",
        "randomforest :  0.8"
      ],
      "metadata": {
        "id": "_co269jxaZIJ"
      }
    },
    {
      "cell_type": "code",
      "source": [
        "pipe_sc = pipeline.Pipeline([('std_scaler',preprocessing.StandardScaler())])\n",
        "pipe_sc.fit(X_train, y_train)\n",
        "X_train_sc = pipe_sc.transform(X_train)\n",
        "X_test_sc = pipe_sc.transform(X_test)"
      ],
      "metadata": {
        "id": "Sgf4HwjXFO2b"
      },
      "execution_count": null,
      "outputs": []
    },
    {
      "cell_type": "code",
      "source": [
        "calc_accuracy(X_train_sc, y_train, X_test_sc, y_test)"
      ],
      "metadata": {
        "colab": {
          "base_uri": "https://localhost:8080/"
        },
        "id": "AKh2RJThFVjP",
        "outputId": "9db36723-32bd-49ef-d581-b9dde77050ce"
      },
      "execution_count": null,
      "outputs": [
        {
          "output_type": "stream",
          "name": "stderr",
          "text": [
            "/usr/local/lib/python3.10/dist-packages/sklearn/svm/_base.py:1244: ConvergenceWarning: Liblinear failed to converge, increase the number of iterations.\n",
            "  warnings.warn(\n"
          ]
        },
        {
          "output_type": "stream",
          "name": "stdout",
          "text": [
            "linear_svm :  0.8380952380952381\n",
            "ridge :  0.20326438493283838\n",
            "gradboost :  0.7714285714285715\n",
            "logistic :  0.8571428571428571\n",
            "randomforest :  0.7904761904761904\n"
          ]
        }
      ]
    },
    {
      "cell_type": "code",
      "source": [
        "pipe_m = pipeline.Pipeline([('std_scaler',preprocessing.StandardScaler()), ('feat_gen', FeatureGenerationTransformer(thr=0.5)), ('feat_sel', FeatureSelectionTransformer('rtree', X_train.shape[1]))])\n",
        "pipe_m.fit(X_train, y_train)\n",
        "X_train_m = pipe_m.transform(X_train)\n",
        "X_test_m = pipe_m.transform(X_test)"
      ],
      "metadata": {
        "id": "zjSQ3FjfEcOF"
      },
      "execution_count": null,
      "outputs": []
    },
    {
      "cell_type": "code",
      "source": [
        "X_test_m.shape"
      ],
      "metadata": {
        "colab": {
          "base_uri": "https://localhost:8080/"
        },
        "id": "1P5eMB8yE8oO",
        "outputId": "96afb940-20ad-482d-aa0b-25a45fd74fff"
      },
      "execution_count": null,
      "outputs": [
        {
          "output_type": "execute_result",
          "data": {
            "text/plain": [
              "(105, 21)"
            ]
          },
          "metadata": {},
          "execution_count": 244
        }
      ]
    },
    {
      "cell_type": "code",
      "source": [
        "calc_accuracy(X_train_m, y_train, X_test_m, y_test)"
      ],
      "metadata": {
        "colab": {
          "base_uri": "https://localhost:8080/"
        },
        "id": "ZeSR0_3aFDOS",
        "outputId": "4897a582-d916-4bd9-edb6-ae2c9ff3bca7"
      },
      "execution_count": null,
      "outputs": [
        {
          "output_type": "stream",
          "name": "stderr",
          "text": [
            "/usr/local/lib/python3.10/dist-packages/sklearn/svm/_base.py:1244: ConvergenceWarning: Liblinear failed to converge, increase the number of iterations.\n",
            "  warnings.warn(\n"
          ]
        },
        {
          "output_type": "stream",
          "name": "stdout",
          "text": [
            "linear_svm :  0.819047619047619\n",
            "ridge :  -6.944000166999643\n",
            "gradboost :  0.7714285714285715\n",
            "logistic :  0.8285714285714286\n"
          ]
        },
        {
          "output_type": "stream",
          "name": "stderr",
          "text": [
            "/usr/local/lib/python3.10/dist-packages/sklearn/linear_model/_glm/_newton_solver.py:491: LinAlgWarning: The inner solver of NewtonCholeskySolver stumbled upon a singular or very ill-conditioned Hessian matrix at iteration #19. It will now resort to lbfgs instead.\n",
            "Further options are to use another solver or to avoid such situation in the first place. Possible remedies are removing collinear features of X or increasing the penalization strengths.\n",
            "The original Linear Algebra message was:\n",
            "Matrix is singular.\n",
            "  warnings.warn(\n"
          ]
        },
        {
          "output_type": "stream",
          "name": "stdout",
          "text": [
            "randomforest :  0.7523809523809524\n"
          ]
        }
      ]
    },
    {
      "cell_type": "markdown",
      "source": [
        "####Остальное\n"
      ],
      "metadata": {
        "id": "xSXMko7RMRI2"
      }
    },
    {
      "cell_type": "code",
      "source": [
        "feat_gen.desc_dict"
      ],
      "metadata": {
        "colab": {
          "base_uri": "https://localhost:8080/"
        },
        "id": "20KHxe6enIyt",
        "outputId": "9ce49a1e-02c6-4fd4-c28d-bc5c56962fb0"
      },
      "execution_count": null,
      "outputs": [
        {
          "output_type": "execute_result",
          "data": {
            "text/plain": [
              "{'s_exp': [array([ 1, 10, 11, 90, 98, 99]),\n",
              "  array([100, 101, 102, 103, 104, 105])],\n",
              " 's_^2': [array([ 1, 10, 11, 90, 98, 99]),\n",
              "  array([106, 107, 108, 109, 110, 111])],\n",
              " 's_^3': [array([ 1, 10, 11, 90, 98, 99]),\n",
              "  array([112, 113, 114, 115, 116, 117])],\n",
              " 's_log': [array([10, 90, 98]), array([118, 119, 120])],\n",
              " 's_^0.5': [array([10, 90, 98]), array([121, 122, 123])],\n",
              " 'p_*': [array([[10, 90],\n",
              "         [10, 98],\n",
              "         [90, 98]]),\n",
              "  array([124, 125, 126])],\n",
              " 'p_/': [array([[10, 90],\n",
              "         [90, 10],\n",
              "         [10, 98],\n",
              "         [98, 10],\n",
              "         [90, 98],\n",
              "         [98, 90]]),\n",
              "  array([127, 128, 129, 130, 131, 132])],\n",
              " 'p_+': [array([[90, 10]]), array([133])],\n",
              " 'p_-': [array([[90, 10],\n",
              "         [10, 90]]),\n",
              "  array([134, 135])]}"
            ]
          },
          "metadata": {},
          "execution_count": 11
        }
      ]
    },
    {
      "cell_type": "code",
      "source": [
        "d = {'df':12, 'rt': 44}\n",
        "for k, v in d.items():\n",
        "    print(k, v)"
      ],
      "metadata": {
        "colab": {
          "base_uri": "https://localhost:8080/"
        },
        "id": "fSxoyJ0haI3u",
        "outputId": "3b532cc7-a636-447b-9e04-4dde79cdee87"
      },
      "execution_count": null,
      "outputs": [
        {
          "output_type": "stream",
          "name": "stdout",
          "text": [
            "df 12\n",
            "rt 44\n"
          ]
        }
      ]
    },
    {
      "cell_type": "code",
      "source": [
        "a = np.array([\n",
        "    [1, 2, 6],\n",
        "    [3, 4, 4]\n",
        "])\n",
        "b = np.array([\n",
        "    [11, 12],\n",
        "    [13, 14]\n",
        "])\n"
      ],
      "metadata": {
        "id": "GWGboG55XPRh"
      },
      "execution_count": null,
      "outputs": []
    },
    {
      "cell_type": "code",
      "source": [
        "c = np.array([[0,1], [11, 12]])\n",
        "c[:, 0]"
      ],
      "metadata": {
        "colab": {
          "base_uri": "https://localhost:8080/"
        },
        "id": "m45cqup-gjhd",
        "outputId": "a93c8d1c-fabc-4258-bb3b-d895fdf21067"
      },
      "execution_count": null,
      "outputs": [
        {
          "output_type": "execute_result",
          "data": {
            "text/plain": [
              "array([ 0, 11])"
            ]
          },
          "metadata": {},
          "execution_count": 21
        }
      ]
    },
    {
      "cell_type": "code",
      "source": [
        "a.T[[0, 1]].T"
      ],
      "metadata": {
        "colab": {
          "base_uri": "https://localhost:8080/"
        },
        "id": "NFPGv42ggZMs",
        "outputId": "c5e385df-87fa-41c0-8209-9f658ad17e7b"
      },
      "execution_count": null,
      "outputs": [
        {
          "output_type": "execute_result",
          "data": {
            "text/plain": [
              "array([[1, 2],\n",
              "       [3, 4]])"
            ]
          },
          "metadata": {},
          "execution_count": 24
        }
      ]
    },
    {
      "cell_type": "code",
      "source": [
        "np.prod(a.T[[[1,2], [0, 2]]], axis=1).T"
      ],
      "metadata": {
        "colab": {
          "base_uri": "https://localhost:8080/"
        },
        "id": "F4drgRiIeQHO",
        "outputId": "16c99e4a-7ccc-42fa-fd74-e63358b0813a"
      },
      "execution_count": null,
      "outputs": [
        {
          "output_type": "execute_result",
          "data": {
            "text/plain": [
              "array([[12,  6],\n",
              "       [16, 12]])"
            ]
          },
          "metadata": {},
          "execution_count": 17
        }
      ]
    },
    {
      "cell_type": "code",
      "source": [
        "from sklearn.datasets import load_iris\n",
        "X = load_iris()['data']\n",
        "y = load_iris()['target']"
      ],
      "metadata": {
        "id": "0TPZ06QL1lyk"
      },
      "execution_count": null,
      "outputs": []
    },
    {
      "cell_type": "code",
      "source": [
        "X_train, X_test, y_train, y_test = train_test_split(\n",
        "X, y, test_size=0.2, random_state=42)\n",
        "scaler = StandardScaler()\n",
        "result = scaler.fit_transform(X_train)\n",
        "result_t = scaler.transform(X_test)\n",
        "feat_gen = FeatureGenerationTransformer(thr=0.01)"
      ],
      "metadata": {
        "id": "T5Yof2aX1vZi"
      },
      "execution_count": null,
      "outputs": []
    },
    {
      "cell_type": "code",
      "source": [
        "from sklearn.linear_model import LogisticRegression\n",
        "from sklearn.metrics import accuracy_score\n",
        "clf = LogisticRegression(random_state=0, solver=\"newton-cg\")\n",
        "clf.fit(result, y_train)\n",
        "print('До генерации:', accuracy_score(y_test, clf.predict(result_t)))"
      ],
      "metadata": {
        "colab": {
          "base_uri": "https://localhost:8080/"
        },
        "id": "iQ66oUPg3uGj",
        "outputId": "5698668c-d75d-4fee-ec6e-508b19337462"
      },
      "execution_count": null,
      "outputs": [
        {
          "output_type": "stream",
          "name": "stdout",
          "text": [
            "До генерации: 1.0\n"
          ]
        }
      ]
    },
    {
      "cell_type": "code",
      "source": [
        "np.exp(np.clip(np.array([7000]), -750, 700))"
      ],
      "metadata": {
        "colab": {
          "base_uri": "https://localhost:8080/"
        },
        "id": "CbxjyoCG8Hnp",
        "outputId": "588088c9-ea6d-457e-8b62-c356b1c5c046"
      },
      "execution_count": null,
      "outputs": [
        {
          "output_type": "execute_result",
          "data": {
            "text/plain": [
              "array([1.01423205e+304])"
            ]
          },
          "metadata": {},
          "execution_count": 5
        }
      ]
    },
    {
      "cell_type": "code",
      "source": [
        "np.exp([750])"
      ],
      "metadata": {
        "colab": {
          "base_uri": "https://localhost:8080/"
        },
        "id": "cLd-9FIA8ivQ",
        "outputId": "7aeb02b1-bcbb-4269-8600-a33d1b2a5b09"
      },
      "execution_count": null,
      "outputs": [
        {
          "output_type": "stream",
          "name": "stderr",
          "text": [
            "<ipython-input-6-d2e302c63bff>:1: RuntimeWarning: overflow encountered in exp\n",
            "  np.exp([750])\n"
          ]
        },
        {
          "output_type": "execute_result",
          "data": {
            "text/plain": [
              "array([inf])"
            ]
          },
          "metadata": {},
          "execution_count": 6
        }
      ]
    },
    {
      "cell_type": "code",
      "source": [
        "start_time = time.time()\n",
        "result_2 = feat_gen.fit_transform(result)\n",
        "end_time = time.time()\n",
        "elapsed_time = end_time - start_time\n",
        "print(f'Время генерации: {elapsed_time:.5f}')\n",
        "print(result_2.shape)"
      ],
      "metadata": {
        "id": "KWD3qHlj3sxi",
        "colab": {
          "base_uri": "https://localhost:8080/"
        },
        "outputId": "c936c33f-e9ea-4160-d2d1-840bd9f1f82c"
      },
      "execution_count": null,
      "outputs": [
        {
          "output_type": "stream",
          "name": "stdout",
          "text": [
            "Время генерации: 0.00145\n",
            "(120, 42)\n"
          ]
        }
      ]
    },
    {
      "cell_type": "code",
      "source": [
        "clf = LogisticRegression(random_state=0, solver=\"newton-cg\")\n",
        "clf.fit(result, y_train)\n",
        "print('После генерации:', accuracy_score(y_test, clf.predict(result_t)))"
      ],
      "metadata": {
        "colab": {
          "base_uri": "https://localhost:8080/"
        },
        "id": "CjuTShlO2umv",
        "outputId": "6a0b773e-981e-40d6-c280-cfd6c0e89933"
      },
      "execution_count": null,
      "outputs": [
        {
          "output_type": "stream",
          "name": "stdout",
          "text": [
            "После генерации: 1.0\n"
          ]
        }
      ]
    },
    {
      "cell_type": "code",
      "source": [
        "result_2.shape"
      ],
      "metadata": {
        "colab": {
          "base_uri": "https://localhost:8080/"
        },
        "id": "Q8PfNY78NX6G",
        "outputId": "8df53c21-c76f-4a1c-e243-3a88c9458beb"
      },
      "execution_count": null,
      "outputs": [
        {
          "output_type": "execute_result",
          "data": {
            "text/plain": [
              "(80000, 579)"
            ]
          },
          "metadata": {},
          "execution_count": 5
        }
      ]
    },
    {
      "cell_type": "code",
      "source": [
        "feat_gen.desc_dict"
      ],
      "metadata": {
        "colab": {
          "base_uri": "https://localhost:8080/"
        },
        "id": "2d0jZTpvNcOJ",
        "outputId": "038171b4-165a-4e4e-a813-6b789bd54d5e"
      },
      "execution_count": null,
      "outputs": [
        {
          "output_type": "execute_result",
          "data": {
            "text/plain": [
              "{'exp': [array([ 0,  1,  2,  3,  4,  5,  6,  7,  8,  9, 10, 11, 12, 13, 14, 15, 16,\n",
              "         17, 18, 19, 20, 21, 22, 23, 24, 25, 26, 27, 28, 29, 30, 31, 32, 33,\n",
              "         34, 35, 36, 37, 38, 39, 40, 41, 42, 43, 44, 45, 46, 47, 48, 49, 50,\n",
              "         51, 52, 53, 54, 55, 56, 57, 58, 59, 60, 61, 62, 63, 64, 65, 66, 67,\n",
              "         68, 69, 70, 71, 72, 73, 74, 75, 76, 77, 78, 79, 80, 81, 82, 83, 84,\n",
              "         85, 86, 87, 88, 89, 90, 91, 92, 93, 94, 95, 96, 97, 98, 99]),\n",
              "  array([100, 101, 102, 103, 104, 105, 106, 107, 108, 109, 110, 111, 112,\n",
              "         113, 114, 115, 116, 117, 118, 119, 120, 121, 122, 123, 124, 125,\n",
              "         126, 127, 128, 129, 130, 131, 132, 133, 134, 135, 136, 137, 138,\n",
              "         139, 140, 141, 142, 143, 144, 145, 146, 147, 148, 149, 150, 151,\n",
              "         152, 153, 154, 155, 156, 157, 158, 159, 160, 161, 162, 163, 164,\n",
              "         165, 166, 167, 168, 169, 170, 171, 172, 173, 174, 175, 176, 177,\n",
              "         178, 179, 180, 181, 182, 183, 184, 185, 186, 187, 188, 189, 190,\n",
              "         191, 192, 193, 194, 195, 196, 197, 198, 199])],\n",
              " '^2': [array([ 0,  1,  2,  3,  4,  5,  6,  7,  8,  9, 10, 11, 12, 13, 14, 15, 16,\n",
              "         17, 18, 19, 20, 21, 22, 23, 24, 25, 26, 27, 28, 29, 30, 31, 32, 33,\n",
              "         34, 35, 36, 37, 38, 39, 40, 41, 42, 43, 44, 45, 46, 47, 48, 49, 50,\n",
              "         51, 52, 53, 54, 55, 56, 57, 58, 59, 60, 61, 62, 63, 64, 65, 66, 67,\n",
              "         68, 69, 70, 71, 72, 73, 74, 75, 76, 77, 78, 79, 80, 81, 82, 83, 84,\n",
              "         85, 86, 87, 88, 89, 90, 91, 92, 93, 94, 95, 96, 97, 98, 99]),\n",
              "  array([200, 201, 202, 203, 204, 205, 206, 207, 208, 209, 210, 211, 212,\n",
              "         213, 214, 215, 216, 217, 218, 219, 220, 221, 222, 223, 224, 225,\n",
              "         226, 227, 228, 229, 230, 231, 232, 233, 234, 235, 236, 237, 238,\n",
              "         239, 240, 241, 242, 243, 244, 245, 246, 247, 248, 249, 250, 251,\n",
              "         252, 253, 254, 255, 256, 257, 258, 259, 260, 261, 262, 263, 264,\n",
              "         265, 266, 267, 268, 269, 270, 271, 272, 273, 274, 275, 276, 277,\n",
              "         278, 279, 280, 281, 282, 283, 284, 285, 286, 287, 288, 289, 290,\n",
              "         291, 292, 293, 294, 295, 296, 297, 298, 299])],\n",
              " '^3': [array([ 0,  1,  2,  3,  4,  5,  6,  7,  8,  9, 10, 11, 12, 13, 14, 15, 16,\n",
              "         17, 18, 19, 20, 21, 22, 23, 24, 25, 26, 27, 28, 29, 30, 31, 32, 33,\n",
              "         34, 35, 36, 37, 38, 39, 40, 41, 42, 43, 44, 45, 46, 47, 48, 49, 50,\n",
              "         51, 52, 53, 54, 55, 56, 57, 58, 59, 60, 61, 62, 63, 64, 65, 66, 67,\n",
              "         68, 69, 70, 71, 72, 73, 74, 75, 76, 77, 78, 79, 80, 81, 82, 83, 84,\n",
              "         85, 86, 87, 88, 89, 90, 91, 92, 93, 94, 95, 96, 97, 98, 99]),\n",
              "  array([300, 301, 302, 303, 304, 305, 306, 307, 308, 309, 310, 311, 312,\n",
              "         313, 314, 315, 316, 317, 318, 319, 320, 321, 322, 323, 324, 325,\n",
              "         326, 327, 328, 329, 330, 331, 332, 333, 334, 335, 336, 337, 338,\n",
              "         339, 340, 341, 342, 343, 344, 345, 346, 347, 348, 349, 350, 351,\n",
              "         352, 353, 354, 355, 356, 357, 358, 359, 360, 361, 362, 363, 364,\n",
              "         365, 366, 367, 368, 369, 370, 371, 372, 373, 374, 375, 376, 377,\n",
              "         378, 379, 380, 381, 382, 383, 384, 385, 386, 387, 388, 389, 390,\n",
              "         391, 392, 393, 394, 395, 396, 397, 398, 399])],\n",
              " 'log': [array([ 1,  2,  3,  4,  5,  6,  7,  8,  9, 92]),\n",
              "  array([400, 401, 402, 403, 404, 405, 406, 407, 408, 409])],\n",
              " '^0.5': [array([ 1,  2,  3,  4,  5,  6,  7,  8,  9, 92]),\n",
              "  array([410, 411, 412, 413, 414, 415, 416, 417, 418, 419])],\n",
              " '*': [array([[ 1,  2],\n",
              "         [ 1,  3],\n",
              "         [ 1,  4],\n",
              "         [ 1,  5],\n",
              "         [ 1,  6],\n",
              "         [ 1,  7],\n",
              "         [ 1,  8],\n",
              "         [ 1,  9],\n",
              "         [ 1, 92],\n",
              "         [ 2,  3],\n",
              "         [ 2,  4],\n",
              "         [ 2,  5],\n",
              "         [ 2,  6],\n",
              "         [ 2,  7],\n",
              "         [ 2,  8],\n",
              "         [ 2,  9],\n",
              "         [ 2, 92],\n",
              "         [ 3,  4],\n",
              "         [ 3,  5],\n",
              "         [ 3,  6],\n",
              "         [ 3,  7],\n",
              "         [ 3,  8],\n",
              "         [ 3,  9],\n",
              "         [ 3, 92],\n",
              "         [ 4,  5],\n",
              "         [ 4,  6],\n",
              "         [ 4,  7],\n",
              "         [ 4,  8],\n",
              "         [ 4,  9],\n",
              "         [ 4, 92],\n",
              "         [ 5,  6],\n",
              "         [ 5,  7],\n",
              "         [ 5,  8],\n",
              "         [ 5,  9],\n",
              "         [ 5, 92],\n",
              "         [ 6,  7],\n",
              "         [ 6,  8],\n",
              "         [ 6,  9],\n",
              "         [ 6, 92],\n",
              "         [ 7,  8],\n",
              "         [ 7,  9],\n",
              "         [ 7, 92],\n",
              "         [ 8,  9],\n",
              "         [ 8, 92],\n",
              "         [ 9, 92]]),\n",
              "  array([420, 421, 422, 423, 424, 425, 426, 427, 428, 429, 430, 431, 432,\n",
              "         433, 434, 435, 436, 437, 438, 439, 440, 441, 442, 443, 444, 445,\n",
              "         446, 447, 448, 449, 450, 451, 452, 453, 454, 455, 456, 457, 458,\n",
              "         459, 460, 461, 462, 463, 464])],\n",
              " '/': [array([[ 1,  2],\n",
              "         [ 2,  1],\n",
              "         [ 1,  3],\n",
              "         [ 3,  1],\n",
              "         [ 1,  4],\n",
              "         [ 4,  1],\n",
              "         [ 1,  5],\n",
              "         [ 5,  1],\n",
              "         [ 1,  6],\n",
              "         [ 6,  1],\n",
              "         [ 1,  7],\n",
              "         [ 7,  1],\n",
              "         [ 1,  8],\n",
              "         [ 8,  1],\n",
              "         [ 1,  9],\n",
              "         [ 9,  1],\n",
              "         [ 1, 92],\n",
              "         [92,  1],\n",
              "         [ 2,  3],\n",
              "         [ 3,  2],\n",
              "         [ 2,  4],\n",
              "         [ 4,  2],\n",
              "         [ 2,  5],\n",
              "         [ 5,  2],\n",
              "         [ 2,  6],\n",
              "         [ 6,  2],\n",
              "         [ 2,  7],\n",
              "         [ 7,  2],\n",
              "         [ 2,  8],\n",
              "         [ 8,  2],\n",
              "         [ 2,  9],\n",
              "         [ 9,  2],\n",
              "         [ 2, 92],\n",
              "         [92,  2],\n",
              "         [ 3,  4],\n",
              "         [ 4,  3],\n",
              "         [ 3,  5],\n",
              "         [ 5,  3],\n",
              "         [ 3,  6],\n",
              "         [ 6,  3],\n",
              "         [ 3,  7],\n",
              "         [ 7,  3],\n",
              "         [ 3,  8],\n",
              "         [ 8,  3],\n",
              "         [ 3,  9],\n",
              "         [ 9,  3],\n",
              "         [ 3, 92],\n",
              "         [92,  3],\n",
              "         [ 4,  5],\n",
              "         [ 5,  4],\n",
              "         [ 4,  6],\n",
              "         [ 6,  4],\n",
              "         [ 4,  7],\n",
              "         [ 7,  4],\n",
              "         [ 4,  8],\n",
              "         [ 8,  4],\n",
              "         [ 4,  9],\n",
              "         [ 9,  4],\n",
              "         [ 4, 92],\n",
              "         [92,  4],\n",
              "         [ 5,  6],\n",
              "         [ 6,  5],\n",
              "         [ 5,  7],\n",
              "         [ 7,  5],\n",
              "         [ 5,  8],\n",
              "         [ 8,  5],\n",
              "         [ 5,  9],\n",
              "         [ 9,  5],\n",
              "         [ 5, 92],\n",
              "         [92,  5],\n",
              "         [ 6,  7],\n",
              "         [ 7,  6],\n",
              "         [ 6,  8],\n",
              "         [ 8,  6],\n",
              "         [ 6,  9],\n",
              "         [ 9,  6],\n",
              "         [ 6, 92],\n",
              "         [92,  6],\n",
              "         [ 7,  8],\n",
              "         [ 8,  7],\n",
              "         [ 7,  9],\n",
              "         [ 9,  7],\n",
              "         [ 7, 92],\n",
              "         [92,  7],\n",
              "         [ 8,  9],\n",
              "         [ 9,  8],\n",
              "         [ 8, 92],\n",
              "         [92,  8],\n",
              "         [ 9, 92],\n",
              "         [92,  9]]),\n",
              "  array([465, 466, 467, 468, 469, 470, 471, 472, 473, 474, 475, 476, 477,\n",
              "         478, 479, 480, 481, 482, 483, 484, 485, 486, 487, 488, 489, 490,\n",
              "         491, 492, 493, 494, 495, 496, 497, 498, 499, 500, 501, 502, 503,\n",
              "         504, 505, 506, 507, 508, 509, 510, 511, 512, 513, 514, 515, 516,\n",
              "         517, 518, 519, 520, 521, 522, 523, 524, 525, 526, 527, 528, 529,\n",
              "         530, 531, 532, 533, 534, 535, 536, 537, 538, 539, 540, 541, 542,\n",
              "         543, 544, 545, 546, 547, 548, 549, 550, 551, 552, 553, 554])],\n",
              " '+': [array([[ 2,  1],\n",
              "         [ 5,  1],\n",
              "         [ 7,  3],\n",
              "         [ 7,  4],\n",
              "         [ 7,  5],\n",
              "         [ 8,  1],\n",
              "         [ 9,  1],\n",
              "         [92,  3]]),\n",
              "  array([555, 556, 557, 558, 559, 560, 561, 562])],\n",
              " '-': [array([[ 2,  1],\n",
              "         [ 1,  2],\n",
              "         [ 5,  1],\n",
              "         [ 1,  5],\n",
              "         [ 7,  3],\n",
              "         [ 3,  7],\n",
              "         [ 7,  4],\n",
              "         [ 4,  7],\n",
              "         [ 7,  5],\n",
              "         [ 5,  7],\n",
              "         [ 8,  1],\n",
              "         [ 1,  8],\n",
              "         [ 9,  1],\n",
              "         [ 1,  9],\n",
              "         [92,  3],\n",
              "         [ 3, 92]]),\n",
              "  array([563, 564, 565, 566, 567, 568, 569, 570, 571, 572, 573, 574, 575,\n",
              "         576, 577, 578])]}"
            ]
          },
          "metadata": {},
          "execution_count": 6
        }
      ]
    },
    {
      "cell_type": "code",
      "source": [
        "result_2[:,2] / result_2[:,1], result_2[:, 466]"
      ],
      "metadata": {
        "colab": {
          "base_uri": "https://localhost:8080/"
        },
        "id": "Vs0kmWWuNwzy",
        "outputId": "a45beb3d-d096-4e0b-f6a6-44166c308d81"
      },
      "execution_count": null,
      "outputs": [
        {
          "output_type": "execute_result",
          "data": {
            "text/plain": [
              "(array([ -0.74703308,   0.48833819,  -0.66317091, ...,  -2.08303506,\n",
              "         -4.14879989, -27.71464557]),\n",
              " array([ -0.74703308,   0.48833819,  -0.66317091, ...,  -2.08303506,\n",
              "         -4.14879989, -27.71464557]))"
            ]
          },
          "metadata": {},
          "execution_count": 29
        }
      ]
    },
    {
      "cell_type": "code",
      "source": [
        "0.865*0.865"
      ],
      "metadata": {
        "colab": {
          "base_uri": "https://localhost:8080/"
        },
        "id": "OnptVhZaPesA",
        "outputId": "e8226ddb-7e30-41b3-d608-1adbf848203c"
      },
      "execution_count": null,
      "outputs": [
        {
          "output_type": "execute_result",
          "data": {
            "text/plain": [
              "0.748225"
            ]
          },
          "metadata": {},
          "execution_count": 60
        }
      ]
    },
    {
      "cell_type": "code",
      "source": [
        "np.arange(1,10,2)"
      ],
      "metadata": {
        "colab": {
          "base_uri": "https://localhost:8080/"
        },
        "id": "NpBv3aBJ0kHU",
        "outputId": "3c609e43-fdc6-4654-a7dd-e92cfcd65497"
      },
      "execution_count": null,
      "outputs": [
        {
          "output_type": "execute_result",
          "data": {
            "text/plain": [
              "array([1, 3, 5, 7, 9])"
            ]
          },
          "metadata": {},
          "execution_count": 51
        }
      ]
    },
    {
      "cell_type": "code",
      "source": [
        "np.array([[i, j] for j in range(10) for i in range(j - 1)]).shape"
      ],
      "metadata": {
        "colab": {
          "base_uri": "https://localhost:8080/"
        },
        "id": "-TaJRt9vIcEw",
        "outputId": "2d6840bc-e1b9-4e65-d4e3-8f9b977830db"
      },
      "execution_count": null,
      "outputs": [
        {
          "output_type": "execute_result",
          "data": {
            "text/plain": [
              "(36, 2)"
            ]
          },
          "metadata": {},
          "execution_count": 37
        }
      ]
    },
    {
      "cell_type": "code",
      "source": [
        "import itertools\n",
        "\n",
        "np.array(list(itertools.combinations(range(10), 2)))"
      ],
      "metadata": {
        "colab": {
          "base_uri": "https://localhost:8080/"
        },
        "id": "Im5PvEYDKaTs",
        "outputId": "76c47e3c-38ed-4e20-bca9-a562fc5a9a3e"
      },
      "execution_count": null,
      "outputs": [
        {
          "output_type": "execute_result",
          "data": {
            "text/plain": [
              "array([[0, 1],\n",
              "       [0, 2],\n",
              "       [0, 3],\n",
              "       [0, 4],\n",
              "       [0, 5],\n",
              "       [0, 6],\n",
              "       [0, 7],\n",
              "       [0, 8],\n",
              "       [0, 9],\n",
              "       [1, 2],\n",
              "       [1, 3],\n",
              "       [1, 4],\n",
              "       [1, 5],\n",
              "       [1, 6],\n",
              "       [1, 7],\n",
              "       [1, 8],\n",
              "       [1, 9],\n",
              "       [2, 3],\n",
              "       [2, 4],\n",
              "       [2, 5],\n",
              "       [2, 6],\n",
              "       [2, 7],\n",
              "       [2, 8],\n",
              "       [2, 9],\n",
              "       [3, 4],\n",
              "       [3, 5],\n",
              "       [3, 6],\n",
              "       [3, 7],\n",
              "       [3, 8],\n",
              "       [3, 9],\n",
              "       [4, 5],\n",
              "       [4, 6],\n",
              "       [4, 7],\n",
              "       [4, 8],\n",
              "       [4, 9],\n",
              "       [5, 6],\n",
              "       [5, 7],\n",
              "       [5, 8],\n",
              "       [5, 9],\n",
              "       [6, 7],\n",
              "       [6, 8],\n",
              "       [6, 9],\n",
              "       [7, 8],\n",
              "       [7, 9],\n",
              "       [8, 9]])"
            ]
          },
          "metadata": {},
          "execution_count": 40
        }
      ]
    },
    {
      "cell_type": "code",
      "source": [
        "np.com"
      ],
      "metadata": {
        "id": "apL5SildIrgM"
      },
      "execution_count": null,
      "outputs": []
    },
    {
      "cell_type": "code",
      "source": [
        "result_2"
      ],
      "metadata": {
        "colab": {
          "base_uri": "https://localhost:8080/"
        },
        "id": "-lh0pCj6iRCH",
        "outputId": "11fc3a81-bebc-48d0-db69-5c877ca3ff6a"
      },
      "execution_count": null,
      "outputs": [
        {
          "output_type": "execute_result",
          "data": {
            "text/plain": [
              "array([[-2.09270676,  1.15687253, -0.4371196 , ..., -0.50569166,\n",
              "        -0.37784595, -2.64658122],\n",
              "       [ 0.42740856,  0.27523665, -0.99100843, ..., -0.27276184,\n",
              "        -3.60056857, -0.27773391],\n",
              "       [ 0.49683044, -1.16285266,  0.31423901, ..., -0.36541367,\n",
              "        -0.27023115, -3.70053564],\n",
              "       ...,\n",
              "       [-0.057246  , -1.06131555,  1.67341082, ..., -1.77601692,\n",
              "        -1.5767326 , -0.63422295],\n",
              "       [-0.74336481,  1.65313952, -1.24810276, ..., -2.063288  ,\n",
              "        -0.75498937, -1.32452197],\n",
              "       [ 0.3536813 , -0.4488348 ,  0.29054306, ..., -0.13040583,\n",
              "        -0.6473274 , -1.54481335]])"
            ]
          },
          "metadata": {},
          "execution_count": 6
        }
      ]
    },
    {
      "cell_type": "code",
      "source": [
        "feat_gen._corr_mat"
      ],
      "metadata": {
        "colab": {
          "base_uri": "https://localhost:8080/"
        },
        "id": "kX3UHKN9yrG1",
        "outputId": "3bf45188-0196-48cf-af51-754bb6518321"
      },
      "execution_count": null,
      "outputs": [
        {
          "output_type": "execute_result",
          "data": {
            "text/plain": [
              "array([[ 1.        , -0.85964575],\n",
              "       [-0.85964575,  1.        ]])"
            ]
          },
          "metadata": {},
          "execution_count": 47
        }
      ]
    },
    {
      "cell_type": "code",
      "source": [
        "np.array(np.zeros((0,0)))"
      ],
      "metadata": {
        "colab": {
          "base_uri": "https://localhost:8080/"
        },
        "id": "aYMOyg8BgDib",
        "outputId": "52bc1886-9fa8-4a39-d4c0-d8a9d101bc51"
      },
      "execution_count": null,
      "outputs": [
        {
          "output_type": "execute_result",
          "data": {
            "text/plain": [
              "array([], shape=(0, 0), dtype=float64)"
            ]
          },
          "metadata": {},
          "execution_count": 42
        }
      ]
    },
    {
      "cell_type": "code",
      "source": [
        "from google.colab import drive\n",
        "import pickle\n",
        "drive.mount('/content/drive')"
      ],
      "metadata": {
        "colab": {
          "base_uri": "https://localhost:8080/",
          "height": 246
        },
        "id": "0XAGBpqGElzl",
        "outputId": "70ed4ee2-e3aa-4da0-ceb4-9ae06be925aa"
      },
      "execution_count": null,
      "outputs": [
        {
          "output_type": "stream",
          "name": "stdout",
          "text": [
            "Mounted at /content/drive\n"
          ]
        },
        {
          "output_type": "error",
          "ename": "FileNotFoundError",
          "evalue": "ignored",
          "traceback": [
            "\u001b[0;31m---------------------------------------------------------------------------\u001b[0m",
            "\u001b[0;31mFileNotFoundError\u001b[0m                         Traceback (most recent call last)",
            "\u001b[0;32m<ipython-input-3-063f0a22cb6d>\u001b[0m in \u001b[0;36m<cell line: 5>\u001b[0;34m()\u001b[0m\n\u001b[1;32m      3\u001b[0m \u001b[0mdrive\u001b[0m\u001b[0;34m.\u001b[0m\u001b[0mmount\u001b[0m\u001b[0;34m(\u001b[0m\u001b[0;34m'/content/drive'\u001b[0m\u001b[0;34m)\u001b[0m\u001b[0;34m\u001b[0m\u001b[0;34m\u001b[0m\u001b[0m\n\u001b[1;32m      4\u001b[0m \u001b[0;34m\u001b[0m\u001b[0m\n\u001b[0;32m----> 5\u001b[0;31m \u001b[0;32mwith\u001b[0m \u001b[0mopen\u001b[0m\u001b[0;34m(\u001b[0m\u001b[0;34m'drive/MyDrive/sience/history.dat'\u001b[0m\u001b[0;34m,\u001b[0m \u001b[0;34m\"wb\"\u001b[0m\u001b[0;34m)\u001b[0m \u001b[0;32mas\u001b[0m \u001b[0mfile\u001b[0m\u001b[0;34m:\u001b[0m\u001b[0;34m\u001b[0m\u001b[0;34m\u001b[0m\u001b[0m\n\u001b[0m\u001b[1;32m      6\u001b[0m     \u001b[0mpickle\u001b[0m\u001b[0;34m.\u001b[0m\u001b[0mdump\u001b[0m\u001b[0;34m(\u001b[0m\u001b[0mhistory\u001b[0m\u001b[0;34m,\u001b[0m \u001b[0mfile\u001b[0m\u001b[0;34m)\u001b[0m\u001b[0;34m\u001b[0m\u001b[0;34m\u001b[0m\u001b[0m\n",
            "\u001b[0;31mFileNotFoundError\u001b[0m: [Errno 2] No such file or directory: 'drive/MyDrive/sience/history.dat'"
          ]
        }
      ]
    },
    {
      "cell_type": "code",
      "source": [
        "history"
      ],
      "metadata": {
        "colab": {
          "base_uri": "https://localhost:8080/"
        },
        "id": "in-0pK3S8_ya",
        "outputId": "dad9d478-a959-4178-f6b3-b833b6746116"
      },
      "execution_count": null,
      "outputs": [
        {
          "output_type": "execute_result",
          "data": {
            "text/plain": [
              "{10: {10: 0.002145528793334961,\n",
              "  100: 0.007488250732421875,\n",
              "  1000: 0.010437726974487305,\n",
              "  10000: 0.042025089263916016,\n",
              "  100000: 0.5531578063964844},\n",
              " 50: {10: 0.010045289993286133,\n",
              "  100: 0.016582250595092773,\n",
              "  1000: 0.0774075984954834,\n",
              "  10000: 1.4936797618865967,\n",
              "  100000: 18.395544290542603},\n",
              " 100: {10: 0.04611349105834961,\n",
              "  100: 0.04762005805969238,\n",
              "  1000: 0.6432921886444092,\n",
              "  10000: 10.36926007270813,\n",
              "  100000: 115.10663485527039}}"
            ]
          },
          "metadata": {},
          "execution_count": 12
        }
      ]
    },
    {
      "cell_type": "code",
      "source": [
        "new_history = {100:{}, 1000:{}, 10000:{}, 100000:{}}\n",
        "for i in [10, 50, 100]:\n",
        "    for j in [100, 1000, 10000, 100000]:\n",
        "      new_history[j][i] = history[i][j]"
      ],
      "metadata": {
        "id": "46flyS3gAOk1"
      },
      "execution_count": null,
      "outputs": []
    },
    {
      "cell_type": "code",
      "source": [
        "new_history = {1000:{}, 10000:{}, 100000:{}}\n",
        "for i in history.keys():\n",
        "    for j in new_history.keys():\n",
        "      new_history[j][i] = history[i][j]"
      ],
      "metadata": {
        "id": "7GBAJD0gBr2k"
      },
      "execution_count": null,
      "outputs": []
    },
    {
      "cell_type": "code",
      "source": [
        "plt.title('Зависимость длительности обучения от числа объектов и признаков')\n",
        "\n",
        "# plt.plot(np.array(list(history[100].keys())) / 100000 * 120, np.array(list(history[100].values())),label=\"10 features\")\n",
        "# plt.plot(np.array(list(history[10].keys())) / 100000 * 0.5, np.array(list(history[10].values())),label=\"10 features\")\n",
        "# plt.plot(np.array(list(history[10].keys())) / 100000 * 0.5, np.array(list(history[10].values())),label=\"10 features\")\n",
        "# plt.plot(history[50].keys(), history[50].values(), label=\"50 features\")\n",
        "# plt.plot(history[100].keys(), history[100].values(), label=\"100 features\")\n",
        "plt.legend()\n",
        "# for alpha_i in range(alphas.shape[0]):\n",
        "#     for beta_i in range(betas.shape[0]):\n",
        "#         ax[alpha_i][beta_i].plot(range(1, len(history_al_bet_st_batch[0][0][alpha_i][beta_i]['func']) + 1),\n",
        "#                                  history_al_bet_st_batch[0][0][alpha_i][beta_i]['func'])\n",
        "#         ax[alpha_i][beta_i].set_title('step_alpha='+str(alphas[alpha_i])+', step_beta='+str(betas[beta_i]))\n",
        "#         ax[alpha_i][beta_i].set_xlabel('Номер эпохи')\n",
        "#         ax[alpha_i][beta_i].set_ylabel('Функция потери')\n",
        "#         ax[alpha_i][beta_i].grid()\n",
        "plt.ylabel('Время(с)')\n",
        "plt.xlabel('Число объектов')\n",
        "plt.grid()\n",
        "# fig.savefig('history_SGD_1_0.svg')\n",
        "# fig.show()"
      ],
      "metadata": {
        "colab": {
          "base_uri": "https://localhost:8080/",
          "height": 472
        },
        "id": "3gExKMA573vW",
        "outputId": "d4df6460-0db7-4fa4-fe51-535b81ac1f3c"
      },
      "execution_count": null,
      "outputs": [
        {
          "output_type": "display_data",
          "data": {
            "text/plain": [
              "<Figure size 640x480 with 1 Axes>"
            ],
            "image/png": "[encoded data removed]"
          },
          "metadata": {}
        }
      ]
    },
    {
      "cell_type": "code",
      "source": [
        "plt.title('Зависимость длительности обучения от числа объектов и признаков')\n",
        "\n",
        "plt.plot(np.array(list(new_history[10000].keys())), np.array(list(new_history[10000].values())),label=\"10000 objects\")\n",
        "# plt.plot(np.array(list(history[10].keys())) / 100000 * 0.5, np.array(list(history[10].values())),label=\"10 features\")\n",
        "# plt.plot(np.array(list(history[10].keys())) / 100000 * 0.5, np.array(list(history[10].values())),label=\"10 features\")\n",
        "# plt.plot(history[50].keys(), history[50].values(), label=\"50 features\")\n",
        "# plt.plot(history[100].keys(), history[100].values(), label=\"100 features\")\n",
        "plt.legend()\n",
        "# for alpha_i in range(alphas.shape[0]):\n",
        "#     for beta_i in range(betas.shape[0]):\n",
        "#         ax[alpha_i][beta_i].plot(range(1, len(history_al_bet_st_batch[0][0][alpha_i][beta_i]['func']) + 1),\n",
        "#                                  history_al_bet_st_batch[0][0][alpha_i][beta_i]['func'])\n",
        "#         ax[alpha_i][beta_i].set_title('step_alpha='+str(alphas[alpha_i])+', step_beta='+str(betas[beta_i]))\n",
        "#         ax[alpha_i][beta_i].set_xlabel('Номер эпохи')\n",
        "#         ax[alpha_i][beta_i].set_ylabel('Функция потери')\n",
        "#         ax[alpha_i][beta_i].grid()\n",
        "plt.ylabel('Время(с)')\n",
        "plt.xlabel('Число признаков')\n",
        "plt.grid()\n",
        "# fig.savefig('history_SGD_1_0.svg')\n",
        "# fig.show()"
      ],
      "metadata": {
        "colab": {
          "base_uri": "https://localhost:8080/",
          "height": 472
        },
        "id": "nkiayKLIApFz",
        "outputId": "16ef520b-1eed-43ce-ca91-c3dd38f3819d"
      },
      "execution_count": null,
      "outputs": [
        {
          "output_type": "display_data",
          "data": {
            "text/plain": [
              "<Figure size 640x480 with 1 Axes>"
            ],
            "image/png": "[encoded data removed]"
          },
          "metadata": {}
        }
      ]
    },
    {
      "cell_type": "markdown",
      "source": [
        "10000 объектов и 200 признаков -> 6 минут"
      ],
      "metadata": {
        "id": "7OIlnd7zV4rz"
      }
    },
    {
      "cell_type": "code",
      "source": [
        "a = np.array([\n",
        "    [1, 0.2, 0.3],\n",
        "    [0.2, 1, 0.8],\n",
        "    [0.3, 0.8, 1],\n",
        "])\n",
        "b = np.array([\n",
        "    [12, 0.2, 0.33],\n",
        "    [0.32, 31, 0.84],\n",
        "    [0.35, 0.38, 21],\n",
        "    [0.13, 0.18, -1],\n",
        "])\n",
        "c = np.concatenate([a[0] < 0.4, np.full((b.shape[1] - a.shape[0],), False)])\n",
        "b = np.concatenate([b, b.T[0].reshape(-1, 1) + b.T[c].T], axis=1)\n",
        "b"
      ],
      "metadata": {
        "colab": {
          "base_uri": "https://localhost:8080/"
        },
        "id": "1dJKJE7_z7d_",
        "outputId": "f61494f6-ce5e-4748-fc9e-e708f3b434e3"
      },
      "execution_count": null,
      "outputs": [
        {
          "output_type": "execute_result",
          "data": {
            "text/plain": [
              "array([[12.  ,  0.2 ,  0.33, 12.2 , 12.33],\n",
              "       [ 0.32, 31.  ,  0.84, 31.32,  1.16],\n",
              "       [ 0.35,  0.38, 21.  ,  0.73, 21.35],\n",
              "       [ 0.13,  0.18, -1.  ,  0.31, -0.87]])"
            ]
          },
          "metadata": {},
          "execution_count": 8
        }
      ]
    },
    {
      "cell_type": "code",
      "source": [
        "np.array([[1,0], [1, 1]]) + 1"
      ],
      "metadata": {
        "colab": {
          "base_uri": "https://localhost:8080/"
        },
        "id": "hSkRXBowDbvE",
        "outputId": "e4889d1d-f023-4f97-e607-993065e2d061"
      },
      "execution_count": null,
      "outputs": [
        {
          "output_type": "execute_result",
          "data": {
            "text/plain": [
              "array([[2, 1],\n",
              "       [2, 2]])"
            ]
          },
          "metadata": {},
          "execution_count": 18
        }
      ]
    },
    {
      "cell_type": "code",
      "source": [],
      "metadata": {
        "id": "rE66J0OHIb6C"
      },
      "execution_count": null,
      "outputs": []
    },
    {
      "cell_type": "code",
      "source": [
        "np.log(10)"
      ],
      "metadata": {
        "colab": {
          "base_uri": "https://localhost:8080/"
        },
        "id": "sHQM_DhjIbfB",
        "outputId": "20f05484-541e-4899-94f1-de8b13042dc0"
      },
      "execution_count": null,
      "outputs": [
        {
          "output_type": "execute_result",
          "data": {
            "text/plain": [
              "2.302585092994046"
            ]
          },
          "metadata": {},
          "execution_count": 14
        }
      ]
    },
    {
      "cell_type": "code",
      "source": [
        "a[:,:2][a[:,:2] < 0.3] = 100"
      ],
      "metadata": {
        "id": "Im8mvyOoFxSh"
      },
      "execution_count": null,
      "outputs": []
    },
    {
      "cell_type": "code",
      "source": [
        "a"
      ],
      "metadata": {
        "colab": {
          "base_uri": "https://localhost:8080/"
        },
        "id": "IvZrQvYtH2jE",
        "outputId": "8f3f8460-e6e7-421b-e7f5-edacb7ac4713"
      },
      "execution_count": null,
      "outputs": [
        {
          "output_type": "execute_result",
          "data": {
            "text/plain": [
              "array([[1. , 0.2, 0. ],\n",
              "       [0. , 1. , 0. ],\n",
              "       [1. , 0.8, 0. ]])"
            ]
          },
          "metadata": {},
          "execution_count": 44
        }
      ]
    },
    {
      "cell_type": "code",
      "source": [
        "a[[0, 1],[0, 1]]"
      ],
      "metadata": {
        "colab": {
          "base_uri": "https://localhost:8080/"
        },
        "id": "D-agbMj4XNxc",
        "outputId": "157f5bbe-0943-4a64-c1f9-f62a71e7de33"
      },
      "execution_count": null,
      "outputs": [
        {
          "output_type": "execute_result",
          "data": {
            "text/plain": [
              "array([1., 1.])"
            ]
          },
          "metadata": {},
          "execution_count": 43
        }
      ]
    },
    {
      "cell_type": "code",
      "source": [
        "a = np.array([\n",
        "    [2, 0.2, 100],\n",
        "    [0, 1, 100],\n",
        "    [4, 0.8, 100],\n",
        "])"
      ],
      "metadata": {
        "id": "GHLMWHZ7X7gi"
      },
      "execution_count": null,
      "outputs": []
    },
    {
      "cell_type": "code",
      "source": [
        "a[:,0].reshape(-1, 1) != 0"
      ],
      "metadata": {
        "colab": {
          "base_uri": "https://localhost:8080/"
        },
        "id": "C1ZMjSXlK2RS",
        "outputId": "cb02fbf6-a8a5-4c04-d06d-bc4409d48ea4"
      },
      "execution_count": null,
      "outputs": [
        {
          "output_type": "execute_result",
          "data": {
            "text/plain": [
              "array([[ True],\n",
              "       [False],\n",
              "       [ True]])"
            ]
          },
          "metadata": {},
          "execution_count": 82
        }
      ]
    },
    {
      "cell_type": "code",
      "source": [
        "a[:,[10]]"
      ],
      "metadata": {
        "colab": {
          "base_uri": "https://localhost:8080/",
          "height": 180
        },
        "id": "5-k1QkbkXvT8",
        "outputId": "0c1ccce8-be5b-4e02-d4fe-3b8443b93efc"
      },
      "execution_count": null,
      "outputs": [
        {
          "output_type": "error",
          "ename": "IndexError",
          "evalue": "ignored",
          "traceback": [
            "\u001b[0;31m---------------------------------------------------------------------------\u001b[0m",
            "\u001b[0;31mIndexError\u001b[0m                                Traceback (most recent call last)",
            "\u001b[0;32m<ipython-input-98-cb34dc91fd6c>\u001b[0m in \u001b[0;36m<cell line: 1>\u001b[0;34m()\u001b[0m\n\u001b[0;32m----> 1\u001b[0;31m \u001b[0ma\u001b[0m\u001b[0;34m[\u001b[0m\u001b[0;34m:\u001b[0m\u001b[0;34m,\u001b[0m\u001b[0;34m[\u001b[0m\u001b[0;36m10\u001b[0m\u001b[0;34m]\u001b[0m\u001b[0;34m]\u001b[0m\u001b[0;34m\u001b[0m\u001b[0;34m\u001b[0m\u001b[0m\n\u001b[0m",
            "\u001b[0;31mIndexError\u001b[0m: index 10 is out of bounds for axis 1 with size 3"
          ]
        }
      ]
    },
    {
      "cell_type": "code",
      "source": [
        "a[:,[1]] + np.zeros(())"
      ],
      "metadata": {
        "colab": {
          "base_uri": "https://localhost:8080/"
        },
        "id": "WLhrYy_kRCQn",
        "outputId": "df61fc2b-0f95-45f5-d658-4dee126c3f73"
      },
      "execution_count": null,
      "outputs": [
        {
          "output_type": "execute_result",
          "data": {
            "text/plain": [
              "array([[0.2],\n",
              "       [1. ],\n",
              "       [0.8]])"
            ]
          },
          "metadata": {},
          "execution_count": 87
        }
      ]
    },
    {
      "cell_type": "code",
      "source": [
        "a[:,[0, 0]]"
      ],
      "metadata": {
        "colab": {
          "base_uri": "https://localhost:8080/"
        },
        "id": "SEPuWmBBRjQY",
        "outputId": "d344ead2-3f89-4705-a133-468480ae8f03"
      },
      "execution_count": null,
      "outputs": [
        {
          "output_type": "execute_result",
          "data": {
            "text/plain": [
              "array([[2., 2.],\n",
              "       [0., 0.],\n",
              "       [4., 4.]])"
            ]
          },
          "metadata": {},
          "execution_count": 93
        }
      ]
    },
    {
      "cell_type": "code",
      "source": [
        "np.repeat(a[:,[1]], 0, 1)"
      ],
      "metadata": {
        "colab": {
          "base_uri": "https://localhost:8080/"
        },
        "id": "MhFdojZIQf3c",
        "outputId": "c5640f18-014a-435f-8722-9df67f3822a3"
      },
      "execution_count": null,
      "outputs": [
        {
          "output_type": "execute_result",
          "data": {
            "text/plain": [
              "array([], shape=(3, 0), dtype=float64)"
            ]
          },
          "metadata": {},
          "execution_count": 91
        }
      ]
    },
    {
      "cell_type": "code",
      "source": [
        "np.divide(np.repeat(a[:,1].reshape(-1, 1), a[:,[0, 2]].shape[1], axis=1), a[:,[0, 2]], out=np.repeat(a[:,1].reshape(-1, 1), a[:,[0, 2]].shape[1], axis=1), where=(a[:,[0, 2]] != 0))"
      ],
      "metadata": {
        "colab": {
          "base_uri": "https://localhost:8080/"
        },
        "id": "ZI3CQgpiX-A0",
        "outputId": "0ce78dd4-c5eb-4199-fc41-2493931bc16f"
      },
      "execution_count": null,
      "outputs": [
        {
          "output_type": "execute_result",
          "data": {
            "text/plain": [
              "array([[0.1  , 0.002],\n",
              "       [1.   , 0.01 ],\n",
              "       [0.2  , 0.008]])"
            ]
          },
          "metadata": {},
          "execution_count": 97
        }
      ]
    },
    {
      "cell_type": "code",
      "source": [
        "np.log(a, where=(a > 0))"
      ],
      "metadata": {
        "colab": {
          "base_uri": "https://localhost:8080/"
        },
        "id": "48tpavD9MVIP",
        "outputId": "85a6fc40-9a7f-46cc-e3de-2f4d034a9f1a"
      },
      "execution_count": null,
      "outputs": [
        {
          "output_type": "execute_result",
          "data": {
            "text/plain": [
              "array([[ 0.        ,  4.60517019, -1.2039728 ],\n",
              "       [ 4.60517019,  0.        , -0.22314355],\n",
              "       [-1.2039728 , -0.22314355,  0.        ]])"
            ]
          },
          "metadata": {},
          "execution_count": 31
        }
      ]
    },
    {
      "cell_type": "code",
      "source": [
        "a[0][0] = 0"
      ],
      "metadata": {
        "id": "f7uA0kslJEN-"
      },
      "execution_count": null,
      "outputs": []
    },
    {
      "cell_type": "code",
      "source": [
        "a"
      ],
      "metadata": {
        "colab": {
          "base_uri": "https://localhost:8080/",
          "height": 175
        },
        "id": "8mDXB69EJIXR",
        "outputId": "10cebe2c-a50e-4ec0-dbe3-b82a37a0633e"
      },
      "execution_count": null,
      "outputs": [
        {
          "output_type": "error",
          "ename": "NameError",
          "evalue": "ignored",
          "traceback": [
            "\u001b[0;31m---------------------------------------------------------------------------\u001b[0m",
            "\u001b[0;31mNameError\u001b[0m                                 Traceback (most recent call last)",
            "\u001b[0;32m<ipython-input-7-3f786850e387>\u001b[0m in \u001b[0;36m<cell line: 1>\u001b[0;34m()\u001b[0m\n\u001b[0;32m----> 1\u001b[0;31m \u001b[0ma\u001b[0m\u001b[0;34m\u001b[0m\u001b[0;34m\u001b[0m\u001b[0m\n\u001b[0m",
            "\u001b[0;31mNameError\u001b[0m: name 'a' is not defined"
          ]
        }
      ]
    },
    {
      "cell_type": "code",
      "source": [
        "np.where(a[:,:2] == 0, -10, (1/(a[:,:2][a[:,:2] != 0] =  1))"
      ],
      "metadata": {
        "colab": {
          "base_uri": "https://localhost:8080/",
          "height": 215
        },
        "id": "L9mQa4B9GGQR",
        "outputId": "4fab05fe-2f43-426e-c791-78aad460ac91"
      },
      "execution_count": null,
      "outputs": [
        {
          "output_type": "error",
          "ename": "ValueError",
          "evalue": "ignored",
          "traceback": [
            "\u001b[0;31m---------------------------------------------------------------------------\u001b[0m",
            "\u001b[0;31mValueError\u001b[0m                                Traceback (most recent call last)",
            "\u001b[0;32m<ipython-input-20-5c2d0c756296>\u001b[0m in \u001b[0;36m<cell line: 1>\u001b[0;34m()\u001b[0m\n\u001b[0;32m----> 1\u001b[0;31m \u001b[0mnp\u001b[0m\u001b[0;34m.\u001b[0m\u001b[0mwhere\u001b[0m\u001b[0;34m(\u001b[0m\u001b[0ma\u001b[0m\u001b[0;34m[\u001b[0m\u001b[0;34m:\u001b[0m\u001b[0;34m,\u001b[0m\u001b[0;34m:\u001b[0m\u001b[0;36m2\u001b[0m\u001b[0;34m]\u001b[0m \u001b[0;34m==\u001b[0m \u001b[0;36m0\u001b[0m\u001b[0;34m,\u001b[0m \u001b[0;34m-\u001b[0m\u001b[0;36m10\u001b[0m\u001b[0;34m,\u001b[0m \u001b[0;36m1\u001b[0m\u001b[0;34m/\u001b[0m\u001b[0ma\u001b[0m\u001b[0;34m[\u001b[0m\u001b[0;34m:\u001b[0m\u001b[0;34m,\u001b[0m\u001b[0;34m:\u001b[0m\u001b[0;36m2\u001b[0m\u001b[0;34m]\u001b[0m\u001b[0;34m[\u001b[0m\u001b[0ma\u001b[0m\u001b[0;34m[\u001b[0m\u001b[0;34m:\u001b[0m\u001b[0;34m,\u001b[0m\u001b[0;34m:\u001b[0m\u001b[0;36m2\u001b[0m\u001b[0;34m]\u001b[0m \u001b[0;34m!=\u001b[0m \u001b[0;36m0\u001b[0m\u001b[0;34m]\u001b[0m\u001b[0;34m)\u001b[0m\u001b[0;34m\u001b[0m\u001b[0;34m\u001b[0m\u001b[0m\n\u001b[0m",
            "\u001b[0;32m/usr/local/lib/python3.10/dist-packages/numpy/core/overrides.py\u001b[0m in \u001b[0;36mwhere\u001b[0;34m(*args, **kwargs)\u001b[0m\n",
            "\u001b[0;31mValueError\u001b[0m: operands could not be broadcast together with shapes (3,2) () (5,) "
          ]
        }
      ]
    },
    {
      "cell_type": "code",
      "source": [
        "c = np.concatenate([a[0] < 0.4, np.full((b.shape[1] - a.shape[0],), False)])\n",
        "b = np.concatenate([b, b.T[0].reshape(-1, 1) + b.T[c].T], axis=1)\n",
        "b"
      ],
      "metadata": {
        "colab": {
          "base_uri": "https://localhost:8080/"
        },
        "id": "VfijxHfD6HGR",
        "outputId": "8ec020ef-61ed-4aa8-8e11-d86315658d7d"
      },
      "execution_count": null,
      "outputs": [
        {
          "output_type": "execute_result",
          "data": {
            "text/plain": [
              "array([[12.  ,  0.2 ,  0.33, 12.2 , 12.33, 12.2 , 12.33, 12.2 , 12.33,\n",
              "        12.2 , 12.33],\n",
              "       [ 0.32, 31.  ,  0.84, 31.32,  1.16, 31.32,  1.16, 31.32,  1.16,\n",
              "        31.32,  1.16],\n",
              "       [ 0.35,  0.38, 21.  ,  0.73, 21.35,  0.73, 21.35,  0.73, 21.35,\n",
              "         0.73, 21.35],\n",
              "       [ 0.13,  0.18, -1.  ,  0.31, -0.87,  0.31, -0.87,  0.31, -0.87,\n",
              "         0.31, -0.87]])"
            ]
          },
          "metadata": {},
          "execution_count": 92
        }
      ]
    },
    {
      "cell_type": "code",
      "source": [
        "corr = np.array([\n",
        "    [1.0, 0.2, 0],\n",
        "    [0.2, 1.0, 0.4],\n",
        "    [0, 0.4, 1.0],\n",
        "])\n",
        "x = np.array([\n",
        "    [0, 0, 10],\n",
        "    [1, -1, 20],\n",
        "    [12, 30, 33],\n",
        "    [100, 36, 443],\n",
        "])"
      ],
      "metadata": {
        "id": "ArYMQAlSyg2I"
      },
      "execution_count": null,
      "outputs": []
    },
    {
      "cell_type": "code",
      "source": [
        "FeatureGenerationTransformer(thr=0.01, features_mask=None)"
      ],
      "metadata": {
        "colab": {
          "base_uri": "https://localhost:8080/",
          "height": 74
        },
        "id": "yjMHSq-VvRXM",
        "outputId": "9918f87d-788b-4639-f0ec-de2867d0c445"
      },
      "execution_count": null,
      "outputs": [
        {
          "output_type": "execute_result",
          "data": {
            "text/plain": [
              "FeatureGenerationTransformer(thr=0.01)"
            ],
            "text/html": [
              "<style>#sk-container-id-9 {color: black;background-color: white;}#sk-container-id-9 pre{padding: 0;}#sk-container-id-9 div.sk-toggleable {background-color: white;}#sk-container-id-9 label.sk-toggleable__label {cursor: pointer;display: block;width: 100%;margin-bottom: 0;padding: 0.3em;box-sizing: border-box;text-align: center;}#sk-container-id-9 label.sk-toggleable__label-arrow:before {content: \"▸\";float: left;margin-right: 0.25em;color: #696969;}#sk-container-id-9 label.sk-toggleable__label-arrow:hover:before {color: black;}#sk-container-id-9 div.sk-estimator:hover label.sk-toggleable__label-arrow:before {color: black;}#sk-container-id-9 div.sk-toggleable__content {max-height: 0;max-width: 0;overflow: hidden;text-align: left;background-color: #f0f8ff;}#sk-container-id-9 div.sk-toggleable__content pre {margin: 0.2em;color: black;border-radius: 0.25em;background-color: #f0f8ff;}#sk-container-id-9 input.sk-toggleable__control:checked~div.sk-toggleable__content {max-height: 200px;max-width: 100%;overflow: auto;}#sk-container-id-9 input.sk-toggleable__control:checked~label.sk-toggleable__label-arrow:before {content: \"▾\";}#sk-container-id-9 div.sk-estimator input.sk-toggleable__control:checked~label.sk-toggleable__label {background-color: #d4ebff;}#sk-container-id-9 div.sk-label input.sk-toggleable__control:checked~label.sk-toggleable__label {background-color: #d4ebff;}#sk-container-id-9 input.sk-hidden--visually {border: 0;clip: rect(1px 1px 1px 1px);clip: rect(1px, 1px, 1px, 1px);height: 1px;margin: -1px;overflow: hidden;padding: 0;position: absolute;width: 1px;}#sk-container-id-9 div.sk-estimator {font-family: monospace;background-color: #f0f8ff;border: 1px dotted black;border-radius: 0.25em;box-sizing: border-box;margin-bottom: 0.5em;}#sk-container-id-9 div.sk-estimator:hover {background-color: #d4ebff;}#sk-container-id-9 div.sk-parallel-item::after {content: \"\";width: 100%;border-bottom: 1px solid gray;flex-grow: 1;}#sk-container-id-9 div.sk-label:hover label.sk-toggleable__label {background-color: #d4ebff;}#sk-container-id-9 div.sk-serial::before {content: \"\";position: absolute;border-left: 1px solid gray;box-sizing: border-box;top: 0;bottom: 0;left: 50%;z-index: 0;}#sk-container-id-9 div.sk-serial {display: flex;flex-direction: column;align-items: center;background-color: white;padding-right: 0.2em;padding-left: 0.2em;position: relative;}#sk-container-id-9 div.sk-item {position: relative;z-index: 1;}#sk-container-id-9 div.sk-parallel {display: flex;align-items: stretch;justify-content: center;background-color: white;position: relative;}#sk-container-id-9 div.sk-item::before, #sk-container-id-9 div.sk-parallel-item::before {content: \"\";position: absolute;border-left: 1px solid gray;box-sizing: border-box;top: 0;bottom: 0;left: 50%;z-index: -1;}#sk-container-id-9 div.sk-parallel-item {display: flex;flex-direction: column;z-index: 1;position: relative;background-color: white;}#sk-container-id-9 div.sk-parallel-item:first-child::after {align-self: flex-end;width: 50%;}#sk-container-id-9 div.sk-parallel-item:last-child::after {align-self: flex-start;width: 50%;}#sk-container-id-9 div.sk-parallel-item:only-child::after {width: 0;}#sk-container-id-9 div.sk-dashed-wrapped {border: 1px dashed gray;margin: 0 0.4em 0.5em 0.4em;box-sizing: border-box;padding-bottom: 0.4em;background-color: white;}#sk-container-id-9 div.sk-label label {font-family: monospace;font-weight: bold;display: inline-block;line-height: 1.2em;}#sk-container-id-9 div.sk-label-container {text-align: center;}#sk-container-id-9 div.sk-container {/* jupyter's `normalize.less` sets `[hidden] { display: none; }` but bootstrap.min.css set `[hidden] { display: none !important; }` so we also need the `!important` here to be able to override the default hidden behavior on the sphinx rendered scikit-learn.org. See: https://github.com/scikit-learn/scikit-learn/issues/21755 */display: inline-block !important;position: relative;}#sk-container-id-9 div.sk-text-repr-fallback {display: none;}</style><div id=\"sk-container-id-9\" class=\"sk-top-container\"><div class=\"sk-text-repr-fallback\"><pre>FeatureGenerationTransformer(thr=0.01)</pre><b>In a Jupyter environment, please rerun this cell to show the HTML representation or trust the notebook. <br />On GitHub, the HTML representation is unable to render, please try loading this page with nbviewer.org.</b></div><div class=\"sk-container\" hidden><div class=\"sk-item\"><div class=\"sk-estimator sk-toggleable\"><input class=\"sk-toggleable__control sk-hidden--visually\" id=\"sk-estimator-id-1\" type=\"checkbox\" checked><label for=\"sk-estimator-id-1\" class=\"sk-toggleable__label sk-toggleable__label-arrow\">FeatureGenerationTransformer</label><div class=\"sk-toggleable__content\"><pre>FeatureGenerationTransformer(thr=0.01)</pre></div></div></div></div></div>"
            ]
          },
          "metadata": {},
          "execution_count": 149
        }
      ]
    },
    {
      "cell_type": "code",
      "source": [
        "   feat_gen = FeatureGenerationTransformer(thr=0.01)\n",
        "   feat_gen.fit(x)"
      ],
      "metadata": {
        "colab": {
          "base_uri": "https://localhost:8080/",
          "height": 74
        },
        "id": "ZfXi9pCdI5Cp",
        "outputId": "d699c42a-2569-403f-cb08-a7c08d5b5496"
      },
      "execution_count": null,
      "outputs": [
        {
          "output_type": "execute_result",
          "data": {
            "text/plain": [
              "FeatureGenerationTransformer(features_mask=array([0, 1, 2]), thr=0.01)"
            ],
            "text/html": [
              "<style>#sk-container-id-10 {color: black;background-color: white;}#sk-container-id-10 pre{padding: 0;}#sk-container-id-10 div.sk-toggleable {background-color: white;}#sk-container-id-10 label.sk-toggleable__label {cursor: pointer;display: block;width: 100%;margin-bottom: 0;padding: 0.3em;box-sizing: border-box;text-align: center;}#sk-container-id-10 label.sk-toggleable__label-arrow:before {content: \"▸\";float: left;margin-right: 0.25em;color: #696969;}#sk-container-id-10 label.sk-toggleable__label-arrow:hover:before {color: black;}#sk-container-id-10 div.sk-estimator:hover label.sk-toggleable__label-arrow:before {color: black;}#sk-container-id-10 div.sk-toggleable__content {max-height: 0;max-width: 0;overflow: hidden;text-align: left;background-color: #f0f8ff;}#sk-container-id-10 div.sk-toggleable__content pre {margin: 0.2em;color: black;border-radius: 0.25em;background-color: #f0f8ff;}#sk-container-id-10 input.sk-toggleable__control:checked~div.sk-toggleable__content {max-height: 200px;max-width: 100%;overflow: auto;}#sk-container-id-10 input.sk-toggleable__control:checked~label.sk-toggleable__label-arrow:before {content: \"▾\";}#sk-container-id-10 div.sk-estimator input.sk-toggleable__control:checked~label.sk-toggleable__label {background-color: #d4ebff;}#sk-container-id-10 div.sk-label input.sk-toggleable__control:checked~label.sk-toggleable__label {background-color: #d4ebff;}#sk-container-id-10 input.sk-hidden--visually {border: 0;clip: rect(1px 1px 1px 1px);clip: rect(1px, 1px, 1px, 1px);height: 1px;margin: -1px;overflow: hidden;padding: 0;position: absolute;width: 1px;}#sk-container-id-10 div.sk-estimator {font-family: monospace;background-color: #f0f8ff;border: 1px dotted black;border-radius: 0.25em;box-sizing: border-box;margin-bottom: 0.5em;}#sk-container-id-10 div.sk-estimator:hover {background-color: #d4ebff;}#sk-container-id-10 div.sk-parallel-item::after {content: \"\";width: 100%;border-bottom: 1px solid gray;flex-grow: 1;}#sk-container-id-10 div.sk-label:hover label.sk-toggleable__label {background-color: #d4ebff;}#sk-container-id-10 div.sk-serial::before {content: \"\";position: absolute;border-left: 1px solid gray;box-sizing: border-box;top: 0;bottom: 0;left: 50%;z-index: 0;}#sk-container-id-10 div.sk-serial {display: flex;flex-direction: column;align-items: center;background-color: white;padding-right: 0.2em;padding-left: 0.2em;position: relative;}#sk-container-id-10 div.sk-item {position: relative;z-index: 1;}#sk-container-id-10 div.sk-parallel {display: flex;align-items: stretch;justify-content: center;background-color: white;position: relative;}#sk-container-id-10 div.sk-item::before, #sk-container-id-10 div.sk-parallel-item::before {content: \"\";position: absolute;border-left: 1px solid gray;box-sizing: border-box;top: 0;bottom: 0;left: 50%;z-index: -1;}#sk-container-id-10 div.sk-parallel-item {display: flex;flex-direction: column;z-index: 1;position: relative;background-color: white;}#sk-container-id-10 div.sk-parallel-item:first-child::after {align-self: flex-end;width: 50%;}#sk-container-id-10 div.sk-parallel-item:last-child::after {align-self: flex-start;width: 50%;}#sk-container-id-10 div.sk-parallel-item:only-child::after {width: 0;}#sk-container-id-10 div.sk-dashed-wrapped {border: 1px dashed gray;margin: 0 0.4em 0.5em 0.4em;box-sizing: border-box;padding-bottom: 0.4em;background-color: white;}#sk-container-id-10 div.sk-label label {font-family: monospace;font-weight: bold;display: inline-block;line-height: 1.2em;}#sk-container-id-10 div.sk-label-container {text-align: center;}#sk-container-id-10 div.sk-container {/* jupyter's `normalize.less` sets `[hidden] { display: none; }` but bootstrap.min.css set `[hidden] { display: none !important; }` so we also need the `!important` here to be able to override the default hidden behavior on the sphinx rendered scikit-learn.org. See: https://github.com/scikit-learn/scikit-learn/issues/21755 */display: inline-block !important;position: relative;}#sk-container-id-10 div.sk-text-repr-fallback {display: none;}</style><div id=\"sk-container-id-10\" class=\"sk-top-container\"><div class=\"sk-text-repr-fallback\"><pre>FeatureGenerationTransformer(features_mask=array([0, 1, 2]), thr=0.01)</pre><b>In a Jupyter environment, please rerun this cell to show the HTML representation or trust the notebook. <br />On GitHub, the HTML representation is unable to render, please try loading this page with nbviewer.org.</b></div><div class=\"sk-container\" hidden><div class=\"sk-item\"><div class=\"sk-estimator sk-toggleable\"><input class=\"sk-toggleable__control sk-hidden--visually\" id=\"sk-estimator-id-2\" type=\"checkbox\" checked><label for=\"sk-estimator-id-2\" class=\"sk-toggleable__label sk-toggleable__label-arrow\">FeatureGenerationTransformer</label><div class=\"sk-toggleable__content\"><pre>FeatureGenerationTransformer(features_mask=array([0, 1, 2]), thr=0.01)</pre></div></div></div></div></div>"
            ]
          },
          "metadata": {},
          "execution_count": 153
        }
      ]
    },
    {
      "cell_type": "code",
      "source": [
        "np.corrcoef(x.T)"
      ],
      "metadata": {
        "colab": {
          "base_uri": "https://localhost:8080/"
        },
        "id": "WpkAWX3TJ76c",
        "outputId": "b788033d-3eef-4cc8-bd20-64583a56e55d"
      },
      "execution_count": null,
      "outputs": [
        {
          "output_type": "execute_result",
          "data": {
            "text/plain": [
              "array([[1.        , 0.75374649, 0.99730317],\n",
              "       [0.75374649, 1.        , 0.70375939],\n",
              "       [0.99730317, 0.70375939, 1.        ]])"
            ]
          },
          "metadata": {},
          "execution_count": 91
        }
      ]
    },
    {
      "cell_type": "code",
      "source": [
        "def sub(arr):\n",
        "    return arr[-1] - arr[0]\n",
        "\n",
        "def div(arr):\n",
        "    if arr[0] == 0:\n",
        "        return arr[-1] / EPS\n",
        "    return arr[-1] / arr[0]"
      ],
      "metadata": {
        "id": "-Skjk0X-_gUe"
      },
      "execution_count": null,
      "outputs": []
    },
    {
      "cell_type": "code",
      "source": [
        "indxs_mat = np.array([[ [i,j] for j in range(3)] for i in range(3)])\n",
        "indxs_mat = indxs_mat[corr < 0.3]\n",
        "indxs_mat = indxs_mat[indxs_mat[:, 0] > indxs_mat[:, 1]]\n",
        "np.sum(x.T[indxs_mat], axis=1).T\n",
        "print(x.T[indxs_mat] - x.T[indxs_mat][:,::-1])\n",
        "print(\"---------------\")\n",
        "print(x.T[indxs_mat] / (x.T[indxs_mat][:,::-1] + EPS))"
      ],
      "metadata": {
        "colab": {
          "base_uri": "https://localhost:8080/"
        },
        "id": "DB5-NM0H1RMx",
        "outputId": "bca72395-dd3d-41b6-d2fc-1d42468702c7"
      },
      "execution_count": null,
      "outputs": [
        {
          "output_type": "stream",
          "name": "stdout",
          "text": [
            "[[[   0   -2   18  -64]\n",
            "  [   0    2  -18   64]]\n",
            "\n",
            " [[  10   19   21  343]\n",
            "  [ -10  -19  -21 -343]]]\n",
            "---------------\n",
            "[[[ 0.00000000e+00 -1.00000000e+00  2.50000000e+00  3.60000000e-01]\n",
            "  [ 0.00000000e+00 -1.00000000e+00  4.00000000e-01  2.77777778e+00]]\n",
            "\n",
            " [[ 1.00000000e+21  2.00000000e+01  2.75000000e+00  4.43000000e+00]\n",
            "  [ 0.00000000e+00  5.00000000e-02  3.63636364e-01  2.25733634e-01]]]\n"
          ]
        }
      ]
    },
    {
      "cell_type": "code",
      "source": [
        "(x.T[indxs_mat] - x.T[indxs_mat][:,::-1]).reshape(indxs_mat.shape[0] * 2, x.shape[0]).T"
      ],
      "metadata": {
        "colab": {
          "base_uri": "https://localhost:8080/"
        },
        "id": "QNyQr8k2p_Qq",
        "outputId": "35a2b142-30eb-471d-d84c-bec6e0ba6e7e"
      },
      "execution_count": null,
      "outputs": [
        {
          "output_type": "execute_result",
          "data": {
            "text/plain": [
              "array([[   0,    0,   10,  -10],\n",
              "       [  -2,    2,   19,  -19],\n",
              "       [  18,  -18,   21,  -21],\n",
              "       [ -64,   64,  343, -343]])"
            ]
          },
          "metadata": {},
          "execution_count": 119
        }
      ]
    },
    {
      "cell_type": "code",
      "source": [
        "(x.T[indxs_mat] / (x.T[indxs_mat][:,::-1] + EPS)).reshape(indxs_mat.shape[0] * 2, x.shape[0]).T"
      ],
      "metadata": {
        "colab": {
          "base_uri": "https://localhost:8080/"
        },
        "id": "7pLFBs3arO6R",
        "outputId": "1f92602b-9e77-4bd3-b6a4-856360a43bbe"
      },
      "execution_count": null,
      "outputs": [
        {
          "output_type": "execute_result",
          "data": {
            "text/plain": [
              "array([[ 0.00000000e+00,  0.00000000e+00,  1.00000000e+21,\n",
              "         0.00000000e+00],\n",
              "       [-1.00000000e+00, -1.00000000e+00,  2.00000000e+01,\n",
              "         5.00000000e-02],\n",
              "       [ 2.50000000e+00,  4.00000000e-01,  2.75000000e+00,\n",
              "         3.63636364e-01],\n",
              "       [ 3.60000000e-01,  2.77777778e+00,  4.43000000e+00,\n",
              "         2.25733634e-01]])"
            ]
          },
          "metadata": {},
          "execution_count": 121
        }
      ]
    },
    {
      "cell_type": "code",
      "source": [
        "x.T[indxs_mat]"
      ],
      "metadata": {
        "colab": {
          "base_uri": "https://localhost:8080/"
        },
        "id": "8DtydJ3cpP9E",
        "outputId": "0fa50055-a337-40c2-d2be-5ae0738229b0"
      },
      "execution_count": null,
      "outputs": [
        {
          "output_type": "execute_result",
          "data": {
            "text/plain": [
              "array([[[  0,  -1,  30,  36],\n",
              "        [  0,   1,  12, 100]],\n",
              "\n",
              "       [[ 10,  20,  33, 443],\n",
              "        [  0,   1,  12, 100]]])"
            ]
          },
          "metadata": {},
          "execution_count": 107
        }
      ]
    },
    {
      "cell_type": "code",
      "source": [
        "np.sum(x.T[indxs_mat], axis=1)"
      ],
      "metadata": {
        "colab": {
          "base_uri": "https://localhost:8080/"
        },
        "id": "1T4ErUo_orQT",
        "outputId": "3f50c7c3-277f-459b-c6fd-79c7adf7e82a"
      },
      "execution_count": null,
      "outputs": [
        {
          "output_type": "execute_result",
          "data": {
            "text/plain": [
              "array([[  0,   0,  42, 136],\n",
              "       [ 10,  21,  45, 543]])"
            ]
          },
          "metadata": {},
          "execution_count": 103
        }
      ]
    },
    {
      "cell_type": "code",
      "source": [
        "np.apply_along_axis(sub, 1, x.T[indxs_mat]).T"
      ],
      "metadata": {
        "colab": {
          "base_uri": "https://localhost:8080/",
          "height": 321
        },
        "id": "ocX1vW5CBj2y",
        "outputId": "9008f12b-2597-4cb4-e1d1-0f8839b6e685"
      },
      "execution_count": null,
      "outputs": [
        {
          "output_type": "error",
          "ename": "TypeError",
          "evalue": "ignored",
          "traceback": [
            "\u001b[0;31m---------------------------------------------------------------------------\u001b[0m",
            "\u001b[0;31mTypeError\u001b[0m                                 Traceback (most recent call last)",
            "\u001b[0;32m<ipython-input-45-60131905db5f>\u001b[0m in \u001b[0;36m<cell line: 1>\u001b[0;34m()\u001b[0m\n\u001b[0;32m----> 1\u001b[0;31m \u001b[0mnp\u001b[0m\u001b[0;34m.\u001b[0m\u001b[0mapply_along_axis\u001b[0m\u001b[0;34m(\u001b[0m\u001b[0msub\u001b[0m\u001b[0;34m,\u001b[0m \u001b[0;36m1\u001b[0m\u001b[0;34m,\u001b[0m \u001b[0mx\u001b[0m\u001b[0;34m.\u001b[0m\u001b[0mT\u001b[0m\u001b[0;34m[\u001b[0m\u001b[0mindxs_mat\u001b[0m\u001b[0;34m]\u001b[0m\u001b[0;34m)\u001b[0m\u001b[0;34m.\u001b[0m\u001b[0mT\u001b[0m\u001b[0;34m\u001b[0m\u001b[0;34m\u001b[0m\u001b[0m\n\u001b[0m",
            "\u001b[0;32m/usr/local/lib/python3.10/dist-packages/numpy/core/overrides.py\u001b[0m in \u001b[0;36mapply_along_axis\u001b[0;34m(*args, **kwargs)\u001b[0m\n",
            "\u001b[0;32m/usr/local/lib/python3.10/dist-packages/numpy/lib/shape_base.py\u001b[0m in \u001b[0;36mapply_along_axis\u001b[0;34m(func1d, axis, arr, *args, **kwargs)\u001b[0m\n\u001b[1;32m    377\u001b[0m             \u001b[0;34m'Cannot apply_along_axis when any iteration dimensions are 0'\u001b[0m\u001b[0;34m\u001b[0m\u001b[0;34m\u001b[0m\u001b[0m\n\u001b[1;32m    378\u001b[0m         ) from None\n\u001b[0;32m--> 379\u001b[0;31m     \u001b[0mres\u001b[0m \u001b[0;34m=\u001b[0m \u001b[0masanyarray\u001b[0m\u001b[0;34m(\u001b[0m\u001b[0mfunc1d\u001b[0m\u001b[0;34m(\u001b[0m\u001b[0minarr_view\u001b[0m\u001b[0;34m[\u001b[0m\u001b[0mind0\u001b[0m\u001b[0;34m]\u001b[0m\u001b[0;34m,\u001b[0m \u001b[0;34m*\u001b[0m\u001b[0margs\u001b[0m\u001b[0;34m,\u001b[0m \u001b[0;34m**\u001b[0m\u001b[0mkwargs\u001b[0m\u001b[0;34m)\u001b[0m\u001b[0;34m)\u001b[0m\u001b[0;34m\u001b[0m\u001b[0;34m\u001b[0m\u001b[0m\n\u001b[0m\u001b[1;32m    380\u001b[0m \u001b[0;34m\u001b[0m\u001b[0m\n\u001b[1;32m    381\u001b[0m     \u001b[0;31m# build a buffer for storing evaluations of func1d.\u001b[0m\u001b[0;34m\u001b[0m\u001b[0;34m\u001b[0m\u001b[0m\n",
            "\u001b[0;31mTypeError\u001b[0m: sub() missing 1 required positional argument: 'b'"
          ]
        }
      ]
    }
  ]
}